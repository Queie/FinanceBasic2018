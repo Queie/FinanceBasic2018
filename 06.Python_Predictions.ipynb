{
 "cells": [
  {
   "cell_type": "markdown",
   "metadata": {},
   "source": [
    "<br>\n",
    "# ** 6 Predict the TimeSeries Data**\n",
    "시계열 데이터 예측"
   ]
  },
  {
   "cell_type": "markdown",
   "metadata": {},
   "source": [
    "### **review Data Datum**\n",
    "1. Datum(숫자, \"문자\"), Data([list], {dict}, (tuple,))\n",
    "1. (기본/외부/사용자) 모듈, 함수, 메소드\n",
    "1. []의 문자에서 활용( [index], [:slicing]), 함수를 활용{for : 반복, if :판단, enumerate() :순번 integer 출력}\n",
    "1. 재무제표 Web Crawling ==> type 변경 ==> 시각화\n",
    "1. ndarray, Series, Dataframe"
   ]
  },
  {
   "cell_type": "markdown",
   "metadata": {},
   "source": [
    "### **review Series**\n",
    "1. pd.Series( [ data ] , index = [ index ])\n",
    "1. series 사칙연산\n",
    "1. series [ Boolean 판단문 ]\n",
    "1. series.index = [ list ]\n",
    "1. series.isnull()\n",
    "1. series.drop()"
   ]
  },
  {
   "cell_type": "markdown",
   "metadata": {},
   "source": [
    "### **review DataFrame**\n",
    "1. pd.DataFrame( { columns :  [ data ] , columns :  [ data ] } )\n",
    "1. pd.to_datetime()\n",
    "1. df.rename( columns = { 기존 column , 새로운 column } )\n",
    "1. df.insert( 컬럼순서,  컬럼명 ,  data )\n",
    "1. df.column이름 &nbsp; | &nbsp; df['column이름']\n",
    "1. df [ index Slicing ]\n",
    "1. df.iloc[ index slicing,  column slicing ]\n",
    "1. df.reset_index()        :  index  -> column\n",
    "1. df.set_index( '컬럼명' ) :  column -> index\n",
    "1. df.sort_index()\n",
    "1. df.sort_value()\n",
    "1. df[ boolean 함수 ]\n",
    "1. df[ boolean 함수 ].column이름\n",
    "1. axis = 0 : index | axis = 1 : column\n",
    "1. df.drop( 'index이름'  , axis = 0 )\n",
    "1. df.drop( 'column이름' ,  axis = 1 )\n",
    "1. df.index.tolist()\n",
    "1. df.column.tolist()\n",
    "1. df.apply(lambda x: x ** 2)\n",
    "1. pd.pivot_table(df,index = [], values = [], aggfunc = [], margins = True)"
   ]
  },
  {
   "cell_type": "markdown",
   "metadata": {},
   "source": [
    "### **review DataFrame static**\n",
    "1. .count()\n",
    "1. .describe()\n",
    "1. .min()     .max()\n",
    "1. .idxmin()  .idxmax()\n",
    "1. .quantile()   \n",
    "1. .sum()\n",
    "1. .mean()    .median()\n",
    "1. .var() 분산 .std() 정규분산\n",
    "1. .cumsum()  .cumprod()  누적 합    누적 곱\n",
    "1. .cummin()  .cummax()   누적최소값, 누적최대값"
   ]
  },
  {
   "cell_type": "markdown",
   "metadata": {},
   "source": [
    "### **review Series & DataFrame 결측치 제어하기**\n",
    "1. df.dropna()\n",
    "1. df.fillna(method='ffill',  limit=2)  # 결측치 대체\n",
    "1. df.fillna(df.mean()['컬럼명'])   \n",
    "1. Series.interpolate(method='time')    # 결측치 보간 (시계열적 특성을 부여가능)\n",
    "1. Series.interpolate(method='values', limit=1, limit_direction='backward') # 'forward','backward','both'"
   ]
  },
  {
   "cell_type": "markdown",
   "metadata": {},
   "source": [
    "### **review &nbsp; TimeSeries**\n",
    "1. from datetime import datetime\n",
    "1. pandas.date_range(end = '2017-07-01', periods=30, freq='BM')  \n",
    "1. pandas.date_range('2017/8/8 09:09:09', periods=5, normalize=True)\n",
    "1. [str(date.date()) &nbsp;&nbsp; for &nbsp;&nbsp; date &nbsp;&nbsp; in &nbsp;&nbsp; pd.date_range('2017/01/01', '2017/01/11')]"
   ]
  },
  {
   "cell_type": "markdown",
   "metadata": {},
   "source": [
    "### **review &nbsp; Matplotlib**\n",
    "1. DataFrame.loc['시작날짜':'종료날짜', :] : 주소 이름을 활용하여 인덱싱\n",
    "1. DataFrame.iloc[1:10, : ] # 주소값으로 인덱싱\n",
    "1. Series.plot(kind='line')  **# 'bar'**\n",
    "1. Series.resample().plot()\n",
    "1. Series.rolling().plot()\n",
    "1. Series.ix['2018-01':'2018-03'].plot()\n",
    "1. plt.figure(figsize=(,)); &nbsp;&nbsp; plt.plot(x축,y축,lw=1.5,label=); &nbsp;&nbsp; plt.legend(loc=); &nbsp;&nbsp; plt.show()\n",
    "1. plt.figure(figsize=(,)); &nbsp;&nbsp; plt.subplot(121); &nbsp;&nbsp; plt.plot(); &nbsp;&nbsp; plt.subplot(122); &nbsp;&nbsp; plt.plot(); &nbsp;&nbsp; plot.show()"
   ]
  },
  {
   "cell_type": "markdown",
   "metadata": {},
   "source": [
    "<br><br>\n",
    "## **1 은닉 마르코프 모델을 활용 (HMM)**\n",
    "1. Hidden Markov Model [개념설명|자연어](https://kimdoky.github.io/python/2017/07/30/crawling-book-chap8.html)\n",
    "1. 순차적 데이터중 눈으로 관측 불가능한 내재(은닉)상태의 데이터를 처리하는 모델\n",
    "1. 과거 데이터의 일련의 **상태전이 과정**을 거치면서 **모델을 생성**한다\n",
    "1. **pip &nbsp; install &nbsp; --no-cache-dir &nbsp; hmmlearn &nbsp;**  cf)yFPE_jbuf 오류 발생시\n",
    "\n",
    "<img src=\"https://kimdoky.github.io//img/post/python/crawling/p2c8_1.png\" width='300' align='left'>"
   ]
  },
  {
   "cell_type": "markdown",
   "metadata": {},
   "source": [
    "<br>\n",
    "### **01 Pattern 이 분명한 데이터를 활용하여 은닉 마르코프 모델 생성 (HMM)**\n",
    "은닉 마르코프 모델의 용도를 확인해본다"
   ]
  },
  {
   "cell_type": "code",
   "execution_count": 1,
   "metadata": {},
   "outputs": [
    {
     "data": {
      "text/plain": [
       "(2604, 3)"
      ]
     },
     "execution_count": 1,
     "metadata": {},
     "output_type": "execute_result"
    }
   ],
   "source": [
    "# pip install --no-cache-dir hmmlearn  \n",
    "# cf)yFPE_jbuf 오류 발생시 설치방법\n",
    "import numpy as np\n",
    "from hmmlearn.hmm import GaussianHMM\n",
    "\n",
    "# 주가 관련 3개의 컬럼을 갖는 데이터를 불러온다\n",
    "data = np.loadtxt('./data/hmm_data.txt', delimiter=',')\n",
    "data.shape"
   ]
  },
  {
   "cell_type": "code",
   "execution_count": null,
   "metadata": {},
   "outputs": [],
   "source": []
  },
  {
   "cell_type": "code",
   "execution_count": null,
   "metadata": {},
   "outputs": [],
   "source": []
  },
  {
   "cell_type": "code",
   "execution_count": 2,
   "metadata": {},
   "outputs": [],
   "source": [
    "# 1. Create a Gaussian HMM\n",
    "# 5 개의 Node를 갖고, 대각 공분산\n",
    "import warnings\n",
    "warnings.filterwarnings(\"ignore\")\n",
    "\n"
   ]
  },
  {
   "cell_type": "code",
   "execution_count": null,
   "metadata": {},
   "outputs": [],
   "source": []
  },
  {
   "cell_type": "code",
   "execution_count": null,
   "metadata": {},
   "outputs": [],
   "source": []
  },
  {
   "cell_type": "markdown",
   "metadata": {},
   "source": [
    "<br>\n",
    "### **02 주가 데이터를 활용한 은닉 마르코프 모델 생성 (HMM)**\n",
    "by Stock Price Data (모델의 깊이를 더 깊게 정의 후 미래 1년간 주가를 예측)"
   ]
  },
  {
   "cell_type": "code",
   "execution_count": 3,
   "metadata": {},
   "outputs": [
    {
     "name": "stdout",
     "output_type": "stream",
     "text": [
      "[*********************100%***********************]  1 of 1 downloaded\n"
     ]
    },
    {
     "data": {
      "text/html": [
       "<div>\n",
       "<style scoped>\n",
       "    .dataframe tbody tr th:only-of-type {\n",
       "        vertical-align: middle;\n",
       "    }\n",
       "\n",
       "    .dataframe tbody tr th {\n",
       "        vertical-align: top;\n",
       "    }\n",
       "\n",
       "    .dataframe thead th {\n",
       "        text-align: right;\n",
       "    }\n",
       "</style>\n",
       "<table border=\"1\" class=\"dataframe\">\n",
       "  <thead>\n",
       "    <tr style=\"text-align: right;\">\n",
       "      <th></th>\n",
       "      <th>Open</th>\n",
       "      <th>High</th>\n",
       "      <th>Low</th>\n",
       "      <th>Close</th>\n",
       "      <th>Adj Close</th>\n",
       "      <th>Volume</th>\n",
       "    </tr>\n",
       "    <tr>\n",
       "      <th>Date</th>\n",
       "      <th></th>\n",
       "      <th></th>\n",
       "      <th></th>\n",
       "      <th></th>\n",
       "      <th></th>\n",
       "      <th></th>\n",
       "    </tr>\n",
       "  </thead>\n",
       "  <tbody>\n",
       "    <tr>\n",
       "      <th>2017-01-02</th>\n",
       "      <td>1799000.0</td>\n",
       "      <td>1812000.0</td>\n",
       "      <td>1794000.0</td>\n",
       "      <td>1805000.0</td>\n",
       "      <td>1772854.500</td>\n",
       "      <td>93012</td>\n",
       "    </tr>\n",
       "    <tr>\n",
       "      <th>2017-01-03</th>\n",
       "      <td>1814000.0</td>\n",
       "      <td>1831000.0</td>\n",
       "      <td>1801000.0</td>\n",
       "      <td>1824000.0</td>\n",
       "      <td>1791516.125</td>\n",
       "      <td>147153</td>\n",
       "    </tr>\n",
       "    <tr>\n",
       "      <th>2017-01-04</th>\n",
       "      <td>1825000.0</td>\n",
       "      <td>1826000.0</td>\n",
       "      <td>1805000.0</td>\n",
       "      <td>1808000.0</td>\n",
       "      <td>1775801.000</td>\n",
       "      <td>159435</td>\n",
       "    </tr>\n",
       "  </tbody>\n",
       "</table>\n",
       "</div>"
      ],
      "text/plain": [
       "                 Open       High        Low      Close    Adj Close  Volume\n",
       "Date                                                                       \n",
       "2017-01-02  1799000.0  1812000.0  1794000.0  1805000.0  1772854.500   93012\n",
       "2017-01-03  1814000.0  1831000.0  1801000.0  1824000.0  1791516.125  147153\n",
       "2017-01-04  1825000.0  1826000.0  1805000.0  1808000.0  1775801.000  159435"
      ]
     },
     "execution_count": 3,
     "metadata": {},
     "output_type": "execute_result"
    }
   ],
   "source": [
    "from pandas_datareader import data\n",
    "import fix_yahoo_finance as yf\n",
    "yf.pdr_override()\n",
    "\n",
    "stock = data.get_data_yahoo('005930.KS', '2017-01-01')\n",
    "stock.head(3)"
   ]
  },
  {
   "cell_type": "code",
   "execution_count": 4,
   "metadata": {},
   "outputs": [],
   "source": [
    "import warnings\n",
    "warnings.filterwarnings(\"ignore\")\n",
    "\n",
    "# HMM 모델의 생성\n"
   ]
  },
  {
   "cell_type": "code",
   "execution_count": 5,
   "metadata": {},
   "outputs": [],
   "source": [
    "# HMM 모델을 활용하여 예측하기\n",
    "\n",
    "\n"
   ]
  },
  {
   "cell_type": "markdown",
   "metadata": {},
   "source": [
    "<br><br>\n",
    "## **2 ARIMA 시계열 분석을 활용한 주가예측**\n",
    "**자기회귀 누적이동평균** | Auto Regressive Integrated Moving Average\n",
    "1. **ARMA(자기회귀 이동평균)** 모형은 AR모델과 MA모델의 결합이다\n",
    "1. **AR의 특성 (자기회귀)** 을 강하게 띄는 경우, **ACF(자기상관함수)는 천천히 감소**하고 PACF는 처음 시차를 제외하고 급격히 감소 한다.\n",
    "1. **MA의 특성 (이동평균)** 을 강하게 띄는 경우, ACF는 급격히 감소하고 **PACF (부분자기함수)는 천천히 감소**"
   ]
  },
  {
   "cell_type": "markdown",
   "metadata": {},
   "source": [
    "<br>\n",
    "### ** 01-1. ACF & PACF Plots**\n",
    "pip install --no-cache-dir statsmodels [Blog](https://byeongkijeong.github.io/ARIMA-with-Python/)\n",
    "1. **ARMA(자기회귀 이동평균)** 모형은 AR모델과 MA모델의 결합이다\n",
    "1. **AR의 특성** 을 띄는 경우, **ACF는 천천히 감소**하고 PACF는 처음 시차를 제외하고 급격히 감소 한다.\n",
    "1. **MA의 특성** 을 띄는 경우, ACF는 급격히 감소하고 **PACF는 천천히 감소**"
   ]
  },
  {
   "cell_type": "code",
   "execution_count": 6,
   "metadata": {},
   "outputs": [],
   "source": [
    "from statsmodels.graphics.tsaplots import plot_acf, plot_pacf\n",
    "import matplotlib.pyplot as plt\n",
    "\n",
    "# ACF (자기회귀 특성) : 불규칙한 요동을 친다"
   ]
  },
  {
   "cell_type": "code",
   "execution_count": 7,
   "metadata": {},
   "outputs": [],
   "source": [
    "\n",
    "# PACF (이동평균 특성) 급격히 떨어진 뒤 완만한 폭에서 변동을 갖는다"
   ]
  },
  {
   "cell_type": "markdown",
   "metadata": {},
   "source": [
    "<br>\n",
    "### ** 01-2. ACF & PACF Plots 2**\n",
    "차분 .diff() 데이터를 사용하여 분석하기"
   ]
  },
  {
   "cell_type": "code",
   "execution_count": 8,
   "metadata": {},
   "outputs": [],
   "source": [
    "# 1차 차분(Diff)한 뒤 변화를 살펴본다\n",
    "# ACF (자기회귀 특성) : 상대적으로 안정적인 데이터로 전환\n",
    "\n"
   ]
  },
  {
   "cell_type": "code",
   "execution_count": 9,
   "metadata": {},
   "outputs": [],
   "source": [
    "\n",
    "\n",
    "# 차분 이후의 ACF, PACF를 본 결과 PACF 경향이 더 도드라 진다\n",
    "# PCAF가 안전된 만큼, MA 성향이 더 도드라 진다"
   ]
  },
  {
   "cell_type": "markdown",
   "metadata": {},
   "source": [
    "<br>\n",
    "### ** 02 ARIMA 모형 구축**\n",
    "1차 차분으로도, 정상상태(Stationary)를 보이므로 ARIMA(0,1,1)을 사용"
   ]
  },
  {
   "cell_type": "code",
   "execution_count": 12,
   "metadata": {},
   "outputs": [],
   "source": [
    "from statsmodels.tsa.arima_model import ARIMA\n",
    "price = stock.Close\n",
    "\n",
    "model     = ARIMA (price, order = (0, 1, 1))\n",
    "# P > |z| P-value 값이 1차차분결과 0.5보다 크므로 정규성이 인정된다"
   ]
  },
  {
   "cell_type": "code",
   "execution_count": 13,
   "metadata": {},
   "outputs": [],
   "source": [
    "model = ARIMA(price, order = (0,1,3))\n",
    "\n"
   ]
  },
  {
   "cell_type": "code",
   "execution_count": 14,
   "metadata": {},
   "outputs": [],
   "source": [
    "#  마지막 예측값을 수치화 한다\n",
    "\n"
   ]
  },
  {
   "cell_type": "markdown",
   "metadata": {},
   "source": [
    "<br><br>\n",
    "## ** 3 prophet 모듈의 활용**\n",
    "pip install --no-cache-dir  fbprophet\n",
    "1. [웹사이트](https://facebook.github.io/prophet/)\n",
    "1. R 에서 유명한 모듈\n",
    "1. Value At Risk 유효범위내 주가변동을 예측한다\n",
    "1. https://facebook.github.io/prophet/docs/quick_start.html#python-api\n",
    "1. https://github.com/WillKoehrsen/Data-Analysis/blob/master/stocker/stocker.py\n",
    "1. https://github.com/kumaranvpl/predict_stock_price/blob/master/predict_stock.py\n",
    "1. https://towardsdatascience.com/stock-prediction-in-python-b66555171a2"
   ]
  },
  {
   "cell_type": "code",
   "execution_count": 15,
   "metadata": {
    "scrolled": false
   },
   "outputs": [
    {
     "name": "stdout",
     "output_type": "stream",
     "text": [
      "Requirement already satisfied: fbprophet in /home/erdos/Jupyter/lib/python3.6/site-packages (0.2.1)\n",
      "Requirement already satisfied: matplotlib in /home/erdos/Jupyter/lib/python3.6/site-packages (from fbprophet) (2.2.2)\n",
      "Requirement already satisfied: pystan>=2.14 in /home/erdos/Jupyter/lib/python3.6/site-packages (from fbprophet) (2.17.1.0)\n",
      "Requirement already satisfied: pandas>=0.18.1 in /home/erdos/Jupyter/lib/python3.6/site-packages (from fbprophet) (0.22.0)\n",
      "Requirement already satisfied: cycler>=0.10 in /home/erdos/Jupyter/lib/python3.6/site-packages (from matplotlib->fbprophet) (0.10.0)\n",
      "Requirement already satisfied: pytz in /home/erdos/Jupyter/lib/python3.6/site-packages (from matplotlib->fbprophet) (2018.4)\n",
      "Requirement already satisfied: six>=1.10 in /home/erdos/Jupyter/lib/python3.6/site-packages (from matplotlib->fbprophet) (1.11.0)\n",
      "Requirement already satisfied: kiwisolver>=1.0.1 in /home/erdos/Jupyter/lib/python3.6/site-packages (from matplotlib->fbprophet) (1.0.1)\n",
      "Requirement already satisfied: numpy>=1.7.1 in /home/erdos/Jupyter/lib/python3.6/site-packages (from matplotlib->fbprophet) (1.14.2)\n",
      "Requirement already satisfied: python-dateutil>=2.1 in /home/erdos/Jupyter/lib/python3.6/site-packages (from matplotlib->fbprophet) (2.7.2)\n",
      "Requirement already satisfied: pyparsing!=2.0.4,!=2.1.2,!=2.1.6,>=2.0.1 in /home/erdos/Jupyter/lib/python3.6/site-packages (from matplotlib->fbprophet) (2.2.0)\n",
      "Requirement already satisfied: Cython!=0.25.1,>=0.22 in /home/erdos/Jupyter/lib/python3.6/site-packages (from pystan>=2.14->fbprophet) (0.28.2)\n",
      "Requirement already satisfied: setuptools in /home/erdos/Jupyter/lib/python3.6/site-packages (from kiwisolver>=1.0.1->matplotlib->fbprophet) (28.8.0)\n"
     ]
    }
   ],
   "source": [
    "! pip install fbprophet"
   ]
  },
  {
   "cell_type": "markdown",
   "metadata": {},
   "source": [
    "<br>\n",
    "### ** 01 prophet 모델 만들기**\n",
    "'ds', 'y' 로 컬럼명을 수정해야 입력 포맷이 완성된다"
   ]
  },
  {
   "cell_type": "code",
   "execution_count": 16,
   "metadata": {},
   "outputs": [],
   "source": [
    "import pandas as pd\n",
    "import numpy as np\n",
    "from fbprophet import Prophet\n",
    "\n",
    "\n",
    "# 예측 모델 만들기\n",
    "# daily_seasonality = True : 시간별 자료가 제공시 활성화 한다"
   ]
  },
  {
   "cell_type": "markdown",
   "metadata": {},
   "source": [
    "<br>\n",
    "### ** 02 예측 데이터 생성하기**\n",
    "num_days : 예측일 입력"
   ]
  },
  {
   "cell_type": "code",
   "execution_count": 17,
   "metadata": {},
   "outputs": [],
   "source": [
    "# np.exp() : log 데이터를 실제 주가데이터로 변환\n",
    "\n"
   ]
  },
  {
   "cell_type": "markdown",
   "metadata": {},
   "source": [
    "<br>\n",
    "### ** 03 결과 보고서 시각화**\n",
    "모델분석 Report 출력하기"
   ]
  },
  {
   "cell_type": "code",
   "execution_count": 18,
   "metadata": {
    "scrolled": true
   },
   "outputs": [],
   "source": [
    "# 모델분석 Report 출력하기\n",
    "\n"
   ]
  },
  {
   "cell_type": "markdown",
   "metadata": {},
   "source": [
    "<br><br>\n",
    "## ** 4 Keras 를 활용한 주가예측**\n",
    "[Kaggle 주가분석](https://www.kaggle.com/pablocastilla/predict-stock-prices-with-lstm)\n",
    "1. Python Code : https://github.com/NourozR/Stock-Price-Prediction-LSTM/blob/master/StockPricePrediction.py\n",
    "1. https://lilianweng.github.io/lil-log/2017/07/08/predict-stock-prices-using-RNN-part-1.html\n",
    "1. https://www.kaggle.com/pablocastilla/predict-stock-prices-with-lstm\n",
    "1. https://github.com/etai83/lstm_stock_prediction/blob/master/.ipynb_checkpoints/GOOGLE%20stock%20prediction-checkpoint.ipynb"
   ]
  },
  {
   "cell_type": "markdown",
   "metadata": {},
   "source": [
    "<br>\n",
    "### ** 01 데이터 전처리**\n",
    "주가의 종가데이터 전처리"
   ]
  },
  {
   "cell_type": "code",
   "execution_count": 19,
   "metadata": {},
   "outputs": [
    {
     "data": {
      "text/html": [
       "<div>\n",
       "<style scoped>\n",
       "    .dataframe tbody tr th:only-of-type {\n",
       "        vertical-align: middle;\n",
       "    }\n",
       "\n",
       "    .dataframe tbody tr th {\n",
       "        vertical-align: top;\n",
       "    }\n",
       "\n",
       "    .dataframe thead th {\n",
       "        text-align: right;\n",
       "    }\n",
       "</style>\n",
       "<table border=\"1\" class=\"dataframe\">\n",
       "  <thead>\n",
       "    <tr style=\"text-align: right;\">\n",
       "      <th></th>\n",
       "      <th>Open</th>\n",
       "      <th>High</th>\n",
       "      <th>Low</th>\n",
       "      <th>Close</th>\n",
       "    </tr>\n",
       "  </thead>\n",
       "  <tbody>\n",
       "    <tr>\n",
       "      <th>320</th>\n",
       "      <td>2521000.0</td>\n",
       "      <td>2608000.0</td>\n",
       "      <td>2520000.0</td>\n",
       "      <td>2607000.0</td>\n",
       "    </tr>\n",
       "    <tr>\n",
       "      <th>321</th>\n",
       "      <td>2669000.0</td>\n",
       "      <td>2682000.0</td>\n",
       "      <td>2622000.0</td>\n",
       "      <td>2650000.0</td>\n",
       "    </tr>\n",
       "    <tr>\n",
       "      <th>322</th>\n",
       "      <td>2650000.0</td>\n",
       "      <td>2650000.0</td>\n",
       "      <td>2650000.0</td>\n",
       "      <td>2650000.0</td>\n",
       "    </tr>\n",
       "  </tbody>\n",
       "</table>\n",
       "</div>"
      ],
      "text/plain": [
       "          Open       High        Low      Close\n",
       "320  2521000.0  2608000.0  2520000.0  2607000.0\n",
       "321  2669000.0  2682000.0  2622000.0  2650000.0\n",
       "322  2650000.0  2650000.0  2650000.0  2650000.0"
      ]
     },
     "execution_count": 19,
     "metadata": {},
     "output_type": "execute_result"
    }
   ],
   "source": [
    "dataset = stock.reset_index()\n",
    "del dataset['Date']\n",
    "del dataset['Volume']\n",
    "del dataset['Adj Close']\n",
    "dataset.columns = ['Open','High','Low','Close']\n",
    "dataset.tail(3)"
   ]
  },
  {
   "cell_type": "code",
   "execution_count": 20,
   "metadata": {},
   "outputs": [
    {
     "name": "stderr",
     "output_type": "stream",
     "text": [
      "Using TensorFlow backend.\n"
     ]
    }
   ],
   "source": [
    "# 관련 라이브러리 호출\n",
    "import pandas as pd\n",
    "import matplotlib.pyplot as plt\n",
    "import numpy as np \n",
    "import math\n",
    "from sklearn.preprocessing import MinMaxScaler\n",
    "from sklearn.metrics import mean_squared_error\n",
    "from keras.models import Sequential\n",
    "from keras.layers import Dense, Activation\n",
    "from keras.layers import LSTM"
   ]
  },
  {
   "cell_type": "code",
   "execution_count": 21,
   "metadata": {},
   "outputs": [],
   "source": [
    "# OHLC 데이터를 Train Data (75%) , Test Data (25%)로 분할\n",
    "# 시계열적 분석을 위해서 순차적으로 나눈다\n",
    "\n"
   ]
  },
  {
   "cell_type": "markdown",
   "metadata": {},
   "source": [
    "<br>\n",
    "### ** 02 LSTM 모델 만들기**\n",
    "주가의 종가데이터 전처리"
   ]
  },
  {
   "cell_type": "code",
   "execution_count": 22,
   "metadata": {},
   "outputs": [],
   "source": [
    "# LSTM MODEL을 정의한다\n",
    "\n",
    "# MODEL 의 최적화 함수를 정의한다\n",
    "# optimizer 옵션은 SGD, adam, adagrad 를 비교하며 실행\n",
    "\n"
   ]
  },
  {
   "cell_type": "code",
   "execution_count": 23,
   "metadata": {},
   "outputs": [],
   "source": [
    "# LSTM 모델을 사용하여 예측 데이터 생성하기\n",
    "\n",
    "\n",
    "# 위에서 작업한 정규화 데이터를 비정규화(DE-NORMALIZING FOR PLOTTING)\n",
    "\n",
    "\n",
    "# Train / Test 모델 RMSE (Root Mean Square Error)\n",
    "\n",
    "\n"
   ]
  },
  {
   "cell_type": "markdown",
   "metadata": {},
   "source": [
    "<br>\n",
    "### ** 03 완성된 LSTM 모델의 예측결과 시각화**\n",
    "주가의 종가데이터 전처리"
   ]
  },
  {
   "cell_type": "code",
   "execution_count": 24,
   "metadata": {},
   "outputs": [],
   "source": [
    "# trainPredict 데이터를 OHLC_avg 원본 크기로 옮겨 담는다\n",
    "\n",
    "\n",
    "\n",
    "# testPredict 데이터를 OHLC_avg 원본 크기로 옮겨 담는다\n",
    "\n"
   ]
  },
  {
   "cell_type": "code",
   "execution_count": 25,
   "metadata": {},
   "outputs": [],
   "source": [
    "# MAIN DATASET 을 비정규화 DE-NORMALIZING  \n",
    "\n",
    "\n",
    "# 원본 데이터과 Train / Test 예측 데이터 시각화\n"
   ]
  },
  {
   "cell_type": "markdown",
   "metadata": {},
   "source": [
    "<br>\n",
    "### ** 04 완성된 LSTM 모델로 내일의 주가 예측하기**\n",
    "주가의 종가데이터 전처리"
   ]
  },
  {
   "cell_type": "code",
   "execution_count": 26,
   "metadata": {},
   "outputs": [],
   "source": [
    "# 미래의 가격 예측하기\n",
    "\n",
    "\n"
   ]
  }
 ],
 "metadata": {
  "kernelspec": {
   "display_name": "Python 3",
   "language": "python",
   "name": "python3"
  },
  "language_info": {
   "codemirror_mode": {
    "name": "ipython",
    "version": 3
   },
   "file_extension": ".py",
   "mimetype": "text/x-python",
   "name": "python",
   "nbconvert_exporter": "python",
   "pygments_lexer": "ipython3",
   "version": "3.6.4"
  }
 },
 "nbformat": 4,
 "nbformat_minor": 2
}
