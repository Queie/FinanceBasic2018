{
 "cells": [
  {
   "cell_type": "markdown",
   "metadata": {},
   "source": [
    "# **4 Python Static**\n",
    "파이썬을 활용한 금융분석"
   ]
  },
  {
   "cell_type": "markdown",
   "metadata": {},
   "source": [
    "<br>\n",
    "### **review Python Data & Datum**\n",
    "Python 기본문법 - 기본문법 등을 아래의 3가지 서랍속에 체계적 정리하기 \n",
    "1. Datum &nbsp;&nbsp; : &nbsp;&nbsp; 숫자, &nbsp;\"문자\" \n",
    "1. Data &nbsp;&nbsp; : &nbsp; [list], &nbsp; {dict}, &nbsp; (tuple,)\n",
    "1. Function : indent, 모듈, 클래스, 함수, 메소드(추가 입력값 필요, 추가 입력값 불필요)\n",
    "1. []의 함수적 활용 \n",
    "    1. 색인기능 [index], [:slicing])\n",
    "    1. 함수를 활용하여 데이터 생성 &nbsp; [ &nbsp; datum &nbsp;&nbsp; 1) for : 반복, 2) if :판단, 3) enumerate() :순번 integer 출력 ]\n",
    "1. {}의 함수적 활용 \n",
    "    1. 함수를 활용하여 데이터 생성 &nbsp; { &nbsp; key &nbsp; : &nbsp; value &nbsp;&nbsp; 1) for : 반복, 2) if :판단, 3) enumerate() :순번 integer 출력}\n",
    "1. 연결기호 : ', \", '=',  [], {}, () (개별적 쓰임새와 숨은 의미들이 정해져 있다)"
   ]
  },
  {
   "cell_type": "markdown",
   "metadata": {
    "collapsed": true
   },
   "source": [
    "### **review Series**\n",
    "1. pd.Series( [ data ] , index = [ index ])\n",
    "1. series 사칙연산\n",
    "1. series [ Boolean 판단문 ]\n",
    "1. series.index = [ list ]\n",
    "1. series.isnull()\n",
    "1. series.drop()"
   ]
  },
  {
   "cell_type": "markdown",
   "metadata": {
    "collapsed": true
   },
   "source": [
    "### **review DataFrame**\n",
    "1. pd.DataFrame( { columns :  [ data ] , columns :  [ data ] } )\n",
    "1. df.column이름\n",
    "1. df.rename( columns = { 기존 column , 새로운 column } )\n",
    "1. df.insert( 컬럼순서,  컬럼명 ,  data )\n",
    "1. df [ index Slicing ]\n",
    "1. df.iloc[ index slicing,  column slicing ]\n",
    "1. df.reset_index()        :  index  -> column\n",
    "1. df.set_index( '컬럼명' ) :  column -> index\n",
    "1. df.sort_index()\n",
    "1. df.sort_value()\n",
    "1. df[ boolean 함수 ]\n",
    "1. df[ boolean 함수 ].column이름\n",
    "1. axis = 0 : index | axis = 1 : column\n",
    "1. df.drop( 'index이름'  , axis = 0 )\n",
    "1. df.drop( 'column이름' ,  axis = 1 )\n",
    "1. df.index.tolist()\n",
    "1. df.column.tolist()"
   ]
  },
  {
   "cell_type": "markdown",
   "metadata": {},
   "source": [
    "<br>\n",
    "## **1 기술통계 계산과 요약**\n",
    "기본적인 수학/ 통계 메소드(함수)\n",
    "1. .count()\n",
    "1. .describe()\n",
    "1. .min()     .max()\n",
    "1. .idxmin()  .idxmax()\n",
    "1. .quantile()   \n",
    "1. .sum()\n",
    "1. .mean()    .median()\n",
    "1. .var() 분산 .std() 정규분산\n",
    "1. .cumsum()  .cumprod()  누적 합    누적 곱\n",
    "1. .cummin()  .cummax()   누적최소값, 누적최대값"
   ]
  },
  {
   "cell_type": "markdown",
   "metadata": {},
   "source": [
    "<br>\n",
    "### **01 기술통계**\n",
    "엑셀의 함수를 더 쉽고, 빠르게 적용 가능하다"
   ]
  },
  {
   "cell_type": "code",
   "execution_count": null,
   "metadata": {},
   "outputs": [],
   "source": []
  },
  {
   "cell_type": "code",
   "execution_count": null,
   "metadata": {},
   "outputs": [],
   "source": []
  },
  {
   "cell_type": "code",
   "execution_count": null,
   "metadata": {},
   "outputs": [],
   "source": []
  },
  {
   "cell_type": "code",
   "execution_count": null,
   "metadata": {},
   "outputs": [],
   "source": []
  },
  {
   "cell_type": "markdown",
   "metadata": {},
   "source": [
    "<br>\n",
    "<br>\n",
    "## **2 결측치(np.Nan) 제어하기**\n",
    "<br>\n",
    "### **01 결측치(np.Nan) 찾기**\n",
    "전체의 표로 연산을 하려면, Table 데이터가 깨끗해야 한다\n",
    "1.  sum(), cumsum() methods 계산 시 : NaN은 '0'으로 처리\n",
    "1. mean(), std() 연산 시 : NaN은 분석 대상(population)에서 제외\n",
    "1. DataFrame 칼럼 간 연산 시 : NaN이 하나라도 있으면 NaN 반환\n",
    "\n",
    "출처: http://rfriend.tistory.com/261?category=675917 [R, Python 분석과 프로그래밍 (by R Friend)]"
   ]
  },
  {
   "cell_type": "code",
   "execution_count": null,
   "metadata": {},
   "outputs": [],
   "source": []
  },
  {
   "cell_type": "code",
   "execution_count": null,
   "metadata": {},
   "outputs": [],
   "source": []
  },
  {
   "cell_type": "code",
   "execution_count": null,
   "metadata": {},
   "outputs": [],
   "source": []
  },
  {
   "cell_type": "code",
   "execution_count": null,
   "metadata": {},
   "outputs": [],
   "source": []
  },
  {
   "cell_type": "markdown",
   "metadata": {},
   "source": [
    "<br>\n",
    "### **02 결측치(np.Nan) 채우기**\n",
    "전체의 표로 연산을 하려면, Table 데이터가 깨끗해야 한다"
   ]
  },
  {
   "cell_type": "code",
   "execution_count": null,
   "metadata": {},
   "outputs": [],
   "source": []
  },
  {
   "cell_type": "code",
   "execution_count": null,
   "metadata": {},
   "outputs": [],
   "source": []
  },
  {
   "cell_type": "code",
   "execution_count": null,
   "metadata": {},
   "outputs": [],
   "source": []
  },
  {
   "cell_type": "code",
   "execution_count": null,
   "metadata": {},
   "outputs": [],
   "source": []
  },
  {
   "cell_type": "markdown",
   "metadata": {},
   "source": [
    "<br>\n",
    "### **03 결측치(np.Nan) 보간법으로 대체하기**\n",
    "단일값이 아닌 규칙에 근거한 결측치 대체\n",
    "1. Series.interpolate()\n",
    "1. Series.interpolate(method='time')\n",
    "1. Series.interpolate(method='values')\n",
    "1. Series.interpolate(method='values', limit=1) \n",
    "1. Series.interpolate(method='values', limit=1, limit_direction='backward') # 'forward','backward','both'"
   ]
  },
  {
   "cell_type": "code",
   "execution_count": null,
   "metadata": {},
   "outputs": [],
   "source": []
  },
  {
   "cell_type": "code",
   "execution_count": null,
   "metadata": {},
   "outputs": [],
   "source": []
  },
  {
   "cell_type": "code",
   "execution_count": null,
   "metadata": {},
   "outputs": [],
   "source": []
  },
  {
   "cell_type": "code",
   "execution_count": null,
   "metadata": {},
   "outputs": [],
   "source": []
  },
  {
   "cell_type": "markdown",
   "metadata": {},
   "source": [
    "<br><br>\n",
    "## **3. Time Series**\n",
    "시계열 데이터 처리하기\n",
    "\n",
    "<br>\n",
    "### **01 DateTimeSeries**\n",
    "시간 데이터 관리하기"
   ]
  },
  {
   "cell_type": "code",
   "execution_count": null,
   "metadata": {},
   "outputs": [],
   "source": []
  },
  {
   "cell_type": "code",
   "execution_count": null,
   "metadata": {},
   "outputs": [],
   "source": []
  },
  {
   "cell_type": "code",
   "execution_count": null,
   "metadata": {},
   "outputs": [],
   "source": []
  },
  {
   "cell_type": "code",
   "execution_count": null,
   "metadata": {},
   "outputs": [],
   "source": []
  },
  {
   "cell_type": "markdown",
   "metadata": {},
   "source": [
    "<br>\n",
    "### **02 Date & Time**\n",
    "날짜와 시간관리"
   ]
  },
  {
   "cell_type": "code",
   "execution_count": null,
   "metadata": {},
   "outputs": [],
   "source": []
  },
  {
   "cell_type": "code",
   "execution_count": null,
   "metadata": {},
   "outputs": [],
   "source": []
  },
  {
   "cell_type": "code",
   "execution_count": null,
   "metadata": {},
   "outputs": [],
   "source": []
  },
  {
   "cell_type": "code",
   "execution_count": null,
   "metadata": {},
   "outputs": [],
   "source": []
  },
  {
   "cell_type": "markdown",
   "metadata": {},
   "source": [
    "<br>\n",
    "### **03 Time stamp  & Date**\n",
    "날짜와 시간관리 데이터 상호교환"
   ]
  },
  {
   "cell_type": "code",
   "execution_count": null,
   "metadata": {},
   "outputs": [],
   "source": []
  },
  {
   "cell_type": "code",
   "execution_count": null,
   "metadata": {},
   "outputs": [],
   "source": []
  },
  {
   "cell_type": "code",
   "execution_count": null,
   "metadata": {},
   "outputs": [],
   "source": []
  },
  {
   "cell_type": "code",
   "execution_count": null,
   "metadata": {},
   "outputs": [],
   "source": []
  },
  {
   "cell_type": "markdown",
   "metadata": {},
   "source": [
    "<br>\n",
    "### **04 Datetime in Pandas** \n",
    "**Series.resample()** freq 옵션 [code](https://datascienceschool.net/view-notebook/8959673a97214e8fafdb159f254185e9/)\n",
    "1. **B :** 주말이 아닌 평일\n",
    "1. **W :** 주(일요일)\n",
    "1. **W-MON :** 주(월요일)\n",
    "1. **M :** 각 달(month)의 마지막 날\n",
    "1. **MS :** 각 달의 첫날\n",
    "1. **BM :** 주말이 아닌 평일 중에서 각 달의 마지막 날\n",
    "1. **BMS :** 주말이 아닌 평일 중에서 각 달의 첫날\n",
    "1. **WOM-2THU :** 각 달의 두번째 목요일\n",
    "1. **Q-JAN :** 각 분기의 첫달의 마지막 날\n",
    "1. **Q-DEC :** 각 분기의 마지막 달의 마지막 날"
   ]
  },
  {
   "cell_type": "markdown",
   "metadata": {},
   "source": [
    "<br>\n",
    "#### **1) pandas.date_range()**\n",
    "규칙적인 일별데이터가 필요할 떄"
   ]
  },
  {
   "cell_type": "code",
   "execution_count": null,
   "metadata": {},
   "outputs": [],
   "source": []
  },
  {
   "cell_type": "code",
   "execution_count": null,
   "metadata": {},
   "outputs": [],
   "source": []
  },
  {
   "cell_type": "code",
   "execution_count": null,
   "metadata": {},
   "outputs": [],
   "source": []
  },
  {
   "cell_type": "code",
   "execution_count": null,
   "metadata": {},
   "outputs": [],
   "source": []
  },
  {
   "cell_type": "markdown",
   "metadata": {},
   "source": [
    "<br>\n",
    "#### **2) Datetime 데이터 포맷의 변환**\n",
    "사용자에게 유용한 형태로 변환하기\n",
    "1. .strftime()\n",
    "1. .isocalendar()"
   ]
  },
  {
   "cell_type": "code",
   "execution_count": null,
   "metadata": {},
   "outputs": [],
   "source": []
  },
  {
   "cell_type": "code",
   "execution_count": null,
   "metadata": {},
   "outputs": [],
   "source": []
  },
  {
   "cell_type": "code",
   "execution_count": null,
   "metadata": {},
   "outputs": [],
   "source": []
  },
  {
   "cell_type": "code",
   "execution_count": null,
   "metadata": {},
   "outputs": [],
   "source": []
  },
  {
   "cell_type": "markdown",
   "metadata": {},
   "source": [
    "<br><br>\n",
    "## **4  Pandas Pivot Table** \n",
    "대용량 데이터 Pivot Table 생성하기\n",
    "\n",
    "http://pbpython.com/pandas-pivot-table-explained.html\n",
    "\n",
    "<img src=\"http://pbpython.com/images/pivot-table-datasheet.png\" align='left' width='500'>"
   ]
  },
  {
   "cell_type": "code",
   "execution_count": null,
   "metadata": {},
   "outputs": [],
   "source": []
  },
  {
   "cell_type": "code",
   "execution_count": null,
   "metadata": {},
   "outputs": [],
   "source": []
  },
  {
   "cell_type": "code",
   "execution_count": null,
   "metadata": {},
   "outputs": [],
   "source": []
  },
  {
   "cell_type": "code",
   "execution_count": null,
   "metadata": {},
   "outputs": [],
   "source": []
  },
  {
   "cell_type": "code",
   "execution_count": null,
   "metadata": {},
   "outputs": [],
   "source": []
  },
  {
   "cell_type": "code",
   "execution_count": null,
   "metadata": {},
   "outputs": [],
   "source": []
  },
  {
   "cell_type": "code",
   "execution_count": null,
   "metadata": {},
   "outputs": [],
   "source": []
  }
 ],
 "metadata": {
  "kernelspec": {
   "display_name": "Python 3",
   "language": "python",
   "name": "python3"
  },
  "language_info": {
   "codemirror_mode": {
    "name": "ipython",
    "version": 3
   },
   "file_extension": ".py",
   "mimetype": "text/x-python",
   "name": "python",
   "nbconvert_exporter": "python",
   "pygments_lexer": "ipython3",
   "version": "3.6.4"
  }
 },
 "nbformat": 4,
 "nbformat_minor": 2
}
