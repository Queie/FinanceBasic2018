{
 "cells": [
  {
   "cell_type": "markdown",
   "metadata": {},
   "source": [
    "# <strong>Excel Integration (Chapter 12)\n",
    "<strong>MS EXCEL과 연동</strong>\n",
    "1. Workbook\n",
    "1. Sheets\n",
    "1. Cells\n",
    "1. Functions\n",
    "1. Chart"
   ]
  },
  {
   "cell_type": "markdown",
   "metadata": {},
   "source": [
    "<br>\n",
    "## <strong>1 Excel Sheet와 연동\n",
    "<a href =\"https://openpyxl.readthedocs.io/en/default/tutorial.html\">openpyxl</a>만 활용하면 대부분이 가능"
   ]
  },
  {
   "cell_type": "code",
   "execution_count": 4,
   "metadata": {},
   "outputs": [
    {
     "name": "stdout",
     "output_type": "stream",
     "text": [
      "Hello world!\n"
     ]
    }
   ],
   "source": [
    "# 1. Introduction 간단한 자료 입력\n",
    "from openpyxl import Workbook\n",
    "wb        = Workbook()\n",
    "ws1       = wb['Sheet']          # sheet 생성하기\n",
    "ws1['A1'] = 'Hello world!' # sheet 의 Cell 에 자료입력하기\n",
    "print(ws1['A1'].value)\n",
    "wb.close()"
   ]
  },
  {
   "cell_type": "code",
   "execution_count": 5,
   "metadata": {
    "scrolled": true
   },
   "outputs": [
    {
     "name": "stdout",
     "output_type": "stream",
     "text": [
      "Excel Workbook  : <Worksheet \"second_sheet\">\n",
      "Excel Sheet\t: <Worksheet \"second_sheet\">\n"
     ]
    },
    {
     "data": {
      "text/html": [
       "<div>\n",
       "<style scoped>\n",
       "    .dataframe tbody tr th:only-of-type {\n",
       "        vertical-align: middle;\n",
       "    }\n",
       "\n",
       "    .dataframe tbody tr th {\n",
       "        vertical-align: top;\n",
       "    }\n",
       "\n",
       "    .dataframe thead th {\n",
       "        text-align: right;\n",
       "    }\n",
       "</style>\n",
       "<table border=\"1\" class=\"dataframe\">\n",
       "  <thead>\n",
       "    <tr style=\"text-align: right;\">\n",
       "      <th></th>\n",
       "      <th>0</th>\n",
       "      <th>1</th>\n",
       "      <th>2</th>\n",
       "      <th>3</th>\n",
       "      <th>4</th>\n",
       "    </tr>\n",
       "  </thead>\n",
       "  <tbody>\n",
       "    <tr>\n",
       "      <th>0</th>\n",
       "      <td>1</td>\n",
       "      <td>2</td>\n",
       "      <td>3</td>\n",
       "      <td>4</td>\n",
       "      <td>5</td>\n",
       "    </tr>\n",
       "    <tr>\n",
       "      <th>1</th>\n",
       "      <td>6</td>\n",
       "      <td>7</td>\n",
       "      <td>8</td>\n",
       "      <td>9</td>\n",
       "      <td>10</td>\n",
       "    </tr>\n",
       "    <tr>\n",
       "      <th>2</th>\n",
       "      <td>11</td>\n",
       "      <td>12</td>\n",
       "      <td>13</td>\n",
       "      <td>14</td>\n",
       "      <td>15</td>\n",
       "    </tr>\n",
       "    <tr>\n",
       "      <th>3</th>\n",
       "      <td>16</td>\n",
       "      <td>17</td>\n",
       "      <td>18</td>\n",
       "      <td>19</td>\n",
       "      <td>20</td>\n",
       "    </tr>\n",
       "  </tbody>\n",
       "</table>\n",
       "</div>"
      ],
      "text/plain": [
       "    0   1   2   3   4\n",
       "0   1   2   3   4   5\n",
       "1   6   7   8   9  10\n",
       "2  11  12  13  14  15\n",
       "3  16  17  18  19  20"
      ]
     },
     "execution_count": 5,
     "metadata": {},
     "output_type": "execute_result"
    }
   ],
   "source": [
    "# 2. Workbook 생성 및 Sheet 자료입력하기\n",
    "import pandas as pd\n",
    "import numpy as np\n",
    "path = './data/'\n",
    "\n",
    "from openpyxl import Workbook\n",
    "wb  = Workbook()                                    # Workbook 모듈 Class 를 호출\n",
    "ws1 = wb.create_sheet('first_sheet',  0)            # Workbook 에 종속된 sheet\n",
    "ws2 = wb.create_sheet('second_sheet', 0)            # Workbook 에 종속된 sheet\n",
    "print('Excel Workbook  : {}\\nExcel Sheet\\t: {}'.format(\n",
    "      wb.active,                                   # workbook 의 작업상태를 출력\n",
    "      wb.get_active_sheet()))                      # workbook 의 활성화 Sheet를 출력\n",
    " \n",
    "data = np.arange(1, 21).reshape((4,5))             # 데이터 생성 index(row) 4, columns 5\n",
    "for r in range(0, data.shape[0]):                  # 해당 row, column 을 그대로 입력하기\n",
    "    for c in range(0, data.shape[1]):    \n",
    "        ws1.cell(row=r+1, column=c+1, value=data[r, c])   # first_sheet에 입력  (cell 주소는 1부터 시작!!)\n",
    "        ws2.cell(row=c+1, column=r+1, value=data[r, c])   # second_sheet에 입력 (cell 주소는 1부터 시작!!)\n",
    "\n",
    "wb.save(path + 'workbook.xlsx', )                  # Workbook 저장하기\n",
    "wb.close()\n",
    "pd.read_excel('./data/workbook.xlsx', \n",
    "              sheet_name='first_sheet', \n",
    "              header=None) # 저장한 객체 불러오기"
   ]
  },
  {
   "cell_type": "code",
   "execution_count": 6,
   "metadata": {},
   "outputs": [
    {
     "name": "stdout",
     "output_type": "stream",
     "text": [
      "Cell column : B\n",
      "Cell row : 4\n",
      "Cell Value :9\n",
      "((<Cell 'second_sheet'.B1>, <Cell 'second_sheet'.C1>), (<Cell 'second_sheet'.B2>, <Cell 'second_sheet'.C2>), (<Cell 'second_sheet'.B3>, <Cell 'second_sheet'.C3>))\n",
      "6\n",
      "11\n",
      "7\n",
      "12\n",
      "8\n",
      "13\n"
     ]
    }
   ],
   "source": [
    "# 3. Excel 불러오기\n",
    "from openpyxl import Workbook, load_workbook\n",
    "wb = load_workbook(path + 'workbook.xlsx')\n",
    "ws = wb.get_active_sheet()\n",
    "\n",
    "cell = ws['B4']       # 특정 Cell의 정보 불러오기\n",
    "print('Cell column : {}\\nCell row : {}\\nCell Value :{}'.format(\n",
    "      cell.column, cell.row, cell.value))\n",
    "\n",
    "cells = ws['B1:C3']   # 특정 범위의 Cell의 정보 불러오기\n",
    "print(cells)\n",
    "for cell in cells:\n",
    "    for cel in cell: print(cel.value)"
   ]
  },
  {
   "cell_type": "code",
   "execution_count": 7,
   "metadata": {},
   "outputs": [],
   "source": [
    "# 4. Excel 에서 BarChart 그리기\n",
    "from openpyxl import Workbook\n",
    "wb = Workbook()\n",
    "ws = wb.active\n",
    "for i in np.random.standard_normal(15).cumsum():\n",
    "    ws.append([i])\n",
    "    \n",
    "from openpyxl.chart import BarChart, Reference, Series\n",
    "values = Reference(ws, min_col=1, min_row=1, max_col=1, max_row=15)  # 입력할 데이터 범위 설정\n",
    "chart  = BarChart()\n",
    "chart.add_data(values)\n",
    "ws.add_chart(chart, \"C1\")\n",
    "wb.save(path + \"SampleChart.xlsx\")\n",
    "wb.close()"
   ]
  },
  {
   "cell_type": "markdown",
   "metadata": {},
   "source": [
    "<br>\n",
    "## <strong>2 Pandas로 Excel 읽고 쓰기\n",
    "Pandas"
   ]
  },
  {
   "cell_type": "code",
   "execution_count": 8,
   "metadata": {},
   "outputs": [],
   "source": [
    "import pandas as pd\n",
    "df1 = pd.read_excel('./data/workbook.xlsx', \n",
    "                    sheet_name='first_sheet', \n",
    "                    header=None)\n",
    "df2 = pd.read_excel('./data/workbook.xlsx', \n",
    "                    'second_sheet', \n",
    "                    header=None)"
   ]
  },
  {
   "cell_type": "code",
   "execution_count": 15,
   "metadata": {},
   "outputs": [
    {
     "data": {
      "text/html": [
       "<div>\n",
       "<style scoped>\n",
       "    .dataframe tbody tr th:only-of-type {\n",
       "        vertical-align: middle;\n",
       "    }\n",
       "\n",
       "    .dataframe tbody tr th {\n",
       "        vertical-align: top;\n",
       "    }\n",
       "\n",
       "    .dataframe thead th {\n",
       "        text-align: right;\n",
       "    }\n",
       "</style>\n",
       "<table border=\"1\" class=\"dataframe\">\n",
       "  <thead>\n",
       "    <tr style=\"text-align: right;\">\n",
       "      <th></th>\n",
       "      <th>A</th>\n",
       "      <th>B</th>\n",
       "      <th>C</th>\n",
       "      <th>D</th>\n",
       "    </tr>\n",
       "  </thead>\n",
       "  <tbody>\n",
       "    <tr>\n",
       "      <th>0</th>\n",
       "      <td>1</td>\n",
       "      <td>6</td>\n",
       "      <td>11</td>\n",
       "      <td>16</td>\n",
       "    </tr>\n",
       "    <tr>\n",
       "      <th>1</th>\n",
       "      <td>2</td>\n",
       "      <td>7</td>\n",
       "      <td>12</td>\n",
       "      <td>17</td>\n",
       "    </tr>\n",
       "    <tr>\n",
       "      <th>2</th>\n",
       "      <td>3</td>\n",
       "      <td>8</td>\n",
       "      <td>13</td>\n",
       "      <td>18</td>\n",
       "    </tr>\n",
       "    <tr>\n",
       "      <th>3</th>\n",
       "      <td>4</td>\n",
       "      <td>9</td>\n",
       "      <td>14</td>\n",
       "      <td>19</td>\n",
       "    </tr>\n",
       "    <tr>\n",
       "      <th>4</th>\n",
       "      <td>5</td>\n",
       "      <td>10</td>\n",
       "      <td>15</td>\n",
       "      <td>20</td>\n",
       "    </tr>\n",
       "  </tbody>\n",
       "</table>\n",
       "</div>"
      ],
      "text/plain": [
       "   A   B   C   D\n",
       "0  1   6  11  16\n",
       "1  2   7  12  17\n",
       "2  3   8  13  18\n",
       "3  4   9  14  19\n",
       "4  5  10  15  20"
      ]
     },
     "execution_count": 15,
     "metadata": {},
     "output_type": "execute_result"
    }
   ],
   "source": [
    "# 컬럼명을 문자로 출력하기\n",
    "import string\n",
    "columns = []\n",
    "for c in range(data.shape[0]):\n",
    "    columns.append(string.ascii_uppercase[c])  # Column 명을 숫자 -> 문자로 출력\n",
    "columns\n",
    "df2.columns = columns\n",
    "df2"
   ]
  },
  {
   "cell_type": "code",
   "execution_count": 14,
   "metadata": {},
   "outputs": [],
   "source": [
    "# 여러 Sheet를 하나의 Excel 객체에 저장하기\n",
    "wbw = pd.ExcelWriter(path + 'new_book.xlsx')\n",
    "df1.to_excel(wbw, 'first_sheet')\n",
    "df2.to_excel(wbw, 'second_sheet')\n",
    "wbw.close()"
   ]
  },
  {
   "cell_type": "markdown",
   "metadata": {},
   "source": [
    "# <strong>Object Orientation and Graphical User Interfaces (Chapter 13)\n",
    "<strong>객체지향과 GUI</strong>\n",
    "\n",
    "<br>\n",
    "## <strong>1 Python Class\n",
    "클래스 기초"
   ]
  },
  {
   "cell_type": "code",
   "execution_count": 8,
   "metadata": {},
   "outputs": [
    {
     "data": {
      "text/plain": [
       "'<__main__.ExampleOne object at 0x7f9bb44fc3c8>'"
      ]
     },
     "execution_count": 8,
     "metadata": {},
     "output_type": "execute_result"
    }
   ],
   "source": [
    "class ExampleOne():\n",
    "    pass\n",
    "c = ExampleOne()      # 1. c : 클래스의 인스턴스 객체 ()\n",
    "print(c.__str__())    # class 를 Object에 상속\n",
    "\n",
    "c = ExampleOne()      # 2. 빈 객체를 먼저 생성한 뒤, 객체의 속성을 정의한다\n",
    "c.first_name = 'Jason'\n",
    "c.last_name  = 'Bourne'\n",
    "c.movies = 4\n",
    "print(c.first_name, c.last_name, c.movies)"
   ]
  },
  {
   "cell_type": "code",
   "execution_count": 10,
   "metadata": {},
   "outputs": [
    {
     "name": "stdout",
     "output_type": "stream",
     "text": [
      "1 text\n",
      "100\n"
     ]
    }
   ],
   "source": [
    "class ExampleTwo():\n",
    "    def __init__(self,a,b):\n",
    "        self.a = a\n",
    "        self.b = b\n",
    "c = ExampleTwo(1, 'text')\n",
    "print(c.a, c.b)           # 초깃값을 그대로 호출가능\n",
    "c.a = 100; print(c.a)     # 데이터 Overwriting 가능"
   ]
  },
  {
   "cell_type": "code",
   "execution_count": 11,
   "metadata": {},
   "outputs": [
    {
     "data": {
      "text/plain": [
       "<__main__.ExampleThree at 0x7f9bb4474320>"
      ]
     },
     "execution_count": 11,
     "metadata": {},
     "output_type": "execute_result"
    }
   ],
   "source": [
    "class ExampleThree():\n",
    "    def __init__(self, a, b):\n",
    "        self.a = a\n",
    "        self.b = b\n",
    "    def addition(self):\n",
    "        return self.a + self.b\n",
    "    \n",
    "c = ExampleThree(10, 15); c # 객체 instance"
   ]
  }
 ],
 "metadata": {
  "kernelspec": {
   "display_name": "Python 3",
   "language": "python",
   "name": "python3"
  },
  "language_info": {
   "codemirror_mode": {
    "name": "ipython",
    "version": 3
   },
   "file_extension": ".py",
   "mimetype": "text/x-python",
   "name": "python",
   "nbconvert_exporter": "python",
   "pygments_lexer": "ipython3",
   "version": "3.6.3"
  }
 },
 "nbformat": 4,
 "nbformat_minor": 2
}
