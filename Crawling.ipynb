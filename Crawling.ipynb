{
 "cells": [
  {
   "cell_type": "markdown",
   "metadata": {},
   "source": [
    "<br>\n",
    "#  **Crwaling Data**\n",
    "1. 데이터 크롤링 1번으로 부하 줄이기\n",
    "1. 수집 가능한 format 모두 정리하기\n",
    "\n",
    "전체계획\n",
    "1. KRX 사이트에서 Market 데이터 수집하기\n",
    "1. 신규기업 목록 확인하여, 새로운 기업이 있으면 Google에서 코드명 수집하여 이어 붙이기\n",
    "1. 기업 Code들은 외래키를 사용하여 Yahoo/ Google 코드 모두 저장 (ERD)"
   ]
  },
  {
   "cell_type": "markdown",
   "metadata": {},
   "source": [
    "<br>\n",
    "## **1. GoogleFinance.Get**\n",
    "googlefinance.get"
   ]
  },
  {
   "cell_type": "markdown",
   "metadata": {},
   "source": [
    "<br>\n",
    "### **01 시간대별 정보 수집**\n",
    "시간대별 가격정보 수집하기"
   ]
  },
  {
   "cell_type": "code",
   "execution_count": 1,
   "metadata": {},
   "outputs": [
    {
     "data": {
      "text/html": [
       "<div>\n",
       "<style scoped>\n",
       "    .dataframe tbody tr th:only-of-type {\n",
       "        vertical-align: middle;\n",
       "    }\n",
       "\n",
       "    .dataframe tbody tr th {\n",
       "        vertical-align: top;\n",
       "    }\n",
       "\n",
       "    .dataframe thead th {\n",
       "        text-align: right;\n",
       "    }\n",
       "</style>\n",
       "<table border=\"1\" class=\"dataframe\">\n",
       "  <thead>\n",
       "    <tr style=\"text-align: right;\">\n",
       "      <th></th>\n",
       "      <th>code</th>\n",
       "      <th>open</th>\n",
       "      <th>high</th>\n",
       "      <th>low</th>\n",
       "      <th>close</th>\n",
       "      <th>volume</th>\n",
       "    </tr>\n",
       "    <tr>\n",
       "      <th>date</th>\n",
       "      <th></th>\n",
       "      <th></th>\n",
       "      <th></th>\n",
       "      <th></th>\n",
       "      <th></th>\n",
       "      <th></th>\n",
       "    </tr>\n",
       "  </thead>\n",
       "  <tbody>\n",
       "    <tr>\n",
       "      <th>2018-04-11</th>\n",
       "      <td>KOSDAQ:091990</td>\n",
       "      <td>103100.0</td>\n",
       "      <td>103200.0</td>\n",
       "      <td>100000.0</td>\n",
       "      <td>100100.0</td>\n",
       "      <td>751870</td>\n",
       "    </tr>\n",
       "    <tr>\n",
       "      <th>2018-04-12</th>\n",
       "      <td>KOSDAQ:091990</td>\n",
       "      <td>100500.0</td>\n",
       "      <td>101300.0</td>\n",
       "      <td>98300.0</td>\n",
       "      <td>98500.0</td>\n",
       "      <td>851185</td>\n",
       "    </tr>\n",
       "  </tbody>\n",
       "</table>\n",
       "</div>"
      ],
      "text/plain": [
       "                     code      open      high       low     close  volume\n",
       "date                                                                     \n",
       "2018-04-11  KOSDAQ:091990  103100.0  103200.0  100000.0  100100.0  751870\n",
       "2018-04-12  KOSDAQ:091990  100500.0  101300.0   98300.0   98500.0  851185"
      ]
     },
     "execution_count": 1,
     "metadata": {},
     "output_type": "execute_result"
    }
   ],
   "source": [
    "code = \"KOSDAQ:091990\"\n",
    "from googlefinance.get import get_data\n",
    "get_data(code, '3d')"
   ]
  },
  {
   "cell_type": "code",
   "execution_count": 2,
   "metadata": {},
   "outputs": [
    {
     "name": "stdout",
     "output_type": "stream",
     "text": [
      "{'KOSDAQ:091990', 'KRX:005930'}\n"
     ]
    },
    {
     "data": {
      "text/html": [
       "<div>\n",
       "<style scoped>\n",
       "    .dataframe tbody tr th:only-of-type {\n",
       "        vertical-align: middle;\n",
       "    }\n",
       "\n",
       "    .dataframe tbody tr th {\n",
       "        vertical-align: top;\n",
       "    }\n",
       "\n",
       "    .dataframe thead th {\n",
       "        text-align: right;\n",
       "    }\n",
       "</style>\n",
       "<table border=\"1\" class=\"dataframe\">\n",
       "  <thead>\n",
       "    <tr style=\"text-align: right;\">\n",
       "      <th></th>\n",
       "      <th>code</th>\n",
       "      <th>low</th>\n",
       "      <th>close</th>\n",
       "    </tr>\n",
       "  </thead>\n",
       "  <tbody>\n",
       "    <tr>\n",
       "      <th>2017-07-28 10:00:00</th>\n",
       "      <td>KOSDAQ:091990</td>\n",
       "      <td>43650.0</td>\n",
       "      <td>47450.0</td>\n",
       "    </tr>\n",
       "    <tr>\n",
       "      <th>2017-07-28 11:00:00</th>\n",
       "      <td>KOSDAQ:091990</td>\n",
       "      <td>47150.0</td>\n",
       "      <td>47700.0</td>\n",
       "    </tr>\n",
       "  </tbody>\n",
       "</table>\n",
       "</div>"
      ],
      "text/plain": [
       "                              code      low    close\n",
       "2017-07-28 10:00:00  KOSDAQ:091990  43650.0  47450.0\n",
       "2017-07-28 11:00:00  KOSDAQ:091990  47150.0  47700.0"
      ]
     },
     "execution_count": 2,
     "metadata": {},
     "output_type": "execute_result"
    }
   ],
   "source": [
    "df = get_data([code, 'KRX:005930', 'KRX:000660'], '3Y', '3600')\n",
    "print(set(df.code))\n",
    "df.iloc[:,[0,3,4]].head(2)"
   ]
  },
  {
   "cell_type": "code",
   "execution_count": 3,
   "metadata": {},
   "outputs": [
    {
     "data": {
      "text/html": [
       "<div>\n",
       "<style scoped>\n",
       "    .dataframe tbody tr th:only-of-type {\n",
       "        vertical-align: middle;\n",
       "    }\n",
       "\n",
       "    .dataframe tbody tr th {\n",
       "        vertical-align: top;\n",
       "    }\n",
       "\n",
       "    .dataframe thead th {\n",
       "        text-align: right;\n",
       "    }\n",
       "</style>\n",
       "<table border=\"1\" class=\"dataframe\">\n",
       "  <thead>\n",
       "    <tr style=\"text-align: right;\">\n",
       "      <th></th>\n",
       "      <th>low</th>\n",
       "      <th>close</th>\n",
       "      <th>volume</th>\n",
       "    </tr>\n",
       "  </thead>\n",
       "  <tbody>\n",
       "    <tr>\n",
       "      <th>2017-09-18 09:10:00</th>\n",
       "      <td>49100.0</td>\n",
       "      <td>49250.0</td>\n",
       "      <td>135140</td>\n",
       "    </tr>\n",
       "    <tr>\n",
       "      <th>2017-09-18 09:20:00</th>\n",
       "      <td>48800.0</td>\n",
       "      <td>48900.0</td>\n",
       "      <td>60080</td>\n",
       "    </tr>\n",
       "  </tbody>\n",
       "</table>\n",
       "</div>"
      ],
      "text/plain": [
       "                         low    close  volume\n",
       "2017-09-18 09:10:00  49100.0  49250.0  135140\n",
       "2017-09-18 09:20:00  48800.0  48900.0   60080"
      ]
     },
     "execution_count": 3,
     "metadata": {},
     "output_type": "execute_result"
    }
   ],
   "source": [
    "get_data(code, '7M', '600').iloc[:,3:].head(2)"
   ]
  },
  {
   "cell_type": "markdown",
   "metadata": {},
   "source": [
    "<br>\n",
    "## **2. KRX 사이트를 활용하여 전종목 가격수집**\n",
    "http://marketdata.krx.co.kr/main/main.jsp"
   ]
  },
  {
   "cell_type": "markdown",
   "metadata": {},
   "source": [
    "<br>\n",
    "### **01 시간대별 요약정보 수집**\n",
    "시간대별 가격정보 수집하기"
   ]
  },
  {
   "cell_type": "code",
   "execution_count": 4,
   "metadata": {},
   "outputs": [
    {
     "data": {
      "text/html": [
       "<div>\n",
       "<style scoped>\n",
       "    .dataframe tbody tr th:only-of-type {\n",
       "        vertical-align: middle;\n",
       "    }\n",
       "\n",
       "    .dataframe tbody tr th {\n",
       "        vertical-align: top;\n",
       "    }\n",
       "\n",
       "    .dataframe thead th {\n",
       "        text-align: right;\n",
       "    }\n",
       "</style>\n",
       "<table border=\"1\" class=\"dataframe\">\n",
       "  <thead>\n",
       "    <tr style=\"text-align: right;\">\n",
       "      <th></th>\n",
       "      <th>종목코드</th>\n",
       "      <th>종목명</th>\n",
       "      <th>현재가</th>\n",
       "      <th>대비</th>\n",
       "      <th>등락률</th>\n",
       "      <th>거래량</th>\n",
       "      <th>거래대금</th>\n",
       "      <th>시가</th>\n",
       "      <th>고가</th>\n",
       "      <th>저가</th>\n",
       "      <th>시가총액</th>\n",
       "      <th>시가총액비중(%)</th>\n",
       "      <th>상장주식수(천주)</th>\n",
       "      <th>외국인 보유주식수</th>\n",
       "      <th>외국인 지분율(%)</th>\n",
       "    </tr>\n",
       "  </thead>\n",
       "  <tbody>\n",
       "    <tr>\n",
       "      <th>0</th>\n",
       "      <td>005930</td>\n",
       "      <td>삼성전자</td>\n",
       "      <td>2443000</td>\n",
       "      <td>-1000</td>\n",
       "      <td>-0.0</td>\n",
       "      <td>201022</td>\n",
       "      <td>495246434000</td>\n",
       "      <td>2495000</td>\n",
       "      <td>2495000</td>\n",
       "      <td>2430000</td>\n",
       "      <td>313648204842000</td>\n",
       "      <td>16.34</td>\n",
       "      <td>128386494</td>\n",
       "      <td>NaN</td>\n",
       "      <td>NaN</td>\n",
       "    </tr>\n",
       "    <tr>\n",
       "      <th>1</th>\n",
       "      <td>000660</td>\n",
       "      <td>SK하이닉스</td>\n",
       "      <td>81200</td>\n",
       "      <td>800</td>\n",
       "      <td>1.0</td>\n",
       "      <td>3053453</td>\n",
       "      <td>249613086540</td>\n",
       "      <td>82400</td>\n",
       "      <td>82400</td>\n",
       "      <td>81000</td>\n",
       "      <td>59113792038000</td>\n",
       "      <td>3.08</td>\n",
       "      <td>728002365</td>\n",
       "      <td>NaN</td>\n",
       "      <td>NaN</td>\n",
       "    </tr>\n",
       "  </tbody>\n",
       "</table>\n",
       "</div>"
      ],
      "text/plain": [
       "     종목코드     종목명      현재가    대비  등락률      거래량          거래대금       시가  \\\n",
       "0  005930    삼성전자  2443000 -1000 -0.0   201022  495246434000  2495000   \n",
       "1  000660  SK하이닉스    81200   800  1.0  3053453  249613086540    82400   \n",
       "\n",
       "        고가       저가             시가총액  시가총액비중(%)  상장주식수(천주)  외국인 보유주식수  \\\n",
       "0  2495000  2430000  313648204842000      16.34  128386494        NaN   \n",
       "1    82400    81000   59113792038000       3.08  728002365        NaN   \n",
       "\n",
       "   외국인 지분율(%)  \n",
       "0         NaN  \n",
       "1         NaN  "
      ]
     },
     "execution_count": 4,
     "metadata": {},
     "output_type": "execute_result"
    }
   ],
   "source": [
    "from data.finance import get_data_price\n",
    "df = get_data_price()\n",
    "df.head(2)"
   ]
  },
  {
   "cell_type": "code",
   "execution_count": 5,
   "metadata": {},
   "outputs": [
    {
     "data": {
      "text/html": [
       "<div>\n",
       "<style scoped>\n",
       "    .dataframe tbody tr th:only-of-type {\n",
       "        vertical-align: middle;\n",
       "    }\n",
       "\n",
       "    .dataframe tbody tr th {\n",
       "        vertical-align: top;\n",
       "    }\n",
       "\n",
       "    .dataframe thead th {\n",
       "        text-align: right;\n",
       "    }\n",
       "</style>\n",
       "<table border=\"1\" class=\"dataframe\">\n",
       "  <thead>\n",
       "    <tr style=\"text-align: right;\">\n",
       "      <th></th>\n",
       "      <th>Code</th>\n",
       "      <th>C20</th>\n",
       "      <th>Volume20</th>\n",
       "    </tr>\n",
       "  </thead>\n",
       "  <tbody>\n",
       "    <tr>\n",
       "      <th>0</th>\n",
       "      <td>005930</td>\n",
       "      <td>-0.0</td>\n",
       "      <td>201022</td>\n",
       "    </tr>\n",
       "    <tr>\n",
       "      <th>1</th>\n",
       "      <td>000660</td>\n",
       "      <td>1.0</td>\n",
       "      <td>3053453</td>\n",
       "    </tr>\n",
       "  </tbody>\n",
       "</table>\n",
       "</div>"
      ],
      "text/plain": [
       "     Code  C20  Volume20\n",
       "0  005930 -0.0    201022\n",
       "1  000660  1.0   3053453"
      ]
     },
     "execution_count": 5,
     "metadata": {},
     "output_type": "execute_result"
    }
   ],
   "source": [
    "from datetime import datetime\n",
    "hour = str(datetime.today().hour)\n",
    "if len(hour) < 2: hour = '0' + hour\n",
    "\n",
    "df_min         = df.iloc[:,[0,4,5]]\n",
    "df_min.columns = ['Code', 'C'+hour, 'Volume'+hour]\n",
    "df_min.to_csv('./'+hour+'.csv', encoding='ms949')\n",
    "df_min.head(2)"
   ]
  },
  {
   "cell_type": "markdown",
   "metadata": {},
   "source": [
    "<br>\n",
    "### **02 기업 세부정보 수집**\n",
    "기업정보 수집하기"
   ]
  },
  {
   "cell_type": "code",
   "execution_count": 6,
   "metadata": {},
   "outputs": [
    {
     "data": {
      "text/html": [
       "<div>\n",
       "<style scoped>\n",
       "    .dataframe tbody tr th:only-of-type {\n",
       "        vertical-align: middle;\n",
       "    }\n",
       "\n",
       "    .dataframe tbody tr th {\n",
       "        vertical-align: top;\n",
       "    }\n",
       "\n",
       "    .dataframe thead th {\n",
       "        text-align: right;\n",
       "    }\n",
       "</style>\n",
       "<table border=\"1\" class=\"dataframe\">\n",
       "  <thead>\n",
       "    <tr style=\"text-align: right;\">\n",
       "      <th></th>\n",
       "      <th>회사명</th>\n",
       "      <th>종목코드</th>\n",
       "      <th>업종</th>\n",
       "      <th>주요제품</th>\n",
       "      <th>상장일</th>\n",
       "      <th>결산월</th>\n",
       "      <th>대표자명</th>\n",
       "      <th>홈페이지</th>\n",
       "      <th>지역</th>\n",
       "    </tr>\n",
       "  </thead>\n",
       "  <tbody>\n",
       "    <tr>\n",
       "      <th>0</th>\n",
       "      <td>BYC</td>\n",
       "      <td>001460</td>\n",
       "      <td>봉제의복 제조업</td>\n",
       "      <td>메리야스,란제리 제조,도매/건축공사/부동산 임대,분양,공급</td>\n",
       "      <td>1975-06-02</td>\n",
       "      <td>12월</td>\n",
       "      <td>유 중 화</td>\n",
       "      <td>http://www.byc.co.kr</td>\n",
       "      <td>서울특별시</td>\n",
       "    </tr>\n",
       "    <tr>\n",
       "      <th>1</th>\n",
       "      <td>CJ CGV</td>\n",
       "      <td>079160</td>\n",
       "      <td>영화, 비디오물, 방송프로그램 제작 및 배급업</td>\n",
       "      <td>영화상영,영화관 운영</td>\n",
       "      <td>2004-12-24</td>\n",
       "      <td>12월</td>\n",
       "      <td>서 정</td>\n",
       "      <td>http://www.cgv.co.kr</td>\n",
       "      <td>서울특별시</td>\n",
       "    </tr>\n",
       "  </tbody>\n",
       "</table>\n",
       "</div>"
      ],
      "text/plain": [
       "      회사명    종목코드                         업종  \\\n",
       "0     BYC  001460                   봉제의복 제조업   \n",
       "1  CJ CGV  079160  영화, 비디오물, 방송프로그램 제작 및 배급업   \n",
       "\n",
       "                               주요제품        상장일  결산월   대표자명  \\\n",
       "0  메리야스,란제리 제조,도매/건축공사/부동산 임대,분양,공급 1975-06-02  12월  유 중 화   \n",
       "1                       영화상영,영화관 운영 2004-12-24  12월    서 정   \n",
       "\n",
       "                   홈페이지     지역  \n",
       "0  http://www.byc.co.kr  서울특별시  \n",
       "1  http://www.cgv.co.kr  서울특별시  "
      ]
     },
     "execution_count": 6,
     "metadata": {},
     "output_type": "execute_result"
    }
   ],
   "source": [
    "from data.finance import get_data_info\n",
    "df_info = get_data_info()\n",
    "df_info.head(2)"
   ]
  },
  {
   "cell_type": "markdown",
   "metadata": {},
   "source": [
    "<br>\n",
    "### **03 Kospi & Kosdaq 기호 붙이기**\n",
    "상장사와 코스닥 구분 후 기호 붙이기"
   ]
  },
  {
   "cell_type": "code",
   "execution_count": 7,
   "metadata": {},
   "outputs": [],
   "source": [
    "# {dict} 객체 삭제하기\n",
    "a = {'a' : 1, 'b' : 2, 'c' : 3}\n",
    "# a.pop('a', None)\n",
    "# del a['a']   # 1개씩 제외만 된다"
   ]
  },
  {
   "cell_type": "code",
   "execution_count": 8,
   "metadata": {},
   "outputs": [
    {
     "data": {
      "text/html": [
       "<div>\n",
       "<style scoped>\n",
       "    .dataframe tbody tr th:only-of-type {\n",
       "        vertical-align: middle;\n",
       "    }\n",
       "\n",
       "    .dataframe tbody tr th {\n",
       "        vertical-align: top;\n",
       "    }\n",
       "\n",
       "    .dataframe thead th {\n",
       "        text-align: right;\n",
       "    }\n",
       "</style>\n",
       "<table border=\"1\" class=\"dataframe\">\n",
       "  <thead>\n",
       "    <tr style=\"text-align: right;\">\n",
       "      <th></th>\n",
       "      <th>종목코드</th>\n",
       "      <th>종목명</th>\n",
       "      <th>google</th>\n",
       "      <th>yahoo</th>\n",
       "    </tr>\n",
       "  </thead>\n",
       "  <tbody>\n",
       "    <tr>\n",
       "      <th>0</th>\n",
       "      <td>005930</td>\n",
       "      <td>삼성전자</td>\n",
       "      <td>KRX:005930</td>\n",
       "      <td>005930.KS</td>\n",
       "    </tr>\n",
       "    <tr>\n",
       "      <th>1</th>\n",
       "      <td>000660</td>\n",
       "      <td>SK하이닉스</td>\n",
       "      <td>KRX:000660</td>\n",
       "      <td>000660.KS</td>\n",
       "    </tr>\n",
       "    <tr>\n",
       "      <th>2</th>\n",
       "      <td>207940</td>\n",
       "      <td>삼성바이오로직스</td>\n",
       "      <td>KRX:207940</td>\n",
       "      <td>207940.KS</td>\n",
       "    </tr>\n",
       "  </tbody>\n",
       "</table>\n",
       "</div>"
      ],
      "text/plain": [
       "     종목코드       종목명      google      yahoo\n",
       "0  005930      삼성전자  KRX:005930  005930.KS\n",
       "1  000660    SK하이닉스  KRX:000660  000660.KS\n",
       "2  207940  삼성바이오로직스  KRX:207940  207940.KS"
      ]
     },
     "execution_count": 8,
     "metadata": {},
     "output_type": "execute_result"
    }
   ],
   "source": [
    "from data.finance import get_data_codes\n",
    "code_df = get_data_codes()\n",
    "code_df.head(3)"
   ]
  },
  {
   "cell_type": "code",
   "execution_count": 9,
   "metadata": {},
   "outputs": [
    {
     "data": {
      "text/plain": [
       "(2314, 4)"
      ]
     },
     "execution_count": 9,
     "metadata": {},
     "output_type": "execute_result"
    }
   ],
   "source": [
    "code_df.shape"
   ]
  },
  {
   "cell_type": "markdown",
   "metadata": {},
   "source": [
    "<br>\n",
    "## **2. Dart 재무제표 수집**\n",
    "https://datascienceschool.net/view-notebook/adead36729704e7b8660dda3be6a6524/\n",
    "1. 금융감독원 인증키(Dart.kss.go.kr)\n",
    "1. 인증키 : 8e30368d048361ba865f916c30739160a0e58ddd\n",
    "1. 발급일 : 2017-08-03\n",
    "1. 제한 횟수 : 10,000\n",
    "1. 가능한 기능\n",
    "    1. 기업 개황 제공\n",
    "    1. 공시 정보 검색"
   ]
  },
  {
   "cell_type": "markdown",
   "metadata": {},
   "source": [
    "<br>\n",
    "### ** 01 기업개황 데이터 수집**\n",
    "응답결과는 JSON 파일 형식으로 각 필드의 의를 한글로 변경"
   ]
  },
  {
   "cell_type": "code",
   "execution_count": 3,
   "metadata": {},
   "outputs": [
    {
     "data": {
      "text/html": [
       "<div>\n",
       "<style scoped>\n",
       "    .dataframe tbody tr th:only-of-type {\n",
       "        vertical-align: middle;\n",
       "    }\n",
       "\n",
       "    .dataframe tbody tr th {\n",
       "        vertical-align: top;\n",
       "    }\n",
       "\n",
       "    .dataframe thead th {\n",
       "        text-align: right;\n",
       "    }\n",
       "</style>\n",
       "<table border=\"1\" class=\"dataframe\">\n",
       "  <thead>\n",
       "    <tr style=\"text-align: right;\">\n",
       "      <th></th>\n",
       "      <th>설명</th>\n",
       "      <th>내용</th>\n",
       "    </tr>\n",
       "  </thead>\n",
       "  <tbody>\n",
       "    <tr>\n",
       "      <th>0</th>\n",
       "      <td>에러코드</td>\n",
       "      <td>000</td>\n",
       "    </tr>\n",
       "    <tr>\n",
       "      <th>1</th>\n",
       "      <td>에러메시지</td>\n",
       "      <td>정상</td>\n",
       "    </tr>\n",
       "    <tr>\n",
       "      <th>2</th>\n",
       "      <td>정식명칭</td>\n",
       "      <td>삼성전자(주)</td>\n",
       "    </tr>\n",
       "    <tr>\n",
       "      <th>3</th>\n",
       "      <td>영문명칭</td>\n",
       "      <td>SAMSUNG ELECTRONICS CO,.LTD</td>\n",
       "    </tr>\n",
       "    <tr>\n",
       "      <th>4</th>\n",
       "      <td>약식명칭</td>\n",
       "      <td>삼성전자</td>\n",
       "    </tr>\n",
       "    <tr>\n",
       "      <th>5</th>\n",
       "      <td>종목코드</td>\n",
       "      <td>005930</td>\n",
       "    </tr>\n",
       "    <tr>\n",
       "      <th>6</th>\n",
       "      <td>대표자명</td>\n",
       "      <td>김기남, 김현석, 고동진</td>\n",
       "    </tr>\n",
       "    <tr>\n",
       "      <th>7</th>\n",
       "      <td>법인구분</td>\n",
       "      <td>Y</td>\n",
       "    </tr>\n",
       "  </tbody>\n",
       "</table>\n",
       "</div>"
      ],
      "text/plain": [
       "      설명                           내용\n",
       "0   에러코드                          000\n",
       "1  에러메시지                           정상\n",
       "2   정식명칭                      삼성전자(주)\n",
       "3   영문명칭  SAMSUNG ELECTRONICS CO,.LTD\n",
       "4   약식명칭                         삼성전자\n",
       "5   종목코드                       005930\n",
       "6   대표자명                김기남, 김현석, 고동진\n",
       "7   법인구분                            Y"
      ]
     },
     "execution_count": 3,
     "metadata": {},
     "output_type": "execute_result"
    }
   ],
   "source": [
    "from data.finance import get_dart\n",
    "df = get_dart('005930')\n",
    "df.head(8)"
   ]
  },
  {
   "cell_type": "markdown",
   "metadata": {},
   "source": [
    "<br>\n",
    "### ** 02 공시정보 수집**\n",
    "여기에서 auth 값은 개인의 인증키 문자열이다. 이 뒤에 다음과 같은 파라미터를 추가하여야 한다.\n",
    "1. bsn_tp : 정기공시(5), 주요사항보고(3), 발행공시(11), 지분공시(4), 기타공시(9), 외부감사관련(3), 펀드공시(3), 자산유동화(6), 거래소공시(6), 공정위공시(5) (상세 유형 참조)\n",
    "1. callback : 콜백함수명(JSONP용)\n",
    "1. crp_cd : 공시대상회사의 종목코드(상장사:숫자 6자리) 또는 고유번호(기타법인:숫자 8자리)\n",
    "1. dsp_tp : 정기공시(A), 주요사항보고(B), 발행공시(C), 지분공시(D), 기타공시(E), 외부감사관련(F), 펀드공시(G), 자산유동화(H), 거래소공시(I), 공정위공시(J)\n",
    "1. end_dt : 검색종료 접수일자(YYYYMMDD) : 없으면 당일\n",
    "1. fin_rpt : 최종보고서만 검색여부(Y or N) 기본값 : N (정정이 있는 경우 최종정정만 검색)\n",
    "1. series : 오름차순(asc), 내림차순(desc) 기본값 : desc\n",
    "1. start_dt : 검색시작 접수일자(YYYYMMDD) : 없으면 end_dt crp_cd가 없는 경우 검색기간은 3개월로 제한\n",
    "1. sort : 접수일자(date), 회사명(crp), 보고서명(rpt) 기본값 : date\n",
    "1. page_no : 페이지 번호(1~n) 기본값 : 1\n",
    "1. page_set : 페이지당 건수(1~100) 기본값 : 10, 최대값 : 100\n",
    "1. err : 에러코드(오류 메시지 참조)\n",
    "1. err_msg : 에러메시지(오류 메시지 참조)\n",
    "1. page_no : 페이지 번호\n",
    "1. page_set : 페이지당 건수\n",
    "1. total_count : 총 건수\n",
    "1. total_page : 총 페이지 수"
   ]
  },
  {
   "cell_type": "code",
   "execution_count": 1,
   "metadata": {},
   "outputs": [
    {
     "name": "stdout",
     "output_type": "stream",
     "text": [
      "page_no : 3  total_count : 61  total_page : 7\n"
     ]
    },
    {
     "data": {
      "text/html": [
       "<div>\n",
       "<style scoped>\n",
       "    .dataframe tbody tr th:only-of-type {\n",
       "        vertical-align: middle;\n",
       "    }\n",
       "\n",
       "    .dataframe tbody tr th {\n",
       "        vertical-align: top;\n",
       "    }\n",
       "\n",
       "    .dataframe thead th {\n",
       "        text-align: right;\n",
       "    }\n",
       "</style>\n",
       "<table border=\"1\" class=\"dataframe\">\n",
       "  <thead>\n",
       "    <tr style=\"text-align: right;\">\n",
       "      <th></th>\n",
       "      <th>crp_cd</th>\n",
       "      <th>crp_cls</th>\n",
       "      <th>crp_nm</th>\n",
       "      <th>flr_nm</th>\n",
       "      <th>rcp_dt</th>\n",
       "      <th>rcp_no</th>\n",
       "      <th>rmk</th>\n",
       "      <th>rpt_nm</th>\n",
       "    </tr>\n",
       "  </thead>\n",
       "  <tbody>\n",
       "    <tr>\n",
       "      <th>0</th>\n",
       "      <td>005930</td>\n",
       "      <td>Y</td>\n",
       "      <td>삼성전자</td>\n",
       "      <td>삼성전자</td>\n",
       "      <td>20180223</td>\n",
       "      <td>20180223000494</td>\n",
       "      <td></td>\n",
       "      <td>[기재정정]참고서류</td>\n",
       "    </tr>\n",
       "    <tr>\n",
       "      <th>1</th>\n",
       "      <td>005930</td>\n",
       "      <td>Y</td>\n",
       "      <td>삼성전자</td>\n",
       "      <td>삼성전자</td>\n",
       "      <td>20180223</td>\n",
       "      <td>20180223000490</td>\n",
       "      <td></td>\n",
       "      <td>[기재정정]주주총회소집공고</td>\n",
       "    </tr>\n",
       "    <tr>\n",
       "      <th>2</th>\n",
       "      <td>005930</td>\n",
       "      <td>Y</td>\n",
       "      <td>삼성전자</td>\n",
       "      <td>삼성전자</td>\n",
       "      <td>20180223</td>\n",
       "      <td>20180223800886</td>\n",
       "      <td>유</td>\n",
       "      <td>주주총회집중일개최사유신고</td>\n",
       "    </tr>\n",
       "    <tr>\n",
       "      <th>3</th>\n",
       "      <td>005930</td>\n",
       "      <td>Y</td>\n",
       "      <td>삼성전자</td>\n",
       "      <td>삼성전자</td>\n",
       "      <td>20180223</td>\n",
       "      <td>20180223800808</td>\n",
       "      <td>유</td>\n",
       "      <td>기타경영사항(자율공시)</td>\n",
       "    </tr>\n",
       "    <tr>\n",
       "      <th>4</th>\n",
       "      <td>005930</td>\n",
       "      <td>Y</td>\n",
       "      <td>삼성전자</td>\n",
       "      <td>삼성전자</td>\n",
       "      <td>20180223</td>\n",
       "      <td>20180223000314</td>\n",
       "      <td>정</td>\n",
       "      <td>참고서류</td>\n",
       "    </tr>\n",
       "    <tr>\n",
       "      <th>5</th>\n",
       "      <td>005930</td>\n",
       "      <td>Y</td>\n",
       "      <td>삼성전자</td>\n",
       "      <td>삼성전자</td>\n",
       "      <td>20180223</td>\n",
       "      <td>20180223000294</td>\n",
       "      <td>정</td>\n",
       "      <td>주주총회소집공고</td>\n",
       "    </tr>\n",
       "    <tr>\n",
       "      <th>6</th>\n",
       "      <td>005930</td>\n",
       "      <td>Y</td>\n",
       "      <td>삼성전자</td>\n",
       "      <td>삼성전자</td>\n",
       "      <td>20180223</td>\n",
       "      <td>20180223800573</td>\n",
       "      <td>유</td>\n",
       "      <td>주주총회소집결의</td>\n",
       "    </tr>\n",
       "    <tr>\n",
       "      <th>7</th>\n",
       "      <td>005930</td>\n",
       "      <td>Y</td>\n",
       "      <td>삼성전자</td>\n",
       "      <td>삼성전자</td>\n",
       "      <td>20180214</td>\n",
       "      <td>20180214000563</td>\n",
       "      <td>공</td>\n",
       "      <td>동일인등출자계열회사와의상품ㆍ용역거래변경</td>\n",
       "    </tr>\n",
       "    <tr>\n",
       "      <th>8</th>\n",
       "      <td>005930</td>\n",
       "      <td>Y</td>\n",
       "      <td>삼성전자</td>\n",
       "      <td>삼성전자</td>\n",
       "      <td>20180214</td>\n",
       "      <td>20180214000558</td>\n",
       "      <td>공</td>\n",
       "      <td>동일인등출자계열회사와의상품ㆍ용역거래변경</td>\n",
       "    </tr>\n",
       "    <tr>\n",
       "      <th>9</th>\n",
       "      <td>005930</td>\n",
       "      <td>Y</td>\n",
       "      <td>삼성전자</td>\n",
       "      <td>삼성전자</td>\n",
       "      <td>20180214</td>\n",
       "      <td>20180214800785</td>\n",
       "      <td>유</td>\n",
       "      <td>최대주주등소유주식변동신고서</td>\n",
       "    </tr>\n",
       "  </tbody>\n",
       "</table>\n",
       "</div>"
      ],
      "text/plain": [
       "   crp_cd crp_cls crp_nm flr_nm    rcp_dt          rcp_no rmk  \\\n",
       "0  005930       Y   삼성전자   삼성전자  20180223  20180223000494       \n",
       "1  005930       Y   삼성전자   삼성전자  20180223  20180223000490       \n",
       "2  005930       Y   삼성전자   삼성전자  20180223  20180223800886   유   \n",
       "3  005930       Y   삼성전자   삼성전자  20180223  20180223800808   유   \n",
       "4  005930       Y   삼성전자   삼성전자  20180223  20180223000314   정   \n",
       "5  005930       Y   삼성전자   삼성전자  20180223  20180223000294   정   \n",
       "6  005930       Y   삼성전자   삼성전자  20180223  20180223800573   유   \n",
       "7  005930       Y   삼성전자   삼성전자  20180214  20180214000563   공   \n",
       "8  005930       Y   삼성전자   삼성전자  20180214  20180214000558   공   \n",
       "9  005930       Y   삼성전자   삼성전자  20180214  20180214800785   유   \n",
       "\n",
       "                  rpt_nm  \n",
       "0             [기재정정]참고서류  \n",
       "1         [기재정정]주주총회소집공고  \n",
       "2          주주총회집중일개최사유신고  \n",
       "3           기타경영사항(자율공시)  \n",
       "4                   참고서류  \n",
       "5               주주총회소집공고  \n",
       "6               주주총회소집결의  \n",
       "7  동일인등출자계열회사와의상품ㆍ용역거래변경  \n",
       "8  동일인등출자계열회사와의상품ㆍ용역거래변경  \n",
       "9         최대주주등소유주식변동신고서  "
      ]
     },
     "execution_count": 1,
     "metadata": {},
     "output_type": "execute_result"
    }
   ],
   "source": [
    "from data.finance import get_dart_search\n",
    "get_dart_search('005930', '20180101', '3')"
   ]
  },
  {
   "cell_type": "code",
   "execution_count": 14,
   "metadata": {},
   "outputs": [],
   "source": [
    "def get_dart_search(code, date):\n",
    "    import requests, json\n",
    "    import pandas as pd\n",
    "    url = \"http://dart.fss.or.kr/api/search.json?auth={0}&crp_cd={1}&start_dt=\" + date\n",
    "    url = url.format(\"8e30368d048361ba865f916c30739160a0e58ddd\", code)\n",
    "    response = requests.get(url)\n",
    "    response = json.loads(response.content)\n",
    "    return response # pd.DataFrame(response['list'])\n"
   ]
  },
  {
   "cell_type": "code",
   "execution_count": 15,
   "metadata": {},
   "outputs": [
    {
     "ename": "IndexError",
     "evalue": "tuple index out of range",
     "output_type": "error",
     "traceback": [
      "\u001b[0;31m---------------------------------------------------------------------------\u001b[0m",
      "\u001b[0;31mIndexError\u001b[0m                                Traceback (most recent call last)",
      "\u001b[0;32m<ipython-input-15-e398aa704526>\u001b[0m in \u001b[0;36m<module>\u001b[0;34m()\u001b[0m\n\u001b[0;32m----> 1\u001b[0;31m \u001b[0mget_dart_search\u001b[0m\u001b[0;34m(\u001b[0m\u001b[0;34m'005930'\u001b[0m\u001b[0;34m,\u001b[0m \u001b[0;34m'20180301'\u001b[0m\u001b[0;34m)\u001b[0m\u001b[0;34m\u001b[0m\u001b[0m\n\u001b[0m",
      "\u001b[0;32m<ipython-input-14-4d16d60c6150>\u001b[0m in \u001b[0;36mget_dart_search\u001b[0;34m(code, date)\u001b[0m\n\u001b[1;32m      3\u001b[0m     \u001b[0;32mimport\u001b[0m \u001b[0mpandas\u001b[0m \u001b[0;32mas\u001b[0m \u001b[0mpd\u001b[0m\u001b[0;34m\u001b[0m\u001b[0m\n\u001b[1;32m      4\u001b[0m     \u001b[0murl\u001b[0m \u001b[0;34m=\u001b[0m \u001b[0;34m\"http://dart.fss.or.kr/api/search.json?auth={0}&crp_cd={2}&start_dt=\"\u001b[0m \u001b[0;34m+\u001b[0m \u001b[0mdate\u001b[0m\u001b[0;34m\u001b[0m\u001b[0m\n\u001b[0;32m----> 5\u001b[0;31m     \u001b[0murl\u001b[0m \u001b[0;34m=\u001b[0m \u001b[0murl\u001b[0m\u001b[0;34m.\u001b[0m\u001b[0mformat\u001b[0m\u001b[0;34m(\u001b[0m\u001b[0;34m\"8e30368d048361ba865f916c30739160a0e58ddd\"\u001b[0m\u001b[0;34m,\u001b[0m \u001b[0mcode\u001b[0m\u001b[0;34m)\u001b[0m\u001b[0;34m\u001b[0m\u001b[0m\n\u001b[0m\u001b[1;32m      6\u001b[0m     \u001b[0mresponse\u001b[0m \u001b[0;34m=\u001b[0m \u001b[0mrequests\u001b[0m\u001b[0;34m.\u001b[0m\u001b[0mget\u001b[0m\u001b[0;34m(\u001b[0m\u001b[0murl\u001b[0m\u001b[0;34m)\u001b[0m\u001b[0;34m\u001b[0m\u001b[0m\n\u001b[1;32m      7\u001b[0m     \u001b[0mresponse\u001b[0m \u001b[0;34m=\u001b[0m \u001b[0mjson\u001b[0m\u001b[0;34m.\u001b[0m\u001b[0mloads\u001b[0m\u001b[0;34m(\u001b[0m\u001b[0mresponse\u001b[0m\u001b[0;34m.\u001b[0m\u001b[0mcontent\u001b[0m\u001b[0;34m)\u001b[0m\u001b[0;34m\u001b[0m\u001b[0m\n",
      "\u001b[0;31mIndexError\u001b[0m: tuple index out of range"
     ]
    }
   ],
   "source": [
    "get_dart_search('005930', '20180301')"
   ]
  },
  {
   "cell_type": "code",
   "execution_count": 5,
   "metadata": {},
   "outputs": [
    {
     "ename": "NameError",
     "evalue": "name 'response_json' is not defined",
     "output_type": "error",
     "traceback": [
      "\u001b[0;31m---------------------------------------------------------------------------\u001b[0m",
      "\u001b[0;31mNameError\u001b[0m                                 Traceback (most recent call last)",
      "\u001b[0;32m<ipython-input-5-71531c0edb38>\u001b[0m in \u001b[0;36m<module>\u001b[0;34m()\u001b[0m\n\u001b[1;32m      2\u001b[0m \u001b[0murl_search\u001b[0m \u001b[0;34m=\u001b[0m \u001b[0;34m\"http://dart.fss.or.kr/api/search.json?auth={0}&crp_cd={1}&start_dt=\"\u001b[0m \u001b[0;34m+\u001b[0m \u001b[0mdate\u001b[0m\u001b[0;34m\u001b[0m\u001b[0m\n\u001b[1;32m      3\u001b[0m \u001b[0mcode\u001b[0m       \u001b[0;34m=\u001b[0m \u001b[0;34m\"005930\"\u001b[0m\u001b[0;34m\u001b[0m\u001b[0m\n\u001b[0;32m----> 4\u001b[0;31m \u001b[0mdata\u001b[0m       \u001b[0;34m=\u001b[0m \u001b[0mresponse_json\u001b[0m\u001b[0;34m(\u001b[0m\u001b[0murl_search\u001b[0m\u001b[0;34m,\u001b[0m \u001b[0mcode\u001b[0m\u001b[0;34m)\u001b[0m\u001b[0;34m\u001b[0m\u001b[0m\n\u001b[0m\u001b[1;32m      5\u001b[0m \u001b[0mprint\u001b[0m\u001b[0;34m(\u001b[0m\u001b[0;34m'url info >> \\nkeys : {}\\ntotal page num :{}'\u001b[0m\u001b[0;34m.\u001b[0m\u001b[0mformat\u001b[0m\u001b[0;34m(\u001b[0m\u001b[0mdata\u001b[0m\u001b[0;34m.\u001b[0m\u001b[0mkeys\u001b[0m\u001b[0;34m(\u001b[0m\u001b[0;34m)\u001b[0m\u001b[0;34m,\u001b[0m \u001b[0mdata\u001b[0m\u001b[0;34m[\u001b[0m\u001b[0;34m'page_set'\u001b[0m\u001b[0;34m]\u001b[0m\u001b[0;34m)\u001b[0m\u001b[0;34m)\u001b[0m\u001b[0;34m\u001b[0m\u001b[0m\n\u001b[1;32m      6\u001b[0m \u001b[0;34m\u001b[0m\u001b[0m\n",
      "\u001b[0;31mNameError\u001b[0m: name 'response_json' is not defined"
     ]
    }
   ],
   "source": [
    "date       = \"20180301\"\n",
    "url_search = \"http://dart.fss.or.kr/api/search.json?auth={0}&crp_cd={1}&start_dt=\" + date\n",
    "code       = \"005930\"\n",
    "data       = response_json(url_search, code)\n",
    "print('url info >> \\nkeys : {}\\ntotal page num :{}'.format(data.keys(), data['page_set']))\n",
    "\n",
    "# 해당일 공개된 공시들 목록\n",
    "# 1 page 당 8개를 출력\n",
    "for i in data['list']:\n",
    "    print(i[\"rpt_nm\"])"
   ]
  },
  {
   "cell_type": "code",
   "execution_count": null,
   "metadata": {},
   "outputs": [],
   "source": []
  },
  {
   "cell_type": "code",
   "execution_count": null,
   "metadata": {},
   "outputs": [],
   "source": []
  }
 ],
 "metadata": {
  "kernelspec": {
   "display_name": "Python 3",
   "language": "python",
   "name": "python3"
  },
  "language_info": {
   "codemirror_mode": {
    "name": "ipython",
    "version": 3
   },
   "file_extension": ".py",
   "mimetype": "text/x-python",
   "name": "python",
   "nbconvert_exporter": "python",
   "pygments_lexer": "ipython3",
   "version": "3.6.3"
  }
 },
 "nbformat": 4,
 "nbformat_minor": 2
}
