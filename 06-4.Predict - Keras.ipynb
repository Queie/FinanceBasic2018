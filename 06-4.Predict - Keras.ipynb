{
 "cells": [
  {
   "cell_type": "markdown",
   "metadata": {},
   "source": [
    "<br>\n",
    "# ** 6 Predict the TimeSeries Data**\n",
    "시계열 데이터 예측"
   ]
  },
  {
   "cell_type": "markdown",
   "metadata": {},
   "source": [
    "<br><br>\n",
    "## ** 4 Keras 를 활용한 주가예측**"
   ]
  },
  {
   "cell_type": "markdown",
   "metadata": {},
   "source": [
    "### **00 주가데이터 가져오기**\n",
    "> from pandas_datareader import get_data_yahoo"
   ]
  },
  {
   "cell_type": "code",
   "execution_count": 1,
   "metadata": {},
   "outputs": [
    {
     "data": {
      "text/plain": [
       "Date\n",
       "2016-12-28    42.619999\n",
       "2016-12-29    42.150002\n",
       "2016-12-30    42.250000\n",
       "Name: Close, dtype: float64"
      ]
     },
     "execution_count": 1,
     "metadata": {},
     "output_type": "execute_result"
    }
   ],
   "source": [
    "from pandas_datareader import get_data_yahoo\n",
    "stock = get_data_yahoo('MS', '2016-07-01', '2016-12-31')\n",
    "stock = stock.fillna('ffill')\n",
    "stock = stock.dropna()\n",
    "price = stock.Close\n",
    "price.tail(3)"
   ]
  },
  {
   "cell_type": "markdown",
   "metadata": {},
   "source": [
    "<br>\n",
    "### ** 01 데이터 전처리**"
   ]
  },
  {
   "cell_type": "code",
   "execution_count": 2,
   "metadata": {},
   "outputs": [
    {
     "data": {
      "text/html": [
       "<div>\n",
       "<style scoped>\n",
       "    .dataframe tbody tr th:only-of-type {\n",
       "        vertical-align: middle;\n",
       "    }\n",
       "\n",
       "    .dataframe tbody tr th {\n",
       "        vertical-align: top;\n",
       "    }\n",
       "\n",
       "    .dataframe thead th {\n",
       "        text-align: right;\n",
       "    }\n",
       "</style>\n",
       "<table border=\"1\" class=\"dataframe\">\n",
       "  <thead>\n",
       "    <tr style=\"text-align: right;\">\n",
       "      <th></th>\n",
       "      <th>Date</th>\n",
       "      <th>High</th>\n",
       "      <th>Low</th>\n",
       "      <th>Open</th>\n",
       "      <th>Close</th>\n",
       "      <th>Volume</th>\n",
       "      <th>Adj Close</th>\n",
       "    </tr>\n",
       "  </thead>\n",
       "  <tbody>\n",
       "    <tr>\n",
       "      <th>0</th>\n",
       "      <td>2016-06-30</td>\n",
       "      <td>26.0</td>\n",
       "      <td>25.18</td>\n",
       "      <td>25.34</td>\n",
       "      <td>25.98</td>\n",
       "      <td>19736300.0</td>\n",
       "      <td>24.929396</td>\n",
       "    </tr>\n",
       "    <tr>\n",
       "      <th>1</th>\n",
       "      <td>2016-07-01</td>\n",
       "      <td>26.4</td>\n",
       "      <td>25.76</td>\n",
       "      <td>25.77</td>\n",
       "      <td>25.92</td>\n",
       "      <td>8863400.0</td>\n",
       "      <td>24.871824</td>\n",
       "    </tr>\n",
       "  </tbody>\n",
       "</table>\n",
       "</div>"
      ],
      "text/plain": [
       "        Date  High    Low   Open  Close      Volume  Adj Close\n",
       "0 2016-06-30  26.0  25.18  25.34  25.98  19736300.0  24.929396\n",
       "1 2016-07-01  26.4  25.76  25.77  25.92   8863400.0  24.871824"
      ]
     },
     "execution_count": 2,
     "metadata": {},
     "output_type": "execute_result"
    }
   ],
   "source": [
    "dataset = stock.reset_index()\n",
    "dataset.head(2)"
   ]
  },
  {
   "cell_type": "code",
   "execution_count": 3,
   "metadata": {},
   "outputs": [
    {
     "data": {
      "text/html": [
       "<div>\n",
       "<style scoped>\n",
       "    .dataframe tbody tr th:only-of-type {\n",
       "        vertical-align: middle;\n",
       "    }\n",
       "\n",
       "    .dataframe tbody tr th {\n",
       "        vertical-align: top;\n",
       "    }\n",
       "\n",
       "    .dataframe thead th {\n",
       "        text-align: right;\n",
       "    }\n",
       "</style>\n",
       "<table border=\"1\" class=\"dataframe\">\n",
       "  <thead>\n",
       "    <tr style=\"text-align: right;\">\n",
       "      <th></th>\n",
       "      <th>Open</th>\n",
       "      <th>High</th>\n",
       "      <th>Low</th>\n",
       "      <th>Close</th>\n",
       "    </tr>\n",
       "  </thead>\n",
       "  <tbody>\n",
       "    <tr>\n",
       "      <th>125</th>\n",
       "      <td>43.290001</td>\n",
       "      <td>42.570000</td>\n",
       "      <td>43.250000</td>\n",
       "      <td>42.619999</td>\n",
       "    </tr>\n",
       "    <tr>\n",
       "      <th>126</th>\n",
       "      <td>42.770000</td>\n",
       "      <td>41.730000</td>\n",
       "      <td>42.650002</td>\n",
       "      <td>42.150002</td>\n",
       "    </tr>\n",
       "    <tr>\n",
       "      <th>127</th>\n",
       "      <td>42.549999</td>\n",
       "      <td>41.880001</td>\n",
       "      <td>42.169998</td>\n",
       "      <td>42.250000</td>\n",
       "    </tr>\n",
       "  </tbody>\n",
       "</table>\n",
       "</div>"
      ],
      "text/plain": [
       "          Open       High        Low      Close\n",
       "125  43.290001  42.570000  43.250000  42.619999\n",
       "126  42.770000  41.730000  42.650002  42.150002\n",
       "127  42.549999  41.880001  42.169998  42.250000"
      ]
     },
     "execution_count": 3,
     "metadata": {},
     "output_type": "execute_result"
    }
   ],
   "source": [
    "dataset = stock.reset_index()\n",
    "del dataset['Date']\n",
    "del dataset['Volume']\n",
    "del dataset['Adj Close']\n",
    "dataset.columns = ['Open','High','Low','Close']\n",
    "dataset.tail(3)"
   ]
  },
  {
   "cell_type": "code",
   "execution_count": 4,
   "metadata": {},
   "outputs": [
    {
     "name": "stderr",
     "output_type": "stream",
     "text": [
      "Using TensorFlow backend.\n"
     ]
    }
   ],
   "source": [
    "import pandas as pd\n",
    "import matplotlib.pyplot as plt\n",
    "import numpy as np \n",
    "import math\n",
    "from sklearn.preprocessing import MinMaxScaler\n",
    "from sklearn.metrics import mean_squared_error\n",
    "from keras.models import Sequential\n",
    "from keras.layers import Dense, Activation\n",
    "from keras.layers import LSTM"
   ]
  },
  {
   "cell_type": "code",
   "execution_count": 5,
   "metadata": {},
   "outputs": [
    {
     "data": {
      "image/png": "[encoded data removed]",
      "text/plain": [
       "<matplotlib.figure.Figure at 0x7f274412a940>"
      ]
     },
     "metadata": {},
     "output_type": "display_data"
    }
   ],
   "source": [
    "np.random.seed(7)  \n",
    "\n",
    "obs       = np.arange(1, len(dataset) + 1, 1)\n",
    "OHLC_avg  = dataset.mean(axis = 1)           \n",
    "HLC_avg   = dataset[['High', 'Low', 'Close']].mean(axis = 1)\n",
    "close_val = dataset[['Close']]\n",
    "plt.figure(figsize=(12,6))\n",
    "plt.plot(obs, OHLC_avg,  'r', label = 'OHLC avg')\n",
    "plt.plot(obs, HLC_avg,   'b', label = 'HLC avg')\n",
    "plt.plot(obs, close_val, 'g', label = 'Closing price')\n",
    "plt.legend(loc = 'upper right')\n",
    "plt.grid()\n",
    "plt.show()"
   ]
  },
  {
   "cell_type": "code",
   "execution_count": 6,
   "metadata": {},
   "outputs": [
    {
     "name": "stdout",
     "output_type": "stream",
     "text": [
      "일평균 데이터 : [[25.625     ]\n",
      " [25.9625001 ]\n",
      " [25.2249999 ]\n",
      " [24.9199996 ]\n",
      " [25.53500032]],\n",
      " <class 'numpy.ndarray'>\n",
      "정규화 데이터 : <class 'numpy.ndarray'>, [[0.03769552]\n",
      " [0.05574124]\n",
      " [0.016308  ]\n",
      " [0.        ]\n",
      " [0.03288334]]\n"
     ]
    }
   ],
   "source": [
    "OHLC_avg = np.reshape(OHLC_avg.values, (len(OHLC_avg), 1) )\n",
    "print(\"일평균 데이터 : {},\\n {}\".format( OHLC_avg[:5], type(OHLC_avg)))\n",
    "\n",
    "scaler   = MinMaxScaler(feature_range=(0, 1))\n",
    "OHLC_avg = scaler.fit_transform(OHLC_avg)  \n",
    "print(\"정규화 데이터 : {}, {}\".format(type(OHLC_avg), OHLC_avg[:5]) )"
   ]
  },
  {
   "cell_type": "code",
   "execution_count": 13,
   "metadata": {},
   "outputs": [
    {
     "name": "stdout",
     "output_type": "stream",
     "text": [
      "(94, 1) (94,)\n",
      "[25.9625001] 25.22499990463257\n"
     ]
    },
    {
     "data": {
      "text/plain": [
       "((94, 1, 1), (30, 1, 1))"
      ]
     },
     "execution_count": 13,
     "metadata": {},
     "output_type": "execute_result"
    }
   ],
   "source": [
    "def new_dataset(dataset, step_size):\n",
    "    import numpy as np \n",
    "    data_X, data_Y = [], []\n",
    "    for i in range(len(dataset) - step_size - 1):\n",
    "        data_X.append(dataset[i : (i+step_size), 0])  \n",
    "        data_Y.append(dataset[i + step_size,     0])\n",
    "    return np.array(data_X), np.array(data_Y)\n",
    "\n",
    "train_OHLC = int(len(OHLC_avg) * 0.75)\n",
    "test_OHLC  = len(OHLC_avg) - train_OHLC\n",
    "train_OHLC, test_OHLC = OHLC_avg[0:train_OHLC,:], OHLC_avg[train_OHLC:len(OHLC_avg),:]\n",
    "\n",
    "trainX, trainY = new_dataset(train_OHLC, 1)\n",
    "testX, testY   = new_dataset(test_OHLC, 1)\n",
    "print(trainX.shape, trainY.shape)  \n",
    "print(trainX[1], trainY[1])\n",
    "\n",
    "trainX = np.reshape(trainX, (trainX.shape[0], 1, trainX.shape[1]))\n",
    "testX  = np.reshape(testX,  (testX.shape[0],  1, testX.shape[1]))\n",
    "trainX.shape, testX.shape"
   ]
  },
  {
   "cell_type": "markdown",
   "metadata": {},
   "source": [
    "<br>\n",
    "### ** 02 LSTM 모델 만들기**"
   ]
  },
  {
   "cell_type": "code",
   "execution_count": 8,
   "metadata": {},
   "outputs": [
    {
     "name": "stdout",
     "output_type": "stream",
     "text": [
      "Epoch 1/10\n",
      " - 4s - loss: 0.0519\n",
      "Epoch 2/10\n",
      " - 1s - loss: 0.0101\n",
      "Epoch 3/10\n",
      " - 1s - loss: 0.0084\n",
      "Epoch 4/10\n",
      " - 1s - loss: 0.0063\n",
      "Epoch 5/10\n",
      " - 1s - loss: 0.0041\n",
      "Epoch 6/10\n",
      " - 1s - loss: 0.0022\n",
      "Epoch 7/10\n",
      " - 1s - loss: 0.0011\n",
      "Epoch 8/10\n",
      " - 1s - loss: 6.4832e-04\n",
      "Epoch 9/10\n",
      " - 1s - loss: 5.1659e-04\n",
      "Epoch 10/10\n",
      " - 1s - loss: 5.5811e-04\n"
     ]
    },
    {
     "data": {
      "text/plain": [
       "<keras.callbacks.History at 0x7f27419c59b0>"
      ]
     },
     "execution_count": 8,
     "metadata": {},
     "output_type": "execute_result"
    }
   ],
   "source": [
    "step_size = 1\n",
    "model = Sequential()\n",
    "model.add(LSTM(32, input_shape=(1, step_size), return_sequences = True))\n",
    "model.add(LSTM(16))\n",
    "model.add(Dense(1))\n",
    "model.add(Activation('linear'))\n",
    "\n",
    "model.compile(loss='mean_squared_error', optimizer='adam') \n",
    "model.fit(trainX, trainY, epochs=10, batch_size=1, verbose=2)"
   ]
  },
  {
   "cell_type": "code",
   "execution_count": 9,
   "metadata": {},
   "outputs": [
    {
     "name": "stdout",
     "output_type": "stream",
     "text": [
      "Train RMSE: 0.41\n",
      "Test  RMSE: 3.01\n"
     ]
    }
   ],
   "source": [
    "trainPredict = model.predict(trainX)\n",
    "testPredict  = model.predict(testX)\n",
    "\n",
    "trainPredict = scaler.inverse_transform(trainPredict)\n",
    "trainY       = scaler.inverse_transform([trainY])\n",
    "testPredict  = scaler.inverse_transform(testPredict)\n",
    "testY        = scaler.inverse_transform([testY])\n",
    "\n",
    "trainScore = math.sqrt(mean_squared_error(trainY[0], trainPredict[:,0]))\n",
    "testScore  = math.sqrt(mean_squared_error(testY[0], testPredict[:,0]))\n",
    "print('Train RMSE: {:.2f}\\nTest  RMSE: {:.2f}'.format(trainScore, testScore))"
   ]
  },
  {
   "cell_type": "markdown",
   "metadata": {},
   "source": [
    "<br>\n",
    "### ** 03 완성된 LSTM 모델의 예측결과 시각화**"
   ]
  },
  {
   "cell_type": "code",
   "execution_count": 10,
   "metadata": {},
   "outputs": [],
   "source": [
    "trainPredictPlot          = np.empty_like(OHLC_avg)\n",
    "trainPredictPlot[ : , : ] = np.nan\n",
    "trainPredictPlot[step_size : len(trainPredict) + step_size , : ] = trainPredict\n",
    "\n",
    "testPredictPlot       = np.empty_like(OHLC_avg)\n",
    "testPredictPlot[:, :] = np.nan\n",
    "testPredictPlot[len(trainPredict) + (step_size*2) + 1 : len(OHLC_avg) - 1 , : ] = testPredict"
   ]
  },
  {
   "cell_type": "code",
   "execution_count": 11,
   "metadata": {},
   "outputs": [
    {
     "data": {
      "image/png": "[encoded data removed]",
      "text/plain": [
       "<matplotlib.figure.Figure at 0x7f2744166ef0>"
      ]
     },
     "metadata": {},
     "output_type": "display_data"
    }
   ],
   "source": [
    "OHLC_avg = scaler.inverse_transform(OHLC_avg)\n",
    "\n",
    "plt.figure(figsize=(12,6))\n",
    "plt.plot(OHLC_avg,         'g', label = 'original dataset')\n",
    "plt.plot(trainPredictPlot, 'r', label = 'train predicted stock price')\n",
    "plt.plot(testPredictPlot,  'b', label = 'test predicted stock price')\n",
    "plt.xlabel('Time in Days')\n",
    "plt.ylabel('OHLC Value of Apple Stocks')\n",
    "plt.legend(loc = 'upper left')\n",
    "plt.grid(); plt.show()"
   ]
  },
  {
   "cell_type": "markdown",
   "metadata": {},
   "source": [
    "<br>\n",
    "### ** 04 완성된 LSTM 모델로 내일의 주가 예측**"
   ]
  },
  {
   "cell_type": "code",
   "execution_count": 12,
   "metadata": {},
   "outputs": [
    {
     "name": "stdout",
     "output_type": "stream",
     "text": [
      "마지막 예측가격 : 46.364654541015625 \n",
      "다음날 예측가격 : 55.686851501464844 \n",
      "증감률 : [[0.20106257]]\n"
     ]
    }
   ],
   "source": [
    "last_val        = testPredict[-1:]\n",
    "last_val_scaled = last_val / last_val\n",
    "next_val        = model.predict(np.reshape(last_val_scaled, (1,1,1)))\n",
    "last_price      = np.asscalar(last_val)\n",
    "next_price      = np.asscalar(last_val * next_val)\n",
    "print (\"마지막 예측가격 : {} \\n다음날 예측가격 : {} \\n증감률 : {}\".format(\n",
    "        last_price, \n",
    "        next_price, \n",
    "        (next_price - last_val) / last_val) )"
   ]
  },
  {
   "cell_type": "code",
   "execution_count": null,
   "metadata": {},
   "outputs": [],
   "source": []
  }
 ],
 "metadata": {
  "kernelspec": {
   "display_name": "Python 3",
   "language": "python",
   "name": "python3"
  },
  "language_info": {
   "codemirror_mode": {
    "name": "ipython",
    "version": 3
   },
   "file_extension": ".py",
   "mimetype": "text/x-python",
   "name": "python",
   "nbconvert_exporter": "python",
   "pygments_lexer": "ipython3",
   "version": "3.6.3"
  }
 },
 "nbformat": 4,
 "nbformat_minor": 2
}
