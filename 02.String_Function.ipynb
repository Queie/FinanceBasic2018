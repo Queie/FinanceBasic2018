{
 "cells": [
  {
   "cell_type": "markdown",
   "metadata": {},
   "source": [
    "# **_2. String & functions_**\n",
    "**금융데이터를 활용한 파이썬 기초 객체**\n"
   ]
  },
  {
   "cell_type": "markdown",
   "metadata": {},
   "source": [
    "<br><br>\n",
    "## **1 String 데이터**\n",
    "1. 파이썬 내장함수를 활용\n",
    "\n",
    "출처 : https://wikidocs.net/13"
   ]
  },
  {
   "cell_type": "markdown",
   "metadata": {},
   "source": [
    "<br>\n",
    "### **01 .replace(), .split().find()**\n",
    "파이썬 내장 메소드로, 이를 많이 쓰는게 빠르고 호환성에도 좋다"
   ]
  },
  {
   "cell_type": "code",
   "execution_count": 1,
   "metadata": {},
   "outputs": [
    {
     "data": {
      "text/plain": [
       "'Financial R-studio coding is easy to learn by this class'"
      ]
     },
     "execution_count": 1,
     "metadata": {},
     "output_type": "execute_result"
    }
   ],
   "source": [
    "text = \"Financial Python coding is easy to learn by this class\"\n",
    "text.replace('Python', 'R-studio')"
   ]
  },
  {
   "cell_type": "code",
   "execution_count": 2,
   "metadata": {},
   "outputs": [
    {
     "data": {
      "text/plain": [
       "['Financial Python coding ', ' easy to learn by th', ' class']"
      ]
     },
     "execution_count": 2,
     "metadata": {},
     "output_type": "execute_result"
    }
   ],
   "source": [
    "text.split('is')"
   ]
  },
  {
   "cell_type": "code",
   "execution_count": 3,
   "metadata": {},
   "outputs": [
    {
     "data": {
      "text/plain": [
       "24"
      ]
     },
     "execution_count": 3,
     "metadata": {},
     "output_type": "execute_result"
    }
   ],
   "source": [
    "text.find('is')"
   ]
  },
  {
   "cell_type": "code",
   "execution_count": 4,
   "metadata": {},
   "outputs": [
    {
     "data": {
      "text/plain": [
       "-1"
      ]
     },
     "execution_count": 4,
     "metadata": {},
     "output_type": "execute_result"
    }
   ],
   "source": [
    "text.find('Java')  # 없는 글자를 찾으면 '-1'을 출력한다"
   ]
  },
  {
   "cell_type": "markdown",
   "metadata": {},
   "source": [
    "### **02 .format()**\n",
    "1. 책에보면 %s, %d 등도 있지만, 그냥 .format() 하나만 쓰자!!\n",
    "1. { 인덱스 주소(숫자, 문자 모두가능) : format 설정값 }\n",
    "1. format 의 String 설정값\n",
    "    1. <10 : 왼쪽에서 부터 10개 공간값 설정\n",
    "    1. \\>10 : 오른쪽에서 부터 10개 공간값 설정\n",
    "    1. ^10 : 전체 10개 공간에서 가운데 정렬\n",
    "    1. 기호내용^10 : 빈 공간을 기호내용으로 채움 \n",
    "\n",
    "1. format 의 float() 설정값 (소숫점 자릿수 설정)\n",
    "    1. integer(정수) : 출력할 숫자갯수\n",
    "    1. 0.4f : 소숫점 자릿수 정의\n",
    "    1. 10.4f : 자릿수 를 10으로 맞춘다"
   ]
  },
  {
   "cell_type": "code",
   "execution_count": 5,
   "metadata": {},
   "outputs": [
    {
     "data": {
      "text/plain": [
       "datetime.date(2018, 4, 13)"
      ]
     },
     "execution_count": 5,
     "metadata": {},
     "output_type": "execute_result"
    }
   ],
   "source": [
    "from datetime import datetime\n",
    "date  = datetime.now().date()\n",
    "date   # datetime 함수의 결과를 룩겨"
   ]
  },
  {
   "cell_type": "code",
   "execution_count": 6,
   "metadata": {},
   "outputs": [
    {
     "data": {
      "text/plain": [
       "'2018-04-13'"
      ]
     },
     "execution_count": 6,
     "metadata": {},
     "output_type": "execute_result"
    }
   ],
   "source": [
    "# str() : 숫자, 다름함수결과  등을 문자로 변환 출력\n",
    "str(date)"
   ]
  },
  {
   "cell_type": "code",
   "execution_count": 7,
   "metadata": {},
   "outputs": [
    {
     "data": {
      "text/plain": [
       "'오늘의 날짜는 2018-04-13 로 수업의 내용은 파이썬 기초 입니다. 당신의 오늘 점수는 80.12312312424 입니다'"
      ]
     },
     "execution_count": 7,
     "metadata": {},
     "output_type": "execute_result"
    }
   ],
   "source": [
    "# (Default) : 순서대로 인덱스를 맞춰서 입력된다\n",
    "text = \"오늘의 날짜는 {} 로 수업의 내용은 {} 입니다. 당신의 오늘 점수는 {} 입니다\"\n",
    "text.format(date, '파이썬 기초', 80.12312312424)"
   ]
  },
  {
   "cell_type": "code",
   "execution_count": 8,
   "metadata": {},
   "outputs": [
    {
     "data": {
      "text/plain": [
       "'오늘의 날짜는 2018-04-13 로 수업의 내용은 파이썬 기초 입니다. 당신의 오늘 점수는 파이썬 기초 입니다'"
      ]
     },
     "execution_count": 8,
     "metadata": {},
     "output_type": "execute_result"
    }
   ],
   "source": [
    "# format( , , ) : 내부의 인덱스 값을 연결한다\n",
    "text = \"오늘의 날짜는 {0} 로 수업의 내용은 {1} 입니다. 당신의 오늘 점수는 {1} 입니다\"\n",
    "text.format(date, '파이썬 기초', 80.12312312424)"
   ]
  },
  {
   "cell_type": "code",
   "execution_count": 9,
   "metadata": {},
   "outputs": [
    {
     "data": {
      "text/plain": [
       "'오늘의 날짜는 2018-04-13 로 수업의 내용은 파이썬 입니다. 당신의 오늘 점수는 1280.1 입니다'"
      ]
     },
     "execution_count": 9,
     "metadata": {},
     "output_type": "execute_result"
    }
   ],
   "source": [
    "# : .글자수\n",
    "text = \"오늘의 날짜는 {} 로 수업의 내용은 {:.3} 입니다. 당신의 오늘 점수는 {:.5} 입니다\"\n",
    "text.format(date, '파이썬 기초', 1280.12312312424)"
   ]
  },
  {
   "cell_type": "code",
   "execution_count": 10,
   "metadata": {},
   "outputs": [
    {
     "data": {
      "text/plain": [
       "'오늘의 날짜는 2018-04-13 로 수업의 내용은     파이썬 기초 입니다. 당신의 오늘 점수는 1280.123 입니다'"
      ]
     },
     "execution_count": 10,
     "metadata": {},
     "output_type": "execute_result"
    }
   ],
   "source": [
    "# : < 10 : 왼쪽정렬, 글자 자릿수\n",
    "# : .3f  : 소숫점 자릿수\n",
    "text = \"오늘의 날짜는 {} 로 수업의 내용은 {:>10} 입니다. 당신의 오늘 점수는 {:.3f} 입니다\"\n",
    "text.format(date, '파이썬 기초', 1280.12312312424)"
   ]
  },
  {
   "cell_type": "code",
   "execution_count": 11,
   "metadata": {},
   "outputs": [
    {
     "data": {
      "text/plain": [
       "'오늘의 날짜는 2018-04-13 로 수업의 내용은 파이썬 기초     입니다. 당신의 오늘 점수는   1280.123 입니다'"
      ]
     },
     "execution_count": 11,
     "metadata": {},
     "output_type": "execute_result"
    }
   ],
   "source": [
    "# 종합적인 적용 가능\n",
    "text = \"오늘의 날짜는 {} 로 수업의 내용은 {:<10} 입니다. 당신의 오늘 점수는 {:10.3f} 입니다\"\n",
    "text.format(date, '파이썬 기초', 1280.12312312424)"
   ]
  },
  {
   "cell_type": "markdown",
   "metadata": {},
   "source": [
    "### **03 regrex**\n",
    "http://www.nextree.co.kr/p4327/\n",
    "1. '\\n' : 줄바꿈 처리\n",
    "1. '\\t' : tap 공간 여백처리"
   ]
  },
  {
   "cell_type": "code",
   "execution_count": 12,
   "metadata": {},
   "outputs": [
    {
     "name": "stdout",
     "output_type": "stream",
     "text": [
      " 평창 올림칙이 열리는 강원도는 {} 시장님과 \t {} 운영위원장 님의 \n",
      "          \n",
      "열화와 같은 지원 적분에 성공적으로 열리게 되었습니다\n"
     ]
    }
   ],
   "source": [
    "text = \"\"\" 평창 올림칙이 열리는 강원도는 {} 시장님과 \\t {} 운영위원장 님의 \n",
    "          \\n열화와 같은 지원 적분에 성공적으로 열리게 되었습니다\"\"\"\n",
    "print(text)"
   ]
  },
  {
   "cell_type": "code",
   "execution_count": 13,
   "metadata": {},
   "outputs": [
    {
     "name": "stdout",
     "output_type": "stream",
     "text": [
      " 평창 올림칙이 열리는 강원도는 위대하신 김용범 시장님과 \t 영도자 김용범 운영위원장 님의 \n",
      "          \n",
      "열화와 같은 지원 적분에 성공적으로 열리게 되었습니다\n"
     ]
    }
   ],
   "source": [
    "print(text.format('위대하신 김용범', '영도자 김용범'))"
   ]
  },
  {
   "cell_type": "markdown",
   "metadata": {},
   "source": [
    "<br>\n",
    "### **04 기타 string 관련 메소드 들**\n",
    "1. 아.. 이런게있구나 알아두는 정도\n",
    "1. 다양한 전처리는 .. import re 를 통한 정규식을 더 많이 쓴다\n",
    "1. (java, javascript등에서도 통용) ('정규표현식'의 문법에 익숙하므로)\n",
    "1. .count()\n",
    "1. .find()\n",
    "1. .index()\n",
    "1. .join()\n",
    "1. .strip()   # 모든 공백제거\n",
    "1. .lstrip()  # 왼쪽 공백만 제거\n",
    "1. .rstrip()  # 오른쪽 공백만 제거"
   ]
  },
  {
   "cell_type": "markdown",
   "metadata": {},
   "source": [
    "<br><br>\n",
    "## **2 Function 함수**\n",
    "1. 파이썬 내장함수\n",
    "1. 파이썬 외부함수  (사서 씀)\n",
    "1. 파이썬 사용자함수  (DIY)"
   ]
  },
  {
   "cell_type": "markdown",
   "metadata": {},
   "source": [
    "<br>\n",
    "### **01 if 판단문**\n",
    "if 판단 후, True/ False 결과값을 지정한다"
   ]
  },
  {
   "cell_type": "code",
   "execution_count": 14,
   "metadata": {},
   "outputs": [
    {
     "name": "stdout",
     "output_type": "stream",
     "text": [
      "5보다 크다\n"
     ]
    }
   ],
   "source": [
    "a = 10\n",
    "if a > 5 :\n",
    "    print('5보다 크다')"
   ]
  },
  {
   "cell_type": "code",
   "execution_count": 15,
   "metadata": {},
   "outputs": [
    {
     "name": "stdout",
     "output_type": "stream",
     "text": [
      "5보다 크다\n",
      "next\n"
     ]
    }
   ],
   "source": [
    "a = 10\n",
    "if a > 5 :\n",
    "    print('5보다 크다')\n",
    "print('next')"
   ]
  },
  {
   "cell_type": "code",
   "execution_count": 16,
   "metadata": {},
   "outputs": [
    {
     "name": "stdout",
     "output_type": "stream",
     "text": [
      "5보다 크지않다\n"
     ]
    }
   ],
   "source": [
    "a = 4\n",
    "if a > 5 :\n",
    "    print('5보다 크다')\n",
    "else :\n",
    "    print('5보다 크지않다')"
   ]
  },
  {
   "cell_type": "code",
   "execution_count": 17,
   "metadata": {},
   "outputs": [
    {
     "name": "stdout",
     "output_type": "stream",
     "text": [
      "5보다 크지않다\n"
     ]
    }
   ],
   "source": [
    "a = 4\n",
    "if a > 5 :\n",
    "    print('5보다 크다')\n",
    "else :\n",
    "    print('5보다 크지않다')"
   ]
  },
  {
   "cell_type": "code",
   "execution_count": 18,
   "metadata": {},
   "outputs": [
    {
     "name": "stdout",
     "output_type": "stream",
     "text": [
      "5보다 크지않다\n"
     ]
    }
   ],
   "source": [
    "a = 4\n",
    "if a > 5 :\n",
    "    print('5보다 크다')\n",
    "else :\n",
    "    print('5보다 크지않다')"
   ]
  },
  {
   "cell_type": "markdown",
   "metadata": {},
   "source": [
    "<br>\n",
    "### **02 for 반복문**\n",
    "1. format : &nbsp;&nbsp; for &nbsp;&nbsp; 객체명 &nbsp;&nbsp; in &nbsp;&nbsp; 가져올 DB목록:"
   ]
  },
  {
   "cell_type": "code",
   "execution_count": 19,
   "metadata": {},
   "outputs": [
    {
     "name": "stdout",
     "output_type": "stream",
     "text": [
      "0\n",
      "1\n",
      "2\n",
      "3\n",
      "4\n",
      "5\n",
      "6\n",
      "7\n",
      "8\n",
      "9\n"
     ]
    }
   ],
   "source": [
    "for i in range(10):\n",
    "    print(i)"
   ]
  },
  {
   "cell_type": "code",
   "execution_count": 20,
   "metadata": {},
   "outputs": [
    {
     "data": {
      "text/plain": [
       "[0, 1, 2, 3, 4, 5, 6, 7, 8, 9]"
      ]
     },
     "execution_count": 20,
     "metadata": {},
     "output_type": "execute_result"
    }
   ],
   "source": [
    "# 반복을 담기위해서, [list] 객체를 활용\n",
    "result = []\n",
    "for i in range(10):\n",
    "    result.append(i)\n",
    "result"
   ]
  },
  {
   "cell_type": "code",
   "execution_count": 21,
   "metadata": {},
   "outputs": [
    {
     "name": "stdout",
     "output_type": "stream",
     "text": [
      "0\n",
      "2\n",
      "4\n",
      "6\n",
      "8\n"
     ]
    }
   ],
   "source": [
    "for i in range(10):\n",
    "    if i % 2 == 0:\n",
    "        print(i)"
   ]
  },
  {
   "cell_type": "code",
   "execution_count": 22,
   "metadata": {},
   "outputs": [
    {
     "name": "stdout",
     "output_type": "stream",
     "text": [
      "짝수 0\n",
      "홀수 1\n",
      "짝수 2\n",
      "홀수 3\n",
      "짝수 4\n",
      "홀수 5\n",
      "짝수 6\n",
      "홀수 7\n",
      "짝수 8\n",
      "홀수 9\n"
     ]
    }
   ],
   "source": [
    "for i in range(10):\n",
    "    if i % 2 == 0:\n",
    "        print('짝수',i)\n",
    "    elif i % 2 == 1:\n",
    "        print('홀수',i)"
   ]
  },
  {
   "cell_type": "code",
   "execution_count": 23,
   "metadata": {},
   "outputs": [
    {
     "name": "stdout",
     "output_type": "stream",
     "text": [
      "짝수 0\n",
      "홀수 1\n",
      "짝수 2\n",
      "홀수 3\n",
      "짝수 4\n",
      "홀수 5\n",
      "짝수 6\n",
      "홀수 7\n",
      "짝수 8\n",
      "홀수 9\n"
     ]
    }
   ],
   "source": [
    "for i in range(10):\n",
    "    if i % 2 == 0:\n",
    "        print('짝수',i)\n",
    "    elif i % 2 == 1:\n",
    "        print('홀수',i)\n",
    "    else :\n",
    "        print('초기값', i)"
   ]
  },
  {
   "cell_type": "code",
   "execution_count": 24,
   "metadata": {},
   "outputs": [
    {
     "name": "stdout",
     "output_type": "stream",
     "text": [
      "이번에 소개할 기업은 삼성 입니다\n",
      "이번에 소개할 기업은 LG 입니다\n",
      "이번에 소개할 기업은 대우 입니다\n",
      "이번에 소개할 기업은 한진 입니다\n",
      "이번에 소개할 기업은 하림 입니다\n"
     ]
    }
   ],
   "source": [
    "company_list = ['삼성', 'LG', '대우', '한진', '하림']\n",
    "text         = '이번에 소개할 기업은 {} 입니다'\n",
    "\n",
    "for comp in company_list:\n",
    "    print(text.format(comp))"
   ]
  },
  {
   "cell_type": "code",
   "execution_count": 24,
   "metadata": {},
   "outputs": [
    {
     "name": "stdout",
     "output_type": "stream",
     "text": [
      "이번에 소개할 기업은 삼성 입니다\n",
      "이번에 소개할 기업은 LG 입니다\n",
      "이번에 소개할 기업은 대우 입니다\n",
      "이번에 소개할 기업은 한진 입니다\n",
      "이번에 소개할 기업은 하림 입니다\n"
     ]
    }
   ],
   "source": [
    "company_list = ['삼성', 'LG', '대우', '한진', '하림']\n",
    "text         = '이번에 소개할 기업은 {} 입니다'\n",
    "\n",
    "for comp in company_list:\n",
    "    print(text.format(comp))"
   ]
  },
  {
   "cell_type": "markdown",
   "metadata": {},
   "source": [
    "<br>\n",
    "### **03 [list 함수] : for 반복문의 활용 **\n",
    "for 반복실행결과, 여러개의 결과를 출력한다\n",
    "\n",
    "[list Data 선언] 내부에 반복문('for'), 판단문('if')을 사용 가능"
   ]
  },
  {
   "cell_type": "code",
   "execution_count": 25,
   "metadata": {},
   "outputs": [
    {
     "name": "stdout",
     "output_type": "stream",
     "text": [
      "0\n",
      "1\n",
      "2\n",
      "3\n",
      "4\n",
      "5\n",
      "6\n",
      "7\n",
      "8\n",
      "9\n"
     ]
    }
   ],
   "source": [
    "for i in range(10):\n",
    "    print(i)"
   ]
  },
  {
   "cell_type": "code",
   "execution_count": 26,
   "metadata": {},
   "outputs": [
    {
     "data": {
      "text/plain": [
       "[0, 1, 2, 3, 4, 5, 6, 7, 8, 9]"
      ]
     },
     "execution_count": 26,
     "metadata": {},
     "output_type": "execute_result"
    }
   ],
   "source": [
    "result = [i   for i in range(10)]\n",
    "result"
   ]
  },
  {
   "cell_type": "code",
   "execution_count": 27,
   "metadata": {},
   "outputs": [
    {
     "data": {
      "text/plain": [
       "[1, 3, 5, 7, 9]"
      ]
     },
     "execution_count": 27,
     "metadata": {},
     "output_type": "execute_result"
    }
   ],
   "source": [
    "# % : 나머지 값의 조건문\n",
    "result = [i   for i in range(10)  if i%2==1 ]\n",
    "result"
   ]
  },
  {
   "cell_type": "markdown",
   "metadata": {},
   "source": [
    "<br><br>\n",
    "## **3 사용자 함수와 Class**\n",
    "1. def\n",
    "1. class"
   ]
  },
  {
   "cell_type": "markdown",
   "metadata": {},
   "source": [
    "<br>\n",
    "### **01 사용자 함수 기본형태**\n",
    "함수와 매개변수 이해하기"
   ]
  },
  {
   "cell_type": "code",
   "execution_count": 28,
   "metadata": {},
   "outputs": [
    {
     "data": {
      "text/plain": [
       "'100'"
      ]
     },
     "execution_count": 28,
     "metadata": {},
     "output_type": "execute_result"
    }
   ],
   "source": [
    "data = {'한국':'100',\n",
    "        '일본':'40',\n",
    "        '중국':'50', \n",
    "        '미국':'60'}\n",
    "\n",
    "data['한국']"
   ]
  },
  {
   "cell_type": "code",
   "execution_count": 42,
   "metadata": {},
   "outputs": [
    {
     "data": {
      "text/plain": [
       "3"
      ]
     },
     "execution_count": 42,
     "metadata": {},
     "output_type": "execute_result"
    }
   ],
   "source": [
    "def test_sum(a, b):\n",
    "    return a + b\n",
    "\n",
    "test_sum(1, 2)"
   ]
  },
  {
   "cell_type": "code",
   "execution_count": 29,
   "metadata": {},
   "outputs": [
    {
     "data": {
      "text/plain": [
       "'50'"
      ]
     },
     "execution_count": 29,
     "metadata": {},
     "output_type": "execute_result"
    }
   ],
   "source": [
    "# def, 매개변수, \":\", return\n",
    "def score(name):\n",
    "    datum  = {'한국':'100', '일본':'40', '중국':'50', '미국':'60'}\n",
    "    result = datum[name]\n",
    "    return result\n",
    "\n",
    "score('중국')"
   ]
  },
  {
   "cell_type": "code",
   "execution_count": 30,
   "metadata": {},
   "outputs": [
    {
     "data": {
      "text/plain": [
       "140"
      ]
     },
     "execution_count": 30,
     "metadata": {},
     "output_type": "execute_result"
    }
   ],
   "source": [
    "# 매개변수 : 함수를 직접 사용가능\n",
    "def add_the_score(left, right, transform_func):\n",
    "    first  = transform_func(left)\n",
    "    second = transform_func(right)\n",
    "    result = int(first) + int(second)\n",
    "    return result\n",
    "\n",
    "add_the_score('한국', '일본', score) "
   ]
  },
  {
   "cell_type": "markdown",
   "metadata": {},
   "source": [
    "<br>\n",
    "### **02 사용자 함수 만들기**\n",
    "1. 위에서 작업한 내용들을 1개의 함수로 묶는다\n",
    "1. 즉 하청기업에 떠넘김으로써, 중간재 없이 최종 결과만 챙길 수 있다\n",
    "1. 이로써 메모리 및 리소스 를 아낄 수 있다"
   ]
  },
  {
   "cell_type": "code",
   "execution_count": 31,
   "metadata": {},
   "outputs": [
    {
     "data": {
      "text/html": [
       "<div>\n",
       "<style scoped>\n",
       "    .dataframe tbody tr th:only-of-type {\n",
       "        vertical-align: middle;\n",
       "    }\n",
       "\n",
       "    .dataframe tbody tr th {\n",
       "        vertical-align: top;\n",
       "    }\n",
       "\n",
       "    .dataframe thead tr th {\n",
       "        text-align: left;\n",
       "    }\n",
       "\n",
       "    .dataframe thead tr:last-of-type th {\n",
       "        text-align: right;\n",
       "    }\n",
       "</style>\n",
       "<table border=\"1\" class=\"dataframe\">\n",
       "  <thead>\n",
       "    <tr>\n",
       "      <th></th>\n",
       "      <th>연간재무제표(Annual)</th>\n",
       "      <th>Unnamed: 2_level_0</th>\n",
       "      <th>Unnamed: 3_level_0</th>\n",
       "      <th>Unnamed: 4_level_0</th>\n",
       "    </tr>\n",
       "    <tr>\n",
       "      <th></th>\n",
       "      <th>2015.12</th>\n",
       "      <th>2016.12</th>\n",
       "      <th>2017.12</th>\n",
       "      <th>2018.12(E)</th>\n",
       "    </tr>\n",
       "    <tr>\n",
       "      <th>( , 구분)</th>\n",
       "      <th></th>\n",
       "      <th></th>\n",
       "      <th></th>\n",
       "      <th></th>\n",
       "    </tr>\n",
       "  </thead>\n",
       "  <tbody>\n",
       "    <tr>\n",
       "      <th>매출액(억원)</th>\n",
       "      <td>2006535.00</td>\n",
       "      <td>2018667.00</td>\n",
       "      <td>2395754.00</td>\n",
       "      <td>2567911.00</td>\n",
       "    </tr>\n",
       "    <tr>\n",
       "      <th>영업이익(억원)</th>\n",
       "      <td>264134.00</td>\n",
       "      <td>292407.00</td>\n",
       "      <td>536450.00</td>\n",
       "      <td>627334.00</td>\n",
       "    </tr>\n",
       "    <tr>\n",
       "      <th>영업이익율(%)</th>\n",
       "      <td>13.16</td>\n",
       "      <td>14.49</td>\n",
       "      <td>22.39</td>\n",
       "      <td>24.43</td>\n",
       "    </tr>\n",
       "    <tr>\n",
       "      <th>당기순이익(억원)</th>\n",
       "      <td>186946.00</td>\n",
       "      <td>224157.00</td>\n",
       "      <td>413446.00</td>\n",
       "      <td>476344.00</td>\n",
       "    </tr>\n",
       "    <tr>\n",
       "      <th>순이익율(%)</th>\n",
       "      <td>9.32</td>\n",
       "      <td>11.10</td>\n",
       "      <td>17.26</td>\n",
       "      <td>18.55</td>\n",
       "    </tr>\n",
       "    <tr>\n",
       "      <th>자산총계(억원)</th>\n",
       "      <td>2421795.00</td>\n",
       "      <td>2621743.00</td>\n",
       "      <td>3017521.00</td>\n",
       "      <td>0.00</td>\n",
       "    </tr>\n",
       "    <tr>\n",
       "      <th>부채총계(억원)</th>\n",
       "      <td>631197.00</td>\n",
       "      <td>692113.00</td>\n",
       "      <td>872607.00</td>\n",
       "      <td>0.00</td>\n",
       "    </tr>\n",
       "    <tr>\n",
       "      <th>자본총계(억원)</th>\n",
       "      <td>1790598.00</td>\n",
       "      <td>1929630.00</td>\n",
       "      <td>2144914.00</td>\n",
       "      <td>0.00</td>\n",
       "    </tr>\n",
       "    <tr>\n",
       "      <th>유보율(%)</th>\n",
       "      <td>20656.82</td>\n",
       "      <td>21760.77</td>\n",
       "      <td>23681.42</td>\n",
       "      <td>0.00</td>\n",
       "    </tr>\n",
       "    <tr>\n",
       "      <th>ROE</th>\n",
       "      <td>11.16</td>\n",
       "      <td>12.48</td>\n",
       "      <td>21.01</td>\n",
       "      <td>20.76</td>\n",
       "    </tr>\n",
       "    <tr>\n",
       "      <th>PER</th>\n",
       "      <td>9.98</td>\n",
       "      <td>11.41</td>\n",
       "      <td>8.50</td>\n",
       "      <td>6.88</td>\n",
       "    </tr>\n",
       "    <tr>\n",
       "      <th>PBR</th>\n",
       "      <td>1.24</td>\n",
       "      <td>1.56</td>\n",
       "      <td>1.81</td>\n",
       "      <td>1.40</td>\n",
       "    </tr>\n",
       "    <tr>\n",
       "      <th>PSR</th>\n",
       "      <td>0.95</td>\n",
       "      <td>1.31</td>\n",
       "      <td>1.49</td>\n",
       "      <td>0.00</td>\n",
       "    </tr>\n",
       "    <tr>\n",
       "      <th>EPS(원)</th>\n",
       "      <td>126305.00</td>\n",
       "      <td>157967.00</td>\n",
       "      <td>299868.00</td>\n",
       "      <td>357286.00</td>\n",
       "    </tr>\n",
       "    <tr>\n",
       "      <th>BPS(원)</th>\n",
       "      <td>1016129.00</td>\n",
       "      <td>1156530.00</td>\n",
       "      <td>1406276.00</td>\n",
       "      <td>1709175.00</td>\n",
       "    </tr>\n",
       "    <tr>\n",
       "      <th>SPS(원)</th>\n",
       "      <td>1319885.00</td>\n",
       "      <td>1371299.00</td>\n",
       "      <td>1704993.00</td>\n",
       "      <td>0.00</td>\n",
       "    </tr>\n",
       "    <tr>\n",
       "      <th>EBITDA(억원)</th>\n",
       "      <td>0.00</td>\n",
       "      <td>0.00</td>\n",
       "      <td>0.00</td>\n",
       "      <td>0.00</td>\n",
       "    </tr>\n",
       "    <tr>\n",
       "      <th>EV/EBITDA</th>\n",
       "      <td>0.00</td>\n",
       "      <td>0.00</td>\n",
       "      <td>0.00</td>\n",
       "      <td>0.00</td>\n",
       "    </tr>\n",
       "  </tbody>\n",
       "</table>\n",
       "</div>"
      ],
      "text/plain": [
       "           연간재무제표(Annual) Unnamed: 2_level_0 Unnamed: 3_level_0  \\\n",
       "                  2015.12            2016.12            2017.12   \n",
       "( , 구분)                                                           \n",
       "매출액(억원)        2006535.00         2018667.00         2395754.00   \n",
       "영업이익(억원)        264134.00          292407.00          536450.00   \n",
       "영업이익율(%)            13.16              14.49              22.39   \n",
       "당기순이익(억원)       186946.00          224157.00          413446.00   \n",
       "순이익율(%)              9.32              11.10              17.26   \n",
       "자산총계(억원)       2421795.00         2621743.00         3017521.00   \n",
       "부채총계(억원)        631197.00          692113.00          872607.00   \n",
       "자본총계(억원)       1790598.00         1929630.00         2144914.00   \n",
       "유보율(%)           20656.82           21760.77           23681.42   \n",
       "ROE                 11.16              12.48              21.01   \n",
       "PER                  9.98              11.41               8.50   \n",
       "PBR                  1.24               1.56               1.81   \n",
       "PSR                  0.95               1.31               1.49   \n",
       "EPS(원)          126305.00          157967.00          299868.00   \n",
       "BPS(원)         1016129.00         1156530.00         1406276.00   \n",
       "SPS(원)         1319885.00         1371299.00         1704993.00   \n",
       "EBITDA(억원)           0.00               0.00               0.00   \n",
       "EV/EBITDA            0.00               0.00               0.00   \n",
       "\n",
       "           Unnamed: 4_level_0  \n",
       "                   2018.12(E)  \n",
       "( , 구분)                        \n",
       "매출액(억원)            2567911.00  \n",
       "영업이익(억원)            627334.00  \n",
       "영업이익율(%)                24.43  \n",
       "당기순이익(억원)           476344.00  \n",
       "순이익율(%)                 18.55  \n",
       "자산총계(억원)                 0.00  \n",
       "부채총계(억원)                 0.00  \n",
       "자본총계(억원)                 0.00  \n",
       "유보율(%)                   0.00  \n",
       "ROE                     20.76  \n",
       "PER                      6.88  \n",
       "PBR                      1.40  \n",
       "PSR                      0.00  \n",
       "EPS(원)              357286.00  \n",
       "BPS(원)             1709175.00  \n",
       "SPS(원)                   0.00  \n",
       "EBITDA(억원)               0.00  \n",
       "EV/EBITDA                0.00  "
      ]
     },
     "execution_count": 31,
     "metadata": {},
     "output_type": "execute_result"
    }
   ],
   "source": [
    "def finance_table(code):\n",
    "    import numpy as np   \n",
    "    import pandas as pd\n",
    "\n",
    "    df  = pd.read_html(\"http://media.kisline.com/highlight/mainHighlight.nice?nav=1&paper_stock=\" + code)[6]  \n",
    "    df  = df.replace('-',0)\n",
    "    df  = df.set_index(df.columns[0])\n",
    "\n",
    "    for col in df.columns:\n",
    "        df[col] = df[col].apply(lambda x: float(x))\n",
    "    df.iloc[0,:].plot()\n",
    "    df.iloc[1,:].plot()\n",
    "    df.iloc[3,:].plot()\n",
    "    return df\n",
    "\n",
    "finance_table('005930')"
   ]
  },
  {
   "cell_type": "markdown",
   "metadata": {},
   "source": [
    "<br>\n",
    "### **03 사용자 클래스 만들기**\n",
    "1. 함수들을 묶는 집합을 정의 가능하다\n",
    "1. 클래스는 함수와 달리 바로 쓰지 못하고, **'인스턴스'** 중간객체에 클래스 내용을 저장한 뒤 이를 끌어다 사용한다"
   ]
  },
  {
   "cell_type": "code",
   "execution_count": 44,
   "metadata": {},
   "outputs": [
    {
     "data": {
      "text/plain": [
       "3"
      ]
     },
     "execution_count": 44,
     "metadata": {},
     "output_type": "execute_result"
    }
   ],
   "source": [
    "# 1 Type Hinting (파라미터의 타입정보 입력) : Python 3.5 이상에서 지원\n",
    "def test_sum( a:float, b:float ) -> float :\n",
    "    return a + b\n",
    "\n",
    "# Shift + Tab : 함수의 설명을 본다\n",
    "test_sum(1, 2)"
   ]
  },
  {
   "cell_type": "code",
   "execution_count": 32,
   "metadata": {},
   "outputs": [
    {
     "data": {
      "text/plain": [
       "105"
      ]
     },
     "execution_count": 32,
     "metadata": {},
     "output_type": "execute_result"
    }
   ],
   "source": [
    "# (Default) : 객체 매개변수\n",
    "def count_length(word, num):\n",
    "    return len(word) * num\n",
    "\n",
    "count_length(\"korea\",21)"
   ]
  },
  {
   "cell_type": "code",
   "execution_count": 34,
   "metadata": {},
   "outputs": [
    {
     "data": {
      "text/plain": [
       "7"
      ]
     },
     "execution_count": 34,
     "metadata": {},
     "output_type": "execute_result"
    }
   ],
   "source": [
    "# 함수형 매개변수\n",
    "# 1 매개변수로 활용할 함수를 정의\n",
    "def add_plus1(number):\n",
    "    return number + 1\n",
    "\n",
    "# 2 매개변수에 별도표시 없이, \"함수형 매개변수\"를 활용가능\n",
    "def add_with_transform(left, right, transform_func):\n",
    "    return transform_func(left) + transform_func(right)\n",
    "\n",
    "add_with_transform(2, 3, add_plus1)"
   ]
  },
  {
   "cell_type": "code",
   "execution_count": 35,
   "metadata": {},
   "outputs": [
    {
     "name": "stdout",
     "output_type": "stream",
     "text": [
      "8\n"
     ]
    },
    {
     "data": {
      "text/plain": [
       "6"
      ]
     },
     "execution_count": 35,
     "metadata": {},
     "output_type": "execute_result"
    }
   ],
   "source": [
    "# lambda : 익명함수\n",
    "# 별도의 메모리에 저장되지 않아서, 재활용에 용이하다 \n",
    "# 반복적 작업에 상당한 성능효과가 있어서 모든 언어에 다 적용\n",
    "lambda_plus = lambda x : x + 1  \n",
    "\n",
    "print(lambda_plus(7))\n",
    "add_with_transform(1, 3, lambda_plus)"
   ]
  },
  {
   "cell_type": "code",
   "execution_count": 36,
   "metadata": {},
   "outputs": [
    {
     "data": {
      "text/plain": [
       "'Diva'"
      ]
     },
     "execution_count": 36,
     "metadata": {},
     "output_type": "execute_result"
    }
   ],
   "source": [
    "# 클래스 내부 변수설정 및 메서드\n",
    "# 'self' : 인스턴스 생성시 클래스 인스턴스 내부의 전역변수\n",
    "class Diva:\n",
    "    \n",
    "    version = \"corea\"                   # 클래스 내부 매개변수 (재활용 불가능)\n",
    "\n",
    "    def __init__(self, name = \"Diva\"):  # __init__는 인스턴스를 생성않고 초기화를 담당 (보조적 역활)\n",
    "        self.name = name                # self : 인스턴스 생성시 매개변수 (class 내 공유)\n",
    "                                         \n",
    "    def song(self, title = \"song\"):     # 클래스 내부 \"매개변수\"를 재활용\n",
    "        print(self.name + \"  is sing the \" + title)\n",
    "        \n",
    "    def medley(self):\n",
    "        self.song()                     # 클래스 내부 \"함수\"를 재활용\n",
    "        self.song(\"second song\")\n",
    "\n",
    "singer = Diva()\n",
    "singer.name"
   ]
  },
  {
   "cell_type": "code",
   "execution_count": 37,
   "metadata": {},
   "outputs": [
    {
     "data": {
      "text/plain": [
       "'corea'"
      ]
     },
     "execution_count": 37,
     "metadata": {},
     "output_type": "execute_result"
    }
   ],
   "source": [
    "# 클래스 활용\n",
    "singer = Diva(\"Carey\")  # 인스턴스 생성 \n",
    "singer.version          # 인스턴스 매개변수를 호출"
   ]
  },
  {
   "cell_type": "code",
   "execution_count": 38,
   "metadata": {},
   "outputs": [
    {
     "name": "stdout",
     "output_type": "stream",
     "text": [
      "Carey  is sing the song\n",
      "Carey  is sing the World is Beautiful\n"
     ]
    }
   ],
   "source": [
    "singer.song()\n",
    "\n",
    "singer.song(\"World is Beautiful\")"
   ]
  },
  {
   "cell_type": "markdown",
   "metadata": {},
   "source": [
    "<br><br>\n",
    "## **3 마무리**\n",
    "1. 여러객체를 **_순차적으로 담을 수 있는_** [ list ]\n",
    "1. 여러객체를 **_임의의 주소값으로 담을 수 있는_** {dict}\n",
    "1. **_원본 DATABASE에서 추출하여 순차적으로 담긴_** (tuple,)"
   ]
  },
  {
   "cell_type": "code",
   "execution_count": 39,
   "metadata": {},
   "outputs": [],
   "source": [
    "### 복습\n",
    "# len()\n",
    "# type()\n",
    "# int()\n",
    "# float()\n",
    "# str()\n",
    "# list() : {dict}, (tuple) --> [list]\n",
    "# dict() : "
   ]
  },
  {
   "cell_type": "code",
   "execution_count": 40,
   "metadata": {},
   "outputs": [],
   "source": [
    "### 숫자 \n",
    "# integer(정수) : index, slicing, counting\n",
    "# float(실수) : 연산\n",
    "\n",
    "### 문자\n",
    "# 'datum' :  문자와 문자의 사칙연산,  Indexing/ Slicing,  Counting....\n",
    "# data  :  매개변수\n",
    "\n",
    "# [ list ]   :  integer index 값이 숨어있다. (0 ~ -1)\n",
    "# { key : value }"
   ]
  },
  {
   "cell_type": "code",
   "execution_count": 41,
   "metadata": {},
   "outputs": [
    {
     "data": {
      "text/plain": [
       "<matplotlib.axes._subplots.AxesSubplot at 0x7f7c0b5f3c88>"
      ]
     },
     "execution_count": 41,
     "metadata": {},
     "output_type": "execute_result"
    },
    {
     "data": {
      "image/png": "[encoded data removed]",
      "text/plain": [
       "<Figure size 432x288 with 1 Axes>"
      ]
     },
     "metadata": {},
     "output_type": "display_data"
    }
   ],
   "source": [
    "%matplotlib inline\n",
    "# 예고!!!\n",
    "\n",
    "import pandas as pd\n",
    "df  = pd.read_html(\"http://media.kisline.com/highlight/mainHighlight.nice?nav=1&paper_stock=000660\")[6]  \n",
    "df  = df.replace('-',0)\n",
    "df  = df.set_index(df.columns[0])\n",
    "for col in df.columns:\n",
    "    df[col] = [float(i) for i in df[col]]\n",
    "df.head()\n",
    "df.iloc[0,:].plot()\n",
    "df.iloc[1,:].plot()\n",
    "df.iloc[3,:].plot()"
   ]
  }
 ],
 "metadata": {
  "kernelspec": {
   "display_name": "Python 3",
   "language": "python",
   "name": "python3"
  },
  "language_info": {
   "codemirror_mode": {
    "name": "ipython",
    "version": 3
   },
   "file_extension": ".py",
   "mimetype": "text/x-python",
   "name": "python",
   "nbconvert_exporter": "python",
   "pygments_lexer": "ipython3",
   "version": "3.6.3"
  }
 },
 "nbformat": 4,
 "nbformat_minor": 2
}
