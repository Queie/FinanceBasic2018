{
 "cells": [
  {
   "cell_type": "markdown",
   "metadata": {},
   "source": [
    "<br>\n",
    "# ** 8 Python for Finance**\n",
    "파이썬을 활용한 금융분석"
   ]
  },
  {
   "cell_type": "markdown",
   "metadata": {},
   "source": [
    "### **review Data Datum**\n",
    "1. Datum(숫자, \"문자\"), Data([list], {dict}, (tuple,))\n",
    "1. (기본/외부/사용자) 모듈, 함수, 메소드\n",
    "1. []의 문자에서 활용( [index], [:slicing]), 함수를 활용{for : 반복, if :판단, enumerate() :순번 integer 출력}\n",
    "1. 재무제표 Web Crawling ==> type 변경 ==> 시각화\n",
    "1. ndarray, Series, Dataframe"
   ]
  },
  {
   "cell_type": "markdown",
   "metadata": {},
   "source": [
    "### **review Series**\n",
    "1. pd.Series( [ data ] , index = [ index ])\n",
    "1. series 사칙연산\n",
    "1. series [ Boolean 판단문 ]\n",
    "1. series.index = [ list ]\n",
    "1. series.isnull()\n",
    "1. series.drop()"
   ]
  },
  {
   "cell_type": "markdown",
   "metadata": {},
   "source": [
    "### **review DataFrame**\n",
    "1. pd.DataFrame( { columns :  [ data ] , columns :  [ data ] } )\n",
    "1. pd.to_datetime()\n",
    "1. df.rename( columns = { 기존 column , 새로운 column } )\n",
    "1. df.insert( 컬럼순서,  컬럼명 ,  data )\n",
    "1. df.column이름 &nbsp; | &nbsp; df['column이름']\n",
    "1. df [ index Slicing ]\n",
    "1. df.iloc[ index slicing,  column slicing ]\n",
    "1. df.reset_index()        :  index  -> column\n",
    "1. df.set_index( '컬럼명' ) :  column -> index\n",
    "1. df.sort_index()\n",
    "1. df.sort_value()\n",
    "1. df[ boolean 함수 ]\n",
    "1. df[ boolean 함수 ].column이름\n",
    "1. axis = 0 : index | axis = 1 : column\n",
    "1. df.drop( 'index이름'  , axis = 0 )\n",
    "1. df.drop( 'column이름' ,  axis = 1 )\n",
    "1. df.index.tolist()\n",
    "1. df.column.tolist()\n",
    "1. df.apply(lambda x: x ** 2)  \n",
    "1. pd.pivot_table(df,index = [], values = [], aggfunc = [], margins = True)"
   ]
  },
  {
   "cell_type": "markdown",
   "metadata": {},
   "source": [
    "### **review DataFrame static**\n",
    "1. .count()\n",
    "1. .describe()\n",
    "1. .min()     .max()\n",
    "1. .idxmin()  .idxmax()\n",
    "1. .quantile()   \n",
    "1. .sum()\n",
    "1. .mean()    .median()\n",
    "1. .var() 분산 .std() 정규분산\n",
    "1. .cumsum()  .cumprod()  누적 합    누적 곱\n",
    "1. .cummin()  .cummax()   누적최소값, 누적최대값"
   ]
  },
  {
   "cell_type": "markdown",
   "metadata": {},
   "source": [
    "### **review Series & DataFrame 결측치 제어하기**\n",
    "1. df.dropna()\n",
    "1. df.fillna(method='ffill',  limit=2)  # 결측치 대체\n",
    "1. df.fillna(df.mean()['컬럼명'])   \n",
    "1. Series.interpolate(method='time')    # 결측치 보간 (시계열적 특성을 부여가능)\n",
    "1. Series.interpolate(method='values', limit=1, limit_direction='backward') # 'forward','backward','both'"
   ]
  },
  {
   "cell_type": "markdown",
   "metadata": {},
   "source": [
    "### **review &nbsp; map, reduce, lambda, filter**\n",
    "1. map & lambda : map(lambda x : str(x), [list])\n",
    "1. map & lambda : list(map(lambda x : str(x), [list]))\n",
    "1. map & lambda : <strike>[ map(lambda x : str(x), data) ]</strike>\n",
    "1. Series & lambda : Series.apply(lambda x : str(x))\n",
    "1. filter & lambda : list(filter(lambda x : x % 2 == 0,  data))\n",
    "1. <strike>filter</strike> & DataFrame : DataFrame[ Series % 2 == 0 ]\n",
    "1. reduce & lambda : reduce(lambda x, y: x+y, [1, 2, 3, 4, 5])      # 데이터 차원축소"
   ]
  },
  {
   "cell_type": "markdown",
   "metadata": {},
   "source": [
    "### **review &nbsp; TimeSeries**\n",
    "1. from datetime import datetime\n",
    "1. pandas.date_range(end = '2017-07-01', periods=30, freq='BM')  \n",
    "1. pandas.date_range('2017/8/8 09:09:09', periods=5, normalize=True)\n",
    "1. [str(date.date()) &nbsp;&nbsp; for &nbsp;&nbsp; date &nbsp;&nbsp; in &nbsp;&nbsp; pd.date_range('2017/01/01', '2017/01/11')]"
   ]
  },
  {
   "cell_type": "markdown",
   "metadata": {},
   "source": [
    "### **review &nbsp; Matplotlib**\n",
    "1. DataFrame.loc['시작날짜':'종료날짜', :] : 주소 이름을 활용하여 인덱싱\n",
    "1. DataFrame.iloc[1:10, : ] # 주소값으로 인덱싱\n",
    "1. Series.plot(kind='line')  **# 'bar'**\n",
    "1. Series.resample().plot()\n",
    "1. Series.rolling().plot()\n",
    "1. Series.ix['2018-01':'2018-03'].plot()\n",
    "1. plt.figure(figsize=(,)); &nbsp;&nbsp; plt.plot(x축,y축,lw=1.5,label=); &nbsp;&nbsp; plt.legend(loc=); &nbsp;&nbsp; plt.show()\n",
    "1. plt.figure(figsize=(,)); &nbsp;&nbsp; plt.subplot(121); &nbsp;&nbsp; plt.plot(); &nbsp;&nbsp; plt.subplot(122); &nbsp;&nbsp; plt.plot(); &nbsp;&nbsp; plot.show()\n"
   ]
  },
  {
   "cell_type": "markdown",
   "metadata": {},
   "source": [
    "### **review &nbsp; bs4**\n",
    "1. soup = BeautifulSoup(html_doc, 'lxml')\n",
    "1. soup.tags.attrs &nbsp; | &nbsp; soup.tags.attrs() \n",
    "1. soup.tags.contents\n",
    "1. soup.tags.string.replacewith()\n",
    "1. soup.find('tag명') &nbsp; | &nbsp; soup.find_all('tag명')\n",
    "1. soup.find_all('a')[0].get_text()\n",
    "1. soup.find_all('태그',{'class':\"클래스 속성\"})\n",
    "1. soup.find_all('태그', {'class':re.compile('속성명 일부')})\n",
    "1. soup.body.descendants &nbsp; | &nbsp; soup.p.string.parent"
   ]
  },
  {
   "cell_type": "markdown",
   "metadata": {},
   "source": [
    "### **review &nbsp; lxml**\n",
    "1. XPath 는 'query language'로써 XML의 nodes 들을 선택하는데 용이\n",
    "1. **'\\\\'** 와 **'\\\\\\\\'** 의 기능을 구분\n",
    "1. from &nbsp; lxml.html &nbsp; import &nbsp; fromstring\n",
    "1. fromstring(response.text).xpath(\"/html/body/div/h1\")[0]"
   ]
  },
  {
   "cell_type": "markdown",
   "metadata": {},
   "source": [
    "### **Notes Numpy**\n",
    "1. np.linspace()   : 시작점과 끝점을 균일 간격으로 나눈 점들을 생성\n",
    "1. from scipy import stats\n",
    "1. slope, intercept, r_value, p_value, std_err = stats.linregress(x,np.polyval(reg, x))"
   ]
  },
  {
   "cell_type": "markdown",
   "metadata": {},
   "source": [
    "<br><br>\n",
    "## <strong>1 시계열과 시계열 데이터 보간법\n",
    "pandas를 활용한 데이터 정렬 및 보간법"
   ]
  },
  {
   "cell_type": "markdown",
   "metadata": {},
   "source": [
    "<br>\n",
    "### <strong>01 KOSPI 지수와 구성종목 연산\n",
    "1. Nan 등 데이터 전처리"
   ]
  },
  {
   "cell_type": "code",
   "execution_count": 1,
   "metadata": {},
   "outputs": [
    {
     "data": {
      "text/html": [
       "<div>\n",
       "<style scoped>\n",
       "    .dataframe tbody tr th:only-of-type {\n",
       "        vertical-align: middle;\n",
       "    }\n",
       "\n",
       "    .dataframe tbody tr th {\n",
       "        vertical-align: top;\n",
       "    }\n",
       "\n",
       "    .dataframe thead th {\n",
       "        text-align: right;\n",
       "    }\n",
       "</style>\n",
       "<table border=\"1\" class=\"dataframe\">\n",
       "  <thead>\n",
       "    <tr style=\"text-align: right;\">\n",
       "      <th></th>\n",
       "      <th>code</th>\n",
       "      <th>open</th>\n",
       "      <th>high</th>\n",
       "      <th>low</th>\n",
       "      <th>close</th>\n",
       "      <th>volume</th>\n",
       "    </tr>\n",
       "    <tr>\n",
       "      <th>date</th>\n",
       "      <th></th>\n",
       "      <th></th>\n",
       "      <th></th>\n",
       "      <th></th>\n",
       "      <th></th>\n",
       "      <th></th>\n",
       "    </tr>\n",
       "  </thead>\n",
       "  <tbody>\n",
       "    <tr>\n",
       "      <th>2014-04-07</th>\n",
       "      <td>KRX:005930</td>\n",
       "      <td>1397000.0</td>\n",
       "      <td>1397000.0</td>\n",
       "      <td>1374000.0</td>\n",
       "      <td>1397000.0</td>\n",
       "      <td>214199</td>\n",
       "    </tr>\n",
       "    <tr>\n",
       "      <th>2014-04-08</th>\n",
       "      <td>KRX:005930</td>\n",
       "      <td>1387000.0</td>\n",
       "      <td>1399000.0</td>\n",
       "      <td>1375000.0</td>\n",
       "      <td>1394000.0</td>\n",
       "      <td>211705</td>\n",
       "    </tr>\n",
       "  </tbody>\n",
       "</table>\n",
       "</div>"
      ],
      "text/plain": [
       "                  code       open       high        low      close  volume\n",
       "date                                                                      \n",
       "2014-04-07  KRX:005930  1397000.0  1397000.0  1374000.0  1397000.0  214199\n",
       "2014-04-08  KRX:005930  1387000.0  1399000.0  1375000.0  1394000.0  211705"
      ]
     },
     "execution_count": 1,
     "metadata": {},
     "output_type": "execute_result"
    }
   ],
   "source": [
    "import numpy as np\n",
    "import pandas as pd\n",
    "from googlefinance.get import get_data\n",
    "\n",
    "codes = ['KRX:005930','KRX:000660','NYSE:GM','NYSE:KO']\n",
    "data = get_data(codes, period='4Y')\n",
    "data.head(2)"
   ]
  },
  {
   "cell_type": "code",
   "execution_count": 2,
   "metadata": {},
   "outputs": [
    {
     "data": {
      "text/html": [
       "<div>\n",
       "<style scoped>\n",
       "    .dataframe tbody tr th:only-of-type {\n",
       "        vertical-align: middle;\n",
       "    }\n",
       "\n",
       "    .dataframe tbody tr th {\n",
       "        vertical-align: top;\n",
       "    }\n",
       "\n",
       "    .dataframe thead th {\n",
       "        text-align: right;\n",
       "    }\n",
       "</style>\n",
       "<table border=\"1\" class=\"dataframe\">\n",
       "  <thead>\n",
       "    <tr style=\"text-align: right;\">\n",
       "      <th></th>\n",
       "      <th>KRX:005930</th>\n",
       "      <th>NYSE:GM</th>\n",
       "      <th>NYSE:KO</th>\n",
       "      <th>KRX:000660</th>\n",
       "    </tr>\n",
       "    <tr>\n",
       "      <th>date</th>\n",
       "      <th></th>\n",
       "      <th></th>\n",
       "      <th></th>\n",
       "      <th></th>\n",
       "    </tr>\n",
       "  </thead>\n",
       "  <tbody>\n",
       "    <tr>\n",
       "      <th>2014-04-08</th>\n",
       "      <td>1394000.0</td>\n",
       "      <td>34.11</td>\n",
       "      <td>38.62</td>\n",
       "      <td>36750.0</td>\n",
       "    </tr>\n",
       "    <tr>\n",
       "      <th>2014-04-09</th>\n",
       "      <td>1371000.0</td>\n",
       "      <td>34.53</td>\n",
       "      <td>38.90</td>\n",
       "      <td>37650.0</td>\n",
       "    </tr>\n",
       "    <tr>\n",
       "      <th>2014-04-10</th>\n",
       "      <td>1380000.0</td>\n",
       "      <td>33.62</td>\n",
       "      <td>38.99</td>\n",
       "      <td>37700.0</td>\n",
       "    </tr>\n",
       "  </tbody>\n",
       "</table>\n",
       "</div>"
      ],
      "text/plain": [
       "            KRX:005930  NYSE:GM  NYSE:KO  KRX:000660\n",
       "date                                                \n",
       "2014-04-08   1394000.0    34.11    38.62     36750.0\n",
       "2014-04-09   1371000.0    34.53    38.90     37650.0\n",
       "2014-04-10   1380000.0    33.62    38.99     37700.0"
      ]
     },
     "execution_count": 2,
     "metadata": {},
     "output_type": "execute_result"
    }
   ],
   "source": [
    "from googlefinance.get import get_colume\n",
    "prices = get_colume(data, output='close')\n",
    "prices = prices.fillna(method='ffill')     # 중간에 Nan이 존재시, 직전의 가격을 덧붙인다\n",
    "prices = prices.dropna()                   # 앞부분이 비면 삭제한다\n",
    "prices.head(3)"
   ]
  },
  {
   "cell_type": "code",
   "execution_count": 3,
   "metadata": {},
   "outputs": [
    {
     "data": {
      "text/html": [
       "<div>\n",
       "<style scoped>\n",
       "    .dataframe tbody tr th:only-of-type {\n",
       "        vertical-align: middle;\n",
       "    }\n",
       "\n",
       "    .dataframe tbody tr th {\n",
       "        vertical-align: top;\n",
       "    }\n",
       "\n",
       "    .dataframe thead th {\n",
       "        text-align: right;\n",
       "    }\n",
       "</style>\n",
       "<table border=\"1\" class=\"dataframe\">\n",
       "  <thead>\n",
       "    <tr style=\"text-align: right;\">\n",
       "      <th></th>\n",
       "      <th>KRX:005930</th>\n",
       "      <th>NYSE:GM</th>\n",
       "      <th>NYSE:KO</th>\n",
       "      <th>KRX:000660</th>\n",
       "    </tr>\n",
       "    <tr>\n",
       "      <th>date</th>\n",
       "      <th></th>\n",
       "      <th></th>\n",
       "      <th></th>\n",
       "      <th></th>\n",
       "    </tr>\n",
       "  </thead>\n",
       "  <tbody>\n",
       "    <tr>\n",
       "      <th>2014-04-08</th>\n",
       "      <td>211705.0</td>\n",
       "      <td>24348132.0</td>\n",
       "      <td>17295654.0</td>\n",
       "      <td>2160940.0</td>\n",
       "    </tr>\n",
       "    <tr>\n",
       "      <th>2014-04-09</th>\n",
       "      <td>319538.0</td>\n",
       "      <td>20615564.0</td>\n",
       "      <td>14770515.0</td>\n",
       "      <td>2738200.0</td>\n",
       "    </tr>\n",
       "    <tr>\n",
       "      <th>2014-04-10</th>\n",
       "      <td>198164.0</td>\n",
       "      <td>33165365.0</td>\n",
       "      <td>12031360.0</td>\n",
       "      <td>1926910.0</td>\n",
       "    </tr>\n",
       "  </tbody>\n",
       "</table>\n",
       "</div>"
      ],
      "text/plain": [
       "            KRX:005930     NYSE:GM     NYSE:KO  KRX:000660\n",
       "date                                                      \n",
       "2014-04-08    211705.0  24348132.0  17295654.0   2160940.0\n",
       "2014-04-09    319538.0  20615564.0  14770515.0   2738200.0\n",
       "2014-04-10    198164.0  33165365.0  12031360.0   1926910.0"
      ]
     },
     "execution_count": 3,
     "metadata": {},
     "output_type": "execute_result"
    }
   ],
   "source": [
    "volume = get_colume(data, output='volume')\n",
    "volume = volume.fillna(method='ffill')   # 중간에 Nan이 존재시, 직전의 가격을 덧붙인다\n",
    "volume = volume.dropna()             # 앞부분이 비면 삭제한다\n",
    "volume.head(3)"
   ]
  },
  {
   "cell_type": "code",
   "execution_count": 4,
   "metadata": {},
   "outputs": [
    {
     "data": {
      "text/plain": [
       "KRX:005930    1659573.597\n",
       "NYSE:GM            34.557\n",
       "NYSE:KO            42.685\n",
       "KRX:000660      49784.109\n",
       "dtype: float64"
      ]
     },
     "execution_count": 4,
     "metadata": {},
     "output_type": "execute_result"
    }
   ],
   "source": [
    "# target : 해당 종목들의 평균가를 계산\n",
    "# 테이블의 크기와 Index/ columns 가 일치하면, 테이블간의 계산이 쉽게 가능하다\n",
    "vwap = round((prices * volume).sum() / volume.sum(), 3)\n",
    "vwap"
   ]
  },
  {
   "cell_type": "code",
   "execution_count": 5,
   "metadata": {},
   "outputs": [
    {
     "data": {
      "text/plain": [
       "(            KRX:005930  NYSE:GM  NYSE:KO  KRX:000660\n",
       " date                                                \n",
       " 2014-04-08   1394000.0    34.11    38.62     36750.0\n",
       " 2014-04-09   1371000.0    34.53    38.90     37650.0\n",
       " 2014-04-10   1380000.0    33.62    38.99     37700.0\n",
       " 2014-04-11   1365000.0    33.30    38.89     37050.0\n",
       " 2014-04-12   1365000.0    31.93    38.63     37050.0\n",
       " 2014-04-14   1370000.0    31.93    38.63     36900.0\n",
       " 2014-04-15   1370000.0    32.55    38.73     37400.0\n",
       " 2014-04-16   1380000.0    33.36    40.18     37650.0\n",
       " 2014-04-17   1370000.0    33.97    40.59     38050.0\n",
       " 2014-04-18   1378000.0    33.98    40.72     39200.0\n",
       " 2014-04-21   1380000.0    33.98    40.72     39400.0\n",
       " 2014-04-22   1375000.0    33.98    40.75     39800.0\n",
       " 2014-04-23   1389000.0    34.23    40.71     40750.0\n",
       " 2014-04-24   1407000.0    34.39    40.73     40900.0\n",
       " 2014-04-25   1399000.0    34.17    40.70     40750.0\n",
       " 2014-04-26   1399000.0    33.72    41.01     40750.0\n",
       " 2014-04-28   1388000.0    33.72    41.01     40500.0\n",
       " 2014-04-29   1360000.0    33.76    41.03     39700.0\n",
       " 2014-04-30   1343000.0    33.99    40.57     40150.0\n",
       " 2014-05-01   1343000.0    34.48    40.79     40150.0\n",
       " 2014-05-02   1346000.0    34.90    40.78     40650.0\n",
       " 2014-05-03   1346000.0    34.97    40.95     40650.0\n",
       " 2014-05-06   1346000.0    34.75    40.76     40650.0\n",
       " 2014-05-07   1344000.0    34.75    40.49     41100.0\n",
       " 2014-05-08   1350000.0    35.07    40.91     40650.0\n",
       " 2014-05-09   1335000.0    34.85    40.73     41150.0\n",
       " 2014-05-10   1335000.0    34.23    40.87     41150.0\n",
       " 2014-05-12   1388000.0    34.23    40.87     41400.0\n",
       " 2014-05-13   1400000.0    34.82    40.82     41700.0\n",
       " 2014-05-14   1415000.0    35.15    41.11     42100.0\n",
       " ...                ...      ...      ...         ...\n",
       " 2018-03-02   2301000.0    37.79    43.43     77400.0\n",
       " 2018-03-03   2301000.0    37.43    43.72     77400.0\n",
       " 2018-03-05   2260000.0    37.43    43.72     78300.0\n",
       " 2018-03-06   2351000.0    37.74    43.89     82400.0\n",
       " 2018-03-07   2431000.0    37.93    43.93     82700.0\n",
       " 2018-03-08   2460000.0    37.74    43.82     83500.0\n",
       " 2018-03-09   2487000.0    37.84    44.45     83300.0\n",
       " 2018-03-10   2487000.0    37.84    44.82     83300.0\n",
       " 2018-03-12   2487000.0    37.84    44.82     84900.0\n",
       " 2018-03-13   2583000.0    37.83    44.53     90000.0\n",
       " 2018-03-14   2588000.0    38.01    44.57     90700.0\n",
       " 2018-03-15   2577000.0    37.69    43.78     89600.0\n",
       " 2018-03-16   2557000.0    37.85    43.67     89800.0\n",
       " 2018-03-17   2557000.0    37.94    43.46     89800.0\n",
       " 2018-03-19   2537000.0    37.94    43.46     89900.0\n",
       " 2018-03-20   2560000.0    37.01    43.26     89600.0\n",
       " 2018-03-21   2553000.0    36.89    43.16     88400.0\n",
       " 2018-03-22   2589000.0    37.58    43.00     88600.0\n",
       " 2018-03-23   2486000.0    36.35    42.76     83100.0\n",
       " 2018-03-24   2486000.0    35.17    42.33     83100.0\n",
       " 2018-03-26   2514000.0    35.17    42.33     84000.0\n",
       " 2018-03-27   2499000.0    35.99    42.69     81400.0\n",
       " 2018-03-28   2435000.0    34.87    42.89     80300.0\n",
       " 2018-03-29   2452000.0    35.47    43.32     80300.0\n",
       " 2018-03-30   2461000.0    36.34    43.43     81300.0\n",
       " 2018-04-02   2427000.0    36.34    43.43     81300.0\n",
       " 2018-04-03   2406000.0    35.76    42.67     81800.0\n",
       " 2018-04-04   2346000.0    36.94    43.38     80400.0\n",
       " 2018-04-05   2437000.0    38.03    44.24     82900.0\n",
       " 2018-04-06   2437000.0    38.00    44.40     82900.0\n",
       " \n",
       " [1229 rows x 4 columns],\n",
       "             KRX:005930     NYSE:GM     NYSE:KO  KRX:000660\n",
       " date                                                      \n",
       " 2014-04-08    211705.0  24348132.0  17295654.0   2160940.0\n",
       " 2014-04-09    319538.0  20615564.0  14770515.0   2738200.0\n",
       " 2014-04-10    198164.0  33165365.0  12031360.0   1926910.0\n",
       " 2014-04-11    210119.0  34304923.0  21025736.0   2645110.0\n",
       " 2014-04-12    210119.0  45765198.0  18085746.0   2645110.0\n",
       " 2014-04-14    184003.0  45765198.0  18085746.0   1662620.0\n",
       " 2014-04-15    217282.0  18759667.0  19389800.0   2493350.0\n",
       " 2014-04-16    184216.0  23450944.0  47529158.0   2260970.0\n",
       " 2014-04-17    144637.0  18140840.0  21926145.0   2454750.0\n",
       " 2014-04-18    155164.0  12351182.0  18547111.0   6186670.0\n",
       " 2014-04-21     63681.0  12351182.0  18547111.0   1968600.0\n",
       " 2014-04-22    121524.0   9909362.0  12630881.0   4409690.0\n",
       " 2014-04-23    188868.0  12291646.0  17405459.0   6274570.0\n",
       " 2014-04-24    209530.0  16065667.0  12072454.0   4170300.0\n",
       " 2014-04-25    303875.0  33352352.0  11401621.0   3390480.0\n",
       " 2014-04-26    303875.0  16032786.0  16811384.0   3390480.0\n",
       " 2014-04-28    188408.0  16032786.0  16811384.0   2953680.0\n",
       " 2014-04-29    217646.0  20175895.0  20736717.0   2750970.0\n",
       " 2014-04-30    300427.0  12088525.0  18928395.0   2271410.0\n",
       " 2014-05-01    300427.0  14037765.0  12361992.0   2271410.0\n",
       " 2014-05-02    274613.0  19572572.0  15385753.0   3353760.0\n",
       " 2014-05-03    274613.0  11397359.0  14197753.0   3353760.0\n",
       " 2014-05-06    274613.0   8449087.0  10164164.0   3353760.0\n",
       " 2014-05-07    282384.0  10114725.0   9359857.0   2552470.0\n",
       " 2014-05-08    268937.0   9271172.0  11115932.0   2216210.0\n",
       " 2014-05-09    262749.0  10252162.0   8538993.0   2249540.0\n",
       " 2014-05-10    262749.0  16803486.0   8516358.0   2249540.0\n",
       " 2014-05-12    318059.0  16803486.0   8516358.0   1975130.0\n",
       " 2014-05-13    241902.0   9499126.0   8906010.0   2551950.0\n",
       " 2014-05-14    220222.0   9048317.0  11579715.0   2777730.0\n",
       " ...                ...         ...         ...         ...\n",
       " 2018-03-02    261086.0  26183081.0  17746825.0   2663105.0\n",
       " 2018-03-03    261086.0  24060510.0  14050081.0   2663105.0\n",
       " 2018-03-05    264434.0  24060510.0  14050081.0   3399328.0\n",
       " 2018-03-06    302359.0  12011053.0  11992712.0   7547889.0\n",
       " 2018-03-07    423913.0  12168468.0  10010478.0   4939053.0\n",
       " 2018-03-08    388099.0  15052041.0  10881683.0   4410114.0\n",
       " 2018-03-09    284031.0  13096731.0  12361100.0   5115047.0\n",
       " 2018-03-10    284031.0  12272186.0   9778643.0   5115047.0\n",
       " 2018-03-12    172534.0  12272186.0   9778643.0   2733695.0\n",
       " 2018-03-13    400497.0  11344739.0  11831983.0   8587185.0\n",
       " 2018-03-14    249716.0  12406428.0  11342136.0   5627138.0\n",
       " 2018-03-15    172335.0  13364043.0  15321218.0   4076614.0\n",
       " 2018-03-16    241536.0   8140097.0  12456712.0   4985163.0\n",
       " 2018-03-17    241536.0  10191299.0  26350860.0   4985163.0\n",
       " 2018-03-19    163655.0  10191299.0  26350860.0   3708694.0\n",
       " 2018-03-20    159661.0  12103147.0  12380290.0   3068295.0\n",
       " 2018-03-21    166135.0   8494780.0  13559805.0   2921838.0\n",
       " 2018-03-22    164715.0  11568419.0  13053980.0   2676123.0\n",
       " 2018-03-23    292968.0  15155039.0  12274085.0   7239637.0\n",
       " 2018-03-24    292968.0  13234021.0  13475205.0   7239637.0\n",
       " 2018-03-26    200141.0  13234021.0  13475205.0   6070194.0\n",
       " 2018-03-27    236368.0   9320238.0  11276082.0   7125468.0\n",
       " 2018-03-28    297042.0  17673329.0  11627041.0   4764265.0\n",
       " 2018-03-29    192863.0  17905723.0  16277393.0   3571283.0\n",
       " 2018-03-30    153878.0  13049780.0  10450497.0   3642170.0\n",
       " 2018-04-02    141283.0  13049780.0  10450497.0   2321840.0\n",
       " 2018-04-03    252995.0  13909058.0  14207925.0   3528980.0\n",
       " 2018-04-04    244914.0  15833314.0  15484644.0   2871277.0\n",
       " 2018-04-05    264245.0  17014051.0  13563321.0   3234261.0\n",
       " 2018-04-06    264245.0  11885381.0  11707816.0   3234261.0\n",
       " \n",
       " [1229 rows x 4 columns])"
      ]
     },
     "execution_count": 5,
     "metadata": {},
     "output_type": "execute_result"
    }
   ],
   "source": [
    "# (prices 데이터 프레임과, volume 데이터 프레임을 튜플로 묶는다)\n",
    "prices.align(volume, join='inner')"
   ]
  },
  {
   "cell_type": "markdown",
   "metadata": {},
   "source": [
    "<br>\n",
    "### <strong>02 다른 빈도를 갖는 시계열 연산\n",
    "1. resample : 데이터를 고정 빈도로 변환\n",
    "1. reindex : 데이터를 새로운 색인으로 합친다\n",
    "1. 두 방법 모두 보간법을 지원한다"
   ]
  },
  {
   "cell_type": "code",
   "execution_count": 6,
   "metadata": {},
   "outputs": [
    {
     "data": {
      "text/plain": [
       "2018-02-07    0.099838\n",
       "2018-02-14   -1.268559\n",
       "2018-02-21   -0.772462\n",
       "Freq: W-WED, dtype: float64"
      ]
     },
     "execution_count": 6,
     "metadata": {},
     "output_type": "execute_result"
    }
   ],
   "source": [
    "# 매주 수요일을, 3주 데이터 생성\n",
    "ts1 = pd.Series(np.random.randn(3),\n",
    "               index=pd.date_range('2018-02-01', periods=3, freq='W-WED'))\n",
    "ts1"
   ]
  },
  {
   "cell_type": "markdown",
   "metadata": {},
   "source": [
    "<br>\n",
    "### **.resample()** : 데이터를 고정 빈도로 변환\n",
    "낮은 빈도 데이터를 상위 빈도로 변환 보간법 : **UpScaling**"
   ]
  },
  {
   "cell_type": "code",
   "execution_count": 7,
   "metadata": {},
   "outputs": [
    {
     "data": {
      "text/plain": [
       "DatetimeIndexResampler [freq=<BusinessDay>, axis=0, closed=left, label=left, convention=start, base=0]"
      ]
     },
     "execution_count": 7,
     "metadata": {},
     "output_type": "execute_result"
    }
   ],
   "source": [
    "# .resample() Date의 보간법\n",
    "# 뒤에 보간방법을 정의해야 한다\n",
    "ts1.resample('B')"
   ]
  },
  {
   "cell_type": "code",
   "execution_count": 8,
   "metadata": {},
   "outputs": [
    {
     "data": {
      "text/plain": [
       "2018-02-07    0.099838\n",
       "2018-02-08    0.099838\n",
       "2018-02-09    0.099838\n",
       "2018-02-12    0.099838\n",
       "2018-02-13    0.099838\n",
       "2018-02-14   -1.268559\n",
       "2018-02-15   -1.268559\n",
       "2018-02-16   -1.268559\n",
       "2018-02-19   -1.268559\n",
       "2018-02-20   -1.268559\n",
       "2018-02-21   -0.772462\n",
       "Freq: B, dtype: float64"
      ]
     },
     "execution_count": 8,
     "metadata": {},
     "output_type": "execute_result"
    }
   ],
   "source": [
    "# .resample() Date의 보간법\n",
    "ts1.resample('B').ffill()"
   ]
  },
  {
   "cell_type": "code",
   "execution_count": 9,
   "metadata": {},
   "outputs": [
    {
     "data": {
      "text/plain": [
       "2018-02-07    0.099838\n",
       "2018-02-08   -1.268559\n",
       "2018-02-09   -1.268559\n",
       "2018-02-12   -1.268559\n",
       "2018-02-13   -1.268559\n",
       "2018-02-14   -1.268559\n",
       "2018-02-15   -0.772462\n",
       "2018-02-16   -0.772462\n",
       "2018-02-19   -0.772462\n",
       "2018-02-20   -0.772462\n",
       "2018-02-21   -0.772462\n",
       "Freq: B, dtype: float64"
      ]
     },
     "execution_count": 9,
     "metadata": {},
     "output_type": "execute_result"
    }
   ],
   "source": [
    "# .resample() Date의 보간법\n",
    "ts1 = ts1.resample('B').bfill()\n",
    "ts1"
   ]
  },
  {
   "cell_type": "markdown",
   "metadata": {},
   "source": [
    "<br>\n",
    "### **.reindex()** : 새로운 날짜 색인을 적용하여 변환\n",
    "보간법 : **UpScaling**"
   ]
  },
  {
   "cell_type": "code",
   "execution_count": 10,
   "metadata": {},
   "outputs": [
    {
     "data": {
      "text/plain": [
       "2018-02-02   -0.138228\n",
       "2018-02-09    0.268815\n",
       "2018-02-12   -0.396980\n",
       "2018-02-21    1.023463\n",
       "2018-02-23   -0.529494\n",
       "2018-02-28    0.180676\n",
       "dtype: float64"
      ]
     },
     "execution_count": 10,
     "metadata": {},
     "output_type": "execute_result"
    }
   ],
   "source": [
    "dates = pd.DatetimeIndex(['2018-02-02', '2018-02-09', '2018-02-12',\n",
    "                          '2018-02-21', '2018-02-23', '2018-02-28'])\n",
    "ts2 = pd.Series(np.random.randn(6), index=dates)\n",
    "ts2"
   ]
  },
  {
   "cell_type": "code",
   "execution_count": 11,
   "metadata": {},
   "outputs": [
    {
     "data": {
      "text/plain": [
       "2018-02-02   -1.268559\n",
       "2018-02-09   -1.268559\n",
       "2018-02-12   -1.268559\n",
       "2018-02-21   -0.772462\n",
       "2018-02-23         NaN\n",
       "2018-02-28         NaN\n",
       "dtype: float64"
      ]
     },
     "execution_count": 11,
     "metadata": {},
     "output_type": "execute_result"
    }
   ],
   "source": [
    "ts1.reindex(ts2.index).bfill()"
   ]
  },
  {
   "cell_type": "code",
   "execution_count": 12,
   "metadata": {},
   "outputs": [
    {
     "data": {
      "text/plain": [
       "2018-02-02         NaN\n",
       "2018-02-09   -0.999744\n",
       "2018-02-12   -1.665539\n",
       "2018-02-21    0.251001\n",
       "2018-02-23   -1.301956\n",
       "2018-02-28   -0.591786\n",
       "dtype: float64"
      ]
     },
     "execution_count": 12,
     "metadata": {},
     "output_type": "execute_result"
    }
   ],
   "source": [
    "ts2 + ts1.reindex(ts2.index, method='ffill')"
   ]
  },
  {
   "cell_type": "markdown",
   "metadata": {},
   "source": [
    "<br>\n",
    "### **03 Period** 를 사용한 보간법\n",
    "연간, 분기별 데이터를 정리하는 특별양식에  적용하는 경우"
   ]
  },
  {
   "cell_type": "code",
   "execution_count": 13,
   "metadata": {},
   "outputs": [
    {
     "data": {
      "text/plain": [
       "2017Q2    1.78\n",
       "2017Q3    1.94\n",
       "2017Q4    2.08\n",
       "2018Q1    2.01\n",
       "2018Q2    2.15\n",
       "2018Q3    2.31\n",
       "2018Q4    2.46\n",
       "Freq: Q-SEP, dtype: float64"
      ]
     },
     "execution_count": 13,
     "metadata": {},
     "output_type": "execute_result"
    }
   ],
   "source": [
    "# 회계 마감이 9월인 분기별 이익자료를 생성\n",
    "gdp = pd.Series([1.78, 1.94, 2.08, 2.01, 2.15, 2.31, 2.46],\n",
    "               index=pd.period_range('2017Q2', periods=7, freq='Q-SEP'))\n",
    "gdp"
   ]
  },
  {
   "cell_type": "code",
   "execution_count": 14,
   "metadata": {},
   "outputs": [
    {
     "data": {
      "text/plain": [
       "2016    0.025\n",
       "2017    0.045\n",
       "2018    0.037\n",
       "2019    0.040\n",
       "Freq: A-DEC, dtype: float64"
      ]
     },
     "execution_count": 14,
     "metadata": {},
     "output_type": "execute_result"
    }
   ],
   "source": [
    "inf1 = pd.Series([0.025, 0.045, 0.037, 0.04],\n",
    "                index = pd.period_range('2016', periods = 4, freq = 'A-DEC'))\n",
    "inf1"
   ]
  },
  {
   "cell_type": "code",
   "execution_count": 15,
   "metadata": {},
   "outputs": [
    {
     "data": {
      "text/plain": [
       "2017Q1    0.025\n",
       "2018Q1    0.045\n",
       "2019Q1    0.037\n",
       "2020Q1    0.040\n",
       "Freq: Q-SEP, dtype: float64"
      ]
     },
     "execution_count": 15,
     "metadata": {},
     "output_type": "execute_result"
    }
   ],
   "source": [
    "# gdp + inf1  : 기본적으로 인덱스가 다르면 연산할 내용이 없어서 오류가 발생한다\n",
    "# inf1 데이터를 분기 데이터로 변환\n",
    "inf1_q = inf1.asfreq('Q-SEP', how='end')\n",
    "inf1_q"
   ]
  },
  {
   "cell_type": "code",
   "execution_count": 16,
   "metadata": {},
   "outputs": [
    {
     "data": {
      "text/plain": [
       "2017Q2      NaN\n",
       "2017Q3      NaN\n",
       "2017Q4      NaN\n",
       "2018Q1    0.045\n",
       "2018Q2    0.045\n",
       "2018Q3    0.045\n",
       "2018Q4    0.045\n",
       "Freq: Q-SEP, dtype: float64"
      ]
     },
     "execution_count": 16,
     "metadata": {},
     "output_type": "execute_result"
    }
   ],
   "source": [
    "# 같은 분기 데이터로 변환된 데이터를 재색인 가능하다\n",
    "inf1_q.reindex(gdp.index).ffill()"
   ]
  },
  {
   "cell_type": "markdown",
   "metadata": {},
   "source": [
    "<br>\n",
    "### **04 일별 시간과 현재 최신데이터 선택** \n",
    "특정 시점의 주가 데이터를 추출하는 경우"
   ]
  },
  {
   "cell_type": "code",
   "execution_count": 17,
   "metadata": {},
   "outputs": [
    {
     "data": {
      "text/plain": [
       "DatetimeIndex(['2018-02-02 09:30:00', '2018-02-02 09:31:00',\n",
       "               '2018-02-02 09:32:00', '2018-02-02 09:33:00',\n",
       "               '2018-02-02 09:34:00', '2018-02-02 09:35:00',\n",
       "               '2018-02-02 09:36:00', '2018-02-02 09:37:00',\n",
       "               '2018-02-02 09:38:00', '2018-02-02 09:39:00',\n",
       "               ...\n",
       "               '2018-04-04 15:21:00', '2018-04-04 15:22:00',\n",
       "               '2018-04-04 15:23:00', '2018-04-04 15:24:00',\n",
       "               '2018-04-04 15:25:00', '2018-04-04 15:26:00',\n",
       "               '2018-04-04 15:27:00', '2018-04-04 15:28:00',\n",
       "               '2018-04-04 15:29:00', '2018-04-04 15:30:00'],\n",
       "              dtype='datetime64[ns]', length=88201, freq='T')"
      ]
     },
     "execution_count": 17,
     "metadata": {},
     "output_type": "execute_result"
    }
   ],
   "source": [
    "# 시계열 데이터를 생성한다\n",
    "rng = pd.date_range('2018-02-02 09:30', '2018-04-04 15:30', freq='T')\n",
    "rng"
   ]
  },
  {
   "cell_type": "code",
   "execution_count": 18,
   "metadata": {},
   "outputs": [
    {
     "data": {
      "text/plain": [
       "<matplotlib.axes._subplots.AxesSubplot at 0x7f9ae2801ba8>"
      ]
     },
     "execution_count": 18,
     "metadata": {},
     "output_type": "execute_result"
    },
    {
     "data": {
      "image/png": "[encoded data removed]",
      "text/plain": [
       "<Figure size 864x288 with 1 Axes>"
      ]
     },
     "metadata": {},
     "output_type": "display_data"
    }
   ],
   "source": [
    "rng = rng.append([rng + pd.offsets.BDay(i)  for i in range(1,4)])\n",
    "ts  = pd.Series(np.arange( len(rng), dtype=float), index=rng)\n",
    "\n",
    "%matplotlib inline\n",
    "ts.plot(figsize=(12,4))"
   ]
  },
  {
   "cell_type": "code",
   "execution_count": 19,
   "metadata": {},
   "outputs": [
    {
     "data": {
      "text/plain": [
       "2018-02-02 10:30:00      60.0\n",
       "2018-02-03 10:30:00    1500.0\n",
       "2018-02-04 10:30:00    2940.0\n",
       "dtype: float64"
      ]
     },
     "execution_count": 19,
     "metadata": {},
     "output_type": "execute_result"
    }
   ],
   "source": [
    "# 10시 30분 데이터를 색인출력한다\n",
    "\n",
    "from datetime import time\n",
    "ts[time(10,30)].head(3)  "
   ]
  },
  {
   "cell_type": "code",
   "execution_count": 20,
   "metadata": {},
   "outputs": [
    {
     "data": {
      "text/plain": [
       "2018-02-02 10:30:00      60.0\n",
       "2018-02-03 10:30:00    1500.0\n",
       "2018-02-04 10:30:00    2940.0\n",
       "dtype: float64"
      ]
     },
     "execution_count": 20,
     "metadata": {},
     "output_type": "execute_result"
    }
   ],
   "source": [
    "ts.at_time(time(10,30)).head(3)"
   ]
  },
  {
   "cell_type": "code",
   "execution_count": 21,
   "metadata": {},
   "outputs": [
    {
     "data": {
      "text/plain": [
       "2018-02-02 10:00:00      30.0\n",
       "2018-02-02 10:01:00      31.0\n",
       "2018-02-02 10:02:00      32.0\n",
       "2018-02-02 10:03:00      33.0\n",
       "2018-02-03 10:00:00    1470.0\n",
       "2018-02-03 10:01:00    1471.0\n",
       "2018-02-03 10:02:00    1472.0\n",
       "2018-02-03 10:03:00    1473.0\n",
       "2018-02-04 10:00:00    2910.0\n",
       "2018-02-04 10:01:00    2911.0\n",
       "dtype: float64"
      ]
     },
     "execution_count": 21,
     "metadata": {},
     "output_type": "execute_result"
    }
   ],
   "source": [
    "# 두시간 사이의 값을 색인한다\n",
    "ts.between_time(time(10,0), time(10,3)).head(10)"
   ]
  },
  {
   "cell_type": "markdown",
   "metadata": {},
   "source": [
    "<br>\n",
    "### **05 데이터와 함께 나누기** \n",
    "1. 데이터 원본을 특정 시점의 데이터로 변환\n",
    "1. 다른 시계열을 사용하여 누락된 값 채워넣기\n",
    "1. 데이터를 국가 및 자신지표 기준으로 분류하여 대체하기"
   ]
  },
  {
   "cell_type": "code",
   "execution_count": 22,
   "metadata": {},
   "outputs": [
    {
     "data": {
      "text/html": [
       "<div>\n",
       "<style scoped>\n",
       "    .dataframe tbody tr th:only-of-type {\n",
       "        vertical-align: middle;\n",
       "    }\n",
       "\n",
       "    .dataframe tbody tr th {\n",
       "        vertical-align: top;\n",
       "    }\n",
       "\n",
       "    .dataframe thead th {\n",
       "        text-align: right;\n",
       "    }\n",
       "</style>\n",
       "<table border=\"1\" class=\"dataframe\">\n",
       "  <thead>\n",
       "    <tr style=\"text-align: right;\">\n",
       "      <th></th>\n",
       "      <th>a</th>\n",
       "      <th>b</th>\n",
       "      <th>c</th>\n",
       "    </tr>\n",
       "  </thead>\n",
       "  <tbody>\n",
       "    <tr>\n",
       "      <th>2017-01-12</th>\n",
       "      <td>1.0</td>\n",
       "      <td>1.0</td>\n",
       "      <td>1.0</td>\n",
       "    </tr>\n",
       "    <tr>\n",
       "      <th>2017-01-13</th>\n",
       "      <td>1.0</td>\n",
       "      <td>1.0</td>\n",
       "      <td>1.0</td>\n",
       "    </tr>\n",
       "    <tr>\n",
       "      <th>2017-01-14</th>\n",
       "      <td>1.0</td>\n",
       "      <td>1.0</td>\n",
       "      <td>1.0</td>\n",
       "    </tr>\n",
       "    <tr>\n",
       "      <th>2017-01-15</th>\n",
       "      <td>1.0</td>\n",
       "      <td>1.0</td>\n",
       "      <td>1.0</td>\n",
       "    </tr>\n",
       "    <tr>\n",
       "      <th>2017-01-16</th>\n",
       "      <td>1.0</td>\n",
       "      <td>1.0</td>\n",
       "      <td>1.0</td>\n",
       "    </tr>\n",
       "    <tr>\n",
       "      <th>2017-01-17</th>\n",
       "      <td>1.0</td>\n",
       "      <td>1.0</td>\n",
       "      <td>1.0</td>\n",
       "    </tr>\n",
       "    <tr>\n",
       "      <th>2017-01-18</th>\n",
       "      <td>1.0</td>\n",
       "      <td>1.0</td>\n",
       "      <td>1.0</td>\n",
       "    </tr>\n",
       "  </tbody>\n",
       "</table>\n",
       "</div>"
      ],
      "text/plain": [
       "              a    b    c\n",
       "2017-01-12  1.0  1.0  1.0\n",
       "2017-01-13  1.0  1.0  1.0\n",
       "2017-01-14  1.0  1.0  1.0\n",
       "2017-01-15  1.0  1.0  1.0\n",
       "2017-01-16  1.0  1.0  1.0\n",
       "2017-01-17  1.0  1.0  1.0\n",
       "2017-01-18  1.0  1.0  1.0"
      ]
     },
     "execution_count": 22,
     "metadata": {},
     "output_type": "execute_result"
    }
   ],
   "source": [
    "data1 = pd.DataFrame(np.ones((6,3), dtype=float),\n",
    "                    columns=['a', 'b', 'c'],\n",
    "                    index = pd.date_range('1/12/2017', periods=6))\n",
    "data2 = pd.DataFrame(np.ones((6,3), dtype=float),\n",
    "                    columns=['a', 'b', 'c'],\n",
    "                    index = pd.date_range('1/13/2017', periods=6))\n",
    "\n",
    "spliced = pd.concat([data1.loc[:'2017-01-14'], data2.loc['2017-01-15':]])\n",
    "spliced"
   ]
  },
  {
   "cell_type": "code",
   "execution_count": 23,
   "metadata": {},
   "outputs": [
    {
     "data": {
      "text/html": [
       "<div>\n",
       "<style scoped>\n",
       "    .dataframe tbody tr th:only-of-type {\n",
       "        vertical-align: middle;\n",
       "    }\n",
       "\n",
       "    .dataframe tbody tr th {\n",
       "        vertical-align: top;\n",
       "    }\n",
       "\n",
       "    .dataframe thead th {\n",
       "        text-align: right;\n",
       "    }\n",
       "</style>\n",
       "<table border=\"1\" class=\"dataframe\">\n",
       "  <thead>\n",
       "    <tr style=\"text-align: right;\">\n",
       "      <th></th>\n",
       "      <th>a</th>\n",
       "      <th>b</th>\n",
       "      <th>c</th>\n",
       "      <th>d</th>\n",
       "    </tr>\n",
       "  </thead>\n",
       "  <tbody>\n",
       "    <tr>\n",
       "      <th>2017-01-12</th>\n",
       "      <td>1.0</td>\n",
       "      <td>1.0</td>\n",
       "      <td>1.0</td>\n",
       "      <td>NaN</td>\n",
       "    </tr>\n",
       "    <tr>\n",
       "      <th>2017-01-13</th>\n",
       "      <td>1.0</td>\n",
       "      <td>1.0</td>\n",
       "      <td>1.0</td>\n",
       "      <td>NaN</td>\n",
       "    </tr>\n",
       "    <tr>\n",
       "      <th>2017-01-14</th>\n",
       "      <td>1.0</td>\n",
       "      <td>1.0</td>\n",
       "      <td>1.0</td>\n",
       "      <td>NaN</td>\n",
       "    </tr>\n",
       "    <tr>\n",
       "      <th>2017-01-15</th>\n",
       "      <td>1.0</td>\n",
       "      <td>1.0</td>\n",
       "      <td>1.0</td>\n",
       "      <td>1.0</td>\n",
       "    </tr>\n",
       "    <tr>\n",
       "      <th>2017-01-16</th>\n",
       "      <td>1.0</td>\n",
       "      <td>1.0</td>\n",
       "      <td>1.0</td>\n",
       "      <td>1.0</td>\n",
       "    </tr>\n",
       "    <tr>\n",
       "      <th>2017-01-17</th>\n",
       "      <td>1.0</td>\n",
       "      <td>1.0</td>\n",
       "      <td>1.0</td>\n",
       "      <td>1.0</td>\n",
       "    </tr>\n",
       "    <tr>\n",
       "      <th>2017-01-18</th>\n",
       "      <td>1.0</td>\n",
       "      <td>1.0</td>\n",
       "      <td>1.0</td>\n",
       "      <td>1.0</td>\n",
       "    </tr>\n",
       "  </tbody>\n",
       "</table>\n",
       "</div>"
      ],
      "text/plain": [
       "              a    b    c    d\n",
       "2017-01-12  1.0  1.0  1.0  NaN\n",
       "2017-01-13  1.0  1.0  1.0  NaN\n",
       "2017-01-14  1.0  1.0  1.0  NaN\n",
       "2017-01-15  1.0  1.0  1.0  1.0\n",
       "2017-01-16  1.0  1.0  1.0  1.0\n",
       "2017-01-17  1.0  1.0  1.0  1.0\n",
       "2017-01-18  1.0  1.0  1.0  1.0"
      ]
     },
     "execution_count": 23,
     "metadata": {},
     "output_type": "execute_result"
    }
   ],
   "source": [
    "data1 = pd.DataFrame(np.ones((6,3), dtype=float),\n",
    "                    columns=['a', 'b', 'c'],\n",
    "                    index = pd.date_range('1/12/2017', periods=6))\n",
    "data2 = pd.DataFrame(np.ones((6,4), dtype=float),\n",
    "                    columns=['a', 'b', 'c', 'd'],\n",
    "                    index = pd.date_range('1/13/2017', periods=6))\n",
    "\n",
    "spliced = pd.concat([data1.loc[:'2017-01-14'], data2.loc['2017-01-15':]])\n",
    "spliced"
   ]
  },
  {
   "cell_type": "code",
   "execution_count": 24,
   "metadata": {},
   "outputs": [
    {
     "data": {
      "text/html": [
       "<div>\n",
       "<style scoped>\n",
       "    .dataframe tbody tr th:only-of-type {\n",
       "        vertical-align: middle;\n",
       "    }\n",
       "\n",
       "    .dataframe tbody tr th {\n",
       "        vertical-align: top;\n",
       "    }\n",
       "\n",
       "    .dataframe thead th {\n",
       "        text-align: right;\n",
       "    }\n",
       "</style>\n",
       "<table border=\"1\" class=\"dataframe\">\n",
       "  <thead>\n",
       "    <tr style=\"text-align: right;\">\n",
       "      <th></th>\n",
       "      <th>a</th>\n",
       "      <th>b</th>\n",
       "      <th>c</th>\n",
       "      <th>d</th>\n",
       "    </tr>\n",
       "  </thead>\n",
       "  <tbody>\n",
       "    <tr>\n",
       "      <th>2017-01-12</th>\n",
       "      <td>1.0</td>\n",
       "      <td>1.0</td>\n",
       "      <td>1.0</td>\n",
       "      <td>NaN</td>\n",
       "    </tr>\n",
       "    <tr>\n",
       "      <th>2017-01-13</th>\n",
       "      <td>1.0</td>\n",
       "      <td>1.0</td>\n",
       "      <td>1.0</td>\n",
       "      <td>1.0</td>\n",
       "    </tr>\n",
       "    <tr>\n",
       "      <th>2017-01-14</th>\n",
       "      <td>1.0</td>\n",
       "      <td>1.0</td>\n",
       "      <td>1.0</td>\n",
       "      <td>1.0</td>\n",
       "    </tr>\n",
       "    <tr>\n",
       "      <th>2017-01-15</th>\n",
       "      <td>1.0</td>\n",
       "      <td>1.0</td>\n",
       "      <td>1.0</td>\n",
       "      <td>1.0</td>\n",
       "    </tr>\n",
       "    <tr>\n",
       "      <th>2017-01-16</th>\n",
       "      <td>1.0</td>\n",
       "      <td>1.0</td>\n",
       "      <td>1.0</td>\n",
       "      <td>1.0</td>\n",
       "    </tr>\n",
       "    <tr>\n",
       "      <th>2017-01-17</th>\n",
       "      <td>1.0</td>\n",
       "      <td>1.0</td>\n",
       "      <td>1.0</td>\n",
       "      <td>1.0</td>\n",
       "    </tr>\n",
       "    <tr>\n",
       "      <th>2017-01-18</th>\n",
       "      <td>1.0</td>\n",
       "      <td>1.0</td>\n",
       "      <td>1.0</td>\n",
       "      <td>1.0</td>\n",
       "    </tr>\n",
       "  </tbody>\n",
       "</table>\n",
       "</div>"
      ],
      "text/plain": [
       "              a    b    c    d\n",
       "2017-01-12  1.0  1.0  1.0  NaN\n",
       "2017-01-13  1.0  1.0  1.0  1.0\n",
       "2017-01-14  1.0  1.0  1.0  1.0\n",
       "2017-01-15  1.0  1.0  1.0  1.0\n",
       "2017-01-16  1.0  1.0  1.0  1.0\n",
       "2017-01-17  1.0  1.0  1.0  1.0\n",
       "2017-01-18  1.0  1.0  1.0  1.0"
      ]
     },
     "execution_count": 24,
     "metadata": {},
     "output_type": "execute_result"
    }
   ],
   "source": [
    "# 빈 부분의 데이터는 'data2'의 내용을 빌려와서 채운다\n",
    "spliced_filled = spliced.combine_first(data2)\n",
    "spliced_filled"
   ]
  },
  {
   "cell_type": "code",
   "execution_count": 25,
   "metadata": {},
   "outputs": [
    {
     "data": {
      "text/html": [
       "<div>\n",
       "<style scoped>\n",
       "    .dataframe tbody tr th:only-of-type {\n",
       "        vertical-align: middle;\n",
       "    }\n",
       "\n",
       "    .dataframe tbody tr th {\n",
       "        vertical-align: top;\n",
       "    }\n",
       "\n",
       "    .dataframe thead th {\n",
       "        text-align: right;\n",
       "    }\n",
       "</style>\n",
       "<table border=\"1\" class=\"dataframe\">\n",
       "  <thead>\n",
       "    <tr style=\"text-align: right;\">\n",
       "      <th></th>\n",
       "      <th>a</th>\n",
       "      <th>b</th>\n",
       "      <th>c</th>\n",
       "      <th>d</th>\n",
       "    </tr>\n",
       "  </thead>\n",
       "  <tbody>\n",
       "    <tr>\n",
       "      <th>2017-01-12</th>\n",
       "      <td>1.0</td>\n",
       "      <td>1.0</td>\n",
       "      <td>1.0</td>\n",
       "      <td>NaN</td>\n",
       "    </tr>\n",
       "    <tr>\n",
       "      <th>2017-01-13</th>\n",
       "      <td>1.0</td>\n",
       "      <td>1.0</td>\n",
       "      <td>1.0</td>\n",
       "      <td>NaN</td>\n",
       "    </tr>\n",
       "    <tr>\n",
       "      <th>2017-01-14</th>\n",
       "      <td>1.0</td>\n",
       "      <td>1.0</td>\n",
       "      <td>1.0</td>\n",
       "      <td>NaN</td>\n",
       "    </tr>\n",
       "    <tr>\n",
       "      <th>2017-01-15</th>\n",
       "      <td>1.0</td>\n",
       "      <td>1.0</td>\n",
       "      <td>1.0</td>\n",
       "      <td>1.0</td>\n",
       "    </tr>\n",
       "    <tr>\n",
       "      <th>2017-01-16</th>\n",
       "      <td>1.0</td>\n",
       "      <td>1.0</td>\n",
       "      <td>1.0</td>\n",
       "      <td>1.0</td>\n",
       "    </tr>\n",
       "    <tr>\n",
       "      <th>2017-01-17</th>\n",
       "      <td>1.0</td>\n",
       "      <td>1.0</td>\n",
       "      <td>1.0</td>\n",
       "      <td>1.0</td>\n",
       "    </tr>\n",
       "    <tr>\n",
       "      <th>2017-01-18</th>\n",
       "      <td>NaN</td>\n",
       "      <td>1.0</td>\n",
       "      <td>NaN</td>\n",
       "      <td>1.0</td>\n",
       "    </tr>\n",
       "  </tbody>\n",
       "</table>\n",
       "</div>"
      ],
      "text/plain": [
       "              a    b    c    d\n",
       "2017-01-12  1.0  1.0  1.0  NaN\n",
       "2017-01-13  1.0  1.0  1.0  NaN\n",
       "2017-01-14  1.0  1.0  1.0  NaN\n",
       "2017-01-15  1.0  1.0  1.0  1.0\n",
       "2017-01-16  1.0  1.0  1.0  1.0\n",
       "2017-01-17  1.0  1.0  1.0  1.0\n",
       "2017-01-18  NaN  1.0  NaN  1.0"
      ]
     },
     "execution_count": 25,
     "metadata": {},
     "output_type": "execute_result"
    }
   ],
   "source": [
    "# 직접 빈 부분을 메운다\n",
    "cp_sliced = spliced.copy()\n",
    "cp_sliced[['a', 'c']] = data1[['a','c']]\n",
    "cp_sliced"
   ]
  },
  {
   "cell_type": "markdown",
   "metadata": {},
   "source": [
    "<br><br>\n",
    "## **2 금융데이터 시계열 분석**\n",
    "pandas를 활용한 금융데이터 분석"
   ]
  },
  {
   "cell_type": "markdown",
   "metadata": {},
   "source": [
    "<br>\n",
    "### **01 다른 빈도를 갖는 시계열 연산**\n",
    "데이터 불러오기"
   ]
  },
  {
   "cell_type": "code",
   "execution_count": 26,
   "metadata": {},
   "outputs": [
    {
     "data": {
      "text/plain": [
       "date\n",
       "2018-03-30    167.78\n",
       "2018-04-03    166.68\n",
       "2018-04-04    168.39\n",
       "2018-04-05    171.61\n",
       "2018-04-06    172.80\n",
       "Name: close, dtype: float64"
      ]
     },
     "execution_count": 26,
     "metadata": {},
     "output_type": "execute_result"
    }
   ],
   "source": [
    "from googlefinance.get import get_data\n",
    "\n",
    "price = get_data('NASDAQ:AAPL', '7Y').close\n",
    "price[-5:]"
   ]
  },
  {
   "cell_type": "code",
   "execution_count": 27,
   "metadata": {},
   "outputs": [
    {
     "data": {
      "text/plain": [
       "0.05841404358353519"
      ]
     },
     "execution_count": 27,
     "metadata": {},
     "output_type": "execute_result"
    }
   ],
   "source": [
    "# 2013-08-03 ~ 2013-10-03 사이의 주가변화율 계산\n",
    "# 1 : 단위 투자비용 (ex)수수료)\n",
    "price[\"2013-10-03\"] / price[\"2013-08-03\"] -1"
   ]
  },
  {
   "cell_type": "code",
   "execution_count": 28,
   "metadata": {},
   "outputs": [
    {
     "data": {
      "text/plain": [
       "<matplotlib.axes._subplots.AxesSubplot at 0x7f9ae194cf98>"
      ]
     },
     "execution_count": 28,
     "metadata": {},
     "output_type": "execute_result"
    },
    {
     "data": {
      "image/png": "[encoded data removed]",
      "text/plain": [
       "<Figure size 864x216 with 1 Axes>"
      ]
     },
     "metadata": {},
     "output_type": "display_data"
    }
   ],
   "source": [
    "# .pct_change() : 퍼센트 변화율을 계산\n",
    "# .cumprod() : 누적 곱 계산\n",
    "returns = price.pct_change()\n",
    "ret_index = (1 + returns).cumprod()\n",
    "ret_index[0] = 1\n",
    "\n",
    "%matplotlib inline\n",
    "ret_index.plot(figsize=(12,3))"
   ]
  },
  {
   "cell_type": "markdown",
   "metadata": {},
   "source": [
    "<br>\n",
    "### **02 누적 수익률 및 배당비율 추가하기**\n",
    "데이터 불러오기"
   ]
  },
  {
   "cell_type": "code",
   "execution_count": 29,
   "metadata": {},
   "outputs": [
    {
     "data": {
      "text/plain": [
       "date\n",
       "2012-01-31    0.118369\n",
       "2012-02-29    0.181860\n",
       "2012-03-30    0.138972\n",
       "2012-04-30   -0.011249\n",
       "2012-05-31   -0.039471\n",
       "2012-06-29   -0.017525\n",
       "2012-07-31    0.045639\n",
       "2012-08-31    0.115741\n",
       "2012-09-28    0.026276\n",
       "2012-10-31   -0.113429\n",
       "2012-11-30   -0.024290\n",
       "2012-12-31   -0.135348\n",
       "Freq: BM, Name: close, dtype: float64"
      ]
     },
     "execution_count": 29,
     "metadata": {},
     "output_type": "execute_result"
    }
   ],
   "source": [
    "# 특정기간의 누적 수익을 계산한다\n",
    "m_returns = ret_index.resample('BM').last().pct_change()\n",
    "m_returns['2012']"
   ]
  },
  {
   "cell_type": "code",
   "execution_count": 30,
   "metadata": {},
   "outputs": [
    {
     "data": {
      "text/plain": [
       "date\n",
       "2012-01    0.118562\n",
       "2012-02    0.181860\n",
       "2012-03    0.119754\n",
       "2012-04    0.005721\n",
       "2012-05   -0.039471\n",
       "2012-06    0.008339\n",
       "2012-07    0.018818\n",
       "2012-08    0.115741\n",
       "2012-09    0.004882\n",
       "2012-10   -0.094553\n",
       "2012-11   -0.024290\n",
       "2012-12   -0.135348\n",
       "Freq: M, Name: close, dtype: float64"
      ]
     },
     "execution_count": 30,
     "metadata": {},
     "output_type": "execute_result"
    }
   ],
   "source": [
    "# 특정기간의 뭘별 백분율 변화를 계산한다\n",
    "m_rets = (1 + returns).resample('M', kind='period').prod() - 1\n",
    "m_rets['2012']"
   ]
  },
  {
   "cell_type": "code",
   "execution_count": 31,
   "metadata": {},
   "outputs": [],
   "source": [
    "# 배당일에 배당 비율을 추가하는 경우\n",
    "m_returns['2012-03-30'] += 0.003"
   ]
  },
  {
   "cell_type": "markdown",
   "metadata": {},
   "source": [
    "<br><br>\n",
    "### **03 금융 데이터 그룹 변환과 분석**\n",
    "데이터 불러오기\n",
    "<br><br>\n",
    "### **Introduction**"
   ]
  },
  {
   "cell_type": "code",
   "execution_count": 32,
   "metadata": {},
   "outputs": [
    {
     "data": {
      "text/plain": [
       "array(['MYNBI', 'QPMZJ', 'PLSGQ', 'EJEYD', 'TZIRW', 'ZTEJD', 'XCVKP',\n",
       "       'RDLNK', 'TUGRP', 'OQIBZ', 'RACXM', 'WZVUA', 'TPKHX', 'KWCGS',\n",
       "       'HHZEZ'], dtype='<U5')"
      ]
     },
     "execution_count": 32,
     "metadata": {},
     "output_type": "execute_result"
    }
   ],
   "source": [
    "# 문자열 변환 (ascii_uppercase)\n",
    "import random, string \n",
    "random.seed(0)\n",
    "\n",
    "N = 1000\n",
    "def rands(n):\n",
    "    choices = string.ascii_uppercase\n",
    "    return ''.join([random.choice(choices)  for _ in range(n)])\n",
    "\n",
    "tickers = np.array([rands(5) for _ in range(N)])\n",
    "tickers[:15]"
   ]
  },
  {
   "cell_type": "code",
   "execution_count": 33,
   "metadata": {},
   "outputs": [
    {
     "data": {
      "text/html": [
       "<div>\n",
       "<style scoped>\n",
       "    .dataframe tbody tr th:only-of-type {\n",
       "        vertical-align: middle;\n",
       "    }\n",
       "\n",
       "    .dataframe tbody tr th {\n",
       "        vertical-align: top;\n",
       "    }\n",
       "\n",
       "    .dataframe thead th {\n",
       "        text-align: right;\n",
       "    }\n",
       "</style>\n",
       "<table border=\"1\" class=\"dataframe\">\n",
       "  <thead>\n",
       "    <tr style=\"text-align: right;\">\n",
       "      <th></th>\n",
       "      <th>Momentum</th>\n",
       "      <th>ShortInterest</th>\n",
       "      <th>value</th>\n",
       "    </tr>\n",
       "  </thead>\n",
       "  <tbody>\n",
       "    <tr>\n",
       "      <th>MYNBI</th>\n",
       "      <td>0.021929</td>\n",
       "      <td>-0.016164</td>\n",
       "      <td>0.078283</td>\n",
       "    </tr>\n",
       "    <tr>\n",
       "      <th>QPMZJ</th>\n",
       "      <td>0.023943</td>\n",
       "      <td>-0.022007</td>\n",
       "      <td>0.081279</td>\n",
       "    </tr>\n",
       "    <tr>\n",
       "      <th>PLSGQ</th>\n",
       "      <td>0.023523</td>\n",
       "      <td>-0.015822</td>\n",
       "      <td>0.080397</td>\n",
       "    </tr>\n",
       "    <tr>\n",
       "      <th>EJEYD</th>\n",
       "      <td>0.024280</td>\n",
       "      <td>-0.016516</td>\n",
       "      <td>0.074345</td>\n",
       "    </tr>\n",
       "    <tr>\n",
       "      <th>TZIRW</th>\n",
       "      <td>0.037281</td>\n",
       "      <td>-0.024633</td>\n",
       "      <td>0.076892</td>\n",
       "    </tr>\n",
       "  </tbody>\n",
       "</table>\n",
       "</div>"
      ],
      "text/plain": [
       "       Momentum  ShortInterest     value\n",
       "MYNBI  0.021929      -0.016164  0.078283\n",
       "QPMZJ  0.023943      -0.022007  0.081279\n",
       "PLSGQ  0.023523      -0.015822  0.080397\n",
       "EJEYD  0.024280      -0.016516  0.074345\n",
       "TZIRW  0.037281      -0.024633  0.076892"
      ]
     },
     "execution_count": 33,
     "metadata": {},
     "output_type": "execute_result"
    }
   ],
   "source": [
    "M = 500\n",
    "df = pd.DataFrame({'Momentum'      : np.random.randn(M) / 200 + 0.03,\n",
    "                   'value'         : np.random.randn(M) / 200 + 0.08,\n",
    "                   'ShortInterest' : np.random.randn(M) / 200 - 0.02} ,\n",
    "                  index = tickers[:M])\n",
    "df.head()"
   ]
  },
  {
   "cell_type": "code",
   "execution_count": 34,
   "metadata": {},
   "outputs": [
    {
     "data": {
      "text/plain": [
       "MYNBI         TECH\n",
       "BXWTU    FINANCIAL\n",
       "HLCTE    FINANCIAL\n",
       "KIAQB         TECH\n",
       "LFEKX         TECH\n",
       "RWEFF         TECH\n",
       "APLQK         TECH\n",
       "ICBEK    FINANCIAL\n",
       "IZAGF         TECH\n",
       "PGWFT         TECH\n",
       "DPHQB    FINANCIAL\n",
       "CBCLM    FINANCIAL\n",
       "NPODI    FINANCIAL\n",
       "Name: industry, dtype: object"
      ]
     },
     "execution_count": 34,
     "metadata": {},
     "output_type": "execute_result"
    }
   ],
   "source": [
    "ind_names  = np.array(['FINANCIAL','TECH'])\n",
    "sampler    = np.random.randint(0, len(ind_names), N)\n",
    "industries = pd.Series(ind_names[sampler], index=tickers, name = 'industry')\n",
    "industries[::80]"
   ]
  },
  {
   "cell_type": "code",
   "execution_count": 35,
   "metadata": {},
   "outputs": [
    {
     "data": {
      "text/html": [
       "<div>\n",
       "<style scoped>\n",
       "    .dataframe tbody tr th:only-of-type {\n",
       "        vertical-align: middle;\n",
       "    }\n",
       "\n",
       "    .dataframe tbody tr th {\n",
       "        vertical-align: top;\n",
       "    }\n",
       "\n",
       "    .dataframe thead th {\n",
       "        text-align: right;\n",
       "    }\n",
       "</style>\n",
       "<table border=\"1\" class=\"dataframe\">\n",
       "  <thead>\n",
       "    <tr style=\"text-align: right;\">\n",
       "      <th></th>\n",
       "      <th>Momentum</th>\n",
       "      <th>ShortInterest</th>\n",
       "      <th>value</th>\n",
       "    </tr>\n",
       "    <tr>\n",
       "      <th>industry</th>\n",
       "      <th></th>\n",
       "      <th></th>\n",
       "      <th></th>\n",
       "    </tr>\n",
       "  </thead>\n",
       "  <tbody>\n",
       "    <tr>\n",
       "      <th>FINANCIAL</th>\n",
       "      <td>0.030106</td>\n",
       "      <td>-0.020539</td>\n",
       "      <td>0.080069</td>\n",
       "    </tr>\n",
       "    <tr>\n",
       "      <th>TECH</th>\n",
       "      <td>0.029843</td>\n",
       "      <td>-0.019805</td>\n",
       "      <td>0.080317</td>\n",
       "    </tr>\n",
       "  </tbody>\n",
       "</table>\n",
       "</div>"
      ],
      "text/plain": [
       "           Momentum  ShortInterest     value\n",
       "industry                                    \n",
       "FINANCIAL  0.030106      -0.020539  0.080069\n",
       "TECH       0.029843      -0.019805  0.080317"
      ]
     },
     "execution_count": 35,
     "metadata": {},
     "output_type": "execute_result"
    }
   ],
   "source": [
    "by_industry = df.groupby(industries)\n",
    "by_industry.mean()"
   ]
  },
  {
   "cell_type": "code",
   "execution_count": 36,
   "metadata": {},
   "outputs": [
    {
     "data": {
      "text/html": [
       "<div>\n",
       "<style scoped>\n",
       "    .dataframe tbody tr th:only-of-type {\n",
       "        vertical-align: middle;\n",
       "    }\n",
       "\n",
       "    .dataframe tbody tr th {\n",
       "        vertical-align: top;\n",
       "    }\n",
       "\n",
       "    .dataframe thead tr th {\n",
       "        text-align: left;\n",
       "    }\n",
       "\n",
       "    .dataframe thead tr:last-of-type th {\n",
       "        text-align: right;\n",
       "    }\n",
       "</style>\n",
       "<table border=\"1\" class=\"dataframe\">\n",
       "  <thead>\n",
       "    <tr>\n",
       "      <th></th>\n",
       "      <th colspan=\"8\" halign=\"left\">Momentum</th>\n",
       "      <th colspan=\"5\" halign=\"left\">ShortInterest</th>\n",
       "      <th colspan=\"8\" halign=\"left\">value</th>\n",
       "    </tr>\n",
       "    <tr>\n",
       "      <th></th>\n",
       "      <th>count</th>\n",
       "      <th>mean</th>\n",
       "      <th>std</th>\n",
       "      <th>min</th>\n",
       "      <th>25%</th>\n",
       "      <th>50%</th>\n",
       "      <th>75%</th>\n",
       "      <th>max</th>\n",
       "      <th>count</th>\n",
       "      <th>mean</th>\n",
       "      <th>...</th>\n",
       "      <th>75%</th>\n",
       "      <th>max</th>\n",
       "      <th>count</th>\n",
       "      <th>mean</th>\n",
       "      <th>std</th>\n",
       "      <th>min</th>\n",
       "      <th>25%</th>\n",
       "      <th>50%</th>\n",
       "      <th>75%</th>\n",
       "      <th>max</th>\n",
       "    </tr>\n",
       "    <tr>\n",
       "      <th>industry</th>\n",
       "      <th></th>\n",
       "      <th></th>\n",
       "      <th></th>\n",
       "      <th></th>\n",
       "      <th></th>\n",
       "      <th></th>\n",
       "      <th></th>\n",
       "      <th></th>\n",
       "      <th></th>\n",
       "      <th></th>\n",
       "      <th></th>\n",
       "      <th></th>\n",
       "      <th></th>\n",
       "      <th></th>\n",
       "      <th></th>\n",
       "      <th></th>\n",
       "      <th></th>\n",
       "      <th></th>\n",
       "      <th></th>\n",
       "      <th></th>\n",
       "      <th></th>\n",
       "    </tr>\n",
       "  </thead>\n",
       "  <tbody>\n",
       "    <tr>\n",
       "      <th>FINANCIAL</th>\n",
       "      <td>242.0</td>\n",
       "      <td>0.030106</td>\n",
       "      <td>0.004950</td>\n",
       "      <td>0.013011</td>\n",
       "      <td>0.026920</td>\n",
       "      <td>0.030308</td>\n",
       "      <td>0.033236</td>\n",
       "      <td>0.044260</td>\n",
       "      <td>242.0</td>\n",
       "      <td>-0.020539</td>\n",
       "      <td>...</td>\n",
       "      <td>-0.017236</td>\n",
       "      <td>-0.006710</td>\n",
       "      <td>242.0</td>\n",
       "      <td>0.080069</td>\n",
       "      <td>0.005247</td>\n",
       "      <td>0.063014</td>\n",
       "      <td>0.076406</td>\n",
       "      <td>0.080122</td>\n",
       "      <td>0.083668</td>\n",
       "      <td>0.094682</td>\n",
       "    </tr>\n",
       "    <tr>\n",
       "      <th>TECH</th>\n",
       "      <td>258.0</td>\n",
       "      <td>0.029843</td>\n",
       "      <td>0.004767</td>\n",
       "      <td>0.017643</td>\n",
       "      <td>0.026722</td>\n",
       "      <td>0.029690</td>\n",
       "      <td>0.032992</td>\n",
       "      <td>0.042735</td>\n",
       "      <td>258.0</td>\n",
       "      <td>-0.019805</td>\n",
       "      <td>...</td>\n",
       "      <td>-0.016827</td>\n",
       "      <td>-0.002056</td>\n",
       "      <td>258.0</td>\n",
       "      <td>0.080317</td>\n",
       "      <td>0.005195</td>\n",
       "      <td>0.066668</td>\n",
       "      <td>0.077200</td>\n",
       "      <td>0.079962</td>\n",
       "      <td>0.083947</td>\n",
       "      <td>0.091855</td>\n",
       "    </tr>\n",
       "  </tbody>\n",
       "</table>\n",
       "<p>2 rows × 24 columns</p>\n",
       "</div>"
      ],
      "text/plain": [
       "          Momentum                                                    \\\n",
       "             count      mean       std       min       25%       50%   \n",
       "industry                                                               \n",
       "FINANCIAL    242.0  0.030106  0.004950  0.013011  0.026920  0.030308   \n",
       "TECH         258.0  0.029843  0.004767  0.017643  0.026722  0.029690   \n",
       "\n",
       "                              ShortInterest              ...               \\\n",
       "                75%       max         count      mean    ...          75%   \n",
       "industry                                                 ...                \n",
       "FINANCIAL  0.033236  0.044260         242.0 -0.020539    ...    -0.017236   \n",
       "TECH       0.032992  0.042735         258.0 -0.019805    ...    -0.016827   \n",
       "\n",
       "                     value                                                    \\\n",
       "                max  count      mean       std       min       25%       50%   \n",
       "industry                                                                       \n",
       "FINANCIAL -0.006710  242.0  0.080069  0.005247  0.063014  0.076406  0.080122   \n",
       "TECH      -0.002056  258.0  0.080317  0.005195  0.066668  0.077200  0.079962   \n",
       "\n",
       "                               \n",
       "                75%       max  \n",
       "industry                       \n",
       "FINANCIAL  0.083668  0.094682  \n",
       "TECH       0.083947  0.091855  \n",
       "\n",
       "[2 rows x 24 columns]"
      ]
     },
     "execution_count": 36,
     "metadata": {},
     "output_type": "execute_result"
    }
   ],
   "source": [
    "by_industry.describe()"
   ]
  },
  {
   "cell_type": "code",
   "execution_count": 37,
   "metadata": {},
   "outputs": [
    {
     "data": {
      "text/html": [
       "<div>\n",
       "<style scoped>\n",
       "    .dataframe tbody tr th:only-of-type {\n",
       "        vertical-align: middle;\n",
       "    }\n",
       "\n",
       "    .dataframe tbody tr th {\n",
       "        vertical-align: top;\n",
       "    }\n",
       "\n",
       "    .dataframe thead th {\n",
       "        text-align: right;\n",
       "    }\n",
       "</style>\n",
       "<table border=\"1\" class=\"dataframe\">\n",
       "  <thead>\n",
       "    <tr style=\"text-align: right;\">\n",
       "      <th></th>\n",
       "      <th>Momentum</th>\n",
       "      <th>ShortInterest</th>\n",
       "      <th>value</th>\n",
       "    </tr>\n",
       "  </thead>\n",
       "  <tbody>\n",
       "    <tr>\n",
       "      <th>MYNBI</th>\n",
       "      <td>-6.238273</td>\n",
       "      <td>4.112674</td>\n",
       "      <td>-15.383183</td>\n",
       "    </tr>\n",
       "    <tr>\n",
       "      <th>QPMZJ</th>\n",
       "      <td>-6.236259</td>\n",
       "      <td>4.106832</td>\n",
       "      <td>-15.380187</td>\n",
       "    </tr>\n",
       "    <tr>\n",
       "      <th>PLSGQ</th>\n",
       "      <td>-6.059086</td>\n",
       "      <td>3.974042</td>\n",
       "      <td>-15.180443</td>\n",
       "    </tr>\n",
       "    <tr>\n",
       "      <th>EJEYD</th>\n",
       "      <td>-6.235922</td>\n",
       "      <td>4.112322</td>\n",
       "      <td>-15.387121</td>\n",
       "    </tr>\n",
       "    <tr>\n",
       "      <th>TZIRW</th>\n",
       "      <td>-6.045328</td>\n",
       "      <td>3.965231</td>\n",
       "      <td>-15.183948</td>\n",
       "    </tr>\n",
       "  </tbody>\n",
       "</table>\n",
       "</div>"
      ],
      "text/plain": [
       "       Momentum  ShortInterest      value\n",
       "MYNBI -6.238273       4.112674 -15.383183\n",
       "QPMZJ -6.236259       4.106832 -15.380187\n",
       "PLSGQ -6.059086       3.974042 -15.180443\n",
       "EJEYD -6.235922       4.112322 -15.387121\n",
       "TZIRW -6.045328       3.965231 -15.183948"
      ]
     },
     "execution_count": 37,
     "metadata": {},
     "output_type": "execute_result"
    }
   ],
   "source": [
    "# 산업 테마 표준화\n",
    "def zscore(group):\n",
    "    return (group - group.mean() / group.std())\n",
    "\n",
    "df_stand = by_industry.apply((zscore))\n",
    "df_stand.head()"
   ]
  },
  {
   "cell_type": "code",
   "execution_count": 38,
   "metadata": {},
   "outputs": [
    {
     "data": {
      "text/html": [
       "<div>\n",
       "<style scoped>\n",
       "    .dataframe tbody tr th:only-of-type {\n",
       "        vertical-align: middle;\n",
       "    }\n",
       "\n",
       "    .dataframe tbody tr th {\n",
       "        vertical-align: top;\n",
       "    }\n",
       "\n",
       "    .dataframe thead tr th {\n",
       "        text-align: left;\n",
       "    }\n",
       "\n",
       "    .dataframe thead tr:last-of-type th {\n",
       "        text-align: right;\n",
       "    }\n",
       "</style>\n",
       "<table border=\"1\" class=\"dataframe\">\n",
       "  <thead>\n",
       "    <tr>\n",
       "      <th></th>\n",
       "      <th colspan=\"2\" halign=\"left\">Momentum</th>\n",
       "      <th colspan=\"2\" halign=\"left\">ShortInterest</th>\n",
       "      <th colspan=\"2\" halign=\"left\">value</th>\n",
       "    </tr>\n",
       "    <tr>\n",
       "      <th></th>\n",
       "      <th>mean</th>\n",
       "      <th>std</th>\n",
       "      <th>mean</th>\n",
       "      <th>std</th>\n",
       "      <th>mean</th>\n",
       "      <th>std</th>\n",
       "    </tr>\n",
       "    <tr>\n",
       "      <th>industry</th>\n",
       "      <th></th>\n",
       "      <th></th>\n",
       "      <th></th>\n",
       "      <th></th>\n",
       "      <th></th>\n",
       "      <th></th>\n",
       "    </tr>\n",
       "  </thead>\n",
       "  <tbody>\n",
       "    <tr>\n",
       "      <th>FINANCIAL</th>\n",
       "      <td>-6.052503</td>\n",
       "      <td>0.004950</td>\n",
       "      <td>3.969324</td>\n",
       "      <td>0.005148</td>\n",
       "      <td>-15.180771</td>\n",
       "      <td>0.005247</td>\n",
       "    </tr>\n",
       "    <tr>\n",
       "      <th>TECH</th>\n",
       "      <td>-6.230359</td>\n",
       "      <td>0.004767</td>\n",
       "      <td>4.109034</td>\n",
       "      <td>0.004797</td>\n",
       "      <td>-15.381149</td>\n",
       "      <td>0.005195</td>\n",
       "    </tr>\n",
       "  </tbody>\n",
       "</table>\n",
       "</div>"
      ],
      "text/plain": [
       "           Momentum           ShortInterest                value          \n",
       "               mean       std          mean       std       mean       std\n",
       "industry                                                                  \n",
       "FINANCIAL -6.052503  0.004950      3.969324  0.005148 -15.180771  0.005247\n",
       "TECH      -6.230359  0.004767      4.109034  0.004797 -15.381149  0.005195"
      ]
     },
     "execution_count": 38,
     "metadata": {},
     "output_type": "execute_result"
    }
   ],
   "source": [
    "# 각 산업의 평균 / 표준편차\n",
    "df_stand.groupby(industries).agg(['mean', 'std'])"
   ]
  },
  {
   "cell_type": "code",
   "execution_count": 39,
   "metadata": {},
   "outputs": [
    {
     "data": {
      "text/html": [
       "<div>\n",
       "<style scoped>\n",
       "    .dataframe tbody tr th:only-of-type {\n",
       "        vertical-align: middle;\n",
       "    }\n",
       "\n",
       "    .dataframe tbody tr th {\n",
       "        vertical-align: top;\n",
       "    }\n",
       "\n",
       "    .dataframe thead tr th {\n",
       "        text-align: left;\n",
       "    }\n",
       "\n",
       "    .dataframe thead tr:last-of-type th {\n",
       "        text-align: right;\n",
       "    }\n",
       "</style>\n",
       "<table border=\"1\" class=\"dataframe\">\n",
       "  <thead>\n",
       "    <tr>\n",
       "      <th></th>\n",
       "      <th colspan=\"2\" halign=\"left\">Momentum</th>\n",
       "      <th colspan=\"2\" halign=\"left\">ShortInterest</th>\n",
       "      <th colspan=\"2\" halign=\"left\">value</th>\n",
       "    </tr>\n",
       "    <tr>\n",
       "      <th></th>\n",
       "      <th>min</th>\n",
       "      <th>max</th>\n",
       "      <th>min</th>\n",
       "      <th>max</th>\n",
       "      <th>min</th>\n",
       "      <th>max</th>\n",
       "    </tr>\n",
       "    <tr>\n",
       "      <th>industry</th>\n",
       "      <th></th>\n",
       "      <th></th>\n",
       "      <th></th>\n",
       "      <th></th>\n",
       "      <th></th>\n",
       "      <th></th>\n",
       "    </tr>\n",
       "  </thead>\n",
       "  <tbody>\n",
       "    <tr>\n",
       "      <th>FINANCIAL</th>\n",
       "      <td>1.0</td>\n",
       "      <td>242.0</td>\n",
       "      <td>1.0</td>\n",
       "      <td>242.0</td>\n",
       "      <td>1.0</td>\n",
       "      <td>242.0</td>\n",
       "    </tr>\n",
       "    <tr>\n",
       "      <th>TECH</th>\n",
       "      <td>1.0</td>\n",
       "      <td>258.0</td>\n",
       "      <td>1.0</td>\n",
       "      <td>258.0</td>\n",
       "      <td>1.0</td>\n",
       "      <td>258.0</td>\n",
       "    </tr>\n",
       "  </tbody>\n",
       "</table>\n",
       "</div>"
      ],
      "text/plain": [
       "          Momentum        ShortInterest        value       \n",
       "               min    max           min    max   min    max\n",
       "industry                                                   \n",
       "FINANCIAL      1.0  242.0           1.0  242.0   1.0  242.0\n",
       "TECH           1.0  258.0           1.0  258.0   1.0  258.0"
      ]
     },
     "execution_count": 39,
     "metadata": {},
     "output_type": "execute_result"
    }
   ],
   "source": [
    "ind_rank = by_industry.rank(ascending = False) # 내림차순\n",
    "ind_rank.groupby(industries).agg(['min','max'])"
   ]
  },
  {
   "cell_type": "code",
   "execution_count": 40,
   "metadata": {},
   "outputs": [
    {
     "name": "stdout",
     "output_type": "stream",
     "text": [
      "<class 'pandas.core.frame.DataFrame'>\n",
      "Index: 500 entries, MYNBI to GXKFD\n",
      "Data columns (total 3 columns):\n",
      "Momentum         500 non-null float64\n",
      "ShortInterest    500 non-null float64\n",
      "value            500 non-null float64\n",
      "dtypes: float64(3)\n",
      "memory usage: 35.6+ KB\n"
     ]
    }
   ],
   "source": [
    "# 산업 순위와 표준화\n",
    "by_industry.apply(lambda x : zscore(x.rank())).info()"
   ]
  },
  {
   "cell_type": "markdown",
   "metadata": {},
   "source": [
    "<br><br>\n",
    "### **데이터를 그룹별 분석**"
   ]
  },
  {
   "cell_type": "code",
   "execution_count": 41,
   "metadata": {},
   "outputs": [
    {
     "data": {
      "text/plain": [
       "array(['VQGXK', 'XOLFI', 'GBYBQ', 'EGFHA', 'ONVNA', 'JJQES', 'MUSXH',\n",
       "       'VSQKX', 'THVMQ', 'KUECW', 'HEWTV', 'PUUHA', 'GWBKE', 'IERWA',\n",
       "       'ZDULQ', 'TOBHP', 'YSTQG', 'SFUQB', 'XUXGI', 'NGPPW', 'UIIMD',\n",
       "       'EMOWR', 'ETMYL', 'RPPKZ', 'VOLSW', 'UOSES', 'VANJK', 'OTOFF',\n",
       "       'AZEME', 'BTKZM'], dtype='<U5')"
      ]
     },
     "execution_count": 41,
     "metadata": {},
     "output_type": "execute_result"
    }
   ],
   "source": [
    "from numpy.random import randn\n",
    "fac1, fac2, fac3 = np.random.randn(3,1000)\n",
    "ticker_subset    = tickers.take(np.random.permutation(N)[:1000])\n",
    "ticker_subset[:30]"
   ]
  },
  {
   "cell_type": "code",
   "execution_count": 42,
   "metadata": {},
   "outputs": [
    {
     "data": {
      "text/plain": [
       "VQGXK   -1.597379\n",
       "XOLFI    0.227894\n",
       "GBYBQ    2.431943\n",
       "dtype: float64"
      ]
     },
     "execution_count": 42,
     "metadata": {},
     "output_type": "execute_result"
    }
   ],
   "source": [
    "# 임의의 값을 추가한 요인들의 가중합\n",
    "port = pd.Series(0.7 * fac1 - \n",
    "                 1.2 * fac2 + \n",
    "                 0.3 + fac3 + randn(1000), \n",
    "                 index = ticker_subset)\n",
    "port[:3]"
   ]
  },
  {
   "cell_type": "code",
   "execution_count": 43,
   "metadata": {},
   "outputs": [
    {
     "data": {
      "text/html": [
       "<div>\n",
       "<style scoped>\n",
       "    .dataframe tbody tr th:only-of-type {\n",
       "        vertical-align: middle;\n",
       "    }\n",
       "\n",
       "    .dataframe tbody tr th {\n",
       "        vertical-align: top;\n",
       "    }\n",
       "\n",
       "    .dataframe thead th {\n",
       "        text-align: right;\n",
       "    }\n",
       "</style>\n",
       "<table border=\"1\" class=\"dataframe\">\n",
       "  <thead>\n",
       "    <tr style=\"text-align: right;\">\n",
       "      <th></th>\n",
       "      <th>f1</th>\n",
       "      <th>f2</th>\n",
       "      <th>f3</th>\n",
       "    </tr>\n",
       "  </thead>\n",
       "  <tbody>\n",
       "    <tr>\n",
       "      <th>VQGXK</th>\n",
       "      <td>-1.025002</td>\n",
       "      <td>1.878394</td>\n",
       "      <td>0.202212</td>\n",
       "    </tr>\n",
       "    <tr>\n",
       "      <th>XOLFI</th>\n",
       "      <td>-1.136001</td>\n",
       "      <td>0.267663</td>\n",
       "      <td>0.544709</td>\n",
       "    </tr>\n",
       "    <tr>\n",
       "      <th>GBYBQ</th>\n",
       "      <td>0.297344</td>\n",
       "      <td>-0.284171</td>\n",
       "      <td>0.511929</td>\n",
       "    </tr>\n",
       "  </tbody>\n",
       "</table>\n",
       "</div>"
      ],
      "text/plain": [
       "             f1        f2        f3\n",
       "VQGXK -1.025002  1.878394  0.202212\n",
       "XOLFI -1.136001  0.267663  0.544709\n",
       "GBYBQ  0.297344 -0.284171  0.511929"
      ]
     },
     "execution_count": 43,
     "metadata": {},
     "output_type": "execute_result"
    }
   ],
   "source": [
    "factors = pd.DataFrame({'f1':fac1, \n",
    "                        'f2':fac2, \n",
    "                        'f3':fac3}, \n",
    "                       index = ticker_subset)\n",
    "factors.head(3)"
   ]
  },
  {
   "cell_type": "code",
   "execution_count": 44,
   "metadata": {
    "scrolled": true
   },
   "outputs": [
    {
     "data": {
      "text/plain": [
       "f1    0.364856\n",
       "f2   -0.613266\n",
       "f3    0.525206\n",
       "dtype: float64"
      ]
     },
     "execution_count": 44,
     "metadata": {},
     "output_type": "execute_result"
    }
   ],
   "source": [
    "# 요인과 포트폴리오 간의 상관관계\n",
    "factors.corrwith(port)"
   ]
  },
  {
   "cell_type": "markdown",
   "metadata": {},
   "source": [
    "<br><br>\n",
    "### **주가의 십분위 사분위 분석**\n",
    "pandas"
   ]
  },
  {
   "cell_type": "code",
   "execution_count": 45,
   "metadata": {},
   "outputs": [
    {
     "data": {
      "text/plain": [
       "date\n",
       "2012-04-10    27.76\n",
       "2012-04-11    27.45\n",
       "2012-04-12    27.85\n",
       "2012-04-13    28.48\n",
       "2012-04-14    28.09\n",
       "Name: close, dtype: float64"
      ]
     },
     "execution_count": 45,
     "metadata": {},
     "output_type": "execute_result"
    }
   ],
   "source": [
    "px = get_data('NASDAQ:INTC', period='6Y').close\n",
    "px.head()"
   ]
  },
  {
   "cell_type": "code",
   "execution_count": 46,
   "metadata": {},
   "outputs": [
    {
     "data": {
      "text/plain": [
       "date\n",
       "2018-03-30    0.046229\n",
       "2018-04-03    0.006672\n",
       "2018-04-04    0.008342\n",
       "2018-04-05    0.008841\n",
       "2018-04-06   -0.023829\n",
       "Name: close, dtype: float64"
      ]
     },
     "execution_count": 46,
     "metadata": {},
     "output_type": "execute_result"
    }
   ],
   "source": [
    "# 수익을 추세신호로 변환\n",
    "def trend_signal(rets, lookback, lag):\n",
    "    \n",
    "    signal = rets.rolling(lookback, \n",
    "                          min_periods = lookback - 5).sum()\n",
    "    return signal.shift(lag)\n",
    "\n",
    "signal = trend_signal(returns, 100, 3)\n",
    "signal.tail()"
   ]
  },
  {
   "cell_type": "code",
   "execution_count": 47,
   "metadata": {},
   "outputs": [
    {
     "data": {
      "text/plain": [
       "<matplotlib.axes._subplots.AxesSubplot at 0x7f9ae1739780>"
      ]
     },
     "execution_count": 47,
     "metadata": {},
     "output_type": "execute_result"
    },
    {
     "data": {
      "image/png": "[encoded data removed]",
      "text/plain": [
       "<Figure size 864x288 with 1 Axes>"
      ]
     },
     "metadata": {},
     "output_type": "display_data"
    }
   ],
   "source": [
    "# 매주 주 금요일 모멘텀 신호 거래투자 전력을 시뮬레이션 한다\n",
    "signal       = trend_signal(returns, 100, 3)\n",
    "trade_friday = signal.resample('W-FRI').mean().resample('B').ffill()\n",
    "trade_rets   = trade_friday.shift(1) * returns\n",
    "trade_rets   = trade_rets[:len(returns)]\n",
    "\n",
    "# 일별 수익을 계산\n",
    "def to_index(rets):\n",
    "    index     = (1 + rets).cumprod()\n",
    "    first_loc = max(index.index.get_loc( index.idxmax() )-1, 0)\n",
    "    index.values[first_loc] = 1 # 변화율 최초의 값 '1'을 입력\n",
    "    return index\n",
    "\n",
    "# 모멘텀 전략 수익 지수 출력이 ValueError가 발생 (고쳐야 되는데...)\n",
    "to_index(trade_rets).plot(figsize=(12,4))"
   ]
  },
  {
   "cell_type": "code",
   "execution_count": 48,
   "metadata": {},
   "outputs": [
    {
     "data": {
      "text/plain": [
       "date\n",
       "2018-03-30    0.206286\n",
       "2018-04-03    0.206414\n",
       "2018-04-04    0.206525\n",
       "2018-04-05    0.207260\n",
       "2018-04-06    0.207325\n",
       "Name: close, dtype: float64"
      ]
     },
     "execution_count": 48,
     "metadata": {},
     "output_type": "execute_result"
    }
   ],
   "source": [
    "vol = returns.rolling(250, min_periods=200).std() * np.sqrt(250)\n",
    "vol.tail()"
   ]
  },
  {
   "cell_type": "code",
   "execution_count": 49,
   "metadata": {},
   "outputs": [
    {
     "data": {
      "text/plain": [
       "close\n",
       "(0.167, 0.216]   -1.204066\n",
       "(0.216, 0.253]    1.614346\n",
       "(0.253, 0.281]    0.692444\n",
       "(0.281, 0.327]    1.128359\n",
       "Name: close, dtype: float64"
      ]
     },
     "execution_count": 49,
     "metadata": {},
     "output_type": "execute_result"
    }
   ],
   "source": [
    "# pd.qcut() : vol을 4분위로 나눈 뒤 Sharpe를 집계한다\n",
    "def sharpe(rets, ann=250):\n",
    "    return rets.mean() / rets.std() * np.sqrt(ann)\n",
    "\n",
    "trade_rets.groupby(pd.qcut(vol,4)).agg(sharpe)"
   ]
  },
  {
   "cell_type": "markdown",
   "metadata": {},
   "source": [
    "<br><br>\n",
    "## **3 추가 예제분석**\n",
    "pandas를 활용한 금융데이터 분석"
   ]
  },
  {
   "cell_type": "markdown",
   "metadata": {},
   "source": [
    "<br>\n",
    "### **01 신호 경계 분석**\n",
    "횡단면 모멘텀 포트폴리오와 모델 매개변수화의 그리드 탐색"
   ]
  },
  {
   "cell_type": "code",
   "execution_count": 50,
   "metadata": {},
   "outputs": [
    {
     "name": "stdout",
     "output_type": "stream",
     "text": [
      "[*********************100%***********************]  1 of 1 downloaded\n",
      "[*********************100%***********************]  1 of 1 downloaded\n",
      "[*********************100%***********************]  1 of 1 downloaded\n",
      "[*********************100%***********************]  1 of 1 downloaded\n",
      "[*********************100%***********************]  1 of 1 downloaded\n",
      "[*********************100%***********************]  1 of 1 downloaded\n",
      "[*********************100%***********************]  1 of 1 downloaded\n"
     ]
    },
    {
     "data": {
      "text/plain": [
       "<matplotlib.axes._subplots.AxesSubplot at 0x7f9ae16e6128>"
      ]
     },
     "execution_count": 50,
     "metadata": {},
     "output_type": "execute_result"
    },
    {
     "data": {
      "image/png": "[encoded data removed]",
      "text/plain": [
       "<Figure size 864x288 with 1 Axes>"
      ]
     },
     "metadata": {},
     "output_type": "display_data"
    }
   ],
   "source": [
    "from googlefinance.get import get_data_yahoo\n",
    "def get_px(stock, start, end):\n",
    "    return get_data_yahoo(stock, start, end)['Close']\n",
    "\n",
    "names = ['AAPL','GOOG','MSFT','GS','MS','BAC','C']\n",
    "px    = pd.DataFrame({n: get_px(n, '2010-01-01', '2015-06-01')   for n in names})\n",
    "px    = px.asfreq('B').fillna(method='pad')\n",
    "rets  = px.pct_change()\n",
    "\n",
    "# 주식의 누적 수익률 시각화\n",
    "((1+rets).cumprod() -1).plot(figsize=(12,4))"
   ]
  },
  {
   "cell_type": "code",
   "execution_count": 51,
   "metadata": {},
   "outputs": [
    {
     "data": {
      "text/plain": [
       "-0.12571458117609513"
      ]
     },
     "execution_count": 51,
     "metadata": {},
     "output_type": "execute_result"
    }
   ],
   "source": [
    "# 특정 과거의 모멘텀을 계산한 다음 내림차순으로 정렬하고 표준화\n",
    "def calc_mom(price, lookback, lag):\n",
    "    mom_ret  = price.shift(lag).pct_change(lookback)        # 변동률 데이터로 변환\n",
    "    ranks    = mom_ret.rank(axis=1, ascending=False)        # 내림차순 정렬\n",
    "    demeaned = ranks.subtract(ranks.mean(axis=1), axis =0)  # 데이터를 표준화 \n",
    "    return demeaned.divide(demeaned.std(axis=1),  axis =0) \n",
    "\n",
    "\n",
    "# BackTest : 포트폴리오 보유기간(매매기간)을 계산하고 샤프지수를 반환\n",
    "def strat_sr(prices, lb, hold):\n",
    "    \n",
    "    compound   = lambda x : (1 + x).prod() -1  # 포트폴리오 보유(매매)기간 계산    \n",
    "    daily_sr   = lambda x : x.mean() / x.std() # 샤프지수 반환 백 테스트 함수\n",
    "    \n",
    "    # 포트폴리오 가중치 계산\n",
    "    freq       = '%dB' % hold  # \"30B\" : 30 Business Day\n",
    "    port       = calc_mom(prices, lb, lag=1)\n",
    "    daily_rets = prices.pct_change()\n",
    "\n",
    "    # 포트폴리오 수익 계산\n",
    "    port       = port.shift(1).resample(freq).first()\n",
    "    returns    = daily_rets.resample(freq).apply(compound)\n",
    "    port_rets  = (port * returns).sum(axis=1)\n",
    "    return daily_sr(port_rets) * np.sqrt(252 / hold)  # 연간 비율의 샤프지수값 계산\n",
    "\n",
    "strat_sr(px, 70, 30)"
   ]
  },
  {
   "cell_type": "code",
   "execution_count": 52,
   "metadata": {},
   "outputs": [
    {
     "data": {
      "text/html": [
       "<div>\n",
       "<style scoped>\n",
       "    .dataframe tbody tr th:only-of-type {\n",
       "        vertical-align: middle;\n",
       "    }\n",
       "\n",
       "    .dataframe tbody tr th {\n",
       "        vertical-align: top;\n",
       "    }\n",
       "\n",
       "    .dataframe thead th {\n",
       "        text-align: right;\n",
       "    }\n",
       "</style>\n",
       "<table border=\"1\" class=\"dataframe\">\n",
       "  <thead>\n",
       "    <tr style=\"text-align: right;\">\n",
       "      <th>Lookback Period</th>\n",
       "      <th>20</th>\n",
       "      <th>25</th>\n",
       "      <th>30</th>\n",
       "      <th>35</th>\n",
       "      <th>40</th>\n",
       "      <th>45</th>\n",
       "      <th>50</th>\n",
       "      <th>55</th>\n",
       "      <th>60</th>\n",
       "      <th>65</th>\n",
       "      <th>70</th>\n",
       "      <th>75</th>\n",
       "      <th>80</th>\n",
       "      <th>85</th>\n",
       "    </tr>\n",
       "    <tr>\n",
       "      <th>Holding Period</th>\n",
       "      <th></th>\n",
       "      <th></th>\n",
       "      <th></th>\n",
       "      <th></th>\n",
       "      <th></th>\n",
       "      <th></th>\n",
       "      <th></th>\n",
       "      <th></th>\n",
       "      <th></th>\n",
       "      <th></th>\n",
       "      <th></th>\n",
       "      <th></th>\n",
       "      <th></th>\n",
       "      <th></th>\n",
       "    </tr>\n",
       "  </thead>\n",
       "  <tbody>\n",
       "    <tr>\n",
       "      <th>20</th>\n",
       "      <td>-0.658952</td>\n",
       "      <td>-0.386214</td>\n",
       "      <td>-0.376905</td>\n",
       "      <td>-0.282361</td>\n",
       "      <td>-0.146145</td>\n",
       "      <td>-0.514091</td>\n",
       "      <td>-0.603280</td>\n",
       "      <td>-0.494521</td>\n",
       "      <td>-0.420901</td>\n",
       "      <td>-0.241604</td>\n",
       "      <td>-0.330594</td>\n",
       "      <td>-0.179816</td>\n",
       "      <td>-0.054841</td>\n",
       "      <td>-0.248572</td>\n",
       "    </tr>\n",
       "    <tr>\n",
       "      <th>25</th>\n",
       "      <td>-0.354339</td>\n",
       "      <td>-0.919289</td>\n",
       "      <td>-0.521754</td>\n",
       "      <td>-0.254991</td>\n",
       "      <td>-0.327190</td>\n",
       "      <td>-0.224852</td>\n",
       "      <td>-0.359067</td>\n",
       "      <td>-0.228337</td>\n",
       "      <td>-0.331748</td>\n",
       "      <td>-0.342718</td>\n",
       "      <td>-0.301921</td>\n",
       "      <td>-0.287468</td>\n",
       "      <td>-0.311381</td>\n",
       "      <td>-0.208492</td>\n",
       "    </tr>\n",
       "    <tr>\n",
       "      <th>30</th>\n",
       "      <td>-0.359280</td>\n",
       "      <td>-0.626603</td>\n",
       "      <td>-0.434906</td>\n",
       "      <td>-0.256761</td>\n",
       "      <td>-0.291453</td>\n",
       "      <td>-0.442570</td>\n",
       "      <td>-0.375152</td>\n",
       "      <td>-0.472110</td>\n",
       "      <td>-0.278580</td>\n",
       "      <td>-0.216305</td>\n",
       "      <td>-0.125715</td>\n",
       "      <td>-0.104901</td>\n",
       "      <td>-0.124167</td>\n",
       "      <td>-0.198585</td>\n",
       "    </tr>\n",
       "  </tbody>\n",
       "</table>\n",
       "</div>"
      ],
      "text/plain": [
       "Lookback Period        20        25        30        35        40        45  \\\n",
       "Holding Period                                                                \n",
       "20              -0.658952 -0.386214 -0.376905 -0.282361 -0.146145 -0.514091   \n",
       "25              -0.354339 -0.919289 -0.521754 -0.254991 -0.327190 -0.224852   \n",
       "30              -0.359280 -0.626603 -0.434906 -0.256761 -0.291453 -0.442570   \n",
       "\n",
       "Lookback Period        50        55        60        65        70        75  \\\n",
       "Holding Period                                                                \n",
       "20              -0.603280 -0.494521 -0.420901 -0.241604 -0.330594 -0.179816   \n",
       "25              -0.359067 -0.228337 -0.331748 -0.342718 -0.301921 -0.287468   \n",
       "30              -0.375152 -0.472110 -0.278580 -0.216305 -0.125715 -0.104901   \n",
       "\n",
       "Lookback Period        80        85  \n",
       "Holding Period                       \n",
       "20              -0.054841 -0.248572  \n",
       "25              -0.311381 -0.208492  \n",
       "30              -0.124167 -0.198585  "
      ]
     },
     "execution_count": 52,
     "metadata": {},
     "output_type": "execute_result"
    }
   ],
   "source": [
    "from collections import defaultdict\n",
    "lookbacks = range(20, 90, 5) # 14개로 구간을 분할\n",
    "holdings  = range(20, 90, 5) \n",
    "dd        = defaultdict(dict)\n",
    "\n",
    "for lb in lookbacks:\n",
    "    for hold in holdings:\n",
    "        dd[lb][hold] = strat_sr(px, lb, hold) # 14 X 14 배열을 생성\n",
    "\n",
    "ddf              = pd.DataFrame(dd)\n",
    "ddf.index.name   = 'Holding Period'\n",
    "ddf.columns.name = 'Lookback Period'\n",
    "ddf.head(3)"
   ]
  },
  {
   "cell_type": "code",
   "execution_count": 53,
   "metadata": {},
   "outputs": [
    {
     "data": {
      "image/png": "[encoded data removed]",
      "text/plain": [
       "<Figure size 432x288 with 2 Axes>"
      ]
     },
     "metadata": {},
     "output_type": "display_data"
    }
   ],
   "source": [
    "import matplotlib.pyplot as plt\n",
    "\n",
    "def heatmap(df, cmap=plt.cm.gray_r):\n",
    "    fig = plt.figure()\n",
    "    ax = fig.add_subplot(111)\n",
    "    axim = ax.imshow(df.values, cmap=cmap, interpolation='nearest')\n",
    "    ax.set_xlabel(df.columns.name)\n",
    "    ax.set_xticks(np.arange(len(df.columns)))\n",
    "    ax.set_xticklabels(list(df.columns))\n",
    "    \n",
    "    ax.set_ylabel(df.index.name)\n",
    "    ax.set_yticks(np.arange(len(df.index)))\n",
    "    ax.set_yticklabels(list(df.index))\n",
    "    plt.colorbar(axim)\n",
    "\n",
    "heatmap(ddf)"
   ]
  },
  {
   "cell_type": "markdown",
   "metadata": {},
   "source": [
    "<br><br>\n",
    "## **4 선물계약 롤링**\n",
    "1. 선물은 특성상 만기가 가까운 상품일수록 매매가 활발하다\n",
    "1. 이때 만기상품에서 다음거래상품으로 갈아탐을 **롤링**이라고 한다\n",
    "1. 이와같이 예측과 모델링이 목적일땐, **이익과 손해를 연속된 수익지수**로 다루는 편이 쉽다"
   ]
  },
  {
   "cell_type": "markdown",
   "metadata": {},
   "source": [
    "<br>\n",
    "### **01 선물 데이터 생성**\n",
    "인덱스 지수 데이터 수집후, 수집일 이후의 임의의 선물데이터 생성"
   ]
  },
  {
   "cell_type": "code",
   "execution_count": 54,
   "metadata": {},
   "outputs": [
    {
     "data": {
      "text/plain": [
       "date\n",
       "2011-04-07    27998.2\n",
       "2011-04-08    27961.4\n",
       "2011-04-09    27804.1\n",
       "2011-04-12    27715.1\n",
       "2011-04-13    27447.9\n",
       "Name: close, dtype: float64"
      ]
     },
     "execution_count": 54,
     "metadata": {},
     "output_type": "execute_result"
    }
   ],
   "source": [
    "px = get_data('INDEXNASDAQ:.IXIC', '7Y').close * 10\n",
    "px[:5]"
   ]
  },
  {
   "cell_type": "code",
   "execution_count": 55,
   "metadata": {},
   "outputs": [
    {
     "data": {
      "text/plain": [
       "ESU2   2012-09-21\n",
       "ESZ2   2012-12-21\n",
       "dtype: datetime64[ns]"
      ]
     },
     "execution_count": 55,
     "metadata": {},
     "output_type": "execute_result"
    }
   ],
   "source": [
    "# 선물지수 계약일과 만기일을 객체로 저장\n",
    "from datetime import datetime\n",
    "expiry = {'ESU2' : datetime(2012, 9, 21),\n",
    "          'ESZ2' : datetime(2012, 12, 21)}\n",
    "expiry = pd.Series(expiry).sort_values()\n",
    "expiry"
   ]
  },
  {
   "cell_type": "code",
   "execution_count": 56,
   "metadata": {},
   "outputs": [
    {
     "data": {
      "text/html": [
       "<div>\n",
       "<style scoped>\n",
       "    .dataframe tbody tr th:only-of-type {\n",
       "        vertical-align: middle;\n",
       "    }\n",
       "\n",
       "    .dataframe tbody tr th {\n",
       "        vertical-align: top;\n",
       "    }\n",
       "\n",
       "    .dataframe thead th {\n",
       "        text-align: right;\n",
       "    }\n",
       "</style>\n",
       "<table border=\"1\" class=\"dataframe\">\n",
       "  <thead>\n",
       "    <tr style=\"text-align: right;\">\n",
       "      <th></th>\n",
       "      <th>ESU2</th>\n",
       "      <th>ESZ2</th>\n",
       "    </tr>\n",
       "  </thead>\n",
       "  <tbody>\n",
       "    <tr>\n",
       "      <th>2018-10-05</th>\n",
       "      <td>70794.766018</td>\n",
       "      <td>70796.516018</td>\n",
       "    </tr>\n",
       "    <tr>\n",
       "      <th>2018-10-08</th>\n",
       "      <td>70781.016018</td>\n",
       "      <td>70783.266018</td>\n",
       "    </tr>\n",
       "    <tr>\n",
       "      <th>2018-10-09</th>\n",
       "      <td>70789.016018</td>\n",
       "      <td>70790.766018</td>\n",
       "    </tr>\n",
       "    <tr>\n",
       "      <th>2018-10-10</th>\n",
       "      <td>70805.516018</td>\n",
       "      <td>70804.766018</td>\n",
       "    </tr>\n",
       "    <tr>\n",
       "      <th>2018-10-11</th>\n",
       "      <td>70785.516018</td>\n",
       "      <td>70783.266018</td>\n",
       "    </tr>\n",
       "  </tbody>\n",
       "</table>\n",
       "</div>"
      ],
      "text/plain": [
       "                    ESU2          ESZ2\n",
       "2018-10-05  70794.766018  70796.516018\n",
       "2018-10-08  70781.016018  70783.266018\n",
       "2018-10-09  70789.016018  70790.766018\n",
       "2018-10-10  70805.516018  70804.766018\n",
       "2018-10-11  70785.516018  70783.266018"
      ]
     },
     "execution_count": 56,
     "metadata": {},
     "output_type": "execute_result"
    }
   ],
   "source": [
    "# 위 추출데이터 만기 후에 갈아탈 \n",
    "# 임의의 2개의 선물 계약 데이터를 생성한다\n",
    "np.random.seed(12347)\n",
    "N       = 200\n",
    "walk    = (np.random.randint(0, 200, size = N) - 100) * 0.25\n",
    "perturb = (np.random.randint(0, 20,  size = N) - 10)  * 0.25\n",
    "walk    = walk.cumsum()\n",
    "rng     = pd.date_range(px.index[0], periods = len(px) + N, freq='B')\n",
    "near    = np.concatenate([px.values, px.values[-1] + walk])\n",
    "far     = np.concatenate([px.values, px.values[-1] + walk + perturb])\n",
    "prices  = pd.DataFrame({'ESU2' : near, \n",
    "                        'ESZ2' : far }, index = rng)\n",
    "prices.tail()"
   ]
  },
  {
   "cell_type": "markdown",
   "metadata": {},
   "source": [
    "<br>\n",
    "### **02 선물 롤링함수 생성하기**\n",
    "1. 선물데이터의 가중치 계산 사용자 함수\n",
    "1. 마지막으로 갈아탄 선물수익은 계약수익의 가중치 합과 동일하다"
   ]
  },
  {
   "cell_type": "code",
   "execution_count": 57,
   "metadata": {},
   "outputs": [
    {
     "data": {
      "text/html": [
       "<div>\n",
       "<style scoped>\n",
       "    .dataframe tbody tr th:only-of-type {\n",
       "        vertical-align: middle;\n",
       "    }\n",
       "\n",
       "    .dataframe tbody tr th {\n",
       "        vertical-align: top;\n",
       "    }\n",
       "\n",
       "    .dataframe thead th {\n",
       "        text-align: right;\n",
       "    }\n",
       "</style>\n",
       "<table border=\"1\" class=\"dataframe\">\n",
       "  <thead>\n",
       "    <tr style=\"text-align: right;\">\n",
       "      <th></th>\n",
       "      <th>ESU2</th>\n",
       "      <th>ESZ2</th>\n",
       "    </tr>\n",
       "  </thead>\n",
       "  <tbody>\n",
       "    <tr>\n",
       "      <th>2012-09-12</th>\n",
       "      <td>1.0</td>\n",
       "      <td>0.0</td>\n",
       "    </tr>\n",
       "    <tr>\n",
       "      <th>2012-09-13</th>\n",
       "      <td>1.0</td>\n",
       "      <td>0.0</td>\n",
       "    </tr>\n",
       "    <tr>\n",
       "      <th>2012-09-14</th>\n",
       "      <td>0.8</td>\n",
       "      <td>0.2</td>\n",
       "    </tr>\n",
       "    <tr>\n",
       "      <th>2012-09-17</th>\n",
       "      <td>0.6</td>\n",
       "      <td>0.4</td>\n",
       "    </tr>\n",
       "    <tr>\n",
       "      <th>2012-09-18</th>\n",
       "      <td>0.4</td>\n",
       "      <td>0.6</td>\n",
       "    </tr>\n",
       "    <tr>\n",
       "      <th>2012-09-19</th>\n",
       "      <td>0.2</td>\n",
       "      <td>0.8</td>\n",
       "    </tr>\n",
       "    <tr>\n",
       "      <th>2012-09-20</th>\n",
       "      <td>0.0</td>\n",
       "      <td>1.0</td>\n",
       "    </tr>\n",
       "    <tr>\n",
       "      <th>2012-09-21</th>\n",
       "      <td>0.0</td>\n",
       "      <td>1.0</td>\n",
       "    </tr>\n",
       "  </tbody>\n",
       "</table>\n",
       "</div>"
      ],
      "text/plain": [
       "            ESU2  ESZ2\n",
       "2012-09-12   1.0   0.0\n",
       "2012-09-13   1.0   0.0\n",
       "2012-09-14   0.8   0.2\n",
       "2012-09-17   0.6   0.4\n",
       "2012-09-18   0.4   0.6\n",
       "2012-09-19   0.2   0.8\n",
       "2012-09-20   0.0   1.0\n",
       "2012-09-21   0.0   1.0"
      ]
     },
     "execution_count": 57,
     "metadata": {},
     "output_type": "execute_result"
    }
   ],
   "source": [
    "# 만기까지의 기간에 대한 선형붕괴의 값으로 가중행렬을 계산\n",
    "# {start : 가중 df 시작일, expiry : 종목 Series => 만기일,  items : 계약 이름 리스트}\n",
    "def get_roll_weights(start, expiry, items, roll_periods=5):\n",
    "    dates     = pd.date_range(start, expiry[-1], freq='B')\n",
    "    weights   = pd.DataFrame(np.zeros((len(dates), len(items))),\n",
    "                             index   = dates, \n",
    "                             columns = items)\n",
    "    prev_date = weights.index[0]\n",
    "    for i, (item, ex_date)  in  enumerate(expiry.iteritems()):\n",
    "        if i < len(expiry) - 1:\n",
    "            weights.loc[ prev_date:ex_date - pd.offsets.BDay(), item ] = 1\n",
    "            roll_rng = pd.date_range(end     = ex_date - pd.offsets.BDay(),\n",
    "                                     periods = roll_periods + 1, \n",
    "                                     freq    = 'B')\n",
    "            decay_weights              = np.linspace(0, 1, roll_periods + 1)\n",
    "            weights.loc[roll_rng, item]                = 1 - decay_weights\n",
    "            weights.loc[roll_rng, expiry.index[i + 1]] = decay_weights\n",
    "        else:\n",
    "            weights.loc[prev_date:, item] = 1\n",
    "        prev_date = ex_date\n",
    "    return weights\n",
    "\n",
    "weights = get_roll_weights('6/1/2012', expiry, prices.columns)\n",
    "weights.loc['2012-9-12':'2012-9-21']"
   ]
  },
  {
   "cell_type": "code",
   "execution_count": 58,
   "metadata": {},
   "outputs": [
    {
     "data": {
      "text/plain": [
       "ESU2    0.102279\n",
       "ESZ2   -0.003453\n",
       "dtype: float64"
      ]
     },
     "execution_count": 58,
     "metadata": {},
     "output_type": "execute_result"
    }
   ],
   "source": [
    "# 마지막 선물 수익 가중합\n",
    "rolled_returns = (prices.pct_change() * weights).sum()\n",
    "rolled_returns"
   ]
  },
  {
   "cell_type": "markdown",
   "metadata": {},
   "source": [
    "<br>\n",
    "### **03 롤링 상관관계와 선형 회귀**\n",
    "1. 동적모델은 매매결정을 시뮬레이션하는데 사용 (특히 시계열 데이터에 적용)\n",
    "1. 상관분석 : 두 시계열 상의 변화를 비교가능하다"
   ]
  },
  {
   "cell_type": "code",
   "execution_count": 59,
   "metadata": {},
   "outputs": [
    {
     "data": {
      "text/plain": [
       "<matplotlib.axes._subplots.AxesSubplot at 0x7f9ae147e6a0>"
      ]
     },
     "execution_count": 59,
     "metadata": {},
     "output_type": "execute_result"
    },
    {
     "data": {
      "image/png": "[encoded data removed]",
      "text/plain": [
       "<Figure size 432x288 with 1 Axes>"
      ]
     },
     "metadata": {},
     "output_type": "display_data"
    }
   ],
   "source": [
    "symbols   = ['NASDAQ:AAPL',   'NASDAQ:MSFT']\n",
    "px_       = get_data(symbols, '10Y', output='close')\n",
    "aapl      = px_[symbols[0]]\n",
    "msft      = px_[symbols[1]]\n",
    "aapl_rets = aapl.pct_change()\n",
    "msft_rets = msft.pct_change()\n",
    "\n",
    "# 연간 이동 상관관계를 시각화\n",
    "pd.Series.rolling(aapl_rets, 250).corr(msft_rets).plot()"
   ]
  },
  {
   "cell_type": "markdown",
   "metadata": {},
   "source": [
    "<br>\n",
    "### **04 두 자산의 최소제곱 회귀분석**\n",
    "1. 상관관계 분석은 **유동성의 차이**를 잡아내지 못한다\n",
    "1. **최소제곱 회귀분석**은 변수 사이의 동적관계를 모델링 한다\n",
    "\n",
    "https://towardsdatascience.com/simple-and-multiple-linear-regression-in-python-c928425168f9"
   ]
  },
  {
   "cell_type": "code",
   "execution_count": 67,
   "metadata": {},
   "outputs": [
    {
     "data": {
      "text/html": [
       "<table class=\"simpletable\">\n",
       "<caption>OLS Regression Results</caption>\n",
       "<tr>\n",
       "  <th>Dep. Variable:</th>       <td>NASDAQ:AAPL</td>   <th>  R-squared:         </th> <td>   0.957</td> \n",
       "</tr>\n",
       "<tr>\n",
       "  <th>Model:</th>                   <td>OLS</td>       <th>  Adj. R-squared:    </th> <td>   0.957</td> \n",
       "</tr>\n",
       "<tr>\n",
       "  <th>Method:</th>             <td>Least Squares</td>  <th>  F-statistic:       </th> <td>5.586e+04</td>\n",
       "</tr>\n",
       "<tr>\n",
       "  <th>Date:</th>             <td>Fri, 06 Apr 2018</td> <th>  Prob (F-statistic):</th>  <td>  0.00</td>  \n",
       "</tr>\n",
       "<tr>\n",
       "  <th>Time:</th>                 <td>21:47:19</td>     <th>  Log-Likelihood:    </th> <td> -10941.</td> \n",
       "</tr>\n",
       "<tr>\n",
       "  <th>No. Observations:</th>      <td>  2517</td>      <th>  AIC:               </th> <td>2.188e+04</td>\n",
       "</tr>\n",
       "<tr>\n",
       "  <th>Df Residuals:</th>          <td>  2516</td>      <th>  BIC:               </th> <td>2.189e+04</td>\n",
       "</tr>\n",
       "<tr>\n",
       "  <th>Df Model:</th>              <td>     1</td>      <th>                     </th>     <td> </td>    \n",
       "</tr>\n",
       "<tr>\n",
       "  <th>Covariance Type:</th>      <td>nonrobust</td>    <th>                     </th>     <td> </td>    \n",
       "</tr>\n",
       "</table>\n",
       "<table class=\"simpletable\">\n",
       "<tr>\n",
       "       <td></td>          <th>coef</th>     <th>std err</th>      <th>t</th>      <th>P>|t|</th>  <th>[0.025</th>    <th>0.975]</th>  \n",
       "</tr>\n",
       "<tr>\n",
       "  <th>NASDAQ:MSFT</th> <td>    2.0264</td> <td>    0.009</td> <td>  236.345</td> <td> 0.000</td> <td>    2.010</td> <td>    2.043</td>\n",
       "</tr>\n",
       "</table>\n",
       "<table class=\"simpletable\">\n",
       "<tr>\n",
       "  <th>Omnibus:</th>       <td>54.326</td> <th>  Durbin-Watson:     </th> <td>   0.006</td>\n",
       "</tr>\n",
       "<tr>\n",
       "  <th>Prob(Omnibus):</th> <td> 0.000</td> <th>  Jarque-Bera (JB):  </th> <td>  37.966</td>\n",
       "</tr>\n",
       "<tr>\n",
       "  <th>Skew:</th>          <td> 0.189</td> <th>  Prob(JB):          </th> <td>5.70e-09</td>\n",
       "</tr>\n",
       "<tr>\n",
       "  <th>Kurtosis:</th>      <td> 2.532</td> <th>  Cond. No.          </th> <td>    1.00</td>\n",
       "</tr>\n",
       "</table>"
      ],
      "text/plain": [
       "<class 'statsmodels.iolib.summary.Summary'>\n",
       "\"\"\"\n",
       "                            OLS Regression Results                            \n",
       "==============================================================================\n",
       "Dep. Variable:            NASDAQ:AAPL   R-squared:                       0.957\n",
       "Model:                            OLS   Adj. R-squared:                  0.957\n",
       "Method:                 Least Squares   F-statistic:                 5.586e+04\n",
       "Date:                Fri, 06 Apr 2018   Prob (F-statistic):               0.00\n",
       "Time:                        21:47:19   Log-Likelihood:                -10941.\n",
       "No. Observations:                2517   AIC:                         2.188e+04\n",
       "Df Residuals:                    2516   BIC:                         2.189e+04\n",
       "Df Model:                           1                                         \n",
       "Covariance Type:            nonrobust                                         \n",
       "===============================================================================\n",
       "                  coef    std err          t      P>|t|      [0.025      0.975]\n",
       "-------------------------------------------------------------------------------\n",
       "NASDAQ:MSFT     2.0264      0.009    236.345      0.000       2.010       2.043\n",
       "==============================================================================\n",
       "Omnibus:                       54.326   Durbin-Watson:                   0.006\n",
       "Prob(Omnibus):                  0.000   Jarque-Bera (JB):               37.966\n",
       "Skew:                           0.189   Prob(JB):                     5.70e-09\n",
       "Kurtosis:                       2.532   Cond. No.                         1.00\n",
       "==============================================================================\n",
       "\n",
       "Warnings:\n",
       "[1] Standard Errors assume that the covariance matrix of the errors is correctly specified.\n",
       "\"\"\""
      ]
     },
     "execution_count": 67,
     "metadata": {},
     "output_type": "execute_result"
    }
   ],
   "source": [
    "import numpy as np\n",
    "import statsmodels.api as sm\n",
    "\n",
    "# Fit and summarize OLS model\n",
    "model = sm.OLS(aapl, msft).fit()\n",
    "predictions = model.predict(msft_rets)\n",
    "model.summary()"
   ]
  }
 ],
 "metadata": {
  "kernelspec": {
   "display_name": "Python 3",
   "language": "python",
   "name": "python3"
  },
  "language_info": {
   "codemirror_mode": {
    "name": "ipython",
    "version": 3
   },
   "file_extension": ".py",
   "mimetype": "text/x-python",
   "name": "python",
   "nbconvert_exporter": "python",
   "pygments_lexer": "ipython3",
   "version": "3.6.3"
  }
 },
 "nbformat": 4,
 "nbformat_minor": 2
}
