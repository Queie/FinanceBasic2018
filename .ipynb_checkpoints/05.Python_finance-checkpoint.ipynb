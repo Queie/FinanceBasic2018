{
 "cells": [
  {
   "cell_type": "markdown",
   "metadata": {},
   "source": [
    "<br>\n",
    "# ** 5 Python for Finance**\n",
    "파이썬을 활용한 금융분석"
   ]
  },
  {
   "cell_type": "markdown",
   "metadata": {},
   "source": [
    "### **review Data Datum**\n",
    "1. Datum(숫자, \"문자\"), Data([list], {dict}, (tuple,))\n",
    "1. (기본/외부/사용자) 모듈, 함수, 메소드\n",
    "1. []의 문자에서 활용( [index], [:slicing]), 함수를 활용{for : 반복, if :판단, enumerate() :순번 integer 출력}\n",
    "1. 재무제표 Web Crawling ==> type 변경 ==> 시각화\n",
    "1. ndarray, Series, Dataframe"
   ]
  },
  {
   "cell_type": "markdown",
   "metadata": {},
   "source": [
    "### **review Series**\n",
    "1. pd.Series( [ data ] , index = [ index ])\n",
    "1. series 사칙연산\n",
    "1. series [ Boolean 판단문 ]\n",
    "1. series.index = [ list ]\n",
    "1. series.isnull()\n",
    "1. series.drop()"
   ]
  },
  {
   "cell_type": "markdown",
   "metadata": {},
   "source": [
    "### **review DataFrame**\n",
    "1. pd.DataFrame( { columns :  [ data ] , columns :  [ data ] } )\n",
    "1. pd.to_datetime()\n",
    "1. df.rename( columns = { 기존 column , 새로운 column } )\n",
    "1. df.insert( 컬럼순서,  컬럼명 ,  data )\n",
    "1. df.column이름 &nbsp; | &nbsp; df['column이름']\n",
    "1. df [ index Slicing ]\n",
    "1. df.iloc[ index slicing,  column slicing ]\n",
    "1. df.reset_index()        :  index  -> column\n",
    "1. df.set_index( '컬럼명' ) :  column -> index\n",
    "1. df.sort_index()\n",
    "1. df.sort_value()\n",
    "1. df[ boolean 함수 ]\n",
    "1. df[ boolean 함수 ].column이름\n",
    "1. axis = 0 : index | axis = 1 : column\n",
    "1. df.drop( 'index이름'  , axis = 0 )\n",
    "1. df.drop( 'column이름' ,  axis = 1 )\n",
    "1. df.index.tolist()\n",
    "1. df.column.tolist()\n",
    "1. df.apply(lambda x: x ** 2)  \n",
    "1. pd.pivot_table(df,index = [], values = [], aggfunc = [], margins = True)"
   ]
  },
  {
   "cell_type": "markdown",
   "metadata": {},
   "source": [
    "### **review DataFrame static**\n",
    "1. .count()\n",
    "1. .describe()\n",
    "1. .min()     .max()\n",
    "1. .idxmin()  .idxmax()\n",
    "1. .quantile()   \n",
    "1. .sum()\n",
    "1. .mean()    .median()\n",
    "1. .var() 분산 .std() 정규분산\n",
    "1. .cumsum()  .cumprod()  누적 합    누적 곱\n",
    "1. .cummin()  .cummax()   누적최소값, 누적최대값"
   ]
  },
  {
   "cell_type": "markdown",
   "metadata": {},
   "source": [
    "### **review Series & DataFrame 결측치 제어하기**\n",
    "1. df.dropna()\n",
    "1. df.fillna(method='ffill',  limit=2)  # 결측치 대체\n",
    "1. df.fillna(df.mean()['컬럼명'])   \n",
    "1. Series.interpolate(method='time')    # 결측치 보간 (시계열적 특성을 부여가능)\n",
    "1. Series.interpolate(method='values', limit=1, limit_direction='backward') # 'forward','backward','both'"
   ]
  },
  {
   "cell_type": "markdown",
   "metadata": {},
   "source": [
    "### **review &nbsp; TimeSeries**\n",
    "1. from datetime import datetime\n",
    "1. pandas.date_range(end = '2017-07-01', periods=30, freq='BM')  \n",
    "1. pandas.date_range('2017/8/8 09:09:09', periods=5, normalize=True)\n",
    "1. [str(date.date()) &nbsp;&nbsp; for &nbsp;&nbsp; date &nbsp;&nbsp; in &nbsp;&nbsp; pd.date_range('2017/01/01', '2017/01/11')]"
   ]
  },
  {
   "cell_type": "markdown",
   "metadata": {},
   "source": [
    "<br><br>\n",
    "## <strong>1 금융 시계열 데이터 결측치 처리 / 보간법\n",
    "pandas를 활용한 데이터 정렬 및 보간법\n",
    "1. DataFrame.fillna()\n",
    "2. Series.interpolate(method='values', limit=1, limit_direction='backward') # 'forward','backward','both'"
   ]
  },
  {
   "cell_type": "code",
   "execution_count": null,
   "metadata": {},
   "outputs": [],
   "source": [
    "from pandas_datareader import data\n",
    "import fix_yahoo_finance as yf\n",
    "yf.pdr_override()\n",
    "\n",
    "start_date = '2013-01-01'\n",
    "codes = ['GM', 'KO', '005930.KS', '000660.KS']\n",
    "result = {}\n",
    "for code in codes:\n",
    "    result[code] = data.get_data_yahoo(code, start_date).Close"
   ]
  },
  {
   "cell_type": "code",
   "execution_count": null,
   "metadata": {},
   "outputs": [],
   "source": [
    "import pandas as pd\n",
    "prices = pd.DataFrame(result)\n",
    "prices.head(3)"
   ]
  },
  {
   "cell_type": "code",
   "execution_count": null,
   "metadata": {},
   "outputs": [],
   "source": [
    "# 빠진 내용이 너무 많음에도 비교 데이터로 보간을 필요\n",
    "print(prices.isnull().sum())\n",
    "\n",
    "\n"
   ]
  },
  {
   "cell_type": "code",
   "execution_count": null,
   "metadata": {},
   "outputs": [],
   "source": [
    "\n",
    "\n"
   ]
  },
  {
   "cell_type": "markdown",
   "metadata": {},
   "source": [
    "<br><br>\n",
    "## **2 금융 시계열 데이터 전처리**\n",
    "데이터 분석을 위한 전처리 방법"
   ]
  },
  {
   "cell_type": "markdown",
   "metadata": {},
   "source": [
    "<br>\n",
    "### **01 가격 차이가 큰 시계열 데이터 비교하기**\n",
    "데이터 불러오기"
   ]
  },
  {
   "cell_type": "code",
   "execution_count": null,
   "metadata": {},
   "outputs": [],
   "source": [
    "%matplotlib inline\n",
    "prices.plot()"
   ]
  },
  {
   "cell_type": "code",
   "execution_count": null,
   "metadata": {},
   "outputs": [],
   "source": []
  },
  {
   "cell_type": "code",
   "execution_count": null,
   "metadata": {},
   "outputs": [],
   "source": [
    "# 주가변화율 계산 (2013-08-03 ~ 2013-10-03)\n",
    "# 1 : 단위 투자비용 (ex) 주가 매입비용 )\n",
    "# price[\"2013-10-03\"] / price[\"2013-08-01\"] -1"
   ]
  },
  {
   "cell_type": "code",
   "execution_count": null,
   "metadata": {},
   "outputs": [],
   "source": [
    "# .pct_change() : 퍼센트 변화율을 계산\n",
    "# .cumprod()    : 일별 퍼센트 변화의 \"누적 곱\" 계산\n",
    "\n",
    "\n"
   ]
  },
  {
   "cell_type": "code",
   "execution_count": null,
   "metadata": {},
   "outputs": [],
   "source": []
  },
  {
   "cell_type": "markdown",
   "metadata": {},
   "source": [
    "<br>\n",
    "### **02 누적 수익률 계산 **\n",
    ".pct_change().cumprod()"
   ]
  },
  {
   "cell_type": "code",
   "execution_count": null,
   "metadata": {
    "scrolled": true
   },
   "outputs": [],
   "source": [
    "# .resample('BM').last().pct_change()\n",
    "# 특정기간의 누적 수익을 계산한다\n",
    "# 일간 데이터 -> 월갈 데이터로 줄인뒤 가격 변동률을 추출한다\n",
    "# 2012년도 1년 데이터만 추출\n",
    "\n",
    "\n"
   ]
  },
  {
   "cell_type": "code",
   "execution_count": null,
   "metadata": {},
   "outputs": [],
   "source": [
    "# 특정기간의 뭘별 백분율 누적곱 변화를 계산한다\n",
    "# 월초에 원금을 투입한 경우, 원금의 변화율\n",
    "\n",
    "\n"
   ]
  },
  {
   "cell_type": "code",
   "execution_count": null,
   "metadata": {},
   "outputs": [],
   "source": []
  },
  {
   "cell_type": "markdown",
   "metadata": {},
   "source": [
    "<br>\n",
    "### **03 중간 배당데이터 추가하기**\n",
    "재귀적 연산"
   ]
  },
  {
   "cell_type": "code",
   "execution_count": null,
   "metadata": {},
   "outputs": [],
   "source": [
    "# 배당일에 배당 비율을 추가\n",
    "month_returns['2016-03-31'] += 0.003"
   ]
  },
  {
   "cell_type": "code",
   "execution_count": null,
   "metadata": {},
   "outputs": [],
   "source": [
    "# cf) 재귀적 연산 +=, -= : 자기 자신을 연산한 결과값을 자신에게 저장\n",
    "# (무슨 말이 이리도 꼬였니..)\n",
    "for i in range(4):\n",
    "    i += 10000\n",
    "    print(i)"
   ]
  },
  {
   "cell_type": "markdown",
   "metadata": {},
   "source": [
    "<br><br>\n",
    "## **3 금융데이터  분석**\n",
    "pandas를 활용한 금융데이터 분석"
   ]
  },
  {
   "cell_type": "code",
   "execution_count": null,
   "metadata": {},
   "outputs": [],
   "source": [
    "# .describe()\n"
   ]
  },
  {
   "cell_type": "code",
   "execution_count": null,
   "metadata": {},
   "outputs": [],
   "source": [
    "# .describe().loc[ ['mean', 'std'] ,:]\n"
   ]
  },
  {
   "cell_type": "code",
   "execution_count": null,
   "metadata": {},
   "outputs": [],
   "source": [
    "# .agg(['mean', 'std'])\n",
    "# index 중 일부분만 출력\n",
    "\n"
   ]
  },
  {
   "cell_type": "markdown",
   "metadata": {},
   "source": [
    "<br>\n",
    "### **02 주가간의 상관계수 분석**\n",
    ".corr"
   ]
  },
  {
   "cell_type": "code",
   "execution_count": null,
   "metadata": {},
   "outputs": [],
   "source": [
    "# .pct_change().dropna().corr()\n",
    "\n"
   ]
  },
  {
   "cell_type": "code",
   "execution_count": null,
   "metadata": {},
   "outputs": [],
   "source": [
    "# sns.heatmap()\n",
    "%matplotlib inline\n",
    "import seaborn as sns\n"
   ]
  },
  {
   "cell_type": "markdown",
   "metadata": {},
   "source": [
    "<br>\n",
    "### **03 Value At Risk**\n",
    "**일일 손실확률**과 **표준편차**를 사용하여, 해당 종목의 오차범위내 최대 손실가능 금액을 계산한다 [code link](https://www.quantstart.com/articles/Value-at-Risk-VaR-for-Algorithmic-Trading-Risk-Management-Part-I)\n",
    "\n",
    "    Variance-Covariance calculation of daily Value-at-Risk\n",
    "    using confidence level c, with mean of returns mu\n",
    "    and standard deviation of returns sigma, on a portfolio\n",
    "    of value P."
   ]
  },
  {
   "cell_type": "code",
   "execution_count": null,
   "metadata": {},
   "outputs": [],
   "source": [
    "def var_cov_var(P, c, prices):\n",
    "    import numpy as np\n",
    "    import pandas as pd\n",
    "    from scipy.stats import norm\n",
    "    \n",
    "    result = []\n",
    "    codes = prices.columns\n",
    "    for code in codes:\n",
    "        price  = prices[code].pct_change()\n",
    "        mu     = np.mean(price)\n",
    "        sigma  = np.std(price)\n",
    "        alpha  = norm.ppf( 1-c , mu , sigma )\n",
    "        var    = P - P * ( alpha + 1 )\n",
    "        result.append([code, round(var, 2), round(var/P * 100, 2)])\n",
    "\n",
    "    df         = pd.DataFrame(result)\n",
    "    df.columns = ['Code' , '신뢰구간 최대손실금액 (Value at Risk)', '리스크 비율']\n",
    "    df         = df.sort_values('리스크 비율', ascending=True)\n",
    "    return df\n",
    "\n",
    "P    = 1e6                     # 1,000,000 원 (초기자금)\n",
    "c    = 0.99                    # 99% 신뢰구간 (confidence interval)"
   ]
  },
  {
   "cell_type": "markdown",
   "metadata": {},
   "source": [
    "<br><br>\n",
    "## **4 이동평균선을 활용한 매매 분석**\n",
    "Golden Cross / Death Cross"
   ]
  },
  {
   "cell_type": "markdown",
   "metadata": {},
   "source": [
    "<br>\n",
    "### **01 이동평균 데이터 생성하기**\n",
    "이동평균 및 차분(.diff()) 데이터 생성하기"
   ]
  },
  {
   "cell_type": "code",
   "execution_count": null,
   "metadata": {},
   "outputs": [],
   "source": [
    "prices.tail(3)"
   ]
  },
  {
   "cell_type": "code",
   "execution_count": null,
   "metadata": {},
   "outputs": [],
   "source": [
    "# 15일 이동평균선과 14일 이동평균선\n",
    "# 그리고 이동평균선간의 '차분'데이터 생성\n"
   ]
  },
  {
   "cell_type": "markdown",
   "metadata": {},
   "source": [
    "<br>\n",
    "### **02 매매 시점 데이터 생성하기**\n",
    "이동평균 및 차분(.diff()) 데이터 생성하기\n",
    "1. np.where(조건문, True일때 입력데이터, False 일때 입력할 데이터)"
   ]
  },
  {
   "cell_type": "code",
   "execution_count": null,
   "metadata": {},
   "outputs": [],
   "source": [
    "# 이동평균 교점에 따른 시간에 따른 신호데이터 생성\n",
    "# 매매구간 신호의 임계값을 10으로 가정\n",
    "\n",
    "\n",
    "#  1 : 주식 매매기간 \n",
    "# -1 : 공매도 매매기간\n",
    "\n",
    "\n"
   ]
  },
  {
   "cell_type": "markdown",
   "metadata": {},
   "source": [
    "<br>\n",
    "### **03 SMAC_Strategy (이동평균선 전략)으로 인한 수익률  데이터 생성**\n",
    "1. 데이터 변화를 Pct_change 가 아닌 Log 로 변환\n",
    "1. .cumsum() : Log 결과값을 더하면 누적 수익률로 예측이 가능\n",
    "1. np.exp() : $ y = e^x$ 자연상수 지수함수로 변환 &nbsp;&nbsp; | &nbsp; [출처](http://rfriend.tistory.com/295)"
   ]
  },
  {
   "cell_type": "code",
   "execution_count": null,
   "metadata": {},
   "outputs": [],
   "source": [
    "# 매매 수익률 계산\n",
    "\n"
   ]
  },
  {
   "cell_type": "code",
   "execution_count": null,
   "metadata": {},
   "outputs": [],
   "source": [
    "# 공매도가 불가능한 경우\n",
    "\n"
   ]
  },
  {
   "cell_type": "code",
   "execution_count": null,
   "metadata": {
    "scrolled": true
   },
   "outputs": [],
   "source": [
    "# 일간 log() 변환데이터 생성\n",
    "# 매매 데이터를 1일 지연시키고, 시장 수익률을 곱한다\n",
    "\n"
   ]
  },
  {
   "cell_type": "markdown",
   "metadata": {},
   "source": [
    "<br>\n",
    "## ** 5 몬테카를로 시뮬레이션**\n",
    "1. 랜덤한 숫자묶음을 대입하여, **결정론적 모델**을 반복적으로 평가한다\n",
    "1. 결과들을 분석하여 **가장 가능성이 높은 하나**를 출력한다\n",
    "1. 모델이 복잡하고, **선형적이지 않으며**, 불확실한 파라미터 쌍을 1개 이상 포함하는 모델의 평가시 사용"
   ]
  },
  {
   "cell_type": "markdown",
   "metadata": {},
   "source": [
    "<br>\n",
    "### **01 난수를 활용한 최적의 결과값 측정**\n",
    "30명 중에 생일이 같은 사람들이 존재할 확률의 계산"
   ]
  },
  {
   "cell_type": "code",
   "execution_count": null,
   "metadata": {},
   "outputs": [],
   "source": [
    "# 전체 365개의 list 인덱스 데이터를 생성한 뒤\n",
    "# 난수로 인덱스에 1을 1번씩 찍을 때, 2번 찍힌 점을 찾는다\n",
    "import numpy as np\n",
    "Trials    = 10000\n",
    "student   = 30\n",
    "SameBirth = 0                  # 생일이 같은 학생수 Counting 초기화\n",
    "\n",
    "for trial in range(Trials):\n",
    "    year = [0] * 365           # [0,0,0,...] : 0 을 365 개 갖는 list                  \n",
    "    \n",
    "    for i in range(student):\n",
    "        new_Day        = np.random.randint(365)  \n",
    "        year[new_Day] += 1     # 해당 index 에 1 을 입력\n",
    "        have_SameBday  = False # 값 초기화\n",
    "\n",
    "    for num in year:           # 전체 365개의 난수를 돌면서 \n",
    "        if num > 1:            # 30번 찍었을 때 2번 같은 위치 입력 : 2를 찾는다\n",
    "            have_SameBday = True\n",
    "\n",
    "    if have_SameBday == True:\n",
    "        SameBirth += 1\n",
    "    prob = float(SameBirth) / float(Trials)\n",
    "        \n",
    "    if trial % 999 == 0:\n",
    "        print(\"{:4}\\'th test {} 명중 2명의 생일이 같을확률 : {}\".format(trial, student, prob))"
   ]
  },
  {
   "cell_type": "markdown",
   "metadata": {},
   "source": [
    "<br>\n",
    "### **02 금융상품들의 포트폴리오 평가**\n",
    "예상 수익률과 변동성 계산"
   ]
  },
  {
   "cell_type": "code",
   "execution_count": null,
   "metadata": {
    "scrolled": true
   },
   "outputs": [],
   "source": [
    "#  여러 종목의 운동을 비교하여 분산하는 방법\n",
    "portfolio_rate     = [0.5, 0.2, 0.2, 0.1]\n",
    "\n",
    "\n"
   ]
  },
  {
   "cell_type": "markdown",
   "metadata": {},
   "source": [
    "<br>\n",
    "### **03 몬테카를로 시뮬레이션을 활용한  포트폴리오 평가**\n",
    "난수를 활용하여 다양한 포트폴리오를 사프지수 Sharpe Ratio (return / volatility) 로 평가 "
   ]
  },
  {
   "cell_type": "code",
   "execution_count": null,
   "metadata": {},
   "outputs": [],
   "source": []
  },
  {
   "cell_type": "code",
   "execution_count": null,
   "metadata": {},
   "outputs": [],
   "source": []
  },
  {
   "cell_type": "markdown",
   "metadata": {},
   "source": [
    "<br>\n",
    "### **04 몬테카를로 포트폴리오 최적값 계산**\n",
    "1. 샤프지수가 최대인 포트폴리오\n",
    "1. 표준편차가 최소인 포트폴리오 "
   ]
  },
  {
   "cell_type": "code",
   "execution_count": null,
   "metadata": {},
   "outputs": [],
   "source": []
  },
  {
   "cell_type": "code",
   "execution_count": null,
   "metadata": {},
   "outputs": [],
   "source": []
  },
  {
   "cell_type": "markdown",
   "metadata": {},
   "source": [
    "<br>\n",
    "## ** 6 다양한 금융 데이터 생성하기**\n",
    "https://wikidocs.net/3396\n",
    "Bollinger Bands "
   ]
  },
  {
   "cell_type": "code",
   "execution_count": null,
   "metadata": {},
   "outputs": [],
   "source": [
    "from pandas_datareader import data\n",
    "import fix_yahoo_finance as yf\n",
    "yf.pdr_override()\n",
    "\n",
    "price_temp = data.get_data_yahoo('000660.KS', '2017-01-01')"
   ]
  },
  {
   "cell_type": "markdown",
   "metadata": {},
   "source": [
    "<br>\n",
    "### **01 Stochastic Oscillator** \n",
    "0.25 / 0.75\n",
    "[Python Code](https://wikidocs.net/3396) | [개념 바로가기](https://steemkr.com/kr/@phuzion7/stochastic-and-bitcoin)"
   ]
  },
  {
   "cell_type": "code",
   "execution_count": null,
   "metadata": {},
   "outputs": [],
   "source": [
    "def fnStoch(df, n=14): # price: 종가(시간 오름차순), n: 기간\n",
    "    import pandas as pd\n",
    "    sz = len(df['Close'])\n",
    "    tempSto_K = []\n",
    "    for i in range(sz):\n",
    "        if i >= n-1:\n",
    "            tempUp   = df['Close'][i] - min(df['Low'][i-n+1:i+1])\n",
    "            tempDown = max(df['High'][i-n+1:i+1]) -  min(df['Low'][i-n+1:i+1])\n",
    "            tempSto_K.append( tempUp / tempDown )\n",
    "        else:\n",
    "            tempSto_K.append(0) #n보다 작은 초기값은 0 설정\n",
    "    df['Sto_K']     = pd.Series(tempSto_K,  index=df.index)\n",
    "    df['Sto_D']     = pd.Series(df['Sto_K'].rolling(3).mean())\n",
    "    df['Sto_SlowD'] = pd.Series(df['Sto_D'].rolling(3).mean())\n",
    "    return df"
   ]
  },
  {
   "cell_type": "code",
   "execution_count": null,
   "metadata": {},
   "outputs": [],
   "source": []
  },
  {
   "cell_type": "markdown",
   "metadata": {},
   "source": [
    "<br>\n",
    "### **02 RSI(Relative Strength Index; 상대강도지수)** \n",
    "[Python Code](https://wikidocs.net/3399) | [개념 바로가기](https://steemkr.com/kr/@phuzion7/stochastic-and-bitcoin)"
   ]
  },
  {
   "cell_type": "code",
   "execution_count": null,
   "metadata": {},
   "outputs": [],
   "source": [
    "# RSI(Relative Strength Index; 상대강도지수)\n",
    "def fnRSI(m_Df, m_N):\n",
    "    \n",
    "    import numpy as np\n",
    "    import pandas as pd\n",
    "\n",
    "    U = np.where(m_Df.diff(1) > 0, m_Df.diff(1), 0)\n",
    "    D = np.where(m_Df.diff(1) < 0, m_Df.diff(1) *(-1), 0)\n",
    "\n",
    "    AU = pd.DataFrame(U).rolling( window=m_N, min_periods=m_N).mean()\n",
    "    AD = pd.DataFrame(D).rolling( window=m_N, min_periods=m_N).mean()\n",
    "    RSI = AU.div(AD + AU) * 100\n",
    "    return RSI"
   ]
  },
  {
   "cell_type": "code",
   "execution_count": null,
   "metadata": {},
   "outputs": [],
   "source": []
  },
  {
   "cell_type": "markdown",
   "metadata": {},
   "source": [
    "<br>\n",
    "### **03 볼린저 밴드 데이터 그리기**\n",
    "Bollinger Bands "
   ]
  },
  {
   "cell_type": "code",
   "execution_count": null,
   "metadata": {},
   "outputs": [],
   "source": [
    "def fnBolingerBand(m_DF, n=20, k=2):\n",
    "    m_DF['20d_ma']    = m_DF['Close'].rolling(n).mean()\n",
    "    m_DF['Bol_upper'] = m_DF['Close'].rolling(n).mean() +  k * m_DF['Close'].rolling(n, min_periods=n).std()\n",
    "    m_DF['Bol_lower'] = m_DF['Close'].rolling(n).mean() -  k * m_DF['Close'].rolling(n, min_periods=n).std()\n",
    "    return m_DF"
   ]
  },
  {
   "cell_type": "code",
   "execution_count": null,
   "metadata": {},
   "outputs": [],
   "source": []
  },
  {
   "cell_type": "markdown",
   "metadata": {},
   "source": [
    "<br>\n",
    "### **04 MACD(moving average convergence/divergence)** \n",
    "[Python Code](https://wikidocs.net/3397) | 지수 이평선의 차분 데이터의 시각화로 일반적으로 MACD(12, 26, 9)가 많이 사용됩니다. "
   ]
  },
  {
   "cell_type": "code",
   "execution_count": null,
   "metadata": {},
   "outputs": [],
   "source": [
    "# MACD = EMA(numFast) - EMA(numSlow)\n",
    "# EMA(Exponential Moving Average ; 지수이동평균)\n",
    "def fnMACD(m_Df, m_NumFast=12, m_NumSlow=26, m_NumSignal=9):\n",
    "    m_Df['EMAFast']    = m_Df['Close'].rolling( window = m_NumFast, min_periods = m_NumFast - 1).mean()\n",
    "    m_Df['EMASlow']    = m_Df['Close'].rolling( window = m_NumSlow, min_periods = m_NumSlow - 1).mean()\n",
    "    m_Df['MACD']       = m_Df['EMAFast'] - m_Df['EMASlow']\n",
    "    m_Df['MACDSignal'] = m_Df['MACD'].ewm( span = m_NumSignal, min_periods = m_NumSignal-1).mean()\n",
    "    m_Df['MACDDiff']   = m_Df['MACD'] - m_Df['MACDSignal']\n",
    "    return m_Df"
   ]
  },
  {
   "cell_type": "code",
   "execution_count": null,
   "metadata": {},
   "outputs": [],
   "source": []
  }
 ],
 "metadata": {
  "kernelspec": {
   "display_name": "Python 3",
   "language": "python",
   "name": "python3"
  },
  "language_info": {
   "codemirror_mode": {
    "name": "ipython",
    "version": 3
   },
   "file_extension": ".py",
   "mimetype": "text/x-python",
   "name": "python",
   "nbconvert_exporter": "python",
   "pygments_lexer": "ipython3",
   "version": "3.6.4"
  }
 },
 "nbformat": 4,
 "nbformat_minor": 2
}
