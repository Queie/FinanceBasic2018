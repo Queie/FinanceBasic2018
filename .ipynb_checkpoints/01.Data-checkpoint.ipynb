{
 "cells": [
  {
   "cell_type": "markdown",
   "metadata": {},
   "source": [
    "# **_1. Python Datum & Data_**\n",
    "**금융데이터를 활용한 파이썬 기초 객체**\n"
   ]
  },
  {
   "cell_type": "markdown",
   "metadata": {},
   "source": [
    "<br>\n",
    "## **1 Why Coding**\n",
    "Introduction\n",
    "\n",
    "### **01 왜 파이썬을 배우러 오셨습니까?**\n",
    "미래의 지구는 인간 만으로는 살기 어렵다는데\n",
    "\n",
    "정 안되면 자연으로 돌아가고 싶은 생각 중...<br>\n",
    "\n",
    "<img src=\"http://cdn.pingwest.com/wp-content/uploads/2016/03/DSCF3721.0.jpg\" align='left' width=600>"
   ]
  },
  {
   "cell_type": "markdown",
   "metadata": {},
   "source": [
    "### **02 하지만 이 길은 멀고 험난합니다**\n",
    "첫 술에 배부르랴..\n",
    "\n",
    "익숙하지 않을 뿐, 익숙해 지는 것 부터 시작하고 완성하면 그것이 처음이자 끝이다\n",
    "\n",
    "처음부터 맛에 익숙하진 않지만,  살아가면서 다양한 맛을 알고 이해하게 된다..\n",
    "\n",
    "자세히 설명은 못해도 머리와 몸으로 이해하듯...\n",
    "\n",
    "언의의 내용과 개념을 있는 그대로 받아들이고 이해하는 과정이 이번 수업의 내용입니다\n",
    "\n",
    "<img src=\"http://cfile210.uf.daum.net/image/217073395486BED70AAF8D\" align='left' width='600'>"
   ]
  },
  {
   "cell_type": "markdown",
   "metadata": {},
   "source": [
    "<br>\n",
    "### **03 Why Python**\n",
    "Introduction\n",
    "\n",
    "#### **3-1 Excel VBA**\n",
    "1. 역사가 길고 VBA Source들이 많다\n",
    "1. cristall ball 등 오랜 검증이 확실한 도구들이 많다\n",
    "1. 대용량 작업을 위해선 많은 성능을 요한다\n",
    "\n",
    "<img src=\"http://developerfarm.cdn1.cafe24.com/cover/l/9791158390891.jpg\" align='left' width='400'>"
   ]
  },
  {
   "cell_type": "markdown",
   "metadata": {},
   "source": [
    "#### **3-2 R, R-studio**\n",
    "1. 금융 Quant에 관련된 Source들이 다양하다\n",
    "1. 계산에 가장 최적화된 언어로 설치 및 활용\n",
    "1. 무료다 (아직은....) <strike>Micro Soft에게 결정권이 달려있다..</strike>\n",
    "\n",
    "<img src=\"http://preview.yes24.com/PreviewResize.aspx?no=53564397&fn=r9w6g2m7ehc8ljkt01.jpg&size=700|904\" align='left' width='400'>"
   ]
  },
  {
   "cell_type": "markdown",
   "metadata": {},
   "source": [
    "#### **3-3 Python**\n",
    "1. R에 비해서 Open된 Source 들이 부족하다\n",
    "1. 다른 언어에 비해서 상대적으로 쉽다 <strike>그러면서 쉽지않다</strike>\n",
    "1. 규칙에 근거한 coding (<strike>때문에 짧아서 쉬워 보일 뿐, 쉽지 않다)</strike>\n",
    "1. 한편 쉽지 않다는 건 그만큼 강력한 활용이 가능하는 뜻이기도 하다\n",
    "    \n",
    "<img src=\"http://preview.yes24.com/PreviewResize.aspx?no=56882179&fn=31jg1uxtfc0gao9e01.jpg&size=700|885\" align='left' width='400'>"
   ]
  },
  {
   "cell_type": "markdown",
   "metadata": {},
   "source": [
    "## **_Question_** 다음중 예측 가능한 것은?\n",
    "1. 이건희 사망시기\n",
    "1. 테슬라 주행자동차 사건예측\n",
    "1. 대우조선해양 부정회계\n",
    "1. 내일의 한국/ 미국의 주가지수\n",
    "1. 삼성전자 다음 분기의 영업이익 증가/ 감소분\n",
    "1. 대한민국 내수시장의 다음분기 실적예측\n",
    "\n",
    "본인이 지금당장 할 수 있으면, 기계로도 할 수 있고<br>\n",
    "본인이 지금당장 **필요한 조건들이 떠오른다면** 기계로 보완이 가능 한 정도이지<br>\n",
    "본인이 지금당장 할 수 없으면, **뭐를 사용해도 불가능하다는** 시각으로 접근하자!!\n",
    "\n",
    "<img src=\"http://t1.daumcdn.net/liveboard/ziksir/99a921c2adfc422ea79793ad41144952.jpg\" align='left'>"
   ]
  },
  {
   "cell_type": "markdown",
   "metadata": {},
   "source": [
    "## **머신러닝 딥러닝은,**\n",
    "### 과거의 **통계적 방법 만으로는 규칙을 찾기 어려운** 데이터에 대해서, \n",
    "### **보다** <strike>상대적으로</strike> **정형화된 분석** 을 도와주는 **보조적 도구** 이다\n",
    "#### <strike>그런데 그 정형화가 정형화가 아닌것 또한 함정</strike> "
   ]
  },
  {
   "cell_type": "markdown",
   "metadata": {},
   "source": [
    "<br><br>\n",
    "## **2 Let's Start**\n",
    "### **01 Coding 둘러보기**\n",
    "Coding 이란 : 컴퓨터에게 숫자, 영어, 기호 로 특정명령을 내리는 것 <strike>한글은 불가능</strike>"
   ]
  },
  {
   "cell_type": "code",
   "execution_count": 1,
   "metadata": {},
   "outputs": [],
   "source": [
    "# 파이썬 코딩의 기본 3요소\n",
    "# 1.Data,  2.함수,  3.연결부호\n",
    "# 그동안 영어공부한 내용에 비하면 절대 어렵지 않다!!! \n",
    "# (대략 200개의 단어의 뜻과 예문만 암기하고, 1~3가지 문법만 알면 끝이다!!)\n",
    "# 단지 익숙하지 않을 뿐... 곤란한 당신의 이유는 단지 이것 뿐이다..\n",
    "# 자주 사용하는 몇가지들 부터 익혀 나가자"
   ]
  },
  {
   "cell_type": "code",
   "execution_count": 2,
   "metadata": {},
   "outputs": [],
   "source": [
    "# 1. Data\n",
    "# 숫자   :  연산  \n",
    "# \"문자\", '문자' :  counting, slicing, 문자열 더하기\n",
    "# (변수명)  :  문자만 가능 (내부는 수정 변환이 가능)\n",
    "# [list형 데이터] - 숫자/ 문자\n",
    "# {dict형 데이터} - { key값 : value값 } - 숫자 /문자\n",
    "# (tuple1, tuple2) : 병렬처리, 생성 후 수정불가능 (2개 , 3개 ... n개), 꼭 짝은 맞아야 한다!!)\n",
    "# ex) (tuple1, tuple2) : 컴퓨터 연산처리 결과 (편집이 어려워서 사용자가 건드리는 경우는 거의 없다)"
   ]
  },
  {
   "cell_type": "code",
   "execution_count": 3,
   "metadata": {},
   "outputs": [],
   "source": [
    "# 2. 연걸부호\n",
    "# . 종속   \n",
    "# , 병렬나열\n",
    "# : 내부설계 시작\n",
    "# ; 병렬연결\n",
    "# = 입력\n",
    "# == 대등조건\n",
    "# != 부 대등조건\n",
    "# '' , \"\"  문자열 지정 (연산 불가능한 객체)"
   ]
  },
  {
   "cell_type": "code",
   "execution_count": 4,
   "metadata": {},
   "outputs": [],
   "source": [
    "# 3. 함수\n",
    "# 파이썬 내장모듈(class), 함수/ 메소드\n",
    "# 파이썬 외부모듈(class), 함수/ 메소드"
   ]
  },
  {
   "cell_type": "markdown",
   "metadata": {},
   "source": [
    "<br><br>\n",
    "## **2 Datum 객체 학습하기**\n",
    "1. 객체 (숫자 : integer, float), 문자 : string)\n",
    "1. 함수 \n",
    "\n",
    "<br>\n",
    "### **01 숫자의 사칙연산**\n",
    "https://soooprmx.com/archives/4886 : 파이썬 내장함수\n",
    "1. integer(정수) : index 주소값\n",
    "1. float(실수) : 연산 데이터 및 결과값\n"
   ]
  },
  {
   "cell_type": "code",
   "execution_count": 5,
   "metadata": {},
   "outputs": [
    {
     "data": {
      "text/plain": [
       "3"
      ]
     },
     "execution_count": 5,
     "metadata": {},
     "output_type": "execute_result"
    }
   ],
   "source": [
    "# print() : 파이썬 내장함수\n",
    "1 + 2"
   ]
  },
  {
   "cell_type": "code",
   "execution_count": null,
   "metadata": {},
   "outputs": [],
   "source": []
  },
  {
   "cell_type": "code",
   "execution_count": null,
   "metadata": {},
   "outputs": [],
   "source": []
  },
  {
   "cell_type": "markdown",
   "metadata": {},
   "source": [
    "<br>\n",
    "### **02 '문자', \"문자\"의 연산**\n",
    "1. 문자의 연결(사칙연산)\n",
    "1. [indexing]\n",
    "1. [slicing:]"
   ]
  },
  {
   "cell_type": "code",
   "execution_count": 6,
   "metadata": {},
   "outputs": [
    {
     "data": {
      "text/plain": [
       "'102'"
      ]
     },
     "execution_count": 6,
     "metadata": {},
     "output_type": "execute_result"
    }
   ],
   "source": [
    "# 사칙연산 중 '+'만 가능\n",
    "\"10\" + '2'"
   ]
  },
  {
   "cell_type": "code",
   "execution_count": 7,
   "metadata": {},
   "outputs": [],
   "source": [
    "# [indexing] : 특정 index 위치의 데이터를 추출\n",
    "a = '20,000,000$'"
   ]
  },
  {
   "cell_type": "code",
   "execution_count": 8,
   "metadata": {},
   "outputs": [
    {
     "data": {
      "text/plain": [
       "'20'"
      ]
     },
     "execution_count": 8,
     "metadata": {},
     "output_type": "execute_result"
    }
   ],
   "source": [
    "# [slicing :] 특정 범위를 출력 \n",
    "# ex) 단어의 일부분만 확인이 필요할 떄\n",
    "# [start_index : end_index]\n",
    "a[:2]"
   ]
  },
  {
   "cell_type": "code",
   "execution_count": null,
   "metadata": {},
   "outputs": [],
   "source": []
  },
  {
   "cell_type": "code",
   "execution_count": null,
   "metadata": {},
   "outputs": [],
   "source": []
  },
  {
   "cell_type": "markdown",
   "metadata": {},
   "source": [
    "#### **QUIZ**\n",
    "'2018년 대한민국' 에서 '2018' 를 숫자로 뽑아내라...\n",
    "\n",
    "    start>>>\n",
    "    text = '2017년 대한민국'  \n",
    "\n",
    "    tips>>\n",
    "    1. [:slicing] 으로 '2017' string 을 추출\n",
    "    2. '2017' 를 숫자로 변환하라\n",
    "<br><br>"
   ]
  },
  {
   "cell_type": "markdown",
   "metadata": {},
   "source": [
    "<br>\n",
    "### **03 문자와 숫자의 변환**\n",
    "1. type()\n",
    "1. str()\n",
    "1. int()\n",
    "1. float()"
   ]
  },
  {
   "cell_type": "code",
   "execution_count": 9,
   "metadata": {},
   "outputs": [],
   "source": [
    "# 문자 <--> 숫자 변경\n",
    "# type()"
   ]
  },
  {
   "cell_type": "code",
   "execution_count": 10,
   "metadata": {},
   "outputs": [],
   "source": [
    "# int() : float/ string 을 integer 로 변환\n",
    "\n"
   ]
  },
  {
   "cell_type": "code",
   "execution_count": 11,
   "metadata": {},
   "outputs": [],
   "source": [
    "# 숫자 <--> 문자\n",
    "\n",
    "\n",
    "\n"
   ]
  },
  {
   "cell_type": "code",
   "execution_count": 12,
   "metadata": {},
   "outputs": [],
   "source": [
    "# integer to string\n",
    "\n",
    "\n",
    "\n",
    "\n"
   ]
  },
  {
   "cell_type": "markdown",
   "metadata": {},
   "source": [
    "<br><br>\n",
    "## **3 Data 객체 학습하기**\n",
    "1. 여러객체를 **_순차적으로 담을 수 있는_** [ list ]\n",
    "1. 여러객체를 **_임의의 주소값으로 담을 수 있는_** {dict}\n",
    "1. **_원본 DATABASE에서 추출하여 순차적으로 담긴_** (tuple,)"
   ]
  },
  {
   "cell_type": "markdown",
   "metadata": {},
   "source": [
    "<br>\n",
    "### **01 [ list ]**\n",
    "여러객체를 순차적으로 담는 객체로 자료관리 Basic !!!, \n",
    "\n",
    "다른 자료형을 학습할때 기준 (그만큼 활용범위가 넓다)\n",
    "1. .append()\n",
    "1. .insert()\n",
    "1. '+'"
   ]
  },
  {
   "cell_type": "code",
   "execution_count": 13,
   "metadata": {},
   "outputs": [],
   "source": [
    "# len() : 내부함수\n"
   ]
  },
  {
   "cell_type": "code",
   "execution_count": 14,
   "metadata": {},
   "outputs": [],
   "source": [
    "# .append() :  list의 메소드 함수 \n",
    "\n"
   ]
  },
  {
   "cell_type": "code",
   "execution_count": 15,
   "metadata": {},
   "outputs": [],
   "source": [
    "# .insert() : 끼워넣기\n",
    "\n"
   ]
  },
  {
   "cell_type": "code",
   "execution_count": 16,
   "metadata": {},
   "outputs": [],
   "source": [
    "# indexing : 꼭! 찝어내기\n",
    "# cf) 위 String 의 indexing 을 복습하며 이해하자\n",
    "\n",
    "\n"
   ]
  },
  {
   "cell_type": "code",
   "execution_count": 17,
   "metadata": {},
   "outputs": [],
   "source": [
    "# Slicing : [start_index : end_index]\n",
    "# cf) 위 String 의 Slicing 을 복습하며 이해하자\n",
    "\n",
    "\n",
    "\n"
   ]
  },
  {
   "cell_type": "code",
   "execution_count": 18,
   "metadata": {},
   "outputs": [],
   "source": [
    "# [list] + [list] \n",
    "# 리스트 객체를 연결하여 1개 객체로 만들기\n",
    "# 주의!! >>  List 덧셈은 작동하지만, 뼬셈은 작동하지 않는다  << 주의!!!!\n",
    "\n",
    "\n",
    "\n"
   ]
  },
  {
   "cell_type": "code",
   "execution_count": 19,
   "metadata": {},
   "outputs": [],
   "source": [
    "# .sort()\n",
    "# .reverse() 함수대신 reverse=True 옵션을 활용\n",
    "\n",
    "\n",
    "\n"
   ]
  },
  {
   "cell_type": "code",
   "execution_count": 20,
   "metadata": {},
   "outputs": [],
   "source": [
    "list_string = ['python', 'java', 'Python', 'vba', 'oracle', 'ABC']\n",
    "\n",
    "\n",
    "\n"
   ]
  },
  {
   "cell_type": "code",
   "execution_count": 21,
   "metadata": {},
   "outputs": [],
   "source": [
    "list_string = ['한글', '미국', '영어', '일본어', '중국어', '히브리어', '라틴어']\n",
    "\n",
    "\n",
    "\n",
    "\n"
   ]
  },
  {
   "cell_type": "code",
   "execution_count": 22,
   "metadata": {},
   "outputs": [],
   "source": [
    "# enumerate() : 열거하다\n",
    "\n",
    "\n",
    "\n",
    "\n"
   ]
  },
  {
   "cell_type": "code",
   "execution_count": 23,
   "metadata": {},
   "outputs": [],
   "source": [
    "# List 내부 Data : 숫자, 문자 모두가능\n",
    "# List 내부 Index : 0,1,2,3,4....... (only Integer만 가능)\n",
    "\n",
    "#  장점 : 만들기가 쉽다\n",
    "#      : 인덱스 주소만 알면 검색과 활용이 쉽다.\n",
    "#      : matrix 구조를 활용하면 대용량 데이터도 처리가 가능하다\n",
    "\n",
    "#  단점 : 무조건 0부터 작업을 시작 (for 문을 활용시 주요한 특징)\n",
    "#      : for 반복문 사용시 매번 [list]를 반복검색해서 느려진다 (list가 1만개일떄 100번 반복시, 100만번 연산을 수행한다)\n",
    "\n",
    "\n",
    "\n",
    "\n"
   ]
  },
  {
   "cell_type": "markdown",
   "metadata": {
    "collapsed": true
   },
   "source": [
    "#### **QUIZ 01**\n",
    "lists = [2017, '년', '대한민국'] 의 자료를 활용해서\n",
    "'2017년대한민국' 1개의 문자열로 변환해 보시오.\n",
    "\n",
    "    start>> \n",
    "    lists = [2017, '년', '대한민국']\n",
    "    \n",
    "    tips>>\n",
    "    1.lists[0] 의 인덱스를 활용해서 각각의 객체를 추출\n",
    "    2. 문자와 문자 객체를 + 를 통해서 1개로 합친다\n",
    "<br><br>"
   ]
  },
  {
   "cell_type": "markdown",
   "metadata": {},
   "source": [
    "#### **QUIZ 02**\n",
    "name =  ['한국항공우주', '대우조선해양'] , code = ['047810', '000300'] 를 이용해서\n",
    "\n",
    "['한국항공우주', '047810', '대우조선해양' ,'000300'] 객체를 만들어보자\n",
    "\n",
    "    start>>>\n",
    "    text = '2017년 대한민국'  \n",
    "\n",
    "    tips>>\n",
    "    1. .append()를 활용해서 객체를 연결한다  # 1개의 index 속에 쑤셔넣는다.\n",
    "    2. + 를 활용해서 순서를 바꿔서 연결한다   # 고유 index를 유지\n",
    "    \n",
    "<br><br>"
   ]
  },
  {
   "cell_type": "markdown",
   "metadata": {},
   "source": [
    "<br><br>\n",
    "### **02  { Dictionary_key :  _value } **\n",
    "1. List 의 index를 보완한 객체로, index를 '숫자'와 'String' 가능)  \n",
    "1. DataFrame 표를 만들 수 있는 기본포맷\n",
    "1. [대괄호] 의 1) 데이터기능, 2) 함수기능"
   ]
  },
  {
   "cell_type": "code",
   "execution_count": 24,
   "metadata": {},
   "outputs": [],
   "source": [
    "# List 생성 및 indexing\n",
    "\n",
    "\n",
    "\n"
   ]
  },
  {
   "cell_type": "code",
   "execution_count": 25,
   "metadata": {},
   "outputs": [],
   "source": [
    "# .key() : [list] 의 index 를 대체\n",
    "\n",
    "\n",
    "\n"
   ]
  },
  {
   "cell_type": "code",
   "execution_count": 26,
   "metadata": {},
   "outputs": [],
   "source": [
    "# .values()\n",
    "\n",
    "\n",
    "\n"
   ]
  },
  {
   "cell_type": "code",
   "execution_count": 27,
   "metadata": {},
   "outputs": [],
   "source": [
    "# index로 데이터 추출\n",
    "# [] 의 데이터기능, 함수기능 \n",
    "# 1. [ list ] 데이터\n",
    "# 2. [ 인덱싱/ 슬라이싱 ] 조건 함수\n",
    "\n",
    "\n",
    "\n",
    "\n"
   ]
  },
  {
   "cell_type": "code",
   "execution_count": 28,
   "metadata": {},
   "outputs": [],
   "source": [
    "# {dict} 데이터 추가\n",
    "\n",
    "\n"
   ]
  },
  {
   "cell_type": "code",
   "execution_count": 29,
   "metadata": {},
   "outputs": [],
   "source": [
    "# 금융데이터 예제\n",
    "# Debit(차변) , Credit(대변)\n",
    "\n",
    "\n",
    "\n"
   ]
  },
  {
   "cell_type": "code",
   "execution_count": 30,
   "metadata": {},
   "outputs": [],
   "source": [
    "# .items()\n",
    "# Key 값과, value를 함께 출력\n",
    "\n",
    "\n"
   ]
  },
  {
   "cell_type": "code",
   "execution_count": 31,
   "metadata": {},
   "outputs": [],
   "source": [
    "# DataFrame : Python에서 범용되는 표 데이터 type\n",
    "# key 값 : DataFrame의 컬럼명\n",
    "# key 종속된 key 값 : DataFrame의 index\n",
    "\n",
    "\n"
   ]
  },
  {
   "cell_type": "code",
   "execution_count": 32,
   "metadata": {},
   "outputs": [],
   "source": [
    "# dictionary = { key값 : value }\n",
    "\n",
    "# 장점 : 상대적으로 만들기가 쉽다\n",
    "#     : 검색이 빠르다, Key값이 일치하면 바로 결과를 출력\n",
    "#     : 1개 key 값에 value는 여러개도 가능 (value 값도  [list],{ dict} 모두 가능)\n",
    "\n",
    "# 단점 : 순서가 없어서 정렬을 할 수 없다.\n",
    "#     : key값의 오타로 비슷한 key 값들이 중복되어 존재할 가능성이 있다\n",
    "#     : key값과 value를 모두 알아야만 자료를 찾을 수 있다.\n",
    "\n"
   ]
  },
  {
   "cell_type": "markdown",
   "metadata": {},
   "source": [
    "#### **QUIZ 01**\n",
    "dictionary = {'005390':'삼성전자', '035420':'네이버'} 자료를 통해서\n",
    "\n",
    "'005390'을 활용해서 '삼성전자'를 출력하라\n",
    "\n",
    "        start>> \n",
    "        dictionary = {'005390':'삼성전자', '035420':'네이버'}"
   ]
  },
  {
   "cell_type": "markdown",
   "metadata": {},
   "source": [
    "#### **QUIZ 02**\n",
    "dictionary = {'005390':'삼성전자', '035420':'네이버'} 자료를 통해서\n",
    "\n",
    "'030200' 코드인 'KT'를 추가하라\n",
    "\n",
    "        tips>>\n",
    "        1.딕셔너리 추가\n",
    "        dictionary ['key문자열'] = 'value 문자열'"
   ]
  },
  {
   "cell_type": "markdown",
   "metadata": {},
   "source": [
    "<br><br>\n",
    "### **03  ( tuple)**\n",
    "원본 DataBase에서 추출한 데이터를 의미(SQL)로 생성 후에는 임의 수정이 불가능하다 !!"
   ]
  },
  {
   "cell_type": "code",
   "execution_count": 33,
   "metadata": {},
   "outputs": [],
   "source": [
    "# [ list ] 객체로 변환해서 index을 활용한다\n",
    "\n",
    "\n"
   ]
  },
  {
   "cell_type": "code",
   "execution_count": 34,
   "metadata": {},
   "outputs": [],
   "source": [
    "# tuple 은 입력 후 수정이 불가능하다\n",
    "\n",
    "\n",
    "\n"
   ]
  }
 ],
 "metadata": {
  "kernelspec": {
   "display_name": "Python 3",
   "language": "python",
   "name": "python3"
  },
  "language_info": {
   "codemirror_mode": {
    "name": "ipython",
    "version": 3
   },
   "file_extension": ".py",
   "mimetype": "text/x-python",
   "name": "python",
   "nbconvert_exporter": "python",
   "pygments_lexer": "ipython3",
   "version": "3.6.4"
  }
 },
 "nbformat": 4,
 "nbformat_minor": 2
}
