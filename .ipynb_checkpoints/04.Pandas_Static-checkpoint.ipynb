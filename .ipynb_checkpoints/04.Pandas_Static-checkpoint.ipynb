{
 "cells": [
  {
   "cell_type": "markdown",
   "metadata": {},
   "source": [
    "# **4 Python Static**\n",
    "파이썬을 활용한 금융분석"
   ]
  },
  {
   "cell_type": "markdown",
   "metadata": {},
   "source": [
    "<br>\n",
    "### **review Python Data & Datum**\n",
    "Python 기본문법 - 기본문법 등을 아래의 3가지 서랍속에 체계적 정리하기 \n",
    "1. Datum &nbsp;&nbsp; : &nbsp;&nbsp; 숫자, &nbsp;\"문자\" \n",
    "1. Data &nbsp;&nbsp; : &nbsp; [list], &nbsp; {dict}, &nbsp; (tuple,)\n",
    "1. Function : indent, 모듈, 클래스, 함수, 메소드(추가 입력값 필요, 추가 입력값 불필요)\n",
    "1. []의 함수적 활용 \n",
    "    1. 색인기능 [index], [:slicing])\n",
    "    1. 함수를 활용하여 데이터 생성 &nbsp; [ &nbsp; datum &nbsp;&nbsp; 1) for : 반복, 2) if :판단, 3) enumerate() :순번 integer 출력 ]\n",
    "1. {}의 함수적 활용 \n",
    "    1. 함수를 활용하여 데이터 생성 &nbsp; { &nbsp; key &nbsp; : &nbsp; value &nbsp;&nbsp; 1) for : 반복, 2) if :판단, 3) enumerate() :순번 integer 출력}\n",
    "1. 연결기호 : ', \", '=',  [], {}, () (개별적 쓰임새와 숨은 의미들이 정해져 있다)"
   ]
  },
  {
   "cell_type": "markdown",
   "metadata": {
    "collapsed": true
   },
   "source": [
    "### **review Series**\n",
    "1. pd.Series( [ data ] , index = [ index ])\n",
    "1. series 사칙연산\n",
    "1. series [ Boolean 판단문 ]\n",
    "1. series.index = [ list ]\n",
    "1. series.isnull()\n",
    "1. series.drop()"
   ]
  },
  {
   "cell_type": "markdown",
   "metadata": {
    "collapsed": true
   },
   "source": [
    "### **review DataFrame**\n",
    "1. pd.DataFrame( { columns :  [ data ] , columns :  [ data ] } )\n",
    "1. df.column이름\n",
    "1. df.rename( columns = { 기존 column , 새로운 column } )\n",
    "1. df.insert( 컬럼순서,  컬럼명 ,  data )\n",
    "1. df [ index Slicing ]\n",
    "1. df.iloc[ index slicing,  column slicing ]\n",
    "1. df.reset_index()        :  index  -> column\n",
    "1. df.set_index( '컬럼명' ) :  column -> index\n",
    "1. df.sort_index()\n",
    "1. df.sort_value()\n",
    "1. df[ boolean 함수 ]\n",
    "1. df[ boolean 함수 ].column이름\n",
    "1. axis = 0 : index | axis = 1 : column\n",
    "1. df.drop( 'index이름'  , axis = 0 )\n",
    "1. df.drop( 'column이름' ,  axis = 1 )\n",
    "1. df.index.tolist()\n",
    "1. df.column.tolist()"
   ]
  },
  {
   "cell_type": "markdown",
   "metadata": {},
   "source": [
    "<br>\n",
    "## **1 기술통계 계산과 요약**\n",
    "기본적인 수학/ 통계 메소드(함수)\n",
    "1. .count()\n",
    "1. .describe()\n",
    "1. .min()     .max()\n",
    "1. .idxmin()  .idxmax()\n",
    "1. .quantile()   \n",
    "1. .sum()\n",
    "1. .mean()    .median()\n",
    "1. .var() 분산 .std() 정규분산\n",
    "1. .cumsum()  .cumprod()  누적 합    누적 곱\n",
    "1. .cummin()  .cummax()   누적최소값, 누적최대값"
   ]
  },
  {
   "cell_type": "markdown",
   "metadata": {},
   "source": [
    "<br>\n",
    "### **01 기술통계**\n",
    "엑셀의 함수를 더 쉽고, 빠르게 적용 가능하다"
   ]
  },
  {
   "cell_type": "code",
   "execution_count": null,
   "metadata": {},
   "outputs": [],
   "source": []
  },
  {
   "cell_type": "code",
   "execution_count": null,
   "metadata": {},
   "outputs": [],
   "source": []
  },
  {
   "cell_type": "code",
   "execution_count": 1,
   "metadata": {},
   "outputs": [],
   "source": [
    "# 개별 컬럼의 합을 계산한 결과를 출력\n",
    "# default :  axis = 0 , skipna = False \n",
    "# na값을 포함/ 제외하고 계산할 여부를 확인\n",
    "\n",
    "\n"
   ]
  },
  {
   "cell_type": "code",
   "execution_count": 2,
   "metadata": {},
   "outputs": [],
   "source": [
    "# .sum(axis=1)\n",
    "\n"
   ]
  },
  {
   "cell_type": "code",
   "execution_count": 3,
   "metadata": {},
   "outputs": [],
   "source": [
    "# .mean( axis=0 , skipna = False )\n",
    "\n"
   ]
  },
  {
   "cell_type": "code",
   "execution_count": 4,
   "metadata": {},
   "outputs": [],
   "source": [
    "# .count()\n",
    "\n",
    "\n"
   ]
  },
  {
   "cell_type": "code",
   "execution_count": 5,
   "metadata": {},
   "outputs": [],
   "source": [
    "# .cumsum() : column 별 누적 합\n",
    "\n",
    "\n"
   ]
  },
  {
   "cell_type": "code",
   "execution_count": 6,
   "metadata": {},
   "outputs": [],
   "source": [
    "# .cumprod() : column 별 누적 곱\n",
    "\n",
    "\n"
   ]
  },
  {
   "cell_type": "code",
   "execution_count": 7,
   "metadata": {},
   "outputs": [],
   "source": [
    "# .describe()\n",
    "\n"
   ]
  },
  {
   "cell_type": "code",
   "execution_count": 8,
   "metadata": {},
   "outputs": [],
   "source": [
    "# .pct_change() # 퍼센트 변화율\n",
    "\n",
    "\n"
   ]
  },
  {
   "cell_type": "code",
   "execution_count": 9,
   "metadata": {},
   "outputs": [],
   "source": [
    "%matplotlib inline"
   ]
  },
  {
   "cell_type": "markdown",
   "metadata": {},
   "source": [
    "<br>\n",
    "<br>\n",
    "## **2 결측치(np.Nan) 제어하기**\n",
    "<br>\n",
    "### **01 결측치(np.Nan) 찾기**\n",
    "전체의 표로 연산을 하려면, Table 데이터가 깨끗해야 한다\n",
    "1.  sum(), cumsum() methods 계산 시 : NaN은 '0'으로 처리\n",
    "1. mean(), std() 연산 시 : NaN은 분석 대상(population)에서 제외\n",
    "1. DataFrame 칼럼 간 연산 시 : NaN이 하나라도 있으면 NaN 반환\n",
    "\n",
    "출처: http://rfriend.tistory.com/261?category=675917 [R, Python 분석과 프로그래밍 (by R Friend)]"
   ]
  },
  {
   "cell_type": "code",
   "execution_count": 10,
   "metadata": {},
   "outputs": [],
   "source": [
    "# 결측값을 제외한 데이터를 출력 \n",
    "\n",
    "\n"
   ]
  },
  {
   "cell_type": "code",
   "execution_count": 11,
   "metadata": {},
   "outputs": [],
   "source": [
    "# 결측치 데이터 위치 찾기\n",
    "\n",
    "\n"
   ]
  },
  {
   "cell_type": "markdown",
   "metadata": {},
   "source": [
    "<br>\n",
    "### **02 결측치(np.Nan) 채우기**\n",
    "전체의 표로 연산을 하려면, Table 데이터가 깨끗해야 한다"
   ]
  },
  {
   "cell_type": "code",
   "execution_count": 12,
   "metadata": {},
   "outputs": [],
   "source": [
    "# .fillna(0)\n",
    "\n"
   ]
  },
  {
   "cell_type": "code",
   "execution_count": 13,
   "metadata": {},
   "outputs": [],
   "source": [
    "# .fillna(method='ffill',  limit=2)  \n",
    "# fill gaps forward  앞방향 데이터로 채우기\n",
    "# limit=2 : 앞에서 끌어오는 데이터의 갯수를 제한하기\n",
    "\n",
    "\n"
   ]
  },
  {
   "cell_type": "code",
   "execution_count": 14,
   "metadata": {},
   "outputs": [],
   "source": [
    "# .fillna(method='bfill')\n",
    "# fill gaps backword  뒷방향 데이터로 채우기\n",
    "\n",
    "\n"
   ]
  },
  {
   "cell_type": "code",
   "execution_count": 15,
   "metadata": {},
   "outputs": [],
   "source": [
    "# .fillna(DataFrame.mean())\n",
    "# 평균 값으로 채우기\n",
    "\n"
   ]
  },
  {
   "cell_type": "code",
   "execution_count": 16,
   "metadata": {},
   "outputs": [],
   "source": [
    "# .fillna(DataFrame.mean()['필드이름'])\n",
    "\n"
   ]
  },
  {
   "cell_type": "markdown",
   "metadata": {},
   "source": [
    "<br>\n",
    "### **03 결측치(np.Nan) 보간법으로 대체하기**\n",
    "단일값이 아닌 규칙에 근거한 결측치 대체\n",
    "1. Series.interpolate()\n",
    "1. Series.interpolate(method='time')\n",
    "1. Series.interpolate(method='values')\n",
    "1. Series.interpolate(method='values', limit=1) \n",
    "1. Series.interpolate(method='values', limit=1, limit_direction='backward') # 'forward','backward','both'"
   ]
  },
  {
   "cell_type": "code",
   "execution_count": 17,
   "metadata": {},
   "outputs": [],
   "source": [
    "# .interpolate(method='time')\n",
    "# 시계열 날짜 index를 기준으로 결측값 보간\n",
    "\n",
    "\n"
   ]
  },
  {
   "cell_type": "code",
   "execution_count": 18,
   "metadata": {},
   "outputs": [],
   "source": [
    "# .interpolate(method='values')\n",
    "# value값에 비례하여 선형으로 보간한다\n",
    "\n",
    "\n"
   ]
  },
  {
   "cell_type": "code",
   "execution_count": 19,
   "metadata": {},
   "outputs": [],
   "source": [
    "# .interpolate(method='values', limit=1)\n",
    "# 보간의 갯수 제한\n",
    "\n"
   ]
  },
  {
   "cell_type": "code",
   "execution_count": 20,
   "metadata": {},
   "outputs": [],
   "source": [
    "# .interpolate(method='values', limit=1, limit_direction='backward') \n",
    "# 보간의 갯수 와 방향을 제한\n",
    "# 'forward','backward','both'\n",
    "\n",
    "\n"
   ]
  },
  {
   "cell_type": "markdown",
   "metadata": {},
   "source": [
    "<br><br>\n",
    "## **3. Time Series**\n",
    "시계열 데이터 처리하기\n",
    "\n",
    "<br>\n",
    "### **01 DateTimeSeries**\n",
    "시간 데이터 관리하기"
   ]
  },
  {
   "cell_type": "code",
   "execution_count": 21,
   "metadata": {},
   "outputs": [
    {
     "data": {
      "text/plain": [
       "1525239816.1915355"
      ]
     },
     "execution_count": 21,
     "metadata": {},
     "output_type": "execute_result"
    }
   ],
   "source": [
    "from time import time\n",
    "time()   \n",
    "# sec 단위로 출력 : float"
   ]
  },
  {
   "cell_type": "code",
   "execution_count": 22,
   "metadata": {},
   "outputs": [],
   "source": [
    "# 일반적 Coding 에서의 용도\n",
    "# Cell 내부 연산하는데 걸린시간 확인하기\n",
    "\n",
    "\n"
   ]
  },
  {
   "cell_type": "markdown",
   "metadata": {},
   "source": [
    "<br>\n",
    "### **02 Date & Time**\n",
    "날짜와 시간관리"
   ]
  },
  {
   "cell_type": "code",
   "execution_count": 23,
   "metadata": {},
   "outputs": [
    {
     "data": {
      "text/plain": [
       "datetime.datetime(2018, 5, 2, 14, 43, 36, 385072)"
      ]
     },
     "execution_count": 23,
     "metadata": {},
     "output_type": "execute_result"
    }
   ],
   "source": [
    "# Date and time\n",
    "from datetime import datetime\n",
    "dt = datetime.now()\n",
    "dt"
   ]
  },
  {
   "cell_type": "code",
   "execution_count": 24,
   "metadata": {},
   "outputs": [
    {
     "name": "stdout",
     "output_type": "stream",
     "text": [
      "year 2018 \n",
      "month 5 \n",
      "day 2 \n",
      "hour 14 \n",
      "minute 43 \n",
      "second 36 385072\n"
     ]
    }
   ],
   "source": [
    "# 메소드 객체를 통해서 일부 데이터 출력\n",
    "# 날짜 정보의 필요한 부분만 출력가능\n",
    "print('year'     , dt.year, \n",
    "      '\\nmonth'  , dt.month, \n",
    "      '\\nday'    , dt.day, \n",
    "      '\\nhour'   , dt.hour, \n",
    "      '\\nminute' , dt.minute, \n",
    "      '\\nsecond' , dt.second, \n",
    "      dt.microsecond)"
   ]
  },
  {
   "cell_type": "markdown",
   "metadata": {},
   "source": [
    "<br>\n",
    "### **03 Time stamp  & Date**\n",
    "날짜와 시간관리 데이터 상호교환"
   ]
  },
  {
   "cell_type": "code",
   "execution_count": 25,
   "metadata": {},
   "outputs": [
    {
     "data": {
      "text/plain": [
       "datetime.datetime(1970, 1, 1, 9, 0)"
      ]
     },
     "execution_count": 25,
     "metadata": {},
     "output_type": "execute_result"
    }
   ],
   "source": [
    "# time stamp 시초값 추출\n",
    "datetime.fromtimestamp(0)"
   ]
  },
  {
   "cell_type": "code",
   "execution_count": 26,
   "metadata": {},
   "outputs": [],
   "source": [
    "# time() 결과를 Datetime 형식으로 변환\n",
    "\n",
    "\n"
   ]
  },
  {
   "cell_type": "code",
   "execution_count": 27,
   "metadata": {},
   "outputs": [],
   "source": [
    "# 임의의 기간을 datetime 포맷으로 변환하기\n",
    "date = datetime(2017, 10, 21, 16, 29, 0)\n",
    "\n"
   ]
  },
  {
   "cell_type": "code",
   "execution_count": 28,
   "metadata": {},
   "outputs": [],
   "source": [
    "# .strftime('%Y/%m/%d %H:%M:%S')\n",
    "# datetime 출력포맷 임의로 변경하기\n",
    "\n",
    "\n"
   ]
  },
  {
   "cell_type": "code",
   "execution_count": 29,
   "metadata": {},
   "outputs": [],
   "source": [
    "# .strftime('%Y/%m/%d')\n",
    "# datetime 출력포맷 임의로 변경하기\n",
    "\n",
    "\n"
   ]
  },
  {
   "cell_type": "code",
   "execution_count": 30,
   "metadata": {},
   "outputs": [],
   "source": [
    "# .strftime('%Y-%m-%d')\n",
    "# datetime 출력포맷 임의로 변경하기\n",
    "\n"
   ]
  },
  {
   "cell_type": "markdown",
   "metadata": {},
   "source": [
    "<br>\n",
    "### **04 Datetime in Pandas** \n",
    "**Series.resample()** freq 옵션 [code](https://datascienceschool.net/view-notebook/8959673a97214e8fafdb159f254185e9/)\n",
    "1. **B :** 주말이 아닌 평일\n",
    "1. **W :** 주(일요일)\n",
    "1. **W-MON :** 주(월요일)\n",
    "1. **M :** 각 달(month)의 마지막 날\n",
    "1. **MS :** 각 달의 첫날\n",
    "1. **BM :** 주말이 아닌 평일 중에서 각 달의 마지막 날\n",
    "1. **BMS :** 주말이 아닌 평일 중에서 각 달의 첫날\n",
    "1. **WOM-2THU :** 각 달의 두번째 목요일\n",
    "1. **Q-JAN :** 각 분기의 첫달의 마지막 날\n",
    "1. **Q-DEC :** 각 분기의 마지막 달의 마지막 날"
   ]
  },
  {
   "cell_type": "markdown",
   "metadata": {},
   "source": [
    "<br>\n",
    "#### **1) pandas.date_range()**\n",
    "규칙적인 일별데이터가 필요할 떄"
   ]
  },
  {
   "cell_type": "code",
   "execution_count": 31,
   "metadata": {},
   "outputs": [],
   "source": [
    "# pd.date_range()\n",
    "\n",
    "\n"
   ]
  },
  {
   "cell_type": "code",
   "execution_count": 32,
   "metadata": {},
   "outputs": [],
   "source": [
    "#  periods=30\n",
    "\n"
   ]
  },
  {
   "cell_type": "code",
   "execution_count": 33,
   "metadata": {},
   "outputs": [],
   "source": [
    "# end = '2017-07-01', periods = 30\n",
    "\n",
    "\n"
   ]
  },
  {
   "cell_type": "code",
   "execution_count": 34,
   "metadata": {},
   "outputs": [],
   "source": [
    "# freq='B' : 영업일 (주말은 제외)\n",
    "\n",
    "\n"
   ]
  },
  {
   "cell_type": "code",
   "execution_count": 35,
   "metadata": {},
   "outputs": [],
   "source": [
    "# freq='BM' : 월 영업 마감일\n",
    "\n",
    "\n"
   ]
  },
  {
   "cell_type": "code",
   "execution_count": 36,
   "metadata": {},
   "outputs": [],
   "source": [
    "# pd.date_range('2017/8/8 09:09:09')\n",
    "# periods = 5\n",
    "# 시간정보를 포함해서 일자를 나열\n",
    "\n",
    "\n"
   ]
  },
  {
   "cell_type": "code",
   "execution_count": 37,
   "metadata": {},
   "outputs": [],
   "source": [
    "# normalize = True\n",
    "# 시간정보를 '자정'으로 '정규화'가 필요할 떄\n",
    "\n",
    "\n"
   ]
  },
  {
   "cell_type": "code",
   "execution_count": 38,
   "metadata": {},
   "outputs": [],
   "source": [
    "# freq='4h'\n",
    "# 시간정보를 '시간'간격으로 필요할 떄\n",
    "\n",
    "\n"
   ]
  },
  {
   "cell_type": "code",
   "execution_count": 39,
   "metadata": {},
   "outputs": [],
   "source": [
    "# freq='1h30min'\n",
    "# 시간정보를 '시간 분'간격으로 필요할 떄\n",
    "\n",
    "\n"
   ]
  },
  {
   "cell_type": "markdown",
   "metadata": {},
   "source": [
    "<br>\n",
    "#### **2) Datetime 데이터 포맷의 변환**\n",
    "사용자에게 유용한 형태로 변환하기\n",
    "1. .strftime()\n",
    "1. .isocalendar()"
   ]
  },
  {
   "cell_type": "code",
   "execution_count": 40,
   "metadata": {},
   "outputs": [],
   "source": [
    "# 결과로 출력할 포맷을 변경\n",
    "\n",
    "\n"
   ]
  },
  {
   "cell_type": "code",
   "execution_count": 41,
   "metadata": {},
   "outputs": [],
   "source": [
    "# .isocalendar() : Iso Calendar 값을 게산후 출력\n",
    "\n",
    "\n"
   ]
  },
  {
   "cell_type": "markdown",
   "metadata": {},
   "source": [
    "<br><br>\n",
    "## **4  Pandas Pivot Table** \n",
    "대용량 데이터 Pivot Table 생성하기\n",
    "\n",
    "http://pbpython.com/pandas-pivot-table-explained.html\n",
    "\n",
    "<img src=\"http://pbpython.com/images/pivot-table-datasheet.png\" align='left' width='500'>"
   ]
  },
  {
   "cell_type": "code",
   "execution_count": 42,
   "metadata": {},
   "outputs": [],
   "source": [
    "# pandas.read_excel()\n",
    "# Excel 데이터 불러오기\n",
    "\n",
    "\n"
   ]
  },
  {
   "cell_type": "code",
   "execution_count": 43,
   "metadata": {},
   "outputs": [],
   "source": [
    "# .astype(\"category\")\n",
    "# 'Status' 컬럼의 데이터를 'category' 타입으로 변환\n",
    "# 'category' 타입의 우선순위를 임의로 정의한다\n",
    "# .cat.set_categories([ ],inplace=True)\n",
    "\n",
    "\n"
   ]
  },
  {
   "cell_type": "code",
   "execution_count": 44,
   "metadata": {},
   "outputs": [],
   "source": [
    "# pandas.pivot_table(df, index = [\"Name\"])\n",
    "# Pivot Table을 생성한다\n",
    "# 다층 인덱스를 갖는 Pivot Table\n",
    "\n",
    "\n"
   ]
  },
  {
   "cell_type": "code",
   "execution_count": 45,
   "metadata": {},
   "outputs": [],
   "source": [
    "# index = \n",
    "# index 순서를 바꾸면, 공통된 그룹끼리 자동으로 묶는다\n",
    "\n",
    "\n"
   ]
  },
  {
   "cell_type": "code",
   "execution_count": 46,
   "metadata": {},
   "outputs": [],
   "source": [
    "# values = \n",
    "# (Default) value에서 정의한 \"Price\"는 mean() 평균값을 출력한다\n",
    "\n",
    "\n"
   ]
  },
  {
   "cell_type": "code",
   "execution_count": 47,
   "metadata": {},
   "outputs": [],
   "source": [
    "# aggfunc =\n",
    "# value에서 정의한 \"Price\"의 갯수와, 평균, np.sum 를 출력\n",
    "\n",
    "\n"
   ]
  },
  {
   "cell_type": "code",
   "execution_count": 48,
   "metadata": {},
   "outputs": [],
   "source": [
    "# columns =\n",
    "# 컬럼에 제품을 열거하여, 제품별 Pivot Table을 확인한다\n",
    "# columns = 는 옵션으로 생각하고, 컬럼의 기본설정은 value= 로 정의를 한다\n",
    "\n",
    "\n"
   ]
  },
  {
   "cell_type": "code",
   "execution_count": 49,
   "metadata": {},
   "outputs": [],
   "source": [
    "# fill_value = 0\n",
    "\n",
    "\n"
   ]
  },
  {
   "cell_type": "code",
   "execution_count": 50,
   "metadata": {},
   "outputs": [],
   "source": [
    "# margins = True \n",
    "# 컬럼의 합계 row를 추가한다\n",
    "\n",
    "\n"
   ]
  }
 ],
 "metadata": {
  "kernelspec": {
   "display_name": "Python 3",
   "language": "python",
   "name": "python3"
  },
  "language_info": {
   "codemirror_mode": {
    "name": "ipython",
    "version": 3
   },
   "file_extension": ".py",
   "mimetype": "text/x-python",
   "name": "python",
   "nbconvert_exporter": "python",
   "pygments_lexer": "ipython3",
   "version": "3.6.4"
  }
 },
 "nbformat": 4,
 "nbformat_minor": 2
}
