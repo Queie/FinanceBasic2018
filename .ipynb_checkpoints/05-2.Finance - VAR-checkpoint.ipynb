{
 "cells": [
  {
   "cell_type": "markdown",
   "metadata": {},
   "source": [
    "<br>\n",
    "# ** 5-2 Finance Analysis - VaR**\n",
    "파이썬을 활용한 금융분석"
   ]
  },
  {
   "cell_type": "markdown",
   "metadata": {},
   "source": [
    "<br><br>\n",
    "## **1 데이터 불러오기**\n",
    "Golden Cross / Death Cross"
   ]
  },
  {
   "cell_type": "markdown",
   "metadata": {},
   "source": [
    "### **01 Pandas_datareader**\n",
    "> **from** &nbsp;&nbsp;  pandas_datareader &nbsp;&nbsp; **import** &nbsp;&nbsp; get_data_yahoo\n"
   ]
  },
  {
   "cell_type": "code",
   "execution_count": 1,
   "metadata": {},
   "outputs": [],
   "source": [
    "from pandas_datareader import get_data_yahoo\n",
    "start_date = '2013-01-01'\n",
    "codes = ['GM', 'KO', '005930.KS', '000660.KS']\n",
    "result = {}\n",
    "for code in codes:\n",
    "    result[code] = get_data_yahoo(code, start_date).Close"
   ]
  },
  {
   "cell_type": "code",
   "execution_count": 2,
   "metadata": {},
   "outputs": [
    {
     "data": {
      "text/html": [
       "<div>\n",
       "<style scoped>\n",
       "    .dataframe tbody tr th:only-of-type {\n",
       "        vertical-align: middle;\n",
       "    }\n",
       "\n",
       "    .dataframe tbody tr th {\n",
       "        vertical-align: top;\n",
       "    }\n",
       "\n",
       "    .dataframe thead th {\n",
       "        text-align: right;\n",
       "    }\n",
       "</style>\n",
       "<table border=\"1\" class=\"dataframe\">\n",
       "  <thead>\n",
       "    <tr style=\"text-align: right;\">\n",
       "      <th></th>\n",
       "      <th>GM</th>\n",
       "      <th>KO</th>\n",
       "      <th>005930.KS</th>\n",
       "      <th>000660.KS</th>\n",
       "    </tr>\n",
       "    <tr>\n",
       "      <th>Date</th>\n",
       "      <th></th>\n",
       "      <th></th>\n",
       "      <th></th>\n",
       "      <th></th>\n",
       "    </tr>\n",
       "  </thead>\n",
       "  <tbody>\n",
       "    <tr>\n",
       "      <th>2012-12-31</th>\n",
       "      <td>28.830000</td>\n",
       "      <td>36.250000</td>\n",
       "      <td>NaN</td>\n",
       "      <td>NaN</td>\n",
       "    </tr>\n",
       "    <tr>\n",
       "      <th>2013-01-02</th>\n",
       "      <td>29.129999</td>\n",
       "      <td>37.599998</td>\n",
       "      <td>31520.0</td>\n",
       "      <td>26600.0</td>\n",
       "    </tr>\n",
       "    <tr>\n",
       "      <th>2013-01-03</th>\n",
       "      <td>29.820000</td>\n",
       "      <td>37.599998</td>\n",
       "      <td>30860.0</td>\n",
       "      <td>26650.0</td>\n",
       "    </tr>\n",
       "  </tbody>\n",
       "</table>\n",
       "</div>"
      ],
      "text/plain": [
       "                   GM         KO  005930.KS  000660.KS\n",
       "Date                                                  \n",
       "2012-12-31  28.830000  36.250000        NaN        NaN\n",
       "2013-01-02  29.129999  37.599998    31520.0    26600.0\n",
       "2013-01-03  29.820000  37.599998    30860.0    26650.0"
      ]
     },
     "execution_count": 2,
     "metadata": {},
     "output_type": "execute_result"
    }
   ],
   "source": [
    "import pandas as pd\n",
    "prices = pd.DataFrame(result)\n",
    "prices.head(3)"
   ]
  },
  {
   "cell_type": "code",
   "execution_count": 3,
   "metadata": {},
   "outputs": [
    {
     "data": {
      "text/html": [
       "<div>\n",
       "<style scoped>\n",
       "    .dataframe tbody tr th:only-of-type {\n",
       "        vertical-align: middle;\n",
       "    }\n",
       "\n",
       "    .dataframe tbody tr th {\n",
       "        vertical-align: top;\n",
       "    }\n",
       "\n",
       "    .dataframe thead th {\n",
       "        text-align: right;\n",
       "    }\n",
       "</style>\n",
       "<table border=\"1\" class=\"dataframe\">\n",
       "  <thead>\n",
       "    <tr style=\"text-align: right;\">\n",
       "      <th></th>\n",
       "      <th>GM</th>\n",
       "      <th>KO</th>\n",
       "      <th>005930.KS</th>\n",
       "      <th>000660.KS</th>\n",
       "    </tr>\n",
       "    <tr>\n",
       "      <th>Date</th>\n",
       "      <th></th>\n",
       "      <th></th>\n",
       "      <th></th>\n",
       "      <th></th>\n",
       "    </tr>\n",
       "  </thead>\n",
       "  <tbody>\n",
       "    <tr>\n",
       "      <th>2018-06-01</th>\n",
       "      <td>43.200001</td>\n",
       "      <td>43.119999</td>\n",
       "      <td>51300.0</td>\n",
       "      <td>91400.0</td>\n",
       "    </tr>\n",
       "    <tr>\n",
       "      <th>2018-06-04</th>\n",
       "      <td>43.779999</td>\n",
       "      <td>43.490002</td>\n",
       "      <td>51100.0</td>\n",
       "      <td>89800.0</td>\n",
       "    </tr>\n",
       "    <tr>\n",
       "      <th>2018-06-05</th>\n",
       "      <td>43.410000</td>\n",
       "      <td>43.110001</td>\n",
       "      <td>51300.0</td>\n",
       "      <td>91000.0</td>\n",
       "    </tr>\n",
       "  </tbody>\n",
       "</table>\n",
       "</div>"
      ],
      "text/plain": [
       "                   GM         KO  005930.KS  000660.KS\n",
       "Date                                                  \n",
       "2018-06-01  43.200001  43.119999    51300.0    91400.0\n",
       "2018-06-04  43.779999  43.490002    51100.0    89800.0\n",
       "2018-06-05  43.410000  43.110001    51300.0    91000.0"
      ]
     },
     "execution_count": 3,
     "metadata": {},
     "output_type": "execute_result"
    }
   ],
   "source": [
    "prices = prices.fillna(method='ffill')\n",
    "prices = prices.dropna()                \n",
    "prices.to_csv('./data/stock.csv', encoding=\"ms949\")\n",
    "prices.tail(3)"
   ]
  },
  {
   "cell_type": "markdown",
   "metadata": {},
   "source": [
    "<br>\n",
    "### **02 Read from CSV**\n",
    "pandas"
   ]
  },
  {
   "cell_type": "markdown",
   "metadata": {},
   "source": [
    "<br>\n",
    "### **02 주가간의 상관계수 분석**"
   ]
  },
  {
   "cell_type": "code",
   "execution_count": 21,
   "metadata": {},
   "outputs": [
    {
     "data": {
      "text/html": [
       "<div>\n",
       "<style scoped>\n",
       "    .dataframe tbody tr th:only-of-type {\n",
       "        vertical-align: middle;\n",
       "    }\n",
       "\n",
       "    .dataframe tbody tr th {\n",
       "        vertical-align: top;\n",
       "    }\n",
       "\n",
       "    .dataframe thead th {\n",
       "        text-align: right;\n",
       "    }\n",
       "</style>\n",
       "<table border=\"1\" class=\"dataframe\">\n",
       "  <thead>\n",
       "    <tr style=\"text-align: right;\">\n",
       "      <th></th>\n",
       "      <th>000660.KS</th>\n",
       "      <th>005930.KS</th>\n",
       "      <th>GM</th>\n",
       "      <th>KO</th>\n",
       "    </tr>\n",
       "  </thead>\n",
       "  <tbody>\n",
       "    <tr>\n",
       "      <th>000660.KS</th>\n",
       "      <td>1.000000</td>\n",
       "      <td>0.341245</td>\n",
       "      <td>0.108684</td>\n",
       "      <td>0.039834</td>\n",
       "    </tr>\n",
       "    <tr>\n",
       "      <th>005930.KS</th>\n",
       "      <td>0.341245</td>\n",
       "      <td>1.000000</td>\n",
       "      <td>0.076782</td>\n",
       "      <td>0.045611</td>\n",
       "    </tr>\n",
       "    <tr>\n",
       "      <th>GM</th>\n",
       "      <td>0.108684</td>\n",
       "      <td>0.076782</td>\n",
       "      <td>1.000000</td>\n",
       "      <td>0.267551</td>\n",
       "    </tr>\n",
       "    <tr>\n",
       "      <th>KO</th>\n",
       "      <td>0.039834</td>\n",
       "      <td>0.045611</td>\n",
       "      <td>0.267551</td>\n",
       "      <td>1.000000</td>\n",
       "    </tr>\n",
       "  </tbody>\n",
       "</table>\n",
       "</div>"
      ],
      "text/plain": [
       "           000660.KS  005930.KS        GM        KO\n",
       "000660.KS   1.000000   0.341245  0.108684  0.039834\n",
       "005930.KS   0.341245   1.000000  0.076782  0.045611\n",
       "GM          0.108684   0.076782  1.000000  0.267551\n",
       "KO          0.039834   0.045611  0.267551  1.000000"
      ]
     },
     "execution_count": 21,
     "metadata": {},
     "output_type": "execute_result"
    }
   ],
   "source": [
    "prices_corr = prices.pct_change().dropna().corr()\n",
    "prices_corr"
   ]
  },
  {
   "cell_type": "code",
   "execution_count": 22,
   "metadata": {},
   "outputs": [
    {
     "data": {
      "text/plain": [
       "<matplotlib.axes._subplots.AxesSubplot at 0x7f4e045148d0>"
      ]
     },
     "execution_count": 22,
     "metadata": {},
     "output_type": "execute_result"
    },
    {
     "data": {
      "image/png": "[encoded data removed]",
      "text/plain": [
       "<matplotlib.figure.Figure at 0x7f4e0f56abe0>"
      ]
     },
     "metadata": {},
     "output_type": "display_data"
    }
   ],
   "source": [
    "%matplotlib inline\n",
    "import seaborn as sns\n",
    "sns.heatmap(prices_corr)"
   ]
  },
  {
   "cell_type": "markdown",
   "metadata": {},
   "source": [
    "<br><br>\n",
    "## **2 Value At Risk**"
   ]
  },
  {
   "cell_type": "code",
   "execution_count": 23,
   "metadata": {},
   "outputs": [
    {
     "data": {
      "text/html": [
       "<div>\n",
       "<style scoped>\n",
       "    .dataframe tbody tr th:only-of-type {\n",
       "        vertical-align: middle;\n",
       "    }\n",
       "\n",
       "    .dataframe tbody tr th {\n",
       "        vertical-align: top;\n",
       "    }\n",
       "\n",
       "    .dataframe thead th {\n",
       "        text-align: right;\n",
       "    }\n",
       "</style>\n",
       "<table border=\"1\" class=\"dataframe\">\n",
       "  <thead>\n",
       "    <tr style=\"text-align: right;\">\n",
       "      <th></th>\n",
       "      <th>Code</th>\n",
       "      <th>신뢰구간 최대손실금액 (Value at Risk)</th>\n",
       "      <th>리스크 비율</th>\n",
       "    </tr>\n",
       "  </thead>\n",
       "  <tbody>\n",
       "    <tr>\n",
       "      <th>3</th>\n",
       "      <td>KO</td>\n",
       "      <td>20162.55</td>\n",
       "      <td>2.02</td>\n",
       "    </tr>\n",
       "    <tr>\n",
       "      <th>2</th>\n",
       "      <td>GM</td>\n",
       "      <td>34685.95</td>\n",
       "      <td>3.47</td>\n",
       "    </tr>\n",
       "    <tr>\n",
       "      <th>1</th>\n",
       "      <td>005930.KS</td>\n",
       "      <td>36161.18</td>\n",
       "      <td>3.62</td>\n",
       "    </tr>\n",
       "    <tr>\n",
       "      <th>0</th>\n",
       "      <td>000660.KS</td>\n",
       "      <td>46802.37</td>\n",
       "      <td>4.68</td>\n",
       "    </tr>\n",
       "  </tbody>\n",
       "</table>\n",
       "</div>"
      ],
      "text/plain": [
       "        Code  신뢰구간 최대손실금액 (Value at Risk)  리스크 비율\n",
       "3         KO                     20162.55    2.02\n",
       "2         GM                     34685.95    3.47\n",
       "1  005930.KS                     36161.18    3.62\n",
       "0  000660.KS                     46802.37    4.68"
      ]
     },
     "execution_count": 23,
     "metadata": {},
     "output_type": "execute_result"
    }
   ],
   "source": [
    "def var_cov_var(P, c, prices):\n",
    "    import numpy as np\n",
    "    import pandas as pd\n",
    "    from scipy.stats import norm\n",
    "    \n",
    "    result = []\n",
    "    codes = prices.columns\n",
    "    for code in codes:\n",
    "        price  = prices[code].pct_change()\n",
    "        mu     = np.mean(price)\n",
    "        sigma  = np.std(price)\n",
    "        alpha  = norm.ppf( 1-c , mu , sigma )\n",
    "        var    = P - P * ( alpha + 1 )\n",
    "        result.append([code, round(var, 2), round(var/P * 100, 2)])\n",
    "\n",
    "    df         = pd.DataFrame(result)\n",
    "    df.columns = ['Code' , '신뢰구간 최대손실금액 (Value at Risk)', '리스크 비율']\n",
    "    df         = df.sort_values('리스크 비율', ascending=True)\n",
    "    return df\n",
    "\n",
    "P    = 1e6\n",
    "c    = 0.99\n",
    "df = var_cov_var(P,c,prices)\n",
    "df"
   ]
  }
 ],
 "metadata": {
  "kernelspec": {
   "display_name": "Python 3",
   "language": "python",
   "name": "python3"
  },
  "language_info": {
   "codemirror_mode": {
    "name": "ipython",
    "version": 3
   },
   "file_extension": ".py",
   "mimetype": "text/x-python",
   "name": "python",
   "nbconvert_exporter": "python",
   "pygments_lexer": "ipython3",
   "version": "3.6.3"
  }
 },
 "nbformat": 4,
 "nbformat_minor": 2
}
