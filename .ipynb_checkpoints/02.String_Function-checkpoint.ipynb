{
 "cells": [
  {
   "cell_type": "markdown",
   "metadata": {},
   "source": [
    "# **_2. String & functions_**\n",
    "**금융데이터를 활용한 파이썬 기초 객체**\n"
   ]
  },
  {
   "cell_type": "markdown",
   "metadata": {},
   "source": [
    "<br><br>\n",
    "## **1 String 데이터 다루기**\n",
    "파이썬 내장함수의 활용 | [출처](https://wikidocs.net/13)"
   ]
  },
  {
   "cell_type": "markdown",
   "metadata": {},
   "source": [
    "<br>\n",
    "### **01 .replace(), .split().find()**\n",
    "파이썬 내장 메소드로, 이를 많이 쓰는게 빠르고 호환성에도 좋다"
   ]
  },
  {
   "cell_type": "markdown",
   "metadata": {},
   "source": [
    "### **02 .format()**\n",
    "1. 책에보면 %s, %d 등도 있지만, 그냥 .format() 하나만 쓰자!!\n",
    "1. { 인덱스 주소(숫자, 문자 모두가능) : format 설정값 }\n",
    "1. format 의 String 설정값\n",
    "    1. <10 : 왼쪽에서 부터 10개 공간값 설정\n",
    "    1. \\>10 : 오른쪽에서 부터 10개 공간값 설정\n",
    "    1. ^10 : 전체 10개 공간에서 가운데 정렬\n",
    "    1. 기호내용^10 : 빈 공간을 기호내용으로 채움 \n",
    "\n",
    "1. format 의 float() 설정값 (소숫점 자릿수 설정)\n",
    "    1. integer(정수) : 출력할 숫자갯수\n",
    "    1. 0.4f : 소숫점 자릿수 정의\n",
    "    1. 10.4f : 자릿수 를 10으로 맞춘다"
   ]
  },
  {
   "cell_type": "code",
   "execution_count": 1,
   "metadata": {},
   "outputs": [],
   "source": [
    "# : .글자수"
   ]
  },
  {
   "cell_type": "code",
   "execution_count": null,
   "metadata": {},
   "outputs": [],
   "source": []
  },
  {
   "cell_type": "code",
   "execution_count": 2,
   "metadata": {},
   "outputs": [],
   "source": [
    "# : < 10 : 왼쪽정렬, 글자 자릿수\n",
    "# : .3f  : 소숫점 자릿수"
   ]
  },
  {
   "cell_type": "code",
   "execution_count": null,
   "metadata": {},
   "outputs": [],
   "source": []
  },
  {
   "cell_type": "markdown",
   "metadata": {},
   "source": [
    "### **03 regrex**\n",
    "http://www.nextree.co.kr/p4327/\n",
    "1. '\\n' : 줄바꿈 처리\n",
    "1. '\\t' : tap 공간 여백처리"
   ]
  },
  {
   "cell_type": "code",
   "execution_count": null,
   "metadata": {},
   "outputs": [],
   "source": []
  },
  {
   "cell_type": "markdown",
   "metadata": {},
   "source": [
    "<br>\n",
    "### **04 기타 string 관련 메소드 들**\n",
    "1. 아.. 이런게있구나 알아두는 정도\n",
    "1. 다양한 전처리는 .. import re 를 통한 정규식을 더 많이 쓴다\n",
    "1. (java, javascript등에서도 통용) ('정규표현식'의 문법에 익숙하므로)\n",
    "1. .count()\n",
    "1. .find()\n",
    "1. .index()\n",
    "1. .join()\n",
    "1. .strip()   # 모든 공백제거\n",
    "1. .lstrip()  # 왼쪽 공백만 제거\n",
    "1. .rstrip()  # 오른쪽 공백만 제거"
   ]
  },
  {
   "cell_type": "markdown",
   "metadata": {},
   "source": [
    "<br><br>\n",
    "## **2 Function 함수**\n",
    "1. 파이썬 내장함수\n",
    "1. 파이썬 사용자함수 ( def:, class:)\n",
    "1. 파이썬 외부함수  (미리 설치를 필요로 한다 $ pip install 모듈 )"
   ]
  },
  {
   "cell_type": "markdown",
   "metadata": {},
   "source": [
    "<br>\n",
    "1. 조건문 : **if**  ==> true/ false (boolean)\n",
    "1. 반복문 : **while, for** ==>  함수를 반복적 실행\n",
    "1. 함수 : 사칙연산, 내장함수, 외부모듈함수, 메소드\n",
    "위의 개념들을 통해서 코드를 분해해서 해석을 하는 노력을 하자"
   ]
  },
  {
   "cell_type": "markdown",
   "metadata": {},
   "source": [
    "<br>\n",
    "### **01 if 판단문**\n",
    "if 판단 후, True/ False 결과값을 지정한다"
   ]
  },
  {
   "cell_type": "code",
   "execution_count": null,
   "metadata": {},
   "outputs": [],
   "source": []
  },
  {
   "cell_type": "markdown",
   "metadata": {},
   "source": [
    "<br>\n",
    "### **02 for 반복문**\n",
    "1. format : &nbsp;&nbsp; for &nbsp;&nbsp; 객체명 &nbsp;&nbsp; in &nbsp;&nbsp; 가져올 DB목록:"
   ]
  },
  {
   "cell_type": "code",
   "execution_count": null,
   "metadata": {},
   "outputs": [],
   "source": []
  },
  {
   "cell_type": "markdown",
   "metadata": {},
   "source": [
    "<br>\n",
    "### **03 [list 함수] : for 반복문의 활용 **\n",
    "for 반복실행결과, 여러개의 결과를 출력한다\n",
    "\n",
    "[list Data 선언] 내부에 반복문('for'), 판단문('if')을 사용 가능"
   ]
  },
  {
   "cell_type": "code",
   "execution_count": null,
   "metadata": {},
   "outputs": [],
   "source": []
  },
  {
   "cell_type": "markdown",
   "metadata": {},
   "source": [
    "<br>\n",
    "### **04 {dict 함수} : for 반복문의 활용 **\n",
    "for 반복실행결과, 여러개의 결과를 출력한다\n",
    "\n",
    "{ key값 : value값  Data 선언] 내부에 반복문('for'), 판단문('if')을 사용 가능"
   ]
  },
  {
   "cell_type": "code",
   "execution_count": 3,
   "metadata": {},
   "outputs": [],
   "source": [
    "# { key : value    for  객체  in  데이터 }\n",
    "# [ 객체            for  객체  in  데이터 ]"
   ]
  },
  {
   "cell_type": "code",
   "execution_count": null,
   "metadata": {},
   "outputs": [],
   "source": []
  },
  {
   "cell_type": "markdown",
   "metadata": {},
   "source": [
    "<br><br>\n",
    "## **3 사용자 함수와 Class**\n",
    "1. def\n",
    "1. class"
   ]
  },
  {
   "cell_type": "markdown",
   "metadata": {},
   "source": [
    "<br>\n",
    "### **01 사용자 함수 기본형태**\n",
    "함수와 매개변수 이해하기"
   ]
  },
  {
   "cell_type": "code",
   "execution_count": 4,
   "metadata": {},
   "outputs": [],
   "source": [
    "# 함수형 매개변수\n"
   ]
  },
  {
   "cell_type": "code",
   "execution_count": 5,
   "metadata": {},
   "outputs": [],
   "source": [
    "# lambda : 익명함수\n",
    "# 별도의 메모리에 저장되지 않아서, 재활용에 용이하다 \n",
    "# 반복적 작업에 상당한 성능효과가 있어서 모든 언어에 다 적용"
   ]
  },
  {
   "cell_type": "code",
   "execution_count": null,
   "metadata": {},
   "outputs": [],
   "source": []
  },
  {
   "cell_type": "markdown",
   "metadata": {},
   "source": [
    "<br>\n",
    "### **02 사용자 클래스 만들기**\n",
    "1. 함수들을 묶는 집합을 정의 가능하다\n",
    "1. 클래스는 함수와 달리 바로 쓰지 못하고, **'인스턴스'** 중간객체에 클래스 내용을 저장한 뒤 이를 끌어다 사용한다"
   ]
  },
  {
   "cell_type": "code",
   "execution_count": 6,
   "metadata": {},
   "outputs": [],
   "source": [
    "# 클래스 내부 변수설정 및 메서드\n",
    "# 'self' : 인스턴스 생성시 클래스 인스턴스 내부의 전역변수\n"
   ]
  },
  {
   "cell_type": "code",
   "execution_count": 7,
   "metadata": {},
   "outputs": [],
   "source": [
    "# 클래스 활용\n"
   ]
  },
  {
   "cell_type": "markdown",
   "metadata": {},
   "source": [
    "<br><br>\n",
    "## **3 마무리**\n",
    "1. 여러객체를 **_순차적으로 담을 수 있는_** [ list ]\n",
    "1. 여러객체를 **_임의의 주소값으로 담을 수 있는_** {dict}\n",
    "1. **_원본 DATABASE에서 추출하여 순차적으로 담긴_** (tuple,)"
   ]
  },
  {
   "cell_type": "markdown",
   "metadata": {},
   "source": [
    "<br>\n",
    "1. 파이썬 코딩의 기본 3요소 : Data,  2.함수,  3.연결부호\n",
    "1. 함수에서 연결부호 : Python 기본함수 그리고 메서드, 이를 응용한 Pandas 함수와 메서드\n",
    "1. 객체에서 연결부호 : \"문자\", '문자', 숫자, [list], {dict : }, (tuple, )\n",
    "1. Python 기본함수 : 판단문, 반복문, 함수문\n",
    "\n",
    "<img src=\"http://cfile3.uf.tistory.com/image/275AF04159577681118067\" align=\"left\">"
   ]
  },
  {
   "cell_type": "code",
   "execution_count": 8,
   "metadata": {},
   "outputs": [],
   "source": [
    "### 복습\n",
    "# len()\n",
    "# type()\n",
    "# int()\n",
    "# float()\n",
    "# str()\n",
    "# list() : {dict}, (tuple) --> [list]\n",
    "# dict() : "
   ]
  },
  {
   "cell_type": "code",
   "execution_count": 9,
   "metadata": {},
   "outputs": [],
   "source": [
    "### 숫자 \n",
    "# integer(정수) : index, slicing, counting\n",
    "# float(실수) : 연산\n",
    "\n",
    "### 문자\n",
    "# 'datum' :  문자와 문자의 사칙연산,  Indexing/ Slicing,  Counting....\n",
    "# data  :  매개변수\n",
    "\n",
    "# [ list ]   :  integer index 값이 숨어있다. (0 ~ -1)\n",
    "# { key : value }"
   ]
  },
  {
   "cell_type": "code",
   "execution_count": 10,
   "metadata": {},
   "outputs": [
    {
     "data": {
      "text/html": [
       "<div>\n",
       "<style scoped>\n",
       "    .dataframe tbody tr th:only-of-type {\n",
       "        vertical-align: middle;\n",
       "    }\n",
       "\n",
       "    .dataframe tbody tr th {\n",
       "        vertical-align: top;\n",
       "    }\n",
       "\n",
       "    .dataframe thead th {\n",
       "        text-align: right;\n",
       "    }\n",
       "</style>\n",
       "<table border=\"1\" class=\"dataframe\">\n",
       "  <thead>\n",
       "    <tr style=\"text-align: right;\">\n",
       "      <th></th>\n",
       "      <th>Date</th>\n",
       "      <th>Open</th>\n",
       "      <th>High</th>\n",
       "      <th>Low</th>\n",
       "      <th>Close</th>\n",
       "      <th>Volume</th>\n",
       "      <th>Market Cap</th>\n",
       "    </tr>\n",
       "  </thead>\n",
       "  <tbody>\n",
       "    <tr>\n",
       "      <th>0</th>\n",
       "      <td>Jan 03, 2018</td>\n",
       "      <td>14978.2</td>\n",
       "      <td>15572.8</td>\n",
       "      <td>14844.5</td>\n",
       "      <td>15201.0</td>\n",
       "      <td>16871900000</td>\n",
       "      <td>251312000000</td>\n",
       "    </tr>\n",
       "    <tr>\n",
       "      <th>1</th>\n",
       "      <td>Jan 04, 2018</td>\n",
       "      <td>15270.7</td>\n",
       "      <td>15739.7</td>\n",
       "      <td>14522.2</td>\n",
       "      <td>15599.2</td>\n",
       "      <td>21783200000</td>\n",
       "      <td>256250000000</td>\n",
       "    </tr>\n",
       "    <tr>\n",
       "      <th>2</th>\n",
       "      <td>Jan 05, 2018</td>\n",
       "      <td>15477.2</td>\n",
       "      <td>17705.2</td>\n",
       "      <td>15202.8</td>\n",
       "      <td>17429.5</td>\n",
       "      <td>23840900000</td>\n",
       "      <td>259748000000</td>\n",
       "    </tr>\n",
       "  </tbody>\n",
       "</table>\n",
       "</div>"
      ],
      "text/plain": [
       "           Date     Open     High      Low    Close       Volume    Market Cap\n",
       "0  Jan 03, 2018  14978.2  15572.8  14844.5  15201.0  16871900000  251312000000\n",
       "1  Jan 04, 2018  15270.7  15739.7  14522.2  15599.2  21783200000  256250000000\n",
       "2  Jan 05, 2018  15477.2  17705.2  15202.8  17429.5  23840900000  259748000000"
      ]
     },
     "execution_count": 10,
     "metadata": {},
     "output_type": "execute_result"
    },
    {
     "data": {
      "image/png": "[encoded data removed]",
      "text/plain": [
       "<Figure size 1152x288 with 1 Axes>"
      ]
     },
     "metadata": {},
     "output_type": "display_data"
    }
   ],
   "source": [
    "# 예고!!!\n",
    "\n",
    "# 비트코인가격 수집하기\n",
    "import pandas as pd\n",
    "prices = pd.read_html(\"https://coinmarketcap.com/currencies/bitcoin/historical-data/?start=20180103&end=20180503\")[0]\n",
    "prices = prices[::-1]\n",
    "prices.reset_index(inplace=True, drop=True)\n",
    "\n",
    "%matplotlib inline\n",
    "prices.Close.plot(figsize=(16,4), grid=True)\n",
    "prices.head(3)"
   ]
  },
  {
   "cell_type": "code",
   "execution_count": 11,
   "metadata": {
    "scrolled": true
   },
   "outputs": [
    {
     "data": {
      "text/html": [
       "<div>\n",
       "<style scoped>\n",
       "    .dataframe tbody tr th:only-of-type {\n",
       "        vertical-align: middle;\n",
       "    }\n",
       "\n",
       "    .dataframe tbody tr th {\n",
       "        vertical-align: top;\n",
       "    }\n",
       "\n",
       "    .dataframe thead th {\n",
       "        text-align: right;\n",
       "    }\n",
       "</style>\n",
       "<table border=\"1\" class=\"dataframe\">\n",
       "  <thead>\n",
       "    <tr style=\"text-align: right;\">\n",
       "      <th></th>\n",
       "      <th>종목명</th>\n",
       "      <th>현재가</th>\n",
       "      <th>등락률</th>\n",
       "    </tr>\n",
       "  </thead>\n",
       "  <tbody>\n",
       "    <tr>\n",
       "      <th>2</th>\n",
       "      <td>HDC아이콘트롤스</td>\n",
       "      <td>14750</td>\n",
       "      <td>-3.28</td>\n",
       "    </tr>\n",
       "    <tr>\n",
       "      <th>3</th>\n",
       "      <td>고려개발</td>\n",
       "      <td>7720</td>\n",
       "      <td>1.18</td>\n",
       "    </tr>\n",
       "    <tr>\n",
       "      <th>4</th>\n",
       "      <td>금호산업우</td>\n",
       "      <td>24250</td>\n",
       "      <td>-5.46</td>\n",
       "    </tr>\n",
       "  </tbody>\n",
       "</table>\n",
       "</div>"
      ],
      "text/plain": [
       "0        종목명    현재가   등락률\n",
       "2  HDC아이콘트롤스  14750 -3.28\n",
       "3       고려개발   7720  1.18\n",
       "4      금호산업우  24250 -5.46"
      ]
     },
     "execution_count": 11,
     "metadata": {},
     "output_type": "execute_result"
    }
   ],
   "source": [
    "# 코스피 실시간 가격정보 수집하기\n",
    "# http://finance.daum.net/quote/all.daum?nil_stock=refresh\n",
    "import pandas as pd\n",
    "url         = \"http://finance.daum.net/quote/all.daum?nil_stock=refresh\"\n",
    "toplist     = pd.read_html(url)\n",
    "result      = [table  for i, table in enumerate(toplist)   if i >0]\n",
    "df          = pd.concat(result, axis=0).dropna()\n",
    "df.columns  = df.iloc[0,:]\n",
    "df          = df.drop(df.index[0])\n",
    "df          = pd.concat([df.iloc[:,3:], df.iloc[:,:3]])\n",
    "\n",
    "df[\"현재가\"] = df[\"현재가\"].apply(lambda x : int(x))\n",
    "df[\"등락률\"] = df[\"등락률\"].apply(lambda x : x.replace('%',''))\n",
    "df[\"등락률\"] = df[\"등락률\"].apply(lambda x : x.replace('+',''))\n",
    "df[\"등락률\"] = df[\"등락률\"].apply(lambda x : float(x))\n",
    "df.head(3)"
   ]
  },
  {
   "cell_type": "code",
   "execution_count": 12,
   "metadata": {
    "scrolled": true
   },
   "outputs": [
    {
     "data": {
      "text/plain": [
       "-0.5156433408577878"
      ]
     },
     "execution_count": 12,
     "metadata": {},
     "output_type": "execute_result"
    }
   ],
   "source": [
    "df[\"등락률\"].mean()"
   ]
  },
  {
   "cell_type": "code",
   "execution_count": 13,
   "metadata": {},
   "outputs": [
    {
     "data": {
      "text/plain": [
       "-0.24"
      ]
     },
     "execution_count": 13,
     "metadata": {},
     "output_type": "execute_result"
    }
   ],
   "source": [
    "df[\"등락률\"].median()"
   ]
  },
  {
   "cell_type": "code",
   "execution_count": 14,
   "metadata": {},
   "outputs": [
    {
     "data": {
      "text/plain": [
       "<matplotlib.axes._subplots.AxesSubplot at 0x7f771f1266d8>"
      ]
     },
     "execution_count": 14,
     "metadata": {},
     "output_type": "execute_result"
    },
    {
     "data": {
      "image/png": "[encoded data removed]",
      "text/plain": [
       "<Figure size 1800x216 with 1 Axes>"
      ]
     },
     "metadata": {},
     "output_type": "display_data"
    }
   ],
   "source": [
    "%matplotlib inline\n",
    "df = df.sort_values('등락률', ascending=False)\n",
    "df[\"등락률\"].plot(kind='bar',figsize=(25,3))"
   ]
  },
  {
   "cell_type": "markdown",
   "metadata": {},
   "source": [
    "<br>\n",
    "### **02 사용자 함수 만들기**\n",
    "1. 위에서 작업한 내용들을 1개의 함수로 묶는다\n",
    "1. 즉 하청기업에 떠넘김으로써, 중간재 없이 최종 결과만 챙길 수 있다\n",
    "1. 이로써 메모리 및 리소스 를 아낄 수 있다"
   ]
  },
  {
   "cell_type": "code",
   "execution_count": 15,
   "metadata": {},
   "outputs": [],
   "source": [
    "# 해당 종목의 가격정보 수집하기\n",
    "def get_date_naver(code, page=1):\n",
    "    import pandas as pd\n",
    "    print(\"{} Page {} Day history data\".format(page, page*10))\n",
    "    result = []\n",
    "    for i in range(1, page+1):\n",
    "        df = pd.read_html(\"http://finance.naver.com/item/sise_day.nhn?code=\" + code + \"&page=\" + str(i))[0]\n",
    "        result.append(df.iloc[1:,:])\n",
    "    df = pd.concat(result)\n",
    "\n",
    "    df.columns = [\"Date\",\"Close\",\"Change\",\"Price\",\"High\",\"Low\",\"Volume\"]\n",
    "    df.Date    = df[\"Date\"].apply(lambda x : x.replace('.','-'))\n",
    "    df.Date    = pd.DatetimeIndex(df['Date'])\n",
    "    for col in df.columns[1:]:\n",
    "        df[col] = df[col].apply(lambda x : int(x))\n",
    "    return df.set_index('Date')"
   ]
  },
  {
   "cell_type": "code",
   "execution_count": 16,
   "metadata": {
    "scrolled": true
   },
   "outputs": [
    {
     "name": "stdout",
     "output_type": "stream",
     "text": [
      "10 Page 100 Day history data\n"
     ]
    },
    {
     "data": {
      "text/html": [
       "<div>\n",
       "<style scoped>\n",
       "    .dataframe tbody tr th:only-of-type {\n",
       "        vertical-align: middle;\n",
       "    }\n",
       "\n",
       "    .dataframe tbody tr th {\n",
       "        vertical-align: top;\n",
       "    }\n",
       "\n",
       "    .dataframe thead th {\n",
       "        text-align: right;\n",
       "    }\n",
       "</style>\n",
       "<table border=\"1\" class=\"dataframe\">\n",
       "  <thead>\n",
       "    <tr style=\"text-align: right;\">\n",
       "      <th></th>\n",
       "      <th>Close</th>\n",
       "      <th>Change</th>\n",
       "      <th>Price</th>\n",
       "      <th>High</th>\n",
       "      <th>Low</th>\n",
       "      <th>Volume</th>\n",
       "    </tr>\n",
       "    <tr>\n",
       "      <th>Date</th>\n",
       "      <th></th>\n",
       "      <th></th>\n",
       "      <th></th>\n",
       "      <th></th>\n",
       "      <th></th>\n",
       "      <th></th>\n",
       "    </tr>\n",
       "  </thead>\n",
       "  <tbody>\n",
       "    <tr>\n",
       "      <th>2017-12-08</th>\n",
       "      <td>78700</td>\n",
       "      <td>2700</td>\n",
       "      <td>77500</td>\n",
       "      <td>78900</td>\n",
       "      <td>76900</td>\n",
       "      <td>3660716</td>\n",
       "    </tr>\n",
       "    <tr>\n",
       "      <th>2017-12-07</th>\n",
       "      <td>76000</td>\n",
       "      <td>1500</td>\n",
       "      <td>78300</td>\n",
       "      <td>78300</td>\n",
       "      <td>75600</td>\n",
       "      <td>5166136</td>\n",
       "    </tr>\n",
       "    <tr>\n",
       "      <th>2017-12-06</th>\n",
       "      <td>77500</td>\n",
       "      <td>400</td>\n",
       "      <td>78700</td>\n",
       "      <td>79500</td>\n",
       "      <td>77200</td>\n",
       "      <td>3934238</td>\n",
       "    </tr>\n",
       "  </tbody>\n",
       "</table>\n",
       "</div>"
      ],
      "text/plain": [
       "            Close  Change  Price   High    Low   Volume\n",
       "Date                                                   \n",
       "2017-12-08  78700    2700  77500  78900  76900  3660716\n",
       "2017-12-07  76000    1500  78300  78300  75600  5166136\n",
       "2017-12-06  77500     400  78700  79500  77200  3934238"
      ]
     },
     "execution_count": 16,
     "metadata": {},
     "output_type": "execute_result"
    }
   ],
   "source": [
    "prices_history = get_date_naver('000660',10)\n",
    "prices_history.tail(3)"
   ]
  },
  {
   "cell_type": "code",
   "execution_count": 17,
   "metadata": {},
   "outputs": [
    {
     "data": {
      "text/plain": [
       "<matplotlib.axes._subplots.AxesSubplot at 0x7f771f124198>"
      ]
     },
     "execution_count": 17,
     "metadata": {},
     "output_type": "execute_result"
    },
    {
     "data": {
      "image/png": "[encoded data removed]",
      "text/plain": [
       "<Figure size 1296x216 with 1 Axes>"
      ]
     },
     "metadata": {},
     "output_type": "display_data"
    }
   ],
   "source": [
    "prices_history.Close.plot(figsize=(18,3), grid=True)"
   ]
  }
 ],
 "metadata": {
  "kernelspec": {
   "display_name": "Python 3",
   "language": "python",
   "name": "python3"
  },
  "language_info": {
   "codemirror_mode": {
    "name": "ipython",
    "version": 3
   },
   "file_extension": ".py",
   "mimetype": "text/x-python",
   "name": "python",
   "nbconvert_exporter": "python",
   "pygments_lexer": "ipython3",
   "version": "3.6.4"
  }
 },
 "nbformat": 4,
 "nbformat_minor": 2
}
