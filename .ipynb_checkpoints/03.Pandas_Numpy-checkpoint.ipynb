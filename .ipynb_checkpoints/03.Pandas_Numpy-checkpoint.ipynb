{
 "cells": [
  {
   "cell_type": "markdown",
   "metadata": {},
   "source": [
    "# **_3 Pandas 모듈과 패키지_**\n",
    "**금융데이터를 활용한 파이썬 기초**\n",
    "\n",
    "언의의 내용과 개념을 있는 그대로 받아들이고 이해하려고 노력하자"
   ]
  },
  {
   "cell_type": "markdown",
   "metadata": {},
   "source": [
    "<br>\n",
    "### **review Python Data & Datum**\n",
    "Python 기본문법 - 기본문법 등을 아래의 3가지 서랍속에 체계적 정리하기 \n",
    "1. Datum &nbsp;&nbsp; : &nbsp;&nbsp; 숫자, &nbsp;\"문자\" \n",
    "1. Data &nbsp;&nbsp; : &nbsp; [list], &nbsp; {dict}, &nbsp; (tuple,)\n",
    "1. Function : indent, 모듈, 클래스, 함수, 메소드(추가 입력값 필요, 추가 입력값 불필요)\n",
    "1. []의 함수적 활용 \n",
    "    1. 색인기능 [index], [:slicing])\n",
    "    1. 함수를 활용하여 데이터 생성 &nbsp; [ &nbsp; datum &nbsp;&nbsp; 1) for : 반복, 2) if :판단, 3) enumerate() :순번 integer 출력 ]\n",
    "1. {}의 함수적 활용 \n",
    "    1. 함수를 활용하여 데이터 생성 &nbsp; { &nbsp; key &nbsp; : &nbsp; value &nbsp;&nbsp; 1) for : 반복, 2) if :판단, 3) enumerate() :순번 integer 출력}\n",
    "1. 연결기호 : ', \", '=',  [], {}, () (개별적 쓰임새와 숨은 의미들이 정해져 있다)"
   ]
  },
  {
   "cell_type": "markdown",
   "metadata": {},
   "source": [
    "<br>\n",
    "### ** I Python 활용**\n",
    "jupyter notebook\n",
    "1. 파이썬 반응결과를 Javascript로 웹브라우저에서 구현한다\n",
    "1. https://notebooks.azure.com/ : 무료가입후 바로 사용가능, 외부 데이터 수집등 제약이 있다\n",
    "1. https://docs.aws.amazon.com/ko_kr/dlami/latest/devguide/setup-jupyter-start-server.html : 설치가 어렵지만 AWS 무료 가입후 설치 가능\n",
    "1. 대신 cell 단위로 작업결과를 확인함으로써, 부분 부분적인 디버깅이 가능\n",
    "1. 상대적 작은 size 작업에 용이하다\n",
    "1. 여러 파일들을 함께 관리하기에는 부족한 점이 있다 (PyCharm, Sublime Text을 같이 활용하여 극복)"
   ]
  },
  {
   "cell_type": "markdown",
   "metadata": {},
   "source": [
    "<br>\n",
    "### **'%' Magic Keyword**\n",
    "1. **_%who_** : 현재까지 메모리에 올려진 객체들 확인\n",
    "1. **_%reset_** : 메모리 초기화\n",
    "1. **_%matplotlib inline_** : matplotlib 시각화를 Cell 내부에 포함해서 출력한다\n",
    "1. **_%debug_** : 최근 예외상황 및 아래행의 대화형 디버그 진입\n",
    "1. **_%pdb_** : 예외가 발생하면 자동으로 debug 진입\n",
    "1. **_%time_** : 단일 statement 실행시간\n",
    "1. **_%timtit_** : 여러번 statement 평균 실행시간"
   ]
  },
  {
   "cell_type": "markdown",
   "metadata": {},
   "source": [
    "<br>\n",
    "#### **PREVIEW 2**\n",
    "pandas 로 http://finance.daum.net/quote/all.daum?nil_stock=refresh 의 전종목 시세를 수집하기"
   ]
  },
  {
   "cell_type": "code",
   "execution_count": null,
   "metadata": {},
   "outputs": [],
   "source": [
    "# http://finance.daum.net/quote/all.daum?nil_stock=refresh\n",
    "# 현재 종가데이터 수집하기\n",
    "def total_table():\n",
    "    import pandas as pd\n",
    "    url         = \"http://finance.daum.net/quote/all.daum?nil_stock=refresh\"\n",
    "    toplist     = pd.read_html(url)\n",
    "    result      = [table  for i, table in enumerate(toplist)   if i >0]\n",
    "    df          = pd.concat(result, axis=0).dropna()\n",
    "    df.columns  = df.iloc[0,:]\n",
    "    df          = df.drop(df.index[0])\n",
    "    return df\n",
    "\n",
    "df = total_table()\n",
    "df.head(3)"
   ]
  },
  {
   "cell_type": "code",
   "execution_count": null,
   "metadata": {},
   "outputs": [],
   "source": [
    "%whos"
   ]
  },
  {
   "cell_type": "markdown",
   "metadata": {},
   "source": [
    "<br>\n",
    "## **1 Pandas  &nbsp;&nbsp; & &nbsp;&nbsp; Numpy**\n",
    "- **numpy** : 엑셀의 내부 함수 모음 ( pandas의 메소드 함수역활)\n",
    " - **pandas** : 엑셀의 단축키 , sheets 등 부가기능 모음\n",
    " - 함께 뒤 섞여서 활용\n",
    "<br>\n",
    "</br><img src = \"http://pbpython.com/images/pandas-dataframe-shadow.png\" align=\"left\" width='800'>"
   ]
  },
  {
   "cell_type": "code",
   "execution_count": null,
   "metadata": {},
   "outputs": [],
   "source": [
    "#### 모듈의 요약\n",
    "# 파이썬은 내장함수만 구현 가능한 프로그램\n",
    "# 이를 활용하여 Wes McKinney가 작성한 함수들의 묶음이 Pandas\n",
    "# Pandas라는 이름으로 함수들을 묶어서 https://pandas.pydata.org/ 공개\n",
    "# pip 프로그램으로 Python 관련 폴더에 함수들의 *.py 파일들을 자동으로 복붙한다\n",
    "# import c:/python/site-package/pandas/pandas.py.. 로 복잡하게 열지 않고\n",
    "# import pandas... 만으로 해당 파일을 메모리에 올린다"
   ]
  },
  {
   "cell_type": "code",
   "execution_count": null,
   "metadata": {},
   "outputs": [],
   "source": [
    "#### 메서드의 요약\n",
    "# 송강호의 메소드 연기, 강소라의 메소드 연기, '용엄마'의 메소드 연기....\n",
    "# 메소드 : 배우의 생각과 감정을 배역에 완전히 몰입시켜 연기하는 기법\n",
    "# 메소드는 주체마다 다르게 정의가 된다 (주체에 종속되는 변수들)\n",
    "# python 기본 메소드\n",
    "# pandas 관련 메소드 (python 기본 메소드를 응용해서 제작한다)"
   ]
  },
  {
   "cell_type": "code",
   "execution_count": null,
   "metadata": {},
   "outputs": [],
   "source": [
    "#### Python 기본 함수, 메소드들을 잘 알면 배울 내용들이 쉽게 유추 및 정리가 가능하다\n",
    "# 모듈을 만들 때, 기본 함수/메소드를 응용해서 만든다\n",
    "# 개별 모듈에서 기본 함수/메소드의 공통점을 정리/확인한 뒤\n",
    "# 각 각에만 특징적으로 정리된 내용들만 요약 정리하면, 쉽게 진도를 나아갈 수 있다\n",
    "# 말이 쉽지...."
   ]
  },
  {
   "cell_type": "markdown",
   "metadata": {
    "collapsed": true
   },
   "source": [
    "<br>\n",
    "## **2 'Series'  in Pandas**\n",
    "1. **DataFrame** : 전체 표\n",
    "1. **Series(일련, 연속 ,한벌의)** : 전체 표중 1줄을 추출 (가로/세로) 한 객체로 [list] 의 확장된 포맷\n",
    "1. 표를 생성 후 편집 수정 및 **'시각화'** 를 위한 데이터\n",
    "1. **[list]와** 공통적인 속성을 복습을 하면서 유추를 하고, 다른 몇가지 특징만 외우면 된다"
   ]
  },
  {
   "cell_type": "markdown",
   "metadata": {},
   "source": [
    "<br>\n",
    "### **01 [ list ] 와 비교**\n",
    "list 를 바탕으로 Series 이해하기"
   ]
  },
  {
   "cell_type": "code",
   "execution_count": null,
   "metadata": {},
   "outputs": [],
   "source": []
  },
  {
   "cell_type": "code",
   "execution_count": null,
   "metadata": {},
   "outputs": [],
   "source": [
    "# index 가 옆에 노출되었을 뿐 내용과 개념은 동일!!!\n",
    "# 그럼에도 왜 쓰냐?? - 1) DataFrame의 .메소드 확장기능을 사용가능\n",
    "#                   2) Matrix 등의 연산시 \"30배 속도\"가 향상 (C++로 내부 연산이 처리된다)\n",
    "#                   3) matplotlib 모듈등과도 연동이 쉽다"
   ]
  },
  {
   "cell_type": "code",
   "execution_count": null,
   "metadata": {},
   "outputs": [],
   "source": []
  },
  {
   "cell_type": "markdown",
   "metadata": {},
   "source": [
    "<br>\n",
    "### ** 02 { dict } 와 비교**\n",
    "dict 를 바탕으로 Series 이해하기"
   ]
  },
  {
   "cell_type": "code",
   "execution_count": null,
   "metadata": {},
   "outputs": [],
   "source": [
    "# index 에 임의의 이름을 부여 가능\n",
    "# 그러면서도 순서 속성은 그대로 유지"
   ]
  },
  {
   "cell_type": "code",
   "execution_count": null,
   "metadata": {},
   "outputs": [],
   "source": [
    "# dict 데이터를 Series로 변환\n",
    "dict_data = {'seoul':4, 'dajun':7, 'daegu':-5, 'busan':3}"
   ]
  },
  {
   "cell_type": "code",
   "execution_count": null,
   "metadata": {},
   "outputs": [],
   "source": []
  },
  {
   "cell_type": "markdown",
   "metadata": {},
   "source": [
    "### **03 Series 의 함수적 속성**\n",
    "1. 사칙연산 : 모든 index에 연산을 순차적으로 적용한다\n",
    "1. [ boolean 조건함수 ] "
   ]
  },
  {
   "cell_type": "code",
   "execution_count": null,
   "metadata": {},
   "outputs": [],
   "source": [
    "# Series 가 제공하는 다양한 메소드를 활용가능"
   ]
  },
  {
   "cell_type": "code",
   "execution_count": null,
   "metadata": {},
   "outputs": [],
   "source": [
    "# [list] 의 '+' (덧셈)은 연결의 의미지만, Pandas 객체간의 연산은 \n",
    "# index를 기준으로 Series 객체간의 연산결과를 출력한다\n"
   ]
  },
  {
   "cell_type": "code",
   "execution_count": null,
   "metadata": {},
   "outputs": [],
   "source": [
    "# .index (객체메서드) : index만 번경도 가능하다"
   ]
  },
  {
   "cell_type": "markdown",
   "metadata": {},
   "source": [
    "#### **Quiz**\n",
    "    range() 로 10부터 1까지 1씩 감소하는 [ list ] 를 만들고\n",
    "    이를 Series 로 변환한 뒤, \n",
    "    line 차트로 시각화를 하라\n",
    "    \n",
    "hint : **range(10,0,-1)**"
   ]
  },
  {
   "cell_type": "code",
   "execution_count": null,
   "metadata": {},
   "outputs": [],
   "source": [
    "# [ i    for i in range(10,0,-1)]"
   ]
  },
  {
   "cell_type": "markdown",
   "metadata": {
    "collapsed": true
   },
   "source": [
    "<br>\n",
    "## **3 'DataFrame'  in Pandas** \n",
    "Excel Sheet 의 모든 것!!!\n",
    "<br><br></br>\n",
    "### **01 Table 생성**\n",
    "Series , list --> DataFrame"
   ]
  },
  {
   "cell_type": "code",
   "execution_count": null,
   "metadata": {
    "scrolled": true
   },
   "outputs": [],
   "source": [
    "# Series 형태를 고대로 DataFrame도 변환가능하다\n",
    "# 단일 컬럼(필드) 만이 아닌, 다중 컬럼의 데이터를 다루기 편하다 (2차원 데이터)\n",
    "# 속성과 Method 의 차이에 유념하여 학습하자"
   ]
  },
  {
   "cell_type": "code",
   "execution_count": null,
   "metadata": {},
   "outputs": [],
   "source": [
    "# 합집합 결과를 출력한다\n",
    "\n",
    "\n",
    "\n",
    "# Series, list 여러개를 1개의 Table로 구성하기\n",
    "# 객체가 Series : index 가 일치하지 않아도 조합이 가능 (자동조절)            ex) data, data2\n",
    "# 객체가 list   : index '길이'가 맞이야만 조합이 가능 (순서는 그대로 삽입)    ex) data3\n",
    "#              : 컬럼의 모든 데이터를 일괄 처리에 용이 (주로 전처리 작업에 활용)"
   ]
  },
  {
   "cell_type": "markdown",
   "metadata": {},
   "source": [
    "<br>\n",
    "### **02 Index**\n",
    "DataFrame 의 기본 틀 수정하기\n",
    "1. .reset_index() : 순차적인 index로 새롭게 재정의 하기\n",
    "1. .rename(columns={원본:수정}\n",
    "1. .set_index(컬럼명)"
   ]
  },
  {
   "cell_type": "code",
   "execution_count": null,
   "metadata": {},
   "outputs": [],
   "source": [
    "# .reset_index() : Index to Column\n",
    "\n"
   ]
  },
  {
   "cell_type": "code",
   "execution_count": null,
   "metadata": {
    "scrolled": true
   },
   "outputs": [],
   "source": [
    "# .rename()\n",
    "\n"
   ]
  },
  {
   "cell_type": "code",
   "execution_count": null,
   "metadata": {},
   "outputs": [],
   "source": [
    "# .set_index() : Column to Index\n",
    "\n"
   ]
  },
  {
   "cell_type": "code",
   "execution_count": null,
   "metadata": {},
   "outputs": [],
   "source": [
    "# .drop() : index 삭제\n",
    "\n"
   ]
  },
  {
   "cell_type": "code",
   "execution_count": null,
   "metadata": {},
   "outputs": [],
   "source": [
    "# del df('컬럼명')\n",
    "\n"
   ]
  },
  {
   "cell_type": "markdown",
   "metadata": {
    "collapsed": true
   },
   "source": [
    "####  **_인덱스의 수정...  Solution_**\n",
    "1. index 를 [ list ] 로 추출 후, 수정한 뒤 수정된 list 를 index 로 덧붙인다.\n",
    "1. https://stackoverflow.com/questions/40427943/how-do-i-change-a-single-index-value-in-pandas-dataframe"
   ]
  },
  {
   "cell_type": "code",
   "execution_count": null,
   "metadata": {},
   "outputs": [],
   "source": []
  },
  {
   "cell_type": "markdown",
   "metadata": {},
   "source": [
    "<br>\n",
    "### **03 Columns**\n",
    "DataFrame 의 Columns 바꾸기 및 재정렬"
   ]
  },
  {
   "cell_type": "code",
   "execution_count": null,
   "metadata": {},
   "outputs": [],
   "source": [
    "# Cell의 내용 바꾸기\n",
    "# DataFrame.컬럼['인덱스'] = value\n",
    "\n",
    "\n"
   ]
  },
  {
   "cell_type": "code",
   "execution_count": null,
   "metadata": {},
   "outputs": [],
   "source": [
    "# 컬럼명 변경하기\n",
    "# DataFrame.rename(columns= {})\n",
    "\n",
    "\n"
   ]
  },
  {
   "cell_type": "code",
   "execution_count": null,
   "metadata": {},
   "outputs": [],
   "source": [
    "# 컬럼명 변경하기\n",
    "# 변경한 컬럼명 적용하기\n",
    "\n"
   ]
  },
  {
   "cell_type": "code",
   "execution_count": null,
   "metadata": {},
   "outputs": [],
   "source": [
    "# column 추가 \n",
    "\n",
    "\n"
   ]
  },
  {
   "cell_type": "code",
   "execution_count": null,
   "metadata": {},
   "outputs": [],
   "source": [
    "# .drop() : column 삭제\n",
    "\n",
    "\n"
   ]
  },
  {
   "cell_type": "code",
   "execution_count": null,
   "metadata": {},
   "outputs": [],
   "source": [
    "# .insert()\n",
    "# column 추가\n",
    "\n",
    "\n"
   ]
  },
  {
   "cell_type": "code",
   "execution_count": null,
   "metadata": {
    "scrolled": true
   },
   "outputs": [],
   "source": [
    "# column 생성2\n",
    "# 동일한 객체로 column 채우며 생성\n",
    "\n",
    "\n"
   ]
  },
  {
   "cell_type": "markdown",
   "metadata": {},
   "source": [
    "<br>\n",
    "### **04 Sorting**\n",
    "데이터 정렬하기"
   ]
  },
  {
   "cell_type": "code",
   "execution_count": null,
   "metadata": {},
   "outputs": [],
   "source": [
    "# .sort_index( axis =  )  # 인덱스를 기준으로 정렬\n",
    "# axis = 0 : index\n",
    "# axis = 1 : column\n",
    "\n",
    "\n"
   ]
  },
  {
   "cell_type": "code",
   "execution_count": null,
   "metadata": {},
   "outputs": [],
   "source": [
    "# .sort_values( by = '컬럼명')\n",
    "# 특정 컬럼의 데이터를 정렬\n",
    "\n",
    "\n"
   ]
  },
  {
   "cell_type": "markdown",
   "metadata": {},
   "source": [
    "<br>\n",
    "### **05 Series 를 활용한 시계열 데이터 다루기**\n",
    "1. pd.date_range(시작일, 종료일) : 시계열 데이터\n",
    "1. .date : 날짜만 추출\n",
    "1. https://stackoverflow.com/questions/25478773/creating-a-list-with-data-from-a-dataframe-index-in-python"
   ]
  },
  {
   "cell_type": "code",
   "execution_count": null,
   "metadata": {},
   "outputs": [],
   "source": [
    "# [ list ] 객체로 column을 채우며 생성\n",
    "# 단 '자료의 길이' 가 동일해야 한다 (아니면 오류가 발생!!!)\n",
    "\n",
    "\n",
    "\n"
   ]
  },
  {
   "cell_type": "markdown",
   "metadata": {},
   "source": [
    "#### Quiz\n",
    "    아래 테이블에서 'Today' 란 컬럼에 '오늘의 날짜'를 입력하는 테이블로 수정하시요"
   ]
  },
  {
   "cell_type": "code",
   "execution_count": null,
   "metadata": {},
   "outputs": [],
   "source": []
  },
  {
   "cell_type": "markdown",
   "metadata": {
    "collapsed": true
   },
   "source": [
    "<br>\n",
    "## **4 Numpy  &nbsp; with &nbsp; pandas Series & DataFrame**\n",
    "DataFrame 데이터 생성 및 가공하기 : Data & Datum 가공하기 개념들 복/붙\n",
    "1. Slicing\n",
    "1. Indexing\n",
    "1. Sort()\n",
    "\n",
    "<br>\n",
    "### **01 ndarray : 다차원 array**"
   ]
  },
  {
   "cell_type": "code",
   "execution_count": null,
   "metadata": {},
   "outputs": [],
   "source": []
  },
  {
   "cell_type": "code",
   "execution_count": null,
   "metadata": {
    "scrolled": true
   },
   "outputs": [],
   "source": [
    "# 다차원 Matrix를 생성\n",
    "\n"
   ]
  },
  {
   "cell_type": "code",
   "execution_count": null,
   "metadata": {},
   "outputs": [],
   "source": []
  },
  {
   "cell_type": "markdown",
   "metadata": {},
   "source": [
    "<br>\n",
    "### **02 DataFrame 의 컬럼 데이터 인덱싱**\n",
    "DataFrame ==> **Series**"
   ]
  },
  {
   "cell_type": "code",
   "execution_count": null,
   "metadata": {},
   "outputs": [],
   "source": [
    "# DataFrame 에서 Column이 가장 중요\n",
    "# df 의 메서드(함수) 로 '컬럼이름'을 사용가능\n",
    "\n",
    "\n"
   ]
  },
  {
   "cell_type": "code",
   "execution_count": null,
   "metadata": {},
   "outputs": [],
   "source": [
    "# df[ 컬럼명 ] 해당 column 의 자료를 출력\n",
    "\n",
    "\n"
   ]
  },
  {
   "cell_type": "markdown",
   "metadata": {},
   "source": [
    "<br>\n",
    "### **03 DataFrame 의 Row 데이터 인덱싱**\n",
    "DataFrame 부분 편집하기"
   ]
  },
  {
   "cell_type": "code",
   "execution_count": null,
   "metadata": {},
   "outputs": [],
   "source": [
    "# df[ :slicing] 은 index 만 영향 \n",
    "# slicing - string 의 문법들이 그대로 적용\n",
    "\n",
    "\n"
   ]
  },
  {
   "cell_type": "markdown",
   "metadata": {},
   "source": [
    "<br>\n",
    "### **04 DataFrame 의 [Row : column]  데이터 인덱싱**\n",
    "1. .loc[ row : column ] : 인덱스 이름을 사용\n",
    "1. .iloc[ row : column ] : 인덱스 주소값 0~ 숫자만 가능"
   ]
  },
  {
   "cell_type": "code",
   "execution_count": null,
   "metadata": {},
   "outputs": [],
   "source": [
    "# Index LOCation \n",
    "\n",
    "\n"
   ]
  }
 ],
 "metadata": {
  "kernelspec": {
   "display_name": "Python 3",
   "language": "python",
   "name": "python3"
  },
  "language_info": {
   "codemirror_mode": {
    "name": "ipython",
    "version": 3
   },
   "file_extension": ".py",
   "mimetype": "text/x-python",
   "name": "python",
   "nbconvert_exporter": "python",
   "pygments_lexer": "ipython3",
   "version": "3.6.4"
  }
 },
 "nbformat": 4,
 "nbformat_minor": 2
}
