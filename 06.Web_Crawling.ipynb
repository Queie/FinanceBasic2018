{
 "cells": [
  {
   "cell_type": "markdown",
   "metadata": {},
   "source": [
    "# ** 6 Python Web Crawling**\n",
    "파이썬을 활용한 금융분석"
   ]
  },
  {
   "cell_type": "markdown",
   "metadata": {},
   "source": [
    "### **review Data Datum**\n",
    "1. Datum(숫자, \"문자\"), Data([list], {dict}, (tuple,))\n",
    "1. 문자.replace(), .split(), .find()\n",
    "1. (기본/외부/사용자) 모듈, 함수, 메소드\n",
    "1. []의 문자에서 활용( [index], [:slicing]), 함수를 활용{for : 반복, if :판단, enumerate() :순번 integer 출력}\n",
    "1. 재무제표 Web Crawling ==> type 변경 ==> 시각화\n",
    "1. ndarray, Series, Dataframe"
   ]
  },
  {
   "cell_type": "markdown",
   "metadata": {},
   "source": [
    "### **review Series**\n",
    "1. pd.Series( [ data ] , index = [ index ])\n",
    "1. series 사칙연산\n",
    "1. series [ Boolean 판단문 ]\n",
    "1. series.index = [ list ]\n",
    "1. series.isnull()\n",
    "1. series.drop()"
   ]
  },
  {
   "cell_type": "markdown",
   "metadata": {},
   "source": [
    "### **review DataFrame**\n",
    "1. pd.DataFrame( { columns :  [ data ] , columns :  [ data ] } )\n",
    "1. df.column이름\n",
    "1. df.rename( columns = { 기존 column , 새로운 column } )\n",
    "1. df.insert( 컬럼순서,  컬럼명 ,  data )\n",
    "1. df [ index Slicing ]\n",
    "1. df.iloc[ index slicing,  column slicing ]\n",
    "1. df.reset_index()        :  index  -> column\n",
    "1. df.set_index( '컬럼명' ) :  column -> index\n",
    "1. df.sort_index()\n",
    "1. df.sort_value()\n",
    "1. df[ boolean 함수 ]\n",
    "1. df[ boolean 함수 ].column이름\n",
    "1. axis = 0 : index | axis = 1 : column\n",
    "1. df.drop( 'index이름'  , axis = 0 )\n",
    "1. df.drop( 'column이름' ,  axis = 1 )\n",
    "1. df.index.tolist()\n",
    "1. df.column.tolist()"
   ]
  },
  {
   "cell_type": "markdown",
   "metadata": {},
   "source": [
    "### **review DataFrame static**\n",
    "1. .count()\n",
    "1. .describe()\n",
    "1. .min()     .max()\n",
    "1. .idxmin()  .idxmax()\n",
    "1. .quantile()   \n",
    "1. .sum()\n",
    "1. .mean()    .median()\n",
    "1. .var() 분산 .std() 정규분산\n",
    "1. .cumsum()  .cumprod()  누적 합    누적 곱\n",
    "1. .cummin()  .cummax()   누적최소값, 누적최대값"
   ]
  },
  {
   "cell_type": "markdown",
   "metadata": {},
   "source": [
    "### **review Series & DataFrame 결측치 제어하기**\n",
    "1. df.dropna()\n",
    "1. df.fillna(method='ffill',  limit=2)  # 결측치 대체\n",
    "1. df.fillna(df.mean()['컬럼명'])   \n",
    "1. Series.interpolate(method='time')    # 결측치 보간 (시계열적 특성을 부여가능)\n",
    "1. Series.interpolate(method='values', limit=1, limit_direction='backward') # 'forward','backward','both'"
   ]
  },
  {
   "cell_type": "markdown",
   "metadata": {},
   "source": [
    "### **review &nbsp; map, reduce, lambda, filter**\n",
    "1. map & lambda : map(lambda x : str(x), [list])\n",
    "1. map & lambda : list(map(lambda x : str(x), [list]))\n",
    "1. map & lambda : <strike>[ map(lambda x : str(x), data) ]</strike>\n",
    "1. Series & lambda : Series.apply(lambda x : str(x))\n",
    "1. filter & lambda : list(filter(lambda x : x % 2 == 0,  data))\n",
    "1. <strike>filter</strike> & DataFrame : DataFrame[ Series % 2 == 0 ]\n",
    "1. reduce & lambda : reduce(lambda x, y: x+y, [1, 2, 3, 4, 5])      # 데이터 차원축소"
   ]
  },
  {
   "cell_type": "markdown",
   "metadata": {},
   "source": [
    "### **review &nbsp; TimeSeries**\n",
    "1. from datetime import datetime\n",
    "1. pandas.date_range(end = '2017-07-01', periods=30, freq='BM')  \n",
    "1. pandas.date_range('2017/8/8 09:09:09', periods=5, normalize=True)\n",
    "1. [str(date.date()) &nbsp;&nbsp; for &nbsp;&nbsp; date &nbsp;&nbsp; in &nbsp;&nbsp; pd.date_range('2017/01/01', '2017/01/11')]"
   ]
  },
  {
   "cell_type": "markdown",
   "metadata": {},
   "source": [
    "### **review &nbsp; Matplotlib**\n",
    "1. DataFrame.loc['시작날짜':'종료날짜', :] : 주소 이름을 활용하여 인덱싱\n",
    "1. DataFrame.iloc[1:10, : ] # 주소값으로 인덱싱\n",
    "1. Series.plot(kind='line')  **# 'bar'**\n",
    "1. Series.resample().plot()\n",
    "1. Series.rolling().plot()\n",
    "1. Series.ix['2018-01':'2018-03'].plot()\n",
    "1. plt.figure(figsize=(,)); &nbsp;&nbsp; plt.plot(x축,y축,lw=1.5,label=); &nbsp;&nbsp; plt.legend(loc=); &nbsp;&nbsp; plt.show()\n",
    "1. plt.figure(figsize=(,)); &nbsp;&nbsp; plt.subplot(121); &nbsp;&nbsp; plt.plot(); &nbsp;&nbsp; plt.subplot(122); &nbsp;&nbsp; plt.plot(); &nbsp;&nbsp; plot.show()\n"
   ]
  },
  {
   "cell_type": "markdown",
   "metadata": {},
   "source": [
    "<br>\n",
    "## **1 Web Crawling**\n",
    "1. Pandas 를 활용한 데이터 크롤링\n",
    "1. **lxml 모듈**을 활용한 **xpath** Web Crawling\n",
    "1. BeautifulSoup 은 문서나 도서들이 잘 되어있으니 별도참고"
   ]
  },
  {
   "cell_type": "markdown",
   "metadata": {},
   "source": [
    "<br>\n",
    "### **01 Pandas를 활용한 주가 정보 수집**\n",
    "1. HTML의 Table 형식으로 Source가 제공될 때에만 수집이 가능하다\n",
    "1. 바로 DataFrame으로 객체가 출력되므로, 수정 및 편집 작업이 용이하다\n",
    "1. Ajax를 찾기 보다는, 기존에 완성되어 있는 자료를 수정 보완하는 방법으로 익혀 나아가자\n",
    "1. 앞에서 Nice의 간략 재무제표를 크롤링 하는 법을 익혔다면, 이제는 Ajax 의 Post 정보를 추가하는 크롤링을 익혀본다 (JavaScript 영역)\n",
    "1. http://kind.krx.co.kr/\n",
    "1. https://woosa7.github.io/krx_stock_master/"
   ]
  },
  {
   "cell_type": "code",
   "execution_count": 1,
   "metadata": {},
   "outputs": [
    {
     "data": {
      "text/html": [
       "<div>\n",
       "<style scoped>\n",
       "    .dataframe tbody tr th:only-of-type {\n",
       "        vertical-align: middle;\n",
       "    }\n",
       "\n",
       "    .dataframe tbody tr th {\n",
       "        vertical-align: top;\n",
       "    }\n",
       "\n",
       "    .dataframe thead th {\n",
       "        text-align: right;\n",
       "    }\n",
       "</style>\n",
       "<table border=\"1\" class=\"dataframe\">\n",
       "  <thead>\n",
       "    <tr style=\"text-align: right;\">\n",
       "      <th></th>\n",
       "      <th>회사명</th>\n",
       "      <th>종목코드</th>\n",
       "      <th>업종</th>\n",
       "      <th>주요제품</th>\n",
       "      <th>상장일</th>\n",
       "      <th>결산월</th>\n",
       "      <th>대표자명</th>\n",
       "      <th>홈페이지</th>\n",
       "      <th>지역</th>\n",
       "    </tr>\n",
       "  </thead>\n",
       "  <tbody>\n",
       "    <tr>\n",
       "      <th>0</th>\n",
       "      <td>BYC</td>\n",
       "      <td>001460</td>\n",
       "      <td>봉제의복 제조업</td>\n",
       "      <td>메리야스,란제리 제조,도매/건축공사/부동산 임대,분양,공급</td>\n",
       "      <td>1975-06-02</td>\n",
       "      <td>12월</td>\n",
       "      <td>유 중 화</td>\n",
       "      <td>http://www.byc.co.kr</td>\n",
       "      <td>서울특별시</td>\n",
       "    </tr>\n",
       "    <tr>\n",
       "      <th>1</th>\n",
       "      <td>CJ CGV</td>\n",
       "      <td>079160</td>\n",
       "      <td>영화, 비디오물, 방송프로그램 제작 및 배급업</td>\n",
       "      <td>영화상영,영화관 운영</td>\n",
       "      <td>2004-12-24</td>\n",
       "      <td>12월</td>\n",
       "      <td>서 정</td>\n",
       "      <td>http://www.cgv.co.kr</td>\n",
       "      <td>서울특별시</td>\n",
       "    </tr>\n",
       "  </tbody>\n",
       "</table>\n",
       "</div>"
      ],
      "text/plain": [
       "      회사명    종목코드                         업종  \\\n",
       "0     BYC  001460                   봉제의복 제조업   \n",
       "1  CJ CGV  079160  영화, 비디오물, 방송프로그램 제작 및 배급업   \n",
       "\n",
       "                               주요제품        상장일  결산월   대표자명  \\\n",
       "0  메리야스,란제리 제조,도매/건축공사/부동산 임대,분양,공급 1975-06-02  12월  유 중 화   \n",
       "1                       영화상영,영화관 운영 2004-12-24  12월    서 정   \n",
       "\n",
       "                   홈페이지     지역  \n",
       "0  http://www.byc.co.kr  서울특별시  \n",
       "1  http://www.cgv.co.kr  서울특별시  "
      ]
     },
     "execution_count": 1,
     "metadata": {},
     "output_type": "execute_result"
    }
   ],
   "source": [
    "# 기업정보 수집하기\n",
    "# http://kind.krx.co.kr/corpgeneral/corpList.do\n",
    "def stock_master():\n",
    "    import requests\n",
    "    import pandas as pd\n",
    "    import numpy as np\n",
    "    from io import BytesIO\n",
    "    url = 'http://kind.krx.co.kr/corpgeneral/corpList.do'\n",
    "    data = {'method':'download',\n",
    "            'orderMode':'1',           # 정렬컬럼\n",
    "            'orderStat':'D',           # 정렬 내림차순\n",
    "            'searchType':'13',         # 검색유형: 상장법인\n",
    "            'fiscalYearEnd':'all',     # 결산월: 전체\n",
    "            'location':'all',}         # 지역: 전체\n",
    "\n",
    "    r = requests.post(url, data=data)\n",
    "    f = BytesIO(r.content)             # HTML String을 HTML binary로 변환\n",
    "    dfs = pd.read_html(f, header=0, parse_dates=['상장일'])\n",
    "    df = dfs[0].copy()\n",
    "    # 종목코드를 앞자리가 0인 6자리 문자로 변환\n",
    "    df['종목코드'] = df['종목코드'].astype(np.str)   \n",
    "    df['종목코드'] = df['종목코드'].str.zfill(6)\n",
    "    return df\n",
    "\n",
    "df_master = stock_master()\n",
    "df_master.head(2)"
   ]
  },
  {
   "cell_type": "code",
   "execution_count": 2,
   "metadata": {},
   "outputs": [],
   "source": [
    "# 기업의 주가정보 수집하기\n",
    "# http://marketdata.krx.co.kr/contents/COM/GenerateOTP.jspx\n",
    "def stock_master_price(date=None):\n",
    "    import pandas as pd\n",
    "    import numpy as np\n",
    "    import requests\n",
    "    from io import BytesIO\n",
    "    from datetime import datetime\n",
    "    if date == None:\n",
    "        date = datetime.today().strftime('%Y%m%d')   # 오늘 날짜\n",
    "\n",
    "    # AJAX를 분석결과, OTP Code 정보값 수집\n",
    "    gen_otp_url = 'http://marketdata.krx.co.kr/contents/COM/GenerateOTP.jspx'\n",
    "    gen_otp_data = {'name':'fileDown', 'filetype':'xls','market_gubun':'ALL', #시장구분: ALL=전체\n",
    "                    'url':'MKD/04/0404/04040200/mkd04040200_01',\n",
    "                    'indx_ind_cd':'', 'sect_tp_cd':'', 'schdate': date,\n",
    "                    'pagePath':'/contents/MKD/04/0404/04040200/MKD04040200.jsp',}\n",
    "    r = requests.post(gen_otp_url, gen_otp_data)\n",
    "    OTP_code = r.content\n",
    "    \n",
    "    # krx.co.kr 사이트에서 OTP값을 사용하여 xls 다운로드\n",
    "    down_url = 'http://file.krx.co.kr/download.jspx'\n",
    "    down_data = {'code': OTP_code}\n",
    "    r = requests.post(down_url, down_data)\n",
    "    df = pd.read_excel(BytesIO(r.content), header=0, thousands=',')\n",
    "    return df"
   ]
  },
  {
   "cell_type": "code",
   "execution_count": 3,
   "metadata": {},
   "outputs": [
    {
     "name": "stdout",
     "output_type": "stream",
     "text": [
      "20180102\n"
     ]
    },
    {
     "data": {
      "text/html": [
       "<div>\n",
       "<style scoped>\n",
       "    .dataframe tbody tr th:only-of-type {\n",
       "        vertical-align: middle;\n",
       "    }\n",
       "\n",
       "    .dataframe tbody tr th {\n",
       "        vertical-align: top;\n",
       "    }\n",
       "\n",
       "    .dataframe thead th {\n",
       "        text-align: right;\n",
       "    }\n",
       "</style>\n",
       "<table border=\"1\" class=\"dataframe\">\n",
       "  <thead>\n",
       "    <tr style=\"text-align: right;\">\n",
       "      <th></th>\n",
       "      <th>종목코드</th>\n",
       "      <th>종목명</th>\n",
       "      <th>현재가</th>\n",
       "      <th>대비</th>\n",
       "      <th>등락률</th>\n",
       "      <th>거래량</th>\n",
       "      <th>거래대금</th>\n",
       "      <th>시가</th>\n",
       "      <th>고가</th>\n",
       "      <th>저가</th>\n",
       "      <th>시가총액</th>\n",
       "      <th>시가총액비중(%)</th>\n",
       "      <th>상장주식수(천주)</th>\n",
       "      <th>외국인 보유주식수</th>\n",
       "      <th>외국인 지분율(%)</th>\n",
       "    </tr>\n",
       "  </thead>\n",
       "  <tbody>\n",
       "    <tr>\n",
       "      <th>0</th>\n",
       "      <td>005930</td>\n",
       "      <td>삼성전자</td>\n",
       "      <td>2551000</td>\n",
       "      <td>3000</td>\n",
       "      <td>0.1</td>\n",
       "      <td>169485</td>\n",
       "      <td>432677351468</td>\n",
       "      <td>2569000</td>\n",
       "      <td>2570000</td>\n",
       "      <td>2539000</td>\n",
       "      <td>329330258194000</td>\n",
       "      <td>17.27</td>\n",
       "      <td>129098494</td>\n",
       "      <td>68095088</td>\n",
       "      <td>52.75</td>\n",
       "    </tr>\n",
       "    <tr>\n",
       "      <th>1</th>\n",
       "      <td>000660</td>\n",
       "      <td>SK하이닉스</td>\n",
       "      <td>76600</td>\n",
       "      <td>100</td>\n",
       "      <td>0.1</td>\n",
       "      <td>2014838</td>\n",
       "      <td>154679174100</td>\n",
       "      <td>77300</td>\n",
       "      <td>77300</td>\n",
       "      <td>76200</td>\n",
       "      <td>55764981159000</td>\n",
       "      <td>2.92</td>\n",
       "      <td>728002365</td>\n",
       "      <td>346184551</td>\n",
       "      <td>47.55</td>\n",
       "    </tr>\n",
       "    <tr>\n",
       "      <th>2</th>\n",
       "      <td>005935</td>\n",
       "      <td>삼성전자우</td>\n",
       "      <td>2097000</td>\n",
       "      <td>7000</td>\n",
       "      <td>0.3</td>\n",
       "      <td>21940</td>\n",
       "      <td>45532420000</td>\n",
       "      <td>2096000</td>\n",
       "      <td>2097000</td>\n",
       "      <td>2058000</td>\n",
       "      <td>38271466260000</td>\n",
       "      <td>2.01</td>\n",
       "      <td>18250580</td>\n",
       "      <td>15021675</td>\n",
       "      <td>82.31</td>\n",
       "    </tr>\n",
       "  </tbody>\n",
       "</table>\n",
       "</div>"
      ],
      "text/plain": [
       "     종목코드     종목명      현재가    대비  등락률      거래량          거래대금       시가  \\\n",
       "0  005930    삼성전자  2551000  3000  0.1   169485  432677351468  2569000   \n",
       "1  000660  SK하이닉스    76600   100  0.1  2014838  154679174100    77300   \n",
       "2  005935   삼성전자우  2097000  7000  0.3    21940   45532420000  2096000   \n",
       "\n",
       "        고가       저가             시가총액  시가총액비중(%)  상장주식수(천주)  외국인 보유주식수  \\\n",
       "0  2570000  2539000  329330258194000      17.27  129098494   68095088   \n",
       "1    77300    76200   55764981159000       2.92  728002365  346184551   \n",
       "2  2097000  2058000   38271466260000       2.01   18250580   15021675   \n",
       "\n",
       "   외국인 지분율(%)  \n",
       "0       52.75  \n",
       "1       47.55  \n",
       "2       82.31  "
      ]
     },
     "execution_count": 3,
     "metadata": {},
     "output_type": "execute_result"
    }
   ],
   "source": [
    "# 특정날짜 국내 주가정보 수집\n",
    "from datetime import datetime\n",
    "date = datetime(2018,1,2).strftime('%Y%m%d')\n",
    "print(date)\n",
    "df = stock_master_price(date)\n",
    "df.head(3)"
   ]
  },
  {
   "cell_type": "markdown",
   "metadata": {},
   "source": [
    "<br>\n",
    "### **02 BeautifulSoup 기본적인 사용법 익히기**\n",
    "1. http://cryptosan.github.io/pythondocuments/documents/beautifulsoup4/\n",
    "1. 공식문서가 한글로 잘 번역이 되어있고, 이를 따라하면 쉽게 구조를 파악 가능하다\n",
    "1. 읽어온 HTML문서를 쉽게 편집 가능한 **Html 문서에 대한 Pandas 모듈**로 생각하면 된다\n",
    "1. requsets수집, lxml 가공 (**Html's Numpy 모듈**), bs4관리로 여러 단계를 거침으로써 부하 및 속도저하가 필연적으로 발생"
   ]
  },
  {
   "cell_type": "markdown",
   "metadata": {},
   "source": [
    "<br>\n",
    "#### **1) BeautifulSoup 객체 정의하기**\n",
    "bs4"
   ]
  },
  {
   "cell_type": "code",
   "execution_count": 4,
   "metadata": {},
   "outputs": [],
   "source": [
    "html_doc = \"\"\"\n",
    "<html><head><title>The Dormouse's story</title></head>\n",
    "\n",
    "<p class=\"title\"><b>The Dormouse's story</b></p>\n",
    "\n",
    "<p class=\"story\">Once upon a time there were three little sisters; and their names were\n",
    "<a href=\"http://example.com/elsie\" class=\"sister\" id=\"link1\">Elsie</a>,\n",
    "<a href=\"http://example.com/lacie\" class=\"sister\" id=\"link2\">Lacie</a> and\n",
    "<a href=\"http://example.com/tillie\" class=\"sister\" id=\"link3\">Tillie</a>;\n",
    "and they lived at the bottom of a well.</p>\n",
    "\n",
    "<p class=\"story\">...</p>\n",
    "\"\"\""
   ]
  },
  {
   "cell_type": "code",
   "execution_count": 5,
   "metadata": {},
   "outputs": [
    {
     "name": "stderr",
     "output_type": "stream",
     "text": [
      "/home/markbaum/Python/django/lib/python3.6/site-packages/bs4/__init__.py:181: UserWarning: No parser was explicitly specified, so I'm using the best available HTML parser for this system (\"lxml\"). This usually isn't a problem, but if you run this code on another system, or in a different virtual environment, it may use a different parser and behave differently.\n",
      "\n",
      "The code that caused this warning is on line 193 of the file /usr/lib/python3.6/runpy.py. To get rid of this warning, change code that looks like this:\n",
      "\n",
      " BeautifulSoup(YOUR_MARKUP})\n",
      "\n",
      "to this:\n",
      "\n",
      " BeautifulSoup(YOUR_MARKUP, \"lxml\")\n",
      "\n",
      "  markup_type=markup_type))\n"
     ]
    },
    {
     "data": {
      "text/plain": [
       "bs4.BeautifulSoup"
      ]
     },
     "execution_count": 5,
     "metadata": {},
     "output_type": "execute_result"
    }
   ],
   "source": [
    "from bs4 import BeautifulSoup\n",
    "soup = BeautifulSoup(html_doc)\n",
    "# print(soup.prettify()[:50])\n",
    "type(soup)"
   ]
  },
  {
   "cell_type": "code",
   "execution_count": 6,
   "metadata": {},
   "outputs": [
    {
     "data": {
      "text/plain": [
       "<html><head><title>The Dormouse's story</title></head>\n",
       "<body><p class=\"title\"><b>The Dormouse's story</b></p>\n",
       "<p class=\"story\">Once upon a time there were three little sisters; and their names were\n",
       "<a class=\"sister\" href=\"http://example.com/elsie\" id=\"link1\">Elsie</a>,\n",
       "<a class=\"sister\" href=\"http://example.com/lacie\" id=\"link2\">Lacie</a> and\n",
       "<a class=\"sister\" href=\"http://example.com/tillie\" id=\"link3\">Tillie</a>;\n",
       "and they lived at the bottom of a well.</p>\n",
       "<p class=\"story\">...</p>\n",
       "</body></html>"
      ]
     },
     "execution_count": 6,
     "metadata": {},
     "output_type": "execute_result"
    }
   ],
   "source": [
    "# lxml 해석기를 부착하여 크롤링 데이터 읽어보기\n",
    "soup = BeautifulSoup(html_doc, 'lxml')\n",
    "soup"
   ]
  },
  {
   "cell_type": "markdown",
   "metadata": {},
   "source": [
    "<br>\n",
    "#### **2) 'P' tag 문서내용 분석하기**\n",
    "bs4 단일객체의 속성 및 내용 확인\n",
    "1. .attrs()\n",
    "1. .string.replacewith()"
   ]
  },
  {
   "cell_type": "code",
   "execution_count": 7,
   "metadata": {},
   "outputs": [
    {
     "data": {
      "text/plain": [
       "bs4.element.Tag"
      ]
     },
     "execution_count": 7,
     "metadata": {},
     "output_type": "execute_result"
    }
   ],
   "source": [
    "# p tag 문서내용 확인 및 내용추출하기\n",
    "type(soup.p)"
   ]
  },
  {
   "cell_type": "code",
   "execution_count": 8,
   "metadata": {},
   "outputs": [
    {
     "name": "stdout",
     "output_type": "stream",
     "text": [
      "<p class=\"title\"><b>The Dormouse's story</b></p> \n",
      "\n",
      " The Dormouse's story\n"
     ]
    }
   ],
   "source": [
    "print(soup.p, \n",
    "      '\\n\\n', soup.p.string)"
   ]
  },
  {
   "cell_type": "code",
   "execution_count": 9,
   "metadata": {},
   "outputs": [
    {
     "name": "stdout",
     "output_type": "stream",
     "text": [
      "<class 'dict'> \n",
      " {'class': ['title']}\n"
     ]
    }
   ],
   "source": [
    "# 속성값 추출하기\n",
    "print(type(soup.p.attrs), \n",
    "      '\\n', soup.p.attrs)"
   ]
  },
  {
   "cell_type": "code",
   "execution_count": 10,
   "metadata": {},
   "outputs": [
    {
     "data": {
      "text/plain": [
       "{'class': ['bs4', 'lxml']}"
      ]
     },
     "execution_count": 10,
     "metadata": {},
     "output_type": "execute_result"
    }
   ],
   "source": [
    "# 속성값 추가하기 (내용확인 및 수정도 가능하다)\n",
    "soup.p['class'] = ['bs4','lxml'] \n",
    "soup.p.attrs"
   ]
  },
  {
   "cell_type": "code",
   "execution_count": 11,
   "metadata": {},
   "outputs": [
    {
     "data": {
      "text/plain": [
       "\"The Dormouse's story\""
      ]
     },
     "execution_count": 11,
     "metadata": {},
     "output_type": "execute_result"
    }
   ],
   "source": [
    "soup.p.string"
   ]
  },
  {
   "cell_type": "code",
   "execution_count": 12,
   "metadata": {},
   "outputs": [
    {
     "data": {
      "text/plain": [
       "<p class=\"bs4 lxml\"><b>I got a quant algorithm</b></p>"
      ]
     },
     "execution_count": 12,
     "metadata": {},
     "output_type": "execute_result"
    }
   ],
   "source": [
    "soup.p.string.replaceWith('I got a quant algorithm')\n",
    "soup.p"
   ]
  },
  {
   "cell_type": "markdown",
   "metadata": {},
   "source": [
    "<br>\n",
    "#### **3) 조건문을 활용한 Html 문서의 활용**\n",
    "조건문 구조를 활용하야 필요한 정보를 추출한다"
   ]
  },
  {
   "cell_type": "code",
   "execution_count": 13,
   "metadata": {},
   "outputs": [
    {
     "data": {
      "text/plain": [
       "<body><p class=\"bs4 lxml\"><b>I got a quant algorithm</b></p>\n",
       "<p class=\"story\">Once upon a time there were three little sisters; and their names were\n",
       "<a class=\"sister\" href=\"http://example.com/elsie\" id=\"link1\">Elsie</a>,\n",
       "<a class=\"sister\" href=\"http://example.com/lacie\" id=\"link2\">Lacie</a> and\n",
       "<a class=\"sister\" href=\"http://example.com/tillie\" id=\"link3\">Tillie</a>;\n",
       "and they lived at the bottom of a well.</p>\n",
       "<p class=\"story\">...</p>\n",
       "</body>"
      ]
     },
     "execution_count": 13,
     "metadata": {},
     "output_type": "execute_result"
    }
   ],
   "source": [
    "soup.body"
   ]
  },
  {
   "cell_type": "code",
   "execution_count": 14,
   "metadata": {},
   "outputs": [
    {
     "data": {
      "text/plain": [
       "<a class=\"sister\" href=\"http://example.com/elsie\" id=\"link1\">Elsie</a>"
      ]
     },
     "execution_count": 14,
     "metadata": {},
     "output_type": "execute_result"
    }
   ],
   "source": [
    "# 1 내부 Text 추출하기\n",
    "soup.find('a')  # 맨 처음의 객체를 출력한다"
   ]
  },
  {
   "cell_type": "code",
   "execution_count": 15,
   "metadata": {},
   "outputs": [
    {
     "data": {
      "text/plain": [
       "[<a class=\"sister\" href=\"http://example.com/elsie\" id=\"link1\">Elsie</a>,\n",
       " <a class=\"sister\" href=\"http://example.com/lacie\" id=\"link2\">Lacie</a>,\n",
       " <a class=\"sister\" href=\"http://example.com/tillie\" id=\"link3\">Tillie</a>]"
      ]
     },
     "execution_count": 15,
     "metadata": {},
     "output_type": "execute_result"
    }
   ],
   "source": [
    "# 1 내부 Text 추출하기\n",
    "soup.find_all('a')"
   ]
  },
  {
   "cell_type": "code",
   "execution_count": 16,
   "metadata": {},
   "outputs": [
    {
     "data": {
      "text/plain": [
       "'Elsie'"
      ]
     },
     "execution_count": 16,
     "metadata": {},
     "output_type": "execute_result"
    }
   ],
   "source": [
    "soup.find_all('a')[0].get_text()"
   ]
  },
  {
   "cell_type": "code",
   "execution_count": 17,
   "metadata": {},
   "outputs": [
    {
     "data": {
      "text/plain": [
       "['Elsie', 'Lacie', 'Tillie']"
      ]
     },
     "execution_count": 17,
     "metadata": {},
     "output_type": "execute_result"
    }
   ],
   "source": [
    "text = [txt.get_text()    for txt in soup.find_all('a')]\n",
    "text"
   ]
  },
  {
   "cell_type": "code",
   "execution_count": 18,
   "metadata": {},
   "outputs": [
    {
     "data": {
      "text/plain": [
       "[<a class=\"sister\" href=\"http://example.com/elsie\" id=\"link1\">Elsie</a>,\n",
       " <a class=\"sister\" href=\"http://example.com/lacie\" id=\"link2\">Lacie</a>,\n",
       " <a class=\"sister\" href=\"http://example.com/tillie\" id=\"link3\">Tillie</a>]"
      ]
     },
     "execution_count": 18,
     "metadata": {},
     "output_type": "execute_result"
    }
   ],
   "source": [
    "# 2 내부 속성값으로 찾기\n",
    "# ( tag값, 속성값 )\n",
    "soup.find_all('',{'class':\"sister\"})"
   ]
  },
  {
   "cell_type": "code",
   "execution_count": 19,
   "metadata": {},
   "outputs": [
    {
     "data": {
      "text/plain": [
       "<html><head><title>The Dormouse's story</title></head>\n",
       "<body><p class=\"bs4 lxml\"><b>I got a quant algorithm</b></p>\n",
       "<p class=\"story\">Once upon a time there were three little sisters; and their names were\n",
       "<a class=\"sister\" href=\"http://example.com/elsie\" id=\"link1\">Elsie</a>,\n",
       "<a class=\"sister\" href=\"http://example.com/lacie\" id=\"link2\">Lacie</a> and\n",
       "<a class=\"sister\" href=\"http://example.com/tillie\" id=\"link3\">Tillie</a>;\n",
       "and they lived at the bottom of a well.</p>\n",
       "<p class=\"story\">...</p>\n",
       "</body></html>"
      ]
     },
     "execution_count": 19,
     "metadata": {},
     "output_type": "execute_result"
    }
   ],
   "source": [
    "soup"
   ]
  },
  {
   "cell_type": "code",
   "execution_count": 20,
   "metadata": {},
   "outputs": [
    {
     "data": {
      "text/plain": [
       "[<b>I got a quant algorithm</b>]"
      ]
     },
     "execution_count": 20,
     "metadata": {},
     "output_type": "execute_result"
    }
   ],
   "source": [
    "soup.p.contents"
   ]
  },
  {
   "cell_type": "code",
   "execution_count": 21,
   "metadata": {},
   "outputs": [
    {
     "data": {
      "text/plain": [
       "'Elsie'"
      ]
     },
     "execution_count": 21,
     "metadata": {},
     "output_type": "execute_result"
    }
   ],
   "source": [
    "soup.a.string"
   ]
  },
  {
   "cell_type": "markdown",
   "metadata": {},
   "source": [
    "<br>\n",
    "#### **4) regex 조건문을 활용한 Html 문서의 활용**\n",
    "전체를 모를 떄 정규식 조건문 구조를 활용하여 필요한 정보를 추출한다"
   ]
  },
  {
   "cell_type": "code",
   "execution_count": 22,
   "metadata": {},
   "outputs": [
    {
     "data": {
      "text/plain": [
       "[<a class=\"sister\" href=\"http://example.com/elsie\" id=\"link1\">Elsie</a>,\n",
       " <a class=\"sister\" href=\"http://example.com/lacie\" id=\"link2\">Lacie</a>,\n",
       " <a class=\"sister\" href=\"http://example.com/tillie\" id=\"link3\">Tillie</a>]"
      ]
     },
     "execution_count": 22,
     "metadata": {},
     "output_type": "execute_result"
    }
   ],
   "source": [
    "soup.find_all('',{'class':\"sister\"})"
   ]
  },
  {
   "cell_type": "code",
   "execution_count": 23,
   "metadata": {},
   "outputs": [
    {
     "data": {
      "text/plain": [
       "[<a class=\"sister\" href=\"http://example.com/elsie\" id=\"link1\">Elsie</a>,\n",
       " <a class=\"sister\" href=\"http://example.com/lacie\" id=\"link2\">Lacie</a>,\n",
       " <a class=\"sister\" href=\"http://example.com/tillie\" id=\"link3\">Tillie</a>]"
      ]
     },
     "execution_count": 23,
     "metadata": {},
     "output_type": "execute_result"
    }
   ],
   "source": [
    "import re\n",
    "soup.find_all('a', {'class':re.compile('sis')})"
   ]
  },
  {
   "cell_type": "code",
   "execution_count": 24,
   "metadata": {},
   "outputs": [
    {
     "data": {
      "text/plain": [
       "<p class=\"story\">...</p>"
      ]
     },
     "execution_count": 24,
     "metadata": {},
     "output_type": "execute_result"
    }
   ],
   "source": [
    "import re\n",
    "soup.find_all('p', {'class':re.compile('ory')})[1]"
   ]
  },
  {
   "cell_type": "code",
   "execution_count": 25,
   "metadata": {},
   "outputs": [
    {
     "data": {
      "text/plain": [
       "<generator object descendants at 0x7fbd265a0f10>"
      ]
     },
     "execution_count": 25,
     "metadata": {},
     "output_type": "execute_result"
    }
   ],
   "source": [
    "soup.body.descendants"
   ]
  },
  {
   "cell_type": "code",
   "execution_count": 26,
   "metadata": {},
   "outputs": [
    {
     "data": {
      "text/plain": [
       "<p class=\"story\">Once upon a time there were three little sisters; and their names were\n",
       "<a class=\"sister\" href=\"http://example.com/elsie\" id=\"link1\">Elsie</a>,\n",
       "<a class=\"sister\" href=\"http://example.com/lacie\" id=\"link2\">Lacie</a> and\n",
       "<a class=\"sister\" href=\"http://example.com/tillie\" id=\"link3\">Tillie</a>;\n",
       "and they lived at the bottom of a well.</p>"
      ]
     },
     "execution_count": 26,
     "metadata": {},
     "output_type": "execute_result"
    }
   ],
   "source": [
    "soup.a.parent"
   ]
  },
  {
   "cell_type": "code",
   "execution_count": 27,
   "metadata": {},
   "outputs": [
    {
     "data": {
      "text/plain": [
       "<b>I got a quant algorithm</b>"
      ]
     },
     "execution_count": 27,
     "metadata": {},
     "output_type": "execute_result"
    }
   ],
   "source": [
    "soup.p.string.parent"
   ]
  },
  {
   "cell_type": "markdown",
   "metadata": {},
   "source": [
    "<br>\n",
    "### **03 Lxml의 기본적인 사용법 익히기**\n",
    "1. HTML 의 기본구조 이해하기 (html 언어를 **편집디자인**으로 불리는 이유)\n",
    "1. **Xpath()** 이해하기 : https://msdn.microsoft.com/ko-kr/library/ms256086(v=vs.120).aspx\n",
    "1. XPath 는 'query language'로써 XML의 nodes 들을 선택하는데 용이하다.\n",
    "1. **'\\\\'** 와 **'\\\\\\\\'** 의 기능을 구분하기\n",
    "1. 모든 HTML 문서는 XML 형식으로 작성되므로 webscraping 을 할 때 유용하고, 처리속도가 빠르다 \n",
    "        site : http://m.finance.daum.net/item/main.daum?code=045660\n",
    "        xpath : //article[@id=\"mArticle\"]/div[@class=\"item_idx_info stUp\"]/h2//text()"
   ]
  },
  {
   "cell_type": "code",
   "execution_count": 28,
   "metadata": {},
   "outputs": [
    {
     "name": "stdout",
     "output_type": "stream",
     "text": [
      "\n",
      "\n",
      "<body>\n",
      "<div>\n",
      "    <h1>Example Domain</h1>\n",
      "    <p>This domain is established to be used for illustrative examples in documents. You may use this\n",
      "    domain in examples without prior coordination or asking for permission.</p>\n",
      "    <p><a href=\"http://www.iana.org/domains/example\">More information...</a></p>\n",
      "</div>\n",
      "</body>\n",
      "</html>\n",
      "\n"
     ]
    }
   ],
   "source": [
    "import requests\n",
    "response = requests.get(\"http://example.com\")\n",
    "print(response.text[941:])"
   ]
  },
  {
   "cell_type": "code",
   "execution_count": 29,
   "metadata": {},
   "outputs": [
    {
     "data": {
      "text/plain": [
       "<Element html at 0x7fbd26236188>"
      ]
     },
     "execution_count": 29,
     "metadata": {},
     "output_type": "execute_result"
    }
   ],
   "source": [
    "from lxml.html import fromstring\n",
    "doc = fromstring(response.text)\n",
    "doc  # HTML 을 lxml 객체로 변환"
   ]
  },
  {
   "cell_type": "code",
   "execution_count": 30,
   "metadata": {},
   "outputs": [
    {
     "data": {
      "text/plain": [
       "b'<h1>Example Domain</h1>\\n    '"
      ]
     },
     "execution_count": 30,
     "metadata": {},
     "output_type": "execute_result"
    }
   ],
   "source": [
    "from lxml.html import tostring\n",
    "temp = doc.xpath(\"/html/body/div/h1\")[0]\n",
    "tostring(temp)"
   ]
  },
  {
   "cell_type": "code",
   "execution_count": 31,
   "metadata": {},
   "outputs": [
    {
     "data": {
      "text/plain": [
       "['Example Domain']"
      ]
     },
     "execution_count": 31,
     "metadata": {},
     "output_type": "execute_result"
    }
   ],
   "source": [
    "doc.xpath(\"/html/body/div/h1/text()\")"
   ]
  },
  {
   "cell_type": "code",
   "execution_count": 32,
   "metadata": {},
   "outputs": [
    {
     "data": {
      "text/plain": [
       "['This domain is established to be used for illustrative examples in documents. You may use this\\n    domain in examples without prior coordination or asking for permission.']"
      ]
     },
     "execution_count": 32,
     "metadata": {},
     "output_type": "execute_result"
    }
   ],
   "source": [
    "doc.xpath(\"/html/body/div/p/text()\")"
   ]
  },
  {
   "cell_type": "code",
   "execution_count": 33,
   "metadata": {},
   "outputs": [
    {
     "data": {
      "text/plain": [
       "['This domain is established to be used for illustrative examples in documents. You may use this\\n    domain in examples without prior coordination or asking for permission.',\n",
       " 'More information...']"
      ]
     },
     "execution_count": 33,
     "metadata": {},
     "output_type": "execute_result"
    }
   ],
   "source": [
    "doc.xpath(\"/html/body/div/p//text()\")"
   ]
  },
  {
   "cell_type": "markdown",
   "metadata": {},
   "source": [
    "#### **Quiz**\n",
    "    http://www.naver.com 에서 실시간 검색어를 수집해보시오"
   ]
  },
  {
   "cell_type": "code",
   "execution_count": 34,
   "metadata": {},
   "outputs": [
    {
     "data": {
      "text/plain": [
       "['김생민',\n",
       " '김생민 성추행',\n",
       " '김기식',\n",
       " '김생민 미투',\n",
       " '방배초등학교',\n",
       " '월화드라마',\n",
       " '장자연',\n",
       " '조현병',\n",
       " '미투',\n",
       " '오마이걸']"
      ]
     },
     "execution_count": 34,
     "metadata": {},
     "output_type": "execute_result"
    }
   ],
   "source": [
    "response = requests.get(\"https://www.naver.com/\")\n",
    "doc = fromstring(response.text)\n",
    "txts = doc.xpath(\"/html/body/div[2]/div[1]/div[2]/div[2]/div[2]/ul[1]//text()\")\n",
    "# txts[:10]\n",
    "# set(txts)\n",
    "[txt for txt in txts if txt not in [\"\\n\", '1','2','3','4','5','6','7','8','9','10', '데이터랩 그래프 보기']]"
   ]
  },
  {
   "cell_type": "code",
   "execution_count": 35,
   "metadata": {},
   "outputs": [
    {
     "data": {
      "text/plain": [
       "['김경수', '뇌전증', '제니퍼송', '조보아', '박인비', 'ebs중학', '월정사', '텐궁1호', '우리말겨루기', '방상훈']"
      ]
     },
     "execution_count": 35,
     "metadata": {},
     "output_type": "execute_result"
    }
   ],
   "source": [
    "doc = fromstring(response.text)\n",
    "txts = doc.xpath(\"/html/body/div[2]/div[1]/div[2]/div[2]/div[2]/ul[2]//text()\")\n",
    "[txt for txt in txts if txt not in [\"\\n\", '11','12','13','14','15','16','17','18','19','20', '데이터랩 그래프 보기']]"
   ]
  },
  {
   "cell_type": "markdown",
   "metadata": {},
   "source": [
    "<br>\n",
    "### **04 Lxml를 활용하여 데이터 수집하기**\n",
    "1. Daum 에서 코스피/ 코스닥 정보 수집하기\n",
    "1. 위의 code 테이블에 market 정보 이어 붙이기\n",
    "1. 데이터를 dict으로 만들어서 pickle로 저장하기"
   ]
  },
  {
   "cell_type": "code",
   "execution_count": 36,
   "metadata": {},
   "outputs": [],
   "source": [
    "def market_code(code):\n",
    "    # texts = html_code.xpath('//div[@class=\"summary\"]/dl[@class=\"etc\"]//dd//text()')\n",
    "    # result.append([code, percent, texts[1]])  # 가격변화비율  # 거래량, 시가총액, 외인비율\n",
    "    import requests\n",
    "    from lxml.html import fromstring, tostring\n",
    "    code = '005930'\n",
    "    url = 'http://m.finance.daum.net/item/main.daum?code='+code+\\\n",
    "          '&nil_profile=stockprice&nil_menu=sisemysearch7'\n",
    "    response = requests.get(url)\n",
    "    html_lxml = fromstring(response.text)\n",
    "    txt = html_lxml.xpath('//strong[@class=\"round txt_kospi\"]/span/text()')[0]\n",
    "    if txt == '코스피':\n",
    "        return 'KRX'\n",
    "    else:\n",
    "        return 'KOSDAQ'"
   ]
  },
  {
   "cell_type": "code",
   "execution_count": 37,
   "metadata": {},
   "outputs": [
    {
     "data": {
      "text/html": [
       "<div>\n",
       "<style scoped>\n",
       "    .dataframe tbody tr th:only-of-type {\n",
       "        vertical-align: middle;\n",
       "    }\n",
       "\n",
       "    .dataframe tbody tr th {\n",
       "        vertical-align: top;\n",
       "    }\n",
       "\n",
       "    .dataframe thead th {\n",
       "        text-align: right;\n",
       "    }\n",
       "</style>\n",
       "<table border=\"1\" class=\"dataframe\">\n",
       "  <thead>\n",
       "    <tr style=\"text-align: right;\">\n",
       "      <th></th>\n",
       "      <th>종목코드</th>\n",
       "      <th>종목명</th>\n",
       "    </tr>\n",
       "  </thead>\n",
       "  <tbody>\n",
       "    <tr>\n",
       "      <th>0</th>\n",
       "      <td>KRX:005930</td>\n",
       "      <td>삼성전자</td>\n",
       "    </tr>\n",
       "    <tr>\n",
       "      <th>1</th>\n",
       "      <td>KRX:000660</td>\n",
       "      <td>SK하이닉스</td>\n",
       "    </tr>\n",
       "  </tbody>\n",
       "</table>\n",
       "</div>"
      ],
      "text/plain": [
       "         종목코드     종목명\n",
       "0  KRX:005930    삼성전자\n",
       "1  KRX:000660  SK하이닉스"
      ]
     },
     "execution_count": 37,
     "metadata": {},
     "output_type": "execute_result"
    }
   ],
   "source": [
    "# KRX CODE 에 Market Code 추가하기\n",
    "#\n",
    "# code        = df.iloc[:,:2]\n",
    "# market_code = [ market_code(c)   \n",
    "#                for c in code.종목코드 ]  # KRX/KOSDAQ 정보 수집\n",
    "\n",
    "# result      = []                       # code명 수정하기\n",
    "# for no, krx in enumerate(market_code):\n",
    "#     cod = code.iloc[no,0]\n",
    "#     cod = krx + \":\" + cod\n",
    "#     result.append(cod)\n",
    "# code.종목코드 = result                   # 수정한 코드명 update\n",
    "# code.to_csv('./data/krx_code.csv', index = None, encoding = 'ms949')\n",
    "import pandas as pd\n",
    "code = pd.read_csv('./data/krx_code.csv', encoding='ms949')\n",
    "code.head(2)"
   ]
  }
 ],
 "metadata": {
  "kernelspec": {
   "display_name": "Python 3",
   "language": "python",
   "name": "python3"
  },
  "language_info": {
   "codemirror_mode": {
    "name": "ipython",
    "version": 3
   },
   "file_extension": ".py",
   "mimetype": "text/x-python",
   "name": "python",
   "nbconvert_exporter": "python",
   "pygments_lexer": "ipython3",
   "version": "3.6.3"
  }
 },
 "nbformat": 4,
 "nbformat_minor": 2
}
