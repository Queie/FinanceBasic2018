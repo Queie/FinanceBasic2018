{
 "cells": [
  {
   "cell_type": "markdown",
   "metadata": {},
   "source": [
    "# **Surprise**\n",
    "## ** 1. 영화 추천 시스템 구성 **\n",
    "sklearn 을 활용하여 추천시스템을 만든다\n",
    "\n",
    "https://datascienceschool.net/view-notebook/fcd3550f11ac4537acec8d18136f2066/"
   ]
  },
  {
   "cell_type": "code",
   "execution_count": 1,
   "metadata": {},
   "outputs": [
    {
     "name": "stdout",
     "output_type": "stream",
     "text": [
      "(100000, 3)\n"
     ]
    },
    {
     "data": {
      "text/html": [
       "<div>\n",
       "<style scoped>\n",
       "    .dataframe tbody tr th:only-of-type {\n",
       "        vertical-align: middle;\n",
       "    }\n",
       "\n",
       "    .dataframe tbody tr th {\n",
       "        vertical-align: top;\n",
       "    }\n",
       "\n",
       "    .dataframe thead th {\n",
       "        text-align: right;\n",
       "    }\n",
       "</style>\n",
       "<table border=\"1\" class=\"dataframe\">\n",
       "  <thead>\n",
       "    <tr style=\"text-align: right;\">\n",
       "      <th></th>\n",
       "      <th>user</th>\n",
       "      <th>item</th>\n",
       "      <th>rate</th>\n",
       "    </tr>\n",
       "  </thead>\n",
       "  <tbody>\n",
       "    <tr>\n",
       "      <th>0</th>\n",
       "      <td>196</td>\n",
       "      <td>242</td>\n",
       "      <td>3.0</td>\n",
       "    </tr>\n",
       "    <tr>\n",
       "      <th>1</th>\n",
       "      <td>186</td>\n",
       "      <td>302</td>\n",
       "      <td>3.0</td>\n",
       "    </tr>\n",
       "    <tr>\n",
       "      <th>2</th>\n",
       "      <td>22</td>\n",
       "      <td>377</td>\n",
       "      <td>1.0</td>\n",
       "    </tr>\n",
       "    <tr>\n",
       "      <th>3</th>\n",
       "      <td>244</td>\n",
       "      <td>51</td>\n",
       "      <td>2.0</td>\n",
       "    </tr>\n",
       "    <tr>\n",
       "      <th>4</th>\n",
       "      <td>166</td>\n",
       "      <td>346</td>\n",
       "      <td>1.0</td>\n",
       "    </tr>\n",
       "  </tbody>\n",
       "</table>\n",
       "</div>"
      ],
      "text/plain": [
       "  user item  rate\n",
       "0  196  242   3.0\n",
       "1  186  302   3.0\n",
       "2   22  377   1.0\n",
       "3  244   51   2.0\n",
       "4  166  346   1.0"
      ]
     },
     "execution_count": 1,
     "metadata": {},
     "output_type": "execute_result"
    }
   ],
   "source": [
    "# ! pip install surprise\n",
    "# 영화 데이터 불러오기 [ 사용자, 영화, 평점 데이터 ]\n",
    "import surprise\n",
    "data = surprise.Dataset.load_builtin('ml-100k')\n",
    "\n",
    "import pandas as pd\n",
    "df = pd.DataFrame(data.raw_ratings, columns=[\"user\", \"item\", \"rate\", \"id\"])\n",
    "del df[\"id\"]; print(df.shape); df.head(5)"
   ]
  },
  {
   "cell_type": "code",
   "execution_count": 2,
   "metadata": {},
   "outputs": [
    {
     "data": {
      "text/html": [
       "<div>\n",
       "<style scoped>\n",
       "    .dataframe tbody tr th:only-of-type {\n",
       "        vertical-align: middle;\n",
       "    }\n",
       "\n",
       "    .dataframe tbody tr th {\n",
       "        vertical-align: top;\n",
       "    }\n",
       "\n",
       "    .dataframe thead tr th {\n",
       "        text-align: left;\n",
       "    }\n",
       "\n",
       "    .dataframe thead tr:last-of-type th {\n",
       "        text-align: right;\n",
       "    }\n",
       "</style>\n",
       "<table border=\"1\" class=\"dataframe\">\n",
       "  <thead>\n",
       "    <tr>\n",
       "      <th></th>\n",
       "      <th colspan=\"9\" halign=\"left\">rate</th>\n",
       "    </tr>\n",
       "    <tr>\n",
       "      <th>item</th>\n",
       "      <th>211</th>\n",
       "      <th>212</th>\n",
       "      <th>213</th>\n",
       "      <th>214</th>\n",
       "      <th>215</th>\n",
       "      <th>216</th>\n",
       "      <th>217</th>\n",
       "      <th>218</th>\n",
       "      <th>219</th>\n",
       "    </tr>\n",
       "    <tr>\n",
       "      <th>user</th>\n",
       "      <th></th>\n",
       "      <th></th>\n",
       "      <th></th>\n",
       "      <th></th>\n",
       "      <th></th>\n",
       "      <th></th>\n",
       "      <th></th>\n",
       "      <th></th>\n",
       "      <th></th>\n",
       "    </tr>\n",
       "  </thead>\n",
       "  <tbody>\n",
       "    <tr>\n",
       "      <th>290</th>\n",
       "      <td>3</td>\n",
       "      <td></td>\n",
       "      <td></td>\n",
       "      <td></td>\n",
       "      <td></td>\n",
       "      <td>4</td>\n",
       "      <td></td>\n",
       "      <td>2</td>\n",
       "      <td></td>\n",
       "    </tr>\n",
       "    <tr>\n",
       "      <th>291</th>\n",
       "      <td></td>\n",
       "      <td>4</td>\n",
       "      <td></td>\n",
       "      <td>4</td>\n",
       "      <td>4</td>\n",
       "      <td></td>\n",
       "      <td></td>\n",
       "      <td>4</td>\n",
       "      <td>4</td>\n",
       "    </tr>\n",
       "    <tr>\n",
       "      <th>292</th>\n",
       "      <td></td>\n",
       "      <td></td>\n",
       "      <td></td>\n",
       "      <td>3</td>\n",
       "      <td></td>\n",
       "      <td></td>\n",
       "      <td></td>\n",
       "      <td></td>\n",
       "      <td></td>\n",
       "    </tr>\n",
       "    <tr>\n",
       "      <th>293</th>\n",
       "      <td>4</td>\n",
       "      <td></td>\n",
       "      <td>3</td>\n",
       "      <td></td>\n",
       "      <td>4</td>\n",
       "      <td>4</td>\n",
       "      <td>3</td>\n",
       "      <td>2</td>\n",
       "      <td></td>\n",
       "    </tr>\n",
       "    <tr>\n",
       "      <th>294</th>\n",
       "      <td></td>\n",
       "      <td></td>\n",
       "      <td></td>\n",
       "      <td></td>\n",
       "      <td></td>\n",
       "      <td></td>\n",
       "      <td></td>\n",
       "      <td></td>\n",
       "      <td></td>\n",
       "    </tr>\n",
       "    <tr>\n",
       "      <th>295</th>\n",
       "      <td></td>\n",
       "      <td></td>\n",
       "      <td>5</td>\n",
       "      <td></td>\n",
       "      <td>5</td>\n",
       "      <td>5</td>\n",
       "      <td>4</td>\n",
       "      <td>5</td>\n",
       "      <td></td>\n",
       "    </tr>\n",
       "    <tr>\n",
       "      <th>296</th>\n",
       "      <td>4</td>\n",
       "      <td></td>\n",
       "      <td></td>\n",
       "      <td></td>\n",
       "      <td></td>\n",
       "      <td></td>\n",
       "      <td></td>\n",
       "      <td></td>\n",
       "      <td></td>\n",
       "    </tr>\n",
       "    <tr>\n",
       "      <th>297</th>\n",
       "      <td>4</td>\n",
       "      <td></td>\n",
       "      <td>3</td>\n",
       "      <td></td>\n",
       "      <td>2</td>\n",
       "      <td>4</td>\n",
       "      <td></td>\n",
       "      <td>3</td>\n",
       "      <td></td>\n",
       "    </tr>\n",
       "    <tr>\n",
       "      <th>298</th>\n",
       "      <td>5</td>\n",
       "      <td></td>\n",
       "      <td>3</td>\n",
       "      <td></td>\n",
       "      <td>5</td>\n",
       "      <td></td>\n",
       "      <td></td>\n",
       "      <td></td>\n",
       "      <td></td>\n",
       "    </tr>\n",
       "    <tr>\n",
       "      <th>299</th>\n",
       "      <td>4</td>\n",
       "      <td>4</td>\n",
       "      <td>5</td>\n",
       "      <td></td>\n",
       "      <td></td>\n",
       "      <td>5</td>\n",
       "      <td></td>\n",
       "      <td></td>\n",
       "      <td></td>\n",
       "    </tr>\n",
       "  </tbody>\n",
       "</table>\n",
       "</div>"
      ],
      "text/plain": [
       "     rate                                \n",
       "item  211 212 213 214 215 216 217 218 219\n",
       "user                                     \n",
       "290     3                   4       2    \n",
       "291         4       4   4           4   4\n",
       "292                 3                    \n",
       "293     4       3       4   4   3   2    \n",
       "294                                      \n",
       "295             5       5   5   4   5    \n",
       "296     4                                \n",
       "297     4       3       2   4       3    \n",
       "298     5       3       5                \n",
       "299     4   4   5           5            "
      ]
     },
     "execution_count": 2,
     "metadata": {},
     "output_type": "execute_result"
    }
   ],
   "source": [
    "# Pivot Table 로  평점 행렬(rate matrix) R 을 만든다\n",
    "# y축 : 아이디(\"user\") , x축 : 영화(\"item\") \n",
    "df_table      = df.set_index([\"user\", \"item\"]).unstack()\n",
    "df_table_temp = df_table.iloc[212:222, 808:817]\n",
    "df_table_temp.fillna(\"\")"
   ]
  },
  {
   "cell_type": "code",
   "execution_count": 3,
   "metadata": {},
   "outputs": [
    {
     "data": {
      "image/png": "[encoded data removed]",
      "text/plain": [
       "<Figure size 432x288 with 1 Axes>"
      ]
     },
     "metadata": {},
     "output_type": "display_data"
    }
   ],
   "source": [
    "% matplotlib inline\n",
    "# df_table 데이터 분포를 시각적 분석\n",
    "import matplotlib.pyplot as plt\n",
    "plt.imshow(df_table);     plt.grid(False)\n",
    "plt.xlabel(\"item\");       plt.ylabel(\"user\")\n",
    "plt.title(\"Rate Matrix\"); plt.show()"
   ]
  },
  {
   "cell_type": "markdown",
   "metadata": {},
   "source": [
    "<br>\n",
    "## **2 추천 시스템 알고리즘 **\n",
    "1. 베이스라인 모형\n",
    "1. Collaborative Filtering\n",
    "    1. Neighborhood Models\n",
    "        1. User-based CF\n",
    "        1. Item-based CF\n",
    "    2. Latent Factor Models\n",
    "        1. Matrix Factorization\n",
    "        1. SVD\n",
    "1. Content-Based Recommendation\n",
    "\n",
    "<br>\n",
    "### 1) **베이스라인 모형 (full coding) **\n",
    "상품특성에 대한 평점 평균합을 통해서 결론을 도출"
   ]
  },
  {
   "cell_type": "code",
   "execution_count": 4,
   "metadata": {},
   "outputs": [],
   "source": [
    "# n_folds = 데이터를 3개로 나눈다 (Train, Test, Valid)\n",
    "import numpy as np\n",
    "data.split(n_folds=3)\n",
    "\n",
    "# 베이스라인 알고리즘 활용 (파라미터를 {dict}로 입력)\n",
    "# ALS (Alternating Least Squares)의 인수 : 속도는 빠름\n",
    "#     reg_i: 상품에 대한 정규화 가중치. 디폴트는 10.\n",
    "#     reg_u: 사용자에 대한 정규화 가중치. 디폴트는 15.\n",
    "#     n_epochs: 최적화 반복 횟수. 디폴트는 10.\n",
    "\n",
    "# SGD (Stochastic Gradient Descent)의 인수 : 정확도가 높다 \n",
    "#     reg: 정규화 가중치. 디폴트는 0.02.\n",
    "#     learning_rate: 최적화 스텝 사이즈. 디폴트는 0.005.\n",
    "#     n_epochs: 최적화 반복 횟수. 디폴트는 20.\n",
    "\n",
    "bsl_options = {'method': 'als', \n",
    "               'reg_i': 5,     # item에 대한 정규화 가중치 (컬럼방향)\n",
    "               'reg_u': 12,    # user에 대한 정규화 가중치 (row방향)\n",
    "               'n_epochs': 5}  # epoch 반복횟수\n",
    "algo = surprise.BaselineOnly(bsl_options = bsl_options)   \n",
    "np.random.seed(0)\n",
    "acc = np.zeros(3)"
   ]
  },
  {
   "cell_type": "code",
   "execution_count": 5,
   "metadata": {},
   "outputs": [
    {
     "name": "stderr",
     "output_type": "stream",
     "text": [
      "/home/markbaum/Python/django/lib/python3.6/site-packages/surprise/dataset.py:193: UserWarning: Using data.split() or using load_from_folds() without using a CV iterator is now deprecated. \n",
      "  UserWarning)\n"
     ]
    },
    {
     "name": "stdout",
     "output_type": "stream",
     "text": [
      "Estimating biases using als...\n",
      "RMSE: 0.9463\n",
      "Estimating biases using als...\n",
      "RMSE: 0.9434\n",
      "Estimating biases using als...\n",
      "RMSE: 0.9411\n"
     ]
    },
    {
     "data": {
      "text/plain": [
       "0.9436222217133792"
      ]
     },
     "execution_count": 5,
     "metadata": {},
     "output_type": "execute_result"
    }
   ],
   "source": [
    "# Model 을 Train\n",
    "for i, (trainset, testset) in enumerate(data.folds()):\n",
    "    algo.fit(trainset)                                    # train 데이터 : 베이스라인 알고리즘 적용\n",
    "    predictions = algo.test(testset)                      # test 데이터 : train 분석결과 예측 결과값 계산\n",
    "    acc[i]      = surprise.accuracy.rmse(predictions,     \n",
    "                                         verbose = True)  # RMSE 로 오차값 조정\n",
    "acc.mean()"
   ]
  },
  {
   "cell_type": "markdown",
   "metadata": {},
   "source": [
    "<br>\n",
    "### 2) ** Neighborhood 모형 : 사용자나 상품 기준으로 평점의 유사성을 예측**\n",
    "KNN 가중치 예측 방법\n",
    "\n",
    "일단 유사도가 구해지면 평점을 예측하고자 하는 사용자(또는 상품)와 유사도가 큰 k개의 사용자(또는 상품) 벡터를 사용하여\n",
    "\n",
    "가중 평균을 구해서 가중치를 예측한다. 이러한 방법을 KNN(K Nearest Neighbors) 기반 예측 방법이라고 한다.\n",
    "\n",
    "surprise 패키지에서는 다음과 같은 3가지의 KNN 기반 가중치 예측 알고리즘 클래스를 제공한다."
   ]
  },
  {
   "cell_type": "code",
   "execution_count": 6,
   "metadata": {},
   "outputs": [
    {
     "name": "stdout",
     "output_type": "stream",
     "text": [
      "Estimating biases using als...\n",
      "Estimating biases using als...\n",
      "Estimating biases using als...\n",
      "Estimating biases using als...\n",
      "Estimating biases using als...\n"
     ]
    },
    {
     "data": {
      "text/plain": [
       "{'fit_time': (0.03055596351623535,\n",
       "  0.04407382011413574,\n",
       "  0.029871463775634766,\n",
       "  0.03699135780334473,\n",
       "  0.03518986701965332),\n",
       " 'test_mae': array([0.74862385, 0.74907002, 0.74221837, 0.74399647, 0.74432726]),\n",
       " 'test_rmse': array([0.94580024, 0.94658062, 0.93934563, 0.93798161, 0.93898959]),\n",
       " 'test_time': (0.10895180702209473,\n",
       "  0.13652825355529785,\n",
       "  0.11638927459716797,\n",
       "  0.11783528327941895,\n",
       "  0.16123652458190918)}"
      ]
     },
     "execution_count": 6,
     "metadata": {},
     "output_type": "execute_result"
    }
   ],
   "source": [
    "# 1. 베이스라인 모형\n",
    "# evaluate 명령을 사용하여 짧은 코딩 가능\n",
    "data.split(n_folds = 3)\n",
    "bsl_options = {'method': 'als', \n",
    "               'reg_i': 5, \n",
    "               'reg_u': 12, \n",
    "               'n_epochs': 5}\n",
    "algo = surprise.BaselineOnly(bsl_options = bsl_options)\n",
    "surprise.model_selection.cross_validate(algo, data)"
   ]
  },
  {
   "cell_type": "code",
   "execution_count": 7,
   "metadata": {},
   "outputs": [
    {
     "name": "stdout",
     "output_type": "stream",
     "text": [
      "Computing the pearson similarity matrix...\n",
      "Computing the pearson similarity matrix...\n",
      "Computing the pearson similarity matrix...\n",
      "Computing the pearson similarity matrix...\n",
      "Done computing similarity matrix.\n",
      "Done computing similarity matrix.\n",
      "Done computing similarity matrix.\n",
      "Done computing similarity matrix.\n",
      "Computing the pearson similarity matrix...\n",
      "Done computing similarity matrix.\n"
     ]
    },
    {
     "data": {
      "text/plain": [
       "{'fit_time': (2.5035247802734375,\n",
       "  2.8520216941833496,\n",
       "  2.436652183532715,\n",
       "  2.475733995437622,\n",
       "  1.6076571941375732),\n",
       " 'test_mae': array([0.79776231, 0.80611373, 0.79766463, 0.8078662 , 0.80490979]),\n",
       " 'test_rmse': array([1.00660627, 1.01624866, 1.00257394, 1.01626384, 1.01049223]),\n",
       " 'test_time': (4.325087785720825,\n",
       "  4.782121896743774,\n",
       "  4.464331150054932,\n",
       "  4.099863529205322,\n",
       "  2.349487543106079)}"
      ]
     },
     "execution_count": 7,
     "metadata": {},
     "output_type": "execute_result"
    }
   ],
   "source": [
    "# 피어슨 분류, cosine 분류 사용\n",
    "\n",
    "# sim_options = {'name': 'msd'}      # Neighborhood 모형\n",
    "# sim_options = {'name': 'cosine'}   # cosine 유사도 측정\n",
    "sim_options = {'name': 'pearson'}    # 피어슨 유사도 측정\n",
    "algo = surprise.KNNBasic(sim_options = sim_options)\n",
    "surprise.model_selection.cross_validate(algo, data)"
   ]
  },
  {
   "cell_type": "code",
   "execution_count": 8,
   "metadata": {},
   "outputs": [
    {
     "name": "stdout",
     "output_type": "stream",
     "text": [
      "Estimating biases using als...\n",
      "Computing the pearson_baseline similarity matrix...\n",
      "Estimating biases using als...\n",
      "Computing the pearson_baseline similarity matrix...\n",
      "Estimating biases using als...\n",
      "Computing the pearson_baseline similarity matrix...\n",
      "Estimating biases using als...\n",
      "Computing the pearson_baseline similarity matrix...\n",
      "Done computing similarity matrix.\n",
      "Done computing similarity matrix.\n",
      "Done computing similarity matrix.\n",
      "Done computing similarity matrix.\n",
      "Estimating biases using als...\n",
      "Computing the pearson_baseline similarity matrix...\n",
      "Done computing similarity matrix.\n"
     ]
    },
    {
     "data": {
      "text/plain": [
       "{'fit_time': (1.5578079223632812,\n",
       "  1.6644742488861084,\n",
       "  2.1260242462158203,\n",
       "  1.7243974208831787,\n",
       "  1.0562875270843506),\n",
       " 'test_mae': array([0.72247456, 0.72882343, 0.7305456 , 0.73145288, 0.73638026]),\n",
       " 'test_rmse': array([0.92754729, 0.93637646, 0.93826381, 0.93812115, 0.94489859]),\n",
       " 'test_time': (4.7007739543914795,\n",
       "  4.618355751037598,\n",
       "  4.283309459686279,\n",
       "  4.562142610549927,\n",
       "  2.4679455757141113)}"
      ]
     },
     "execution_count": 8,
     "metadata": {},
     "output_type": "execute_result"
    }
   ],
   "source": [
    "# 피어슨 분류모형 사용 2\n",
    "\n",
    "sim_options = {'name': 'pearson_baseline'}\n",
    "# algo = surprise.KNNBasic(sim_options=sim_options)\n",
    "# algo = surprise.KNNBaseline(sim_options=sim_options)\n",
    "algo = surprise.KNNWithMeans(sim_options=sim_options)\n",
    "surprise.model_selection.cross_validate(algo, data)"
   ]
  },
  {
   "cell_type": "markdown",
   "metadata": {},
   "source": [
    "<br>\n",
    "### 2) **Latent Factor 모형 : 행렬의 수치적 특징을 이용하여 유사성을 예측**\n",
    "KNN 가중치 예측 방법 "
   ]
  },
  {
   "cell_type": "code",
   "execution_count": 9,
   "metadata": {},
   "outputs": [
    {
     "data": {
      "text/plain": [
       "{'fit_time': (17.251795291900635,\n",
       "  17.519346952438354,\n",
       "  18.47800064086914,\n",
       "  16.940380334854126,\n",
       "  10.170598983764648),\n",
       " 'test_mae': array([0.74400909, 0.7494089 , 0.74190243, 0.74168499, 0.74591748]),\n",
       " 'test_rmse': array([0.94554242, 0.94904958, 0.9427607 , 0.94188818, 0.94962578]),\n",
       " 'test_time': (0.25911474227905273,\n",
       "  0.2544386386871338,\n",
       "  0.14855217933654785,\n",
       "  0.2506260871887207,\n",
       "  0.1941378116607666)}"
      ]
     },
     "execution_count": 9,
     "metadata": {},
     "output_type": "execute_result"
    }
   ],
   "source": [
    "algo = surprise.SVD(n_factors=200, n_epochs=30)\n",
    "surprise.model_selection.cross_validate(algo, data)"
   ]
  },
  {
   "cell_type": "code",
   "execution_count": 10,
   "metadata": {},
   "outputs": [
    {
     "name": "stderr",
     "output_type": "stream",
     "text": [
      "/home/markbaum/Python/django/lib/python3.6/site-packages/surprise/evaluate.py:66: UserWarning: The evaluate() method is deprecated. Please use model_selection.cross_validate() instead.\n",
      "  'model_selection.cross_validate() instead.', UserWarning)\n",
      "/home/markbaum/Python/django/lib/python3.6/site-packages/surprise/dataset.py:193: UserWarning: Using data.split() or using load_from_folds() without using a CV iterator is now deprecated. \n",
      "  UserWarning)\n"
     ]
    },
    {
     "name": "stdout",
     "output_type": "stream",
     "text": [
      "Evaluating RMSE, MAE of algorithm SVD.\n",
      "\n",
      "------------\n",
      "Fold 1\n",
      "RMSE: 0.9486\n",
      "MAE:  0.7482\n",
      "------------\n",
      "Fold 2\n",
      "RMSE: 0.9554\n",
      "MAE:  0.7522\n",
      "------------\n",
      "Fold 3\n",
      "RMSE: 0.9576\n",
      "MAE:  0.7547\n",
      "------------\n",
      "------------\n",
      "Mean RMSE: 0.9538\n",
      "Mean MAE : 0.7517\n",
      "------------\n",
      "------------\n"
     ]
    },
    {
     "data": {
      "text/plain": [
       "CaseInsensitiveDefaultDict(list,\n",
       "                           {'mae': [0.7481998756918012,\n",
       "                             0.7521644239480095,\n",
       "                             0.7547219620556262],\n",
       "                            'rmse': [0.9485734101308568,\n",
       "                             0.9553809410801148,\n",
       "                             0.957588923074147]})"
      ]
     },
     "execution_count": 10,
     "metadata": {},
     "output_type": "execute_result"
    }
   ],
   "source": [
    "algo = surprise.SVD(n_factors=200, n_epochs=30)\n",
    "surprise.evaluate(algo, data)"
   ]
  },
  {
   "cell_type": "markdown",
   "metadata": {},
   "source": [
    "<br>\n",
    "# **잔재미 코딩**\n",
    "## ** 1. 영화 추천데이터 불러오기 **\n",
    "sklearn 을 활용하여 추천시스템을 만든다\n",
    "1. https://datascienceschool.net/view-notebook/fcd3550f11ac4537acec8d18136f2066/\n",
    "1. http://www.fun-coding.org/recommend_basic6.html"
   ]
  },
  {
   "cell_type": "code",
   "execution_count": 11,
   "metadata": {},
   "outputs": [
    {
     "name": "stdout",
     "output_type": "stream",
     "text": [
      "covariance matrix = \n",
      " [[ 0.09338628 -0.11086559 -0.02943783]\n",
      " [-0.11086559  0.18770817  0.0336127 ]\n",
      " [-0.02943783  0.0336127   0.12511719]]\n",
      "eigenvalues = \n",
      " [0.27418905 0.11232653 0.01969604]\n",
      "eigenvectors = \n",
      " [[ 0.53435576  0.10510519 -0.83869948]\n",
      " [-0.79577968 -0.27194755 -0.54109078]\n",
      " [-0.28495372  0.95655498 -0.06167616]]\n",
      "principal_components = \n",
      " [[-0.5382821   0.04170504 -0.17101639]\n",
      " [ 0.37801268 -0.26959854  0.10654358]\n",
      " [-0.60281427 -0.09375913  0.14821045]\n",
      " [ 0.31232627  0.5572872   0.03786103]\n",
      " [ 0.45075742 -0.23563458 -0.12159868]]\n",
      "V = \n",
      " [[-0.53435576  0.10510519 -0.83869948]\n",
      " [ 0.79577968 -0.27194755 -0.54109078]\n",
      " [ 0.28495372  0.95655498 -0.06167616]]\n",
      "US = \n",
      " [[ 0.5382821   0.04170504 -0.17101639]\n",
      " [-0.37801268 -0.26959854  0.10654358]\n",
      " [ 0.60281427 -0.09375913  0.14821045]\n",
      " [-0.31232627  0.5572872   0.03786103]\n",
      " [-0.45075742 -0.23563458 -0.12159868]]\n",
      "[0.27418905 0.11232653 0.01969604]\n",
      "[[ 0.5382821   0.04170504]\n",
      " [-0.37801268 -0.26959854]\n",
      " [ 0.60281427 -0.09375913]\n",
      " [-0.31232627  0.5572872 ]\n",
      " [-0.45075742 -0.23563458]]\n",
      "[[ 0.51399026  0.06221819 -0.60928184]\n",
      " [-0.36095355 -0.40220397  0.37958392]\n",
      " [ 0.57561019 -0.13987574  0.5280309 ]\n",
      " [-0.29823147  0.83139593  0.13488789]\n",
      " [-0.43041543 -0.35153441 -0.43322086]]\n",
      "[[1.04726129 0.         0.        ]\n",
      " [0.         0.67030302 0.        ]\n",
      " [0.         0.         0.28068519]]\n",
      "[[-0.53435576  0.10510519 -0.83869948]\n",
      " [ 0.79577968 -0.27194755 -0.54109078]\n",
      " [ 0.28495372  0.95655498 -0.06167616]]\n"
     ]
    }
   ],
   "source": [
    "import numpy as np\n",
    "from numpy import linalg as la\n",
    "np.random.seed(42)\n",
    "\n",
    "def flip_signs(A, B):  # http://stats.stackexchange.com/q/34396/115202\n",
    "    signs = np.sign(A) * np.sign(B)\n",
    "    return A, B * signs\n",
    "\n",
    "# Let the data matrix X be of n x p size,\n",
    "# where n is the number of samples and p is the number of variables\n",
    "n, p = 5, 3\n",
    "X = np.random.rand(n, p)\n",
    "# Let us assume that it is centered\n",
    "# 평균이 0으로 맞춘 후에 (centering 작업 수행) 공분산 행렬을 계산함\n",
    "X -= np.mean(X, axis=0)\n",
    "\n",
    "# the p x p covariance matrix\n",
    "C = np.cov(X, rowvar=False)\n",
    "print (\"covariance matrix = \\n\", C)\n",
    "# C is a symmetric matrix and so it can be diagonalized:\n",
    "l, principal_axes = la.eig(C)\n",
    "# sort results wrt. eigenvalues\n",
    "idx = l.argsort()[::-1]\n",
    "l, principal_axes = l[idx], principal_axes[:, idx]\n",
    "# the eigenvalues in decreasing order\n",
    "print (\"eigenvalues = \\n\", l)\n",
    "# a matrix of eigenvectors (each column is an eigenvector)\n",
    "print (\"eigenvectors = \\n\", principal_axes)\n",
    "# projections of X on the principal axes are called principal components\n",
    "principal_components = X.dot(principal_axes)\n",
    "print (\"principal_components = \\n\", principal_components)\n",
    "\n",
    "# we now perform singular value decomposition of X\n",
    "# \"economy size\" (or \"thin\") SVD\n",
    "U, s, Vt = la.svd(X, full_matrices=False)\n",
    "V = Vt.T\n",
    "S = np.diag(s)\n",
    "\n",
    "# 1) then columns of V are principal directions/axes.\n",
    "print (\"V = \\n\", V)\n",
    "assert np.allclose(*flip_signs(V, principal_axes))\n",
    "\n",
    "# 2) columns of US are principal components\n",
    "print (\"US = \\n\", U.dot(S))\n",
    "assert np.allclose(*flip_signs(U.dot(S), principal_components))\n",
    "\n",
    "# 3) singular values are related to the eigenvalues of covariance matrix\n",
    "print ((s ** 2) / (n - 1))\n",
    "assert np.allclose((s ** 2) / (n - 1), l)\n",
    "\n",
    "# 8) dimensionality reduction\n",
    "k = 2\n",
    "PC_k = principal_components[:, 0:k]\n",
    "US_k = U[:, 0:k].dot(S[0:k, 0:k])\n",
    "print (US_k)\n",
    "assert np.allclose(*flip_signs(PC_k, US_k))\n",
    "\n",
    "print (U)\n",
    "print (S)\n",
    "print (V)\n",
    "# 10) we used \"economy size\" (or \"thin\") SVD\n",
    "assert U.shape == (n, p)\n",
    "assert S.shape == (p, p)\n",
    "assert V.shape == (p, p)"
   ]
  },
  {
   "cell_type": "code",
   "execution_count": 12,
   "metadata": {},
   "outputs": [
    {
     "data": {
      "text/plain": [
       "array([[ 5.95870798e-17,  2.79568523e-16],\n",
       "       [ 8.19036259e-01,  3.69545189e-16],\n",
       "       [-5.49686786e-17,  6.68740305e-01],\n",
       "       [-4.12033416e-17,  6.68740305e-01],\n",
       "       [ 8.19036259e-01, -1.36374889e-16]])"
      ]
     },
     "execution_count": 12,
     "metadata": {},
     "output_type": "execute_result"
    }
   ],
   "source": [
    "from sklearn.decomposition import TruncatedSVD\n",
    "from sklearn.random_projection import sparse_random_matrix\n",
    "X = sparse_random_matrix(5, 5)\n",
    "svd = TruncatedSVD(n_components=2, n_iter=7)  \n",
    "U = svd.fit_transform(X)\n",
    "Sigma = svd.explained_variance_ratio_\n",
    "VT = svd.components_\n",
    "svd.fit(X)\n",
    "U"
   ]
  },
  {
   "cell_type": "code",
   "execution_count": 13,
   "metadata": {},
   "outputs": [],
   "source": [
    "# https://medium.com/@ourpro.choi/%EC%B6%94%EC%B2%9C-%EC%97%94%EC%A7%84%EC%97%90-%EB%8C%80%ED%95%9C-%EA%B3%A0%EB%AF%BC-%EA%B3%B5%EB%B6%80%ED%96%88%EB%8D%98-%EB%82%B4%EC%9A%A9%EC%97%90-%EB%8C%80%ED%95%9C-%EC%A0%95%EB%A6%AC-%EB%82%B4%EC%9A%A9%EB%93%A4-edfe4c7b49fc"
   ]
  }
 ],
 "metadata": {
  "kernelspec": {
   "display_name": "Python 3",
   "language": "python",
   "name": "python3"
  },
  "language_info": {
   "codemirror_mode": {
    "name": "ipython",
    "version": 3
   },
   "file_extension": ".py",
   "mimetype": "text/x-python",
   "name": "python",
   "nbconvert_exporter": "python",
   "pygments_lexer": "ipython3",
   "version": "3.6.3"
  }
 },
 "nbformat": 4,
 "nbformat_minor": 2
}
