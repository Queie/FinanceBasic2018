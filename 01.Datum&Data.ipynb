{
 "cells": [
  {
   "cell_type": "markdown",
   "metadata": {},
   "source": [
    "# **_1. Python Datum & Data_**\n",
    "**금융데이터를 활용한 파이썬 기초 객체**\n"
   ]
  },
  {
   "cell_type": "markdown",
   "metadata": {},
   "source": [
    "<br>\n",
    "## **1 Why Coding**\n",
    "Introduction\n",
    "\n",
    "### **01 왜 파이썬을 배우러 오셨습니까?**\n",
    "미래의 지구는 인간 만으로는 살기 어렵다는데\n",
    "\n",
    "정 안되면 자연으로 돌아가고 싶은 생각 중...<br>\n",
    "\n",
    "<img src=\"http://cdn.pingwest.com/wp-content/uploads/2016/03/DSCF3721.0.jpg\" align='left' width=600>"
   ]
  },
  {
   "cell_type": "markdown",
   "metadata": {},
   "source": [
    "### **02 하지만 이 길은 멀고 험난합니다**\n",
    "첫 술에 배부르랴..\n",
    "\n",
    "익숙하지 않을 뿐, 익숙해 지는 것 부터 시작하고 완성하면 그것이 처음이자 끝이다\n",
    "\n",
    "처음부터 맛에 익숙하진 않지만,  살아가면서 다양한 맛을 알고 이해하게 된다..\n",
    "\n",
    "자세히 설명은 못해도 머리와 몸으로 이해하듯...\n",
    "\n",
    "언의의 내용과 개념을 있는 그대로 받아들이고 이해하는 과정이 이번 수업의 내용입니다\n",
    "\n",
    "<img src=\"http://cfile210.uf.daum.net/image/217073395486BED70AAF8D\" align='left' width='600'>"
   ]
  },
  {
   "cell_type": "markdown",
   "metadata": {},
   "source": [
    "<br>\n",
    "### **03 Why Python**\n",
    "Introduction\n",
    "\n",
    "#### **3-1 Excel VBA**\n",
    "1. 역사가 길고 VBA Source들이 많다\n",
    "1. cristall ball 등 오랜 검증이 확실한 도구들이 많다\n",
    "1. 대용량 작업을 위해선 많은 성능을 요한다\n",
    "\n",
    "<img src=\"http://developerfarm.cdn1.cafe24.com/cover/l/9791158390891.jpg\" align='left' width='400'>"
   ]
  },
  {
   "cell_type": "markdown",
   "metadata": {},
   "source": [
    "#### **3-2 R, R-studio**\n",
    "1. 금융 Quant에 관련된 Source들이 다양하다\n",
    "1. 계산에 가장 최적화된 언어로 설치 및 활용\n",
    "1. 무료다 (아직은....) <strike>Micro Soft에게 결정권이 달려있다..</strike>\n",
    "\n",
    "<img src=\"http://preview.yes24.com/PreviewResize.aspx?no=53564397&fn=r9w6g2m7ehc8ljkt01.jpg&size=700|904\" align='left' width='400'>"
   ]
  },
  {
   "cell_type": "markdown",
   "metadata": {},
   "source": [
    "#### **3-3 Python**\n",
    "1. R에 비해서 Open된 Source 들이 부족하다\n",
    "1. 다른 언어에 비해서 상대적으로 쉽다 <strike>그러면서 쉽지않다</strike>\n",
    "1. 규칙에 근거한 coding (<strike>때문에 짧아서 쉬워 보일 뿐, 쉽지 않다)</strike>\n",
    "1. 한편 쉽지 않다는 건 그만큼 강력한 활용이 가능하는 뜻이기도 하다\n",
    "    \n",
    "<img src=\"http://preview.yes24.com/PreviewResize.aspx?no=56882179&fn=31jg1uxtfc0gao9e01.jpg&size=700|885\" align='left' width='400'>"
   ]
  },
  {
   "cell_type": "markdown",
   "metadata": {},
   "source": [
    "<br><br>\n",
    "## **2 Let's Start**\n",
    "### **01 Coding 둘러보기**\n",
    "Coding 이란 : 컴퓨터에게 숫자, 영어, 기호 로 특정명령을 내리는 것 <strike>한글은 불가능</strike>"
   ]
  },
  {
   "cell_type": "code",
   "execution_count": 1,
   "metadata": {},
   "outputs": [],
   "source": [
    "# 파이썬 코딩의 기본 3요소\n",
    "# 1.Data,  2.함수,  3.연결부호\n",
    "# 그동안 영어공부한 내용에 비하면 절대 어렵지 않다!!! \n",
    "# (대략 200개의 단어의 뜻과 예문만 암기하고, 1~3가지 문법만 알면 끝이다!!)\n",
    "# 단지 익숙하지 않을 뿐... 곤란한 당신의 이유는 단지 이것 뿐이다..\n",
    "# 자주 사용하는 몇가지들 부터 익혀 나가자"
   ]
  },
  {
   "cell_type": "code",
   "execution_count": 2,
   "metadata": {},
   "outputs": [],
   "source": [
    "# 1. Data\n",
    "# 숫자   :  연산  \n",
    "# \"문자\", '문자' :  counting, slicing, 문자열 더하기\n",
    "# (변수명)  :  문자만 가능 (내부는 수정 변환이 가능)\n",
    "# [list형 데이터] - 숫자/ 문자\n",
    "# {dict형 데이터} - { key값 : value값 } - 숫자 /문자\n",
    "# (tuple1, tuple2) : 병렬처리, 생성 후 수정불가능 (2개 , 3개 ... n개), 꼭 짝은 맞아야 한다!!)\n",
    "# ex) (tuple1, tuple2) : 컴퓨터 연산처리 결과 (편집이 어려워서 사용자가 건드리는 경우는 거의 없다)"
   ]
  },
  {
   "cell_type": "code",
   "execution_count": 3,
   "metadata": {},
   "outputs": [],
   "source": [
    "# 2. 연걸부호\n",
    "# . 종속   \n",
    "# , 병렬나열\n",
    "# : 내부설계 시작\n",
    "# = 입력\n",
    "# == 대등조건\n",
    "# != 부 대등조건\n",
    "# '' , \"\"  문자열 지정 (연산 불가능한 객체)"
   ]
  },
  {
   "cell_type": "code",
   "execution_count": 4,
   "metadata": {},
   "outputs": [],
   "source": [
    "# 3. 함수\n",
    "# 파이썬 내장모듈(class), 함수/ 메소드\n",
    "# 파이썬 외부모듈(class), 함수/ 메소드"
   ]
  },
  {
   "cell_type": "markdown",
   "metadata": {},
   "source": [
    "<br><br>\n",
    "## **2 Datum 객체 학습하기**\n",
    "### **01 숫자의 사칙연산**\n",
    "https://soooprmx.com/archives/4886 : 파이썬 내장함수\n",
    "1. integer(정수) : index 주소값\n",
    "1. float(실수) : 연산 데이터 및 결과값\n"
   ]
  },
  {
   "cell_type": "code",
   "execution_count": 5,
   "metadata": {},
   "outputs": [
    {
     "name": "stdout",
     "output_type": "stream",
     "text": [
      "3\n",
      "7.5\n",
      "7\n",
      "2\n"
     ]
    }
   ],
   "source": [
    "# print() : 파이썬 내장함수\n",
    "# 숫자의 사칙연산\n",
    "print(1 +   2)\n",
    "print(30 /  4)   # 나누기 \n",
    "print(30 // 4)   # 몫\n",
    "print(30 %  4)   # 나머지"
   ]
  },
  {
   "cell_type": "markdown",
   "metadata": {},
   "source": [
    "### **02 '문자', \"문자\"의 연산**\n",
    "1. 문자의 연결(사칙연산)\n",
    "1. [indexing]\n",
    "1. [slicing:]"
   ]
  },
  {
   "cell_type": "code",
   "execution_count": 6,
   "metadata": {},
   "outputs": [
    {
     "name": "stdout",
     "output_type": "stream",
     "text": [
      "0\n",
      "102\n",
      "대한민국2018평창올림픽gogo!!\n"
     ]
    }
   ],
   "source": [
    "# 사칙연산 중 '+'만 가능\n",
    "print('0')\n",
    "print(\"10\" + '2')\n",
    "print('대한민국'+'2018'+'평창올림픽'+'gogo!!')"
   ]
  },
  {
   "cell_type": "code",
   "execution_count": 7,
   "metadata": {},
   "outputs": [
    {
     "name": "stdout",
     "output_type": "stream",
     "text": [
      "2\n",
      "$\n"
     ]
    }
   ],
   "source": [
    "# [indexing] : 특정 index 위치의 데이터를 추출\n",
    "# ex) 단어의 오타 수정시\n",
    "gogl = '20,000,000$'\n",
    "print(gogl[0])\n",
    "print(gogl[-1])"
   ]
  },
  {
   "cell_type": "code",
   "execution_count": 8,
   "metadata": {},
   "outputs": [
    {
     "data": {
      "text/plain": [
       "'20'"
      ]
     },
     "execution_count": 8,
     "metadata": {},
     "output_type": "execute_result"
    }
   ],
   "source": [
    "# [slicing :] 특정 범위를 출력 \n",
    "# ex) 단어의 일부분만 확인이 필요할 떄\n",
    "# [start_index : end_index]\n",
    "gogl[:2]     "
   ]
  },
  {
   "cell_type": "code",
   "execution_count": 9,
   "metadata": {},
   "outputs": [
    {
     "name": "stdout",
     "output_type": "stream",
     "text": [
      "005390 is SamsungElectronic inc\n"
     ]
    }
   ],
   "source": [
    "# 매개변수를 활용한 문자 연산 (data)\n",
    "codes = '005390'\n",
    "print(codes + ' is SamsungElectronic inc')\n",
    "\n",
    "codes = 1234\n",
    "# print(codes + ' is SamsungElectronic inc')"
   ]
  },
  {
   "cell_type": "markdown",
   "metadata": {},
   "source": [
    "#### **QUIZ**\n",
    "'2018년 대한민국' 에서 '2018' 를 숫자로 뽑아내라...\n",
    "\n",
    "    start>>>\n",
    "    text = '2017년 대한민국'  \n",
    "\n",
    "    tips>>\n",
    "    1. [:slicing] 으로 '2017' string 을 추출\n",
    "    2. '2017' 를 숫자로 변환하라\n",
    "<br><br>"
   ]
  },
  {
   "cell_type": "markdown",
   "metadata": {},
   "source": [
    "### **03 문자와 숫자의 전환 및 연산**\n",
    "1. 문자와 숫자간 변환\n",
    "1. 연산은 위의 01, 02의 규칙내에서 작동한다"
   ]
  },
  {
   "cell_type": "code",
   "execution_count": 10,
   "metadata": {},
   "outputs": [
    {
     "data": {
      "text/plain": [
       "str"
      ]
     },
     "execution_count": 10,
     "metadata": {},
     "output_type": "execute_result"
    }
   ],
   "source": [
    "# 문자 <--> 숫자 변경\n",
    "# type()\n",
    "code_str = '005390'\n",
    "type(code_str)"
   ]
  },
  {
   "cell_type": "code",
   "execution_count": 11,
   "metadata": {},
   "outputs": [
    {
     "data": {
      "text/plain": [
       "6390"
      ]
     },
     "execution_count": 11,
     "metadata": {},
     "output_type": "execute_result"
    }
   ],
   "source": [
    "# int() : float/ string 을 integer 로 변환\n",
    "int(code_str) + 1000"
   ]
  },
  {
   "cell_type": "code",
   "execution_count": 12,
   "metadata": {},
   "outputs": [
    {
     "data": {
      "text/plain": [
       "int"
      ]
     },
     "execution_count": 12,
     "metadata": {},
     "output_type": "execute_result"
    }
   ],
   "source": [
    "# 숫자 <--> 문자\n",
    "code_int = 1234\n",
    "type(code_int)"
   ]
  },
  {
   "cell_type": "code",
   "execution_count": 13,
   "metadata": {},
   "outputs": [
    {
     "data": {
      "text/plain": [
       "1234.0"
      ]
     },
     "execution_count": 13,
     "metadata": {},
     "output_type": "execute_result"
    }
   ],
   "source": [
    "float(code_int)"
   ]
  },
  {
   "cell_type": "code",
   "execution_count": 14,
   "metadata": {},
   "outputs": [
    {
     "data": {
      "text/plain": [
       "'1234'"
      ]
     },
     "execution_count": 14,
     "metadata": {},
     "output_type": "execute_result"
    }
   ],
   "source": [
    "# integer to string\n",
    "str(code_int)"
   ]
  },
  {
   "cell_type": "code",
   "execution_count": 15,
   "metadata": {},
   "outputs": [],
   "source": [
    "# str(code_int) + 1000"
   ]
  },
  {
   "cell_type": "markdown",
   "metadata": {},
   "source": [
    "<br><br>\n",
    "## **3 Data 객체 학습하기**\n",
    "1. 여러객체를 **_순차적으로 담을 수 있는_** [ list ]\n",
    "1. 여러객체를 **_임의의 주소값으로 담을 수 있는_** {dict}\n",
    "1. **_원본 DATABASE에서 추출하여 순차적으로 담긴_** (tuple,)"
   ]
  },
  {
   "cell_type": "markdown",
   "metadata": {},
   "source": [
    "<br>\n",
    "### **01 [ list ]**\n",
    "여러객체를 순차적으로 담는 객체로 자료관리 Basic !!!, \n",
    "\n",
    "다른 자료형을 학습할때 기준 (그만큼 활용범위가 넓다)\n",
    "1. .append()\n",
    "1. .insert()\n",
    "1. '+'"
   ]
  },
  {
   "cell_type": "code",
   "execution_count": 16,
   "metadata": {},
   "outputs": [
    {
     "data": {
      "text/plain": [
       "5"
      ]
     },
     "execution_count": 16,
     "metadata": {},
     "output_type": "execute_result"
    }
   ],
   "source": [
    "# len() : 내부함수\n",
    "lists = [1,2,3,'회계','재무']\n",
    "len(lists)  "
   ]
  },
  {
   "cell_type": "code",
   "execution_count": 17,
   "metadata": {},
   "outputs": [
    {
     "name": "stdout",
     "output_type": "stream",
     "text": [
      "1\n",
      "재무\n"
     ]
    }
   ],
   "source": [
    "# indexing : 꼭! 찝어내기\n",
    "# cf) 위 String 의 indexing 과 비교하며 이해할 것!\n",
    "print(lists[0])   \n",
    "print(lists[-1])   # -1 은 맨 뒤에서 부터 카운팅"
   ]
  },
  {
   "cell_type": "code",
   "execution_count": 18,
   "metadata": {},
   "outputs": [
    {
     "name": "stdout",
     "output_type": "stream",
     "text": [
      "['회계', '재무']\n",
      "[1, 2, 3]\n",
      "[1, 2, 3]\n"
     ]
    }
   ],
   "source": [
    "# Slicing : 범위설정\n",
    "# cf) 위 String 의 Slicing 과 비교하며 이해할 것!\n",
    "print(lists[3:6])      # [start_index : end_index]\n",
    "print(lists[:3])\n",
    "print(lists[:-2])      # 파일이름의 확장자 구별시 활용"
   ]
  },
  {
   "cell_type": "code",
   "execution_count": 19,
   "metadata": {},
   "outputs": [
    {
     "data": {
      "text/plain": [
       "[1, 2, 3, '회계', '재무', 2017]"
      ]
     },
     "execution_count": 19,
     "metadata": {},
     "output_type": "execute_result"
    }
   ],
   "source": [
    "# .append() :  list의 메소드 함수 \n",
    "# 메소드 : list를 생성시 자동적 연결되는 추가 함수로, list객체에 종속\n",
    "lists.append(2017)  \n",
    "lists"
   ]
  },
  {
   "cell_type": "code",
   "execution_count": 20,
   "metadata": {},
   "outputs": [
    {
     "data": {
      "text/plain": [
       "[1, 2, 3, '회계', '재무', 2017, ['08-15', '22:00:30']]"
      ]
     },
     "execution_count": 20,
     "metadata": {},
     "output_type": "execute_result"
    }
   ],
   "source": [
    "lists.append(['08-15','22:00:30'])\n",
    "lists"
   ]
  },
  {
   "cell_type": "code",
   "execution_count": 21,
   "metadata": {},
   "outputs": [
    {
     "data": {
      "text/plain": [
       "[1, 2, 3, '회계', '재무', 2017, ['08-15', '22:00:30'], ['Python', 'Jupyter']]"
      ]
     },
     "execution_count": 21,
     "metadata": {},
     "output_type": "execute_result"
    }
   ],
   "source": [
    "lists_txt = ['Python','Jupyter']\n",
    "lists.append(lists_txt)\n",
    "lists"
   ]
  },
  {
   "cell_type": "code",
   "execution_count": 22,
   "metadata": {},
   "outputs": [
    {
     "data": {
      "text/plain": [
       "[[100, 200, 300],\n",
       " 1,\n",
       " 2,\n",
       " 3,\n",
       " '회계',\n",
       " '재무',\n",
       " 2017,\n",
       " ['08-15', '22:00:30'],\n",
       " ['Python', 'Jupyter']]"
      ]
     },
     "execution_count": 22,
     "metadata": {},
     "output_type": "execute_result"
    }
   ],
   "source": [
    "# .insert() : 끼워넣기\n",
    "lists.insert(0, [100, 200, 300])\n",
    "lists"
   ]
  },
  {
   "cell_type": "code",
   "execution_count": 23,
   "metadata": {},
   "outputs": [
    {
     "data": {
      "text/plain": [
       "[[100, 200, 300],\n",
       " 1,\n",
       " 2,\n",
       " 3,\n",
       " '회계',\n",
       " '재무',\n",
       " 2017,\n",
       " ['08-15', '22:00:30'],\n",
       " ['Python', 'Jupyter']]"
      ]
     },
     "execution_count": 23,
     "metadata": {},
     "output_type": "execute_result"
    }
   ],
   "source": [
    "lists"
   ]
  },
  {
   "cell_type": "code",
   "execution_count": 24,
   "metadata": {
    "scrolled": true
   },
   "outputs": [
    {
     "data": {
      "text/plain": [
       "['Python',\n",
       " 'Jupyter',\n",
       " [100, 200, 300],\n",
       " 1,\n",
       " 2,\n",
       " 3,\n",
       " '회계',\n",
       " '재무',\n",
       " 2017,\n",
       " ['08-15', '22:00:30'],\n",
       " ['Python', 'Jupyter']]"
      ]
     },
     "execution_count": 24,
     "metadata": {},
     "output_type": "execute_result"
    }
   ],
   "source": [
    "# [list] 객체간 사칙연산을 활용 : 꼭 동일한 객체만 가능\n",
    "# 이는 'string' 과 동일\n",
    "lists_txt + lists"
   ]
  },
  {
   "cell_type": "code",
   "execution_count": 25,
   "metadata": {},
   "outputs": [
    {
     "data": {
      "text/plain": [
       "[1, 2, 4, 5, 14, 19, 23, 31, 51]"
      ]
     },
     "execution_count": 25,
     "metadata": {},
     "output_type": "execute_result"
    }
   ],
   "source": [
    "list_num = [1,31,51,23,19,14,4,2,5]\n",
    "list_num.sort()   # reverse() 함수대신 reverse=True 옵션을 활용\n",
    "list_num"
   ]
  },
  {
   "cell_type": "code",
   "execution_count": 26,
   "metadata": {},
   "outputs": [
    {
     "data": {
      "text/plain": [
       "['ABC', 'Python', 'java', 'oracle', 'python', 'vba']"
      ]
     },
     "execution_count": 26,
     "metadata": {},
     "output_type": "execute_result"
    }
   ],
   "source": [
    "list_string = ['python', 'java', 'Python', 'vba', 'oracle', 'ABC']\n",
    "list_string.sort()   # reverse() 함수대신 reverse=True 옵션을 활용\n",
    "list_string"
   ]
  },
  {
   "cell_type": "code",
   "execution_count": 27,
   "metadata": {},
   "outputs": [
    {
     "data": {
      "text/plain": [
       "['라틴어', '미국', '영어', '일본어', '중국어', '한글', '히브리어']"
      ]
     },
     "execution_count": 27,
     "metadata": {},
     "output_type": "execute_result"
    }
   ],
   "source": [
    "list_string = ['한글', '미국', '영어', '일본어', '중국어', '히브리어', '라틴어']\n",
    "list_string.sort()   # reverse() 함수대신 reverse=True 옵션을 활용\n",
    "list_string"
   ]
  },
  {
   "cell_type": "code",
   "execution_count": 28,
   "metadata": {},
   "outputs": [
    {
     "name": "stdout",
     "output_type": "stream",
     "text": [
      "0 Python\n",
      "1 Jupyter\n",
      "2 [100, 200, 300]\n",
      "3 1\n",
      "4 2\n",
      "5 3\n",
      "6 회계\n",
      "7 재무\n",
      "8 2017\n",
      "9 ['08-15', '22:00:30']\n",
      "10 ['Python', 'Jupyter']\n"
     ]
    }
   ],
   "source": [
    "# enumerate() : 열거하다 \n",
    "# for 반복문에서 index 주소값을 활용하면 다양한 구성이 가능해서 많이 쓰인다\n",
    "# list data와 index 주소값 2개를 함께 출력한다\n",
    "list_data = lists_txt + lists\n",
    "for no, datum  in enumerate(list_data):\n",
    "    print(no, datum)"
   ]
  },
  {
   "cell_type": "code",
   "execution_count": 29,
   "metadata": {},
   "outputs": [],
   "source": [
    "# List 내부 Data : 숫자, 문자 모두가능\n",
    "# List 내부 Index : 0,1,2,3,4....... (only Integer만 가능)\n",
    "\n",
    "#  장점 : 만들기가 쉽다\n",
    "#      : 인덱스 주소만 알면 검색과 활용이 쉽다.\n",
    "#      : matrix 구조를 활용하면 대용량 데이터도 처리가 가능하다\n",
    "\n",
    "#  단점 : 무조건 0부터 작업을 시작 (for 문을 활용시 주요한 특징)\n",
    "#      : for 반복문 사용시 매번 [list]를 반복검색해서 느려진다 (list가 1만개일떄 100번 반복시, 100만번 연산을 수행한다)"
   ]
  },
  {
   "cell_type": "markdown",
   "metadata": {
    "collapsed": true
   },
   "source": [
    "#### **QUIZ 01**\n",
    "lists = [2017, '년', '대한민국'] 의 자료를 활용해서\n",
    "'2017년대한민국' 1개의 문자열로 변환해 보시오.\n",
    "\n",
    "    start>> \n",
    "    lists = [2017, '년', '대한민국']\n",
    "    \n",
    "    tips>>\n",
    "    1.lists[0] 의 인덱스를 활용해서 각각의 객체를 추출\n",
    "    2. 문자와 문자 객체를 + 를 통해서 1개로 합친다\n",
    "<br><br>"
   ]
  },
  {
   "cell_type": "markdown",
   "metadata": {},
   "source": [
    "#### **QUIZ 02**\n",
    "name =  ['한국항공우주', '대우조선해양'] , code = ['047810', '000300'] 를 이용해서\n",
    "\n",
    "['한국항공우주', '047810', '대우조선해양' ,'000300'] 객체를 만들어보자\n",
    "\n",
    "    start>>>\n",
    "    text = '2017년 대한민국'  \n",
    "\n",
    "    tips>>\n",
    "    1. .append()를 활용해서 객체를 연결한다  # 1개의 index 속에 쑤셔넣는다.\n",
    "    2. + 를 활용해서 순서를 바꿔서 연결한다   # 고유 index를 유지\n",
    "    \n",
    "<br><br>"
   ]
  },
  {
   "cell_type": "code",
   "execution_count": 30,
   "metadata": {},
   "outputs": [],
   "source": [
    "name =  ['한국항공우주', '대우조선해양']\n",
    "code = ['047810', '000300']"
   ]
  },
  {
   "cell_type": "code",
   "execution_count": 31,
   "metadata": {},
   "outputs": [
    {
     "data": {
      "text/plain": [
       "['한국항공우주', '047810', ['대우조선해양', '000300']]"
      ]
     },
     "execution_count": 31,
     "metadata": {},
     "output_type": "execute_result"
    }
   ],
   "source": [
    "krx_code = [name[0]] + [code[0]]     # 고유한 주소값을 그대로 유지한다\n",
    "krx_code.append([name[1],code[1]])   # 1개 주소에 입력을 한다\n",
    "krx_code"
   ]
  },
  {
   "cell_type": "markdown",
   "metadata": {},
   "source": [
    "<br><br>\n",
    "### **02  { Dictionary_key :  _value } **\n",
    "List 의 index를 보완한 객체로, index를 '숫자'와 'String' 가능)  \n",
    "\n",
    "DataFrame 표를 만들 수 있는 기본포맷"
   ]
  },
  {
   "cell_type": "code",
   "execution_count": 32,
   "metadata": {},
   "outputs": [
    {
     "data": {
      "text/plain": [
       "{'005390': '삼성전자', '035420': ['네이버', 'NAVER', 'Naver', 'naver']}"
      ]
     },
     "execution_count": 32,
     "metadata": {},
     "output_type": "execute_result"
    }
   ],
   "source": [
    "# List 생성 및 indexing\n",
    "dictionary = {'005390':'삼성전자', '035420':['네이버','NAVER','Naver','naver']}\n",
    "dictionary"
   ]
  },
  {
   "cell_type": "code",
   "execution_count": 33,
   "metadata": {},
   "outputs": [
    {
     "data": {
      "text/plain": [
       "dict_keys(['005390', '035420'])"
      ]
     },
     "execution_count": 33,
     "metadata": {},
     "output_type": "execute_result"
    }
   ],
   "source": [
    "dictionary.keys()"
   ]
  },
  {
   "cell_type": "code",
   "execution_count": 34,
   "metadata": {},
   "outputs": [
    {
     "data": {
      "text/plain": [
       "dict_values(['삼성전자', ['네이버', 'NAVER', 'Naver', 'naver']])"
      ]
     },
     "execution_count": 34,
     "metadata": {},
     "output_type": "execute_result"
    }
   ],
   "source": [
    "dictionary.values()"
   ]
  },
  {
   "cell_type": "code",
   "execution_count": 35,
   "metadata": {},
   "outputs": [
    {
     "data": {
      "text/plain": [
       "['네이버', 'NAVER', 'Naver', 'naver']"
      ]
     },
     "execution_count": 35,
     "metadata": {},
     "output_type": "execute_result"
    }
   ],
   "source": [
    "# index로 데이터 추출\n",
    "dictionary['035420']"
   ]
  },
  {
   "cell_type": "code",
   "execution_count": 36,
   "metadata": {},
   "outputs": [
    {
     "data": {
      "text/plain": [
       "{'000660': 'SK하이닉스',\n",
       " '005390': '삼성전자',\n",
       " '035420': ['네이버', 'NAVER', 'Naver', 'naver']}"
      ]
     },
     "execution_count": 36,
     "metadata": {},
     "output_type": "execute_result"
    }
   ],
   "source": [
    "# List 데이터 추가하기\n",
    "dictionary['000660'] = 'SK하이닉스'\n",
    "dictionary"
   ]
  },
  {
   "cell_type": "code",
   "execution_count": 37,
   "metadata": {},
   "outputs": [
    {
     "data": {
      "text/plain": [
       "dict_keys(['Debit', 'Credit'])"
      ]
     },
     "execution_count": 37,
     "metadata": {},
     "output_type": "execute_result"
    }
   ],
   "source": [
    "# Debit(차변) , Credit(대변)\n",
    "sheet = {'Debit':{'Lease':1_300_000 , 'Cash': 700_000},\n",
    "         'Credit':{'Cash':2_000_000}}\n",
    "\n",
    "sheet.keys()"
   ]
  },
  {
   "cell_type": "code",
   "execution_count": 38,
   "metadata": {},
   "outputs": [
    {
     "data": {
      "text/plain": [
       "{'Cash': 700000, 'Lease': 1300000}"
      ]
     },
     "execution_count": 38,
     "metadata": {},
     "output_type": "execute_result"
    }
   ],
   "source": [
    "sheet['Debit']"
   ]
  },
  {
   "cell_type": "code",
   "execution_count": 39,
   "metadata": {},
   "outputs": [
    {
     "data": {
      "text/plain": [
       "dict_keys(['Lease', 'Cash'])"
      ]
     },
     "execution_count": 39,
     "metadata": {},
     "output_type": "execute_result"
    }
   ],
   "source": [
    "sheet['Debit'].keys()"
   ]
  },
  {
   "cell_type": "code",
   "execution_count": 40,
   "metadata": {},
   "outputs": [
    {
     "data": {
      "text/plain": [
       "dict_values([1300000, 700000])"
      ]
     },
     "execution_count": 40,
     "metadata": {},
     "output_type": "execute_result"
    }
   ],
   "source": [
    "sheet['Debit'].values()"
   ]
  },
  {
   "cell_type": "code",
   "execution_count": 41,
   "metadata": {},
   "outputs": [
    {
     "name": "stdout",
     "output_type": "stream",
     "text": [
      "Debit {'Lease': 1300000, 'Cash': 700000}\n",
      "Credit {'Cash': 2000000}\n"
     ]
    }
   ],
   "source": [
    "# .items()\n",
    "# Key 값과, value를 함께 출력한다\n",
    "for idx, datum  in  sheet.items():\n",
    "    print(idx, datum)"
   ]
  },
  {
   "cell_type": "code",
   "execution_count": 42,
   "metadata": {},
   "outputs": [
    {
     "data": {
      "text/html": [
       "<div>\n",
       "<style scoped>\n",
       "    .dataframe tbody tr th:only-of-type {\n",
       "        vertical-align: middle;\n",
       "    }\n",
       "\n",
       "    .dataframe tbody tr th {\n",
       "        vertical-align: top;\n",
       "    }\n",
       "\n",
       "    .dataframe thead th {\n",
       "        text-align: right;\n",
       "    }\n",
       "</style>\n",
       "<table border=\"1\" class=\"dataframe\">\n",
       "  <thead>\n",
       "    <tr style=\"text-align: right;\">\n",
       "      <th></th>\n",
       "      <th>Credit</th>\n",
       "      <th>Debit</th>\n",
       "    </tr>\n",
       "  </thead>\n",
       "  <tbody>\n",
       "    <tr>\n",
       "      <th>Cash</th>\n",
       "      <td>2000000.0</td>\n",
       "      <td>700000</td>\n",
       "    </tr>\n",
       "    <tr>\n",
       "      <th>Lease</th>\n",
       "      <td>NaN</td>\n",
       "      <td>1300000</td>\n",
       "    </tr>\n",
       "  </tbody>\n",
       "</table>\n",
       "</div>"
      ],
      "text/plain": [
       "          Credit    Debit\n",
       "Cash   2000000.0   700000\n",
       "Lease        NaN  1300000"
      ]
     },
     "execution_count": 42,
     "metadata": {},
     "output_type": "execute_result"
    }
   ],
   "source": [
    "import pandas as pd\n",
    "pd.DataFrame(sheet)"
   ]
  },
  {
   "cell_type": "code",
   "execution_count": 43,
   "metadata": {},
   "outputs": [],
   "source": [
    "# dictionary = { key값 : value }\n",
    "\n",
    "# 장점 : 상대적으로 만들기가 쉽다\n",
    "#     : 검색이 빠르다, Key값이 일치하면 바로 결과를 출력\n",
    "#     : 1개 key 값에 value는 여러개도 가능 (value 값도  [list],{ dict} 모두 가능)\n",
    "\n",
    "# 단점 : 순서가 없어서 정렬을 할 수 없다.\n",
    "#     : key값의 오타로 비슷한 key 값들이 중복되어 존재할 가능성이 있다\n",
    "#     : key값과 value를 모두 알아야만 자료를 찾을 수 있다."
   ]
  },
  {
   "cell_type": "markdown",
   "metadata": {},
   "source": [
    "#### **QUIZ 01**\n",
    "dictionary = {'005390':'삼성전자', '035420':'네이버'} 자료를 통해서\n",
    "\n",
    "'005390'을 활용해서 '삼성전자'를 출력하라\n",
    "\n",
    "        start>> \n",
    "        dictionary = {'005390':'삼성전자', '035420':'네이버'}"
   ]
  },
  {
   "cell_type": "markdown",
   "metadata": {},
   "source": [
    "#### **QUIZ 02**\n",
    "dictionary = {'005390':'삼성전자', '035420':'네이버'} 자료를 통해서\n",
    "\n",
    "'030200' 코드인 'KT'를 추가하라\n",
    "\n",
    "        tips>>\n",
    "        1.딕셔너리 추가\n",
    "        dictionary ['key문자열'] = 'value 문자열'"
   ]
  },
  {
   "cell_type": "code",
   "execution_count": 44,
   "metadata": {},
   "outputs": [],
   "source": [
    "dictionary = {'005390':'삼성전자', '035420':'네이버'}"
   ]
  },
  {
   "cell_type": "markdown",
   "metadata": {},
   "source": [
    "<br><br>\n",
    "### **03  ( tuple)**\n",
    "원본 DataBase에서 추출한 데이터를 의미(SQL)로 생성 후에는 임의 수정이 불가능하다 !!"
   ]
  },
  {
   "cell_type": "code",
   "execution_count": 45,
   "metadata": {},
   "outputs": [
    {
     "data": {
      "text/plain": [
       "dict_items([('005390', '삼성전자'), ('035420', '네이버')])"
      ]
     },
     "execution_count": 45,
     "metadata": {},
     "output_type": "execute_result"
    }
   ],
   "source": [
    "dictionary = {'005390':'삼성전자', '035420':'네이버'}\n",
    "items      = dictionary.items()\n",
    "items"
   ]
  },
  {
   "cell_type": "code",
   "execution_count": 46,
   "metadata": {},
   "outputs": [
    {
     "data": {
      "text/plain": [
       "2"
      ]
     },
     "execution_count": 46,
     "metadata": {},
     "output_type": "execute_result"
    }
   ],
   "source": [
    "len(items)\n",
    "#items[0]"
   ]
  },
  {
   "cell_type": "code",
   "execution_count": 47,
   "metadata": {},
   "outputs": [
    {
     "data": {
      "text/plain": [
       "[('005390', '삼성전자'), ('035420', '네이버')]"
      ]
     },
     "execution_count": 47,
     "metadata": {},
     "output_type": "execute_result"
    }
   ],
   "source": [
    "# [ list ] 객체로 변환해서 index을 활용한다\n",
    "items = list(items)\n",
    "items"
   ]
  },
  {
   "cell_type": "code",
   "execution_count": 48,
   "metadata": {},
   "outputs": [
    {
     "data": {
      "text/plain": [
       "('005390', '삼성전자')"
      ]
     },
     "execution_count": 48,
     "metadata": {},
     "output_type": "execute_result"
    }
   ],
   "source": [
    "samsung = items[0]\n",
    "samsung"
   ]
  },
  {
   "cell_type": "code",
   "execution_count": 49,
   "metadata": {},
   "outputs": [
    {
     "data": {
      "text/plain": [
       "tuple"
      ]
     },
     "execution_count": 49,
     "metadata": {},
     "output_type": "execute_result"
    }
   ],
   "source": [
    "type(samsung)"
   ]
  },
  {
   "cell_type": "code",
   "execution_count": 50,
   "metadata": {},
   "outputs": [
    {
     "name": "stdout",
     "output_type": "stream",
     "text": [
      "005390 삼성전자\n"
     ]
    }
   ],
   "source": [
    "print(samsung[0],samsung[1]) \n",
    "\n",
    "# tuple 은 입력 후 수정이 불가능하다\n",
    "# 고유한 값을 지정이 필요한 경우에만 활용\n",
    "# samsung[0] = 'samsung'"
   ]
  },
  {
   "cell_type": "markdown",
   "metadata": {},
   "source": [
    "<br><br>\n",
    "## **4 String 데이터**\n",
    "1. 파이썬 내장함수를 활용\n",
    "\n",
    "출처 : https://wikidocs.net/13"
   ]
  },
  {
   "cell_type": "markdown",
   "metadata": {},
   "source": [
    "<br>\n",
    "### **01 .replace(), .split()**\n",
    "파이썬 내장 메소드로, 이를 많이 쓰는게 빠르고 호환성에도 좋다"
   ]
  },
  {
   "cell_type": "code",
   "execution_count": 51,
   "metadata": {},
   "outputs": [
    {
     "data": {
      "text/plain": [
       "'Financial R-studio coding is easy to learn by this class'"
      ]
     },
     "execution_count": 51,
     "metadata": {},
     "output_type": "execute_result"
    }
   ],
   "source": [
    "text = \"Financial Python coding is easy to learn by this class\"\n",
    "text.replace('Python', 'R-studio')"
   ]
  },
  {
   "cell_type": "code",
   "execution_count": 52,
   "metadata": {},
   "outputs": [
    {
     "data": {
      "text/plain": [
       "['Financial Python coding ', ' easy to learn by th', ' class']"
      ]
     },
     "execution_count": 52,
     "metadata": {},
     "output_type": "execute_result"
    }
   ],
   "source": [
    "text.split('is')"
   ]
  },
  {
   "cell_type": "markdown",
   "metadata": {},
   "source": [
    "### **02 .format()**\n",
    "1. 책에보면 %s, %d 등도 있지만, 그냥 .format() 하나만 쓰자!!\n",
    "1. { 인덱스 주소(숫자, 문자 모두가능) : format 설정값 }\n",
    "1. format 의 String 설정값\n",
    "    1. <10 : 왼쪽에서 부터 10개 공간값 설정\n",
    "    1. \\>10 : 오른쪽에서 부터 10개 공간값 설정\n",
    "    1. ^10 : 전체 10개 공간에서 가운데 정렬\n",
    "    1. 기호내용^10 : 빈 공간을 기호내용으로 채움 \n",
    "\n",
    "1. format 의 float() 설정값 (소숫점 자릿수 설정)\n",
    "    1. integer(정수) : 출력할 숫자갯수\n",
    "    1. 0.4f : 소숫점 자릿수 정의\n",
    "    1. 10.4f : 자릿수 를 10으로 맞춘다"
   ]
  },
  {
   "cell_type": "code",
   "execution_count": 53,
   "metadata": {},
   "outputs": [
    {
     "data": {
      "text/plain": [
       "'2018/03/29'"
      ]
     },
     "execution_count": 53,
     "metadata": {},
     "output_type": "execute_result"
    }
   ],
   "source": [
    "from DateTime.DateTime import DateTime\n",
    "date = str(DateTime().Date())\n",
    "date"
   ]
  },
  {
   "cell_type": "code",
   "execution_count": 54,
   "metadata": {},
   "outputs": [
    {
     "data": {
      "text/plain": [
       "'오늘의 날짜는 2018/03/29 로 수업의 내용은 파이썬 기초 입니다. 당신의 오늘 점수는 80.12312312424 입니다'"
      ]
     },
     "execution_count": 54,
     "metadata": {},
     "output_type": "execute_result"
    }
   ],
   "source": [
    "text = \"오늘의 날짜는 {} 로 수업의 내용은 {} 입니다. 당신의 오늘 점수는 {} 입니다\"\n",
    "text.format(date, '파이썬 기초', 80.12312312424)"
   ]
  },
  {
   "cell_type": "code",
   "execution_count": 55,
   "metadata": {},
   "outputs": [
    {
     "data": {
      "text/plain": [
       "'오늘의 날짜는 2018/03/29 로 수업의 내용은 파이썬 기초 입니다. 당신의 오늘 점수는 1280.1 입니다'"
      ]
     },
     "execution_count": 55,
     "metadata": {},
     "output_type": "execute_result"
    }
   ],
   "source": [
    "text = \"오늘의 날짜는 {} 로 수업의 내용은 {} 입니다. 당신의 오늘 점수는 {:.5} 입니다\"\n",
    "text.format(date, '파이썬 기초', 1280.12312312424)"
   ]
  },
  {
   "cell_type": "code",
   "execution_count": 56,
   "metadata": {},
   "outputs": [
    {
     "data": {
      "text/plain": [
       "'오늘의 날짜는 2018/03/29 로 수업의 내용은 파이썬 기초     입니다. 당신의 오늘 점수는 1280.123 입니다'"
      ]
     },
     "execution_count": 56,
     "metadata": {},
     "output_type": "execute_result"
    }
   ],
   "source": [
    "text = \"오늘의 날짜는 {} 로 수업의 내용은 {:<10} 입니다. 당신의 오늘 점수는 {:0.3f} 입니다\"\n",
    "text.format(date, '파이썬 기초', 1280.12312312424)"
   ]
  },
  {
   "cell_type": "code",
   "execution_count": 57,
   "metadata": {},
   "outputs": [
    {
     "data": {
      "text/plain": [
       "'오늘의 날짜는 2018/03/29 로 수업의 내용은 파이썬 기초     입니다. 당신의 오늘 점수는   1280.123 입니다'"
      ]
     },
     "execution_count": 57,
     "metadata": {},
     "output_type": "execute_result"
    }
   ],
   "source": [
    "text = \"오늘의 날짜는 {} 로 수업의 내용은 {:<10} 입니다. 당신의 오늘 점수는 {:10.3f} 입니다\"\n",
    "text.format(date, '파이썬 기초', 1280.12312312424)"
   ]
  },
  {
   "cell_type": "markdown",
   "metadata": {},
   "source": [
    "### **03 regrex**\n",
    "http://www.nextree.co.kr/p4327/\n",
    "1. '\\n' : 줄바꿈 처리\n",
    "1. '\\t' : tap 공간 여백처리"
   ]
  },
  {
   "cell_type": "code",
   "execution_count": 58,
   "metadata": {},
   "outputs": [
    {
     "name": "stdout",
     "output_type": "stream",
     "text": [
      " 평창 올림칙이 열리는 강원도는 {} 시장님과 \t {} 운영위원장 님의 \n",
      "          \n",
      "열화와 같은 지원 적분에 성공적으로 열리게 되었습니다\n"
     ]
    }
   ],
   "source": [
    "text = \"\"\" 평창 올림칙이 열리는 강원도는 {} 시장님과 \\t {} 운영위원장 님의 \n",
    "          \\n열화와 같은 지원 적분에 성공적으로 열리게 되었습니다\"\"\"\n",
    "print(text)"
   ]
  },
  {
   "cell_type": "code",
   "execution_count": 59,
   "metadata": {},
   "outputs": [
    {
     "name": "stdout",
     "output_type": "stream",
     "text": [
      " 평창 올림칙이 열리는 강원도는 위대하신 김용범 시장님과 \t 영도자 김용범 운영위원장 님의 \n",
      "          \n",
      "열화와 같은 지원 적분에 성공적으로 열리게 되었습니다\n"
     ]
    }
   ],
   "source": [
    "print(text.format('위대하신 김용범', '영도자 김용범'))"
   ]
  },
  {
   "cell_type": "markdown",
   "metadata": {},
   "source": [
    "### **04 기타 string 관련 메소드 들**\n",
    "1. 아.. 이런게있구나 알아두는 정도\n",
    "1. 다양한 전처리는 .. import re 를 통한 정규식을 더 많이 쓴다\n",
    "1. (java, javascript등에서도 통용) ('정규표현식'의 문법에 익숙하므로)\n",
    "1. .count()\n",
    "1. .find()\n",
    "1. .index()\n",
    "1. .join()\n",
    "1. .strip()   # 모든 공백제거\n",
    "1. .lstrip()  # 왼쪽 공백만 제거\n",
    "1. .rstrip()  # 오른쪽 공백만 제거"
   ]
  },
  {
   "cell_type": "markdown",
   "metadata": {},
   "source": [
    "<br><br>\n",
    "## **4 Function 함수**\n",
    "1. 파이썬 내장함수\n",
    "1. 파이썬 외부함수  (사서 씀)\n",
    "1. 파이썬 사용자함수  (DIY)"
   ]
  },
  {
   "cell_type": "markdown",
   "metadata": {},
   "source": [
    "<br>\n",
    "### **01 사용자 함수**\n",
    "함수와 매개변수 이해하기"
   ]
  },
  {
   "cell_type": "code",
   "execution_count": 60,
   "metadata": {},
   "outputs": [
    {
     "data": {
      "text/plain": [
       "'100'"
      ]
     },
     "execution_count": 60,
     "metadata": {},
     "output_type": "execute_result"
    }
   ],
   "source": [
    "data = {'한국':'100','일본':'40','중국':'50', '미국':'60'}\n",
    "data['한국']"
   ]
  },
  {
   "cell_type": "code",
   "execution_count": 61,
   "metadata": {},
   "outputs": [
    {
     "data": {
      "text/plain": [
       "'50'"
      ]
     },
     "execution_count": 61,
     "metadata": {},
     "output_type": "execute_result"
    }
   ],
   "source": [
    "# def, 매개변수, \":\", return\n",
    "def score(name):\n",
    "    datum = {'한국':'100','일본':'40','중국':'50', '미국':'60'}\n",
    "    result = datum[name]\n",
    "    return result\n",
    "\n",
    "score('중국')"
   ]
  },
  {
   "cell_type": "code",
   "execution_count": 62,
   "metadata": {},
   "outputs": [
    {
     "data": {
      "text/plain": [
       "140"
      ]
     },
     "execution_count": 62,
     "metadata": {},
     "output_type": "execute_result"
    }
   ],
   "source": [
    "# 매개변수 : 함수를 직접 사용가능\n",
    "def add_the_score(left, right, transform_func):\n",
    "    result = int(transform_func(left)) + int(transform_func(right))\n",
    "    return result\n",
    "\n",
    "add_the_score('한국', '일본', score) "
   ]
  },
  {
   "cell_type": "markdown",
   "metadata": {},
   "source": [
    "<br>\n",
    "### **02 for 반복문과 [list] 함수**\n",
    "[list Data 선언] 내부에 반복문('for'), 판단문('if')을 사용 가능"
   ]
  },
  {
   "cell_type": "code",
   "execution_count": 63,
   "metadata": {},
   "outputs": [
    {
     "name": "stdout",
     "output_type": "stream",
     "text": [
      "0\n",
      "1\n",
      "2\n",
      "3\n",
      "4\n",
      "5\n",
      "6\n",
      "7\n",
      "8\n",
      "9\n"
     ]
    }
   ],
   "source": [
    "for i in range(10):\n",
    "    print(i)"
   ]
  },
  {
   "cell_type": "code",
   "execution_count": 64,
   "metadata": {},
   "outputs": [
    {
     "data": {
      "text/plain": [
       "[0, 1, 2, 3, 4, 5, 6, 7, 8, 9]"
      ]
     },
     "execution_count": 64,
     "metadata": {},
     "output_type": "execute_result"
    }
   ],
   "source": [
    "result = []\n",
    "for i in range(10):\n",
    "    result.append(i)\n",
    "result"
   ]
  },
  {
   "cell_type": "code",
   "execution_count": 65,
   "metadata": {},
   "outputs": [
    {
     "data": {
      "text/plain": [
       "[0, 1, 2, 3, 4, 5, 6, 7, 8, 9]"
      ]
     },
     "execution_count": 65,
     "metadata": {},
     "output_type": "execute_result"
    }
   ],
   "source": [
    "result = [i   for i in range(10)]\n",
    "result"
   ]
  },
  {
   "cell_type": "code",
   "execution_count": 66,
   "metadata": {},
   "outputs": [
    {
     "name": "stdout",
     "output_type": "stream",
     "text": [
      "0\n",
      "2\n",
      "4\n",
      "6\n",
      "8\n"
     ]
    }
   ],
   "source": [
    "for i in range(10):\n",
    "    if i % 2 == 0:\n",
    "        print(i)"
   ]
  },
  {
   "cell_type": "code",
   "execution_count": 67,
   "metadata": {},
   "outputs": [
    {
     "data": {
      "text/plain": [
       "[1, 3, 5, 7, 9]"
      ]
     },
     "execution_count": 67,
     "metadata": {},
     "output_type": "execute_result"
    }
   ],
   "source": [
    "# % : 나머지 값의 조건문\n",
    "result = [i   for i in range(10)  if i%2==1 ]\n",
    "result"
   ]
  },
  {
   "cell_type": "markdown",
   "metadata": {},
   "source": [
    "<br><br>\n",
    "## **6 마무리**\n",
    "1. 여러객체를 **_순차적으로 담을 수 있는_** [ list ]\n",
    "1. 여러객체를 **_임의의 주소값으로 담을 수 있는_** {dict}\n",
    "1. **_원본 DATABASE에서 추출하여 순차적으로 담긴_** (tuple,)"
   ]
  },
  {
   "cell_type": "code",
   "execution_count": 68,
   "metadata": {},
   "outputs": [],
   "source": [
    "### 복습\n",
    "# len()\n",
    "# type()\n",
    "# int()\n",
    "# float()\n",
    "# str()\n",
    "# list() : {dict}, (tuple) --> [list]\n",
    "# dict() : "
   ]
  },
  {
   "cell_type": "code",
   "execution_count": 69,
   "metadata": {},
   "outputs": [],
   "source": [
    "### 숫자 \n",
    "# integer(정수) : index, slicing, counting\n",
    "# float(실수) : 연산\n",
    "\n",
    "### 문자\n",
    "# 'datum' :  문자와 문자의 사칙연산,  Indexing/ Slicing,  Counting....\n",
    "# data  :  매개변수\n",
    "\n",
    "# [ list ]   :  integer index 값이 숨어있다. (0 ~ -1)\n",
    "# { key : value }"
   ]
  },
  {
   "cell_type": "code",
   "execution_count": 70,
   "metadata": {},
   "outputs": [
    {
     "data": {
      "text/plain": [
       "<matplotlib.axes._subplots.AxesSubplot at 0x7fcc42a842e8>"
      ]
     },
     "execution_count": 70,
     "metadata": {},
     "output_type": "execute_result"
    },
    {
     "data": {
      "image/png": "[encoded data removed]",
      "text/plain": [
       "<matplotlib.figure.Figure at 0x7fcc42a84a58>"
      ]
     },
     "metadata": {},
     "output_type": "display_data"
    }
   ],
   "source": [
    "%matplotlib inline\n",
    "# 예고!!!\n",
    "\n",
    "import pandas as pd\n",
    "df  = pd.read_html(\"http://media.kisline.com/highlight/mainHighlight.nice?nav=1&paper_stock=000660\")[6]  \n",
    "df  = df.replace('-',0)\n",
    "df  = df.set_index(df.columns[0])\n",
    "for col in df.columns:\n",
    "    df[col] = [float(i) for i in df[col]]\n",
    "df.head()\n",
    "df.iloc[0,:].plot()\n",
    "df.iloc[1,:].plot()\n",
    "df.iloc[3,:].plot()"
   ]
  }
 ],
 "metadata": {
  "kernelspec": {
   "display_name": "Python 3",
   "language": "python",
   "name": "python3"
  },
  "language_info": {
   "codemirror_mode": {
    "name": "ipython",
    "version": 3
   },
   "file_extension": ".py",
   "mimetype": "text/x-python",
   "name": "python",
   "nbconvert_exporter": "python",
   "pygments_lexer": "ipython3",
   "version": "3.6.3"
  }
 },
 "nbformat": 4,
 "nbformat_minor": 2
}
